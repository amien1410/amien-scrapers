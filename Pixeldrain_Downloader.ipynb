{
  "nbformat": 4,
  "nbformat_minor": 0,
  "metadata": {
    "colab": {
      "provenance": [],
      "mount_file_id": "1g2oy6QNd7eOlg8j2yN8rw096hyG6YV3t",
      "authorship_tag": "ABX9TyMeNiKxzryNUBTunb9HNNKe",
      "include_colab_link": true
    },
    "kernelspec": {
      "name": "python3",
      "display_name": "Python 3"
    },
    "language_info": {
      "name": "python"
    }
  },
  "cells": [
    {
      "cell_type": "markdown",
      "metadata": {
        "id": "view-in-github",
        "colab_type": "text"
      },
      "source": [
        "<a href=\"https://colab.research.google.com/github/amien1410/amien-scrapers/blob/main/Pixeldrain_Downloader.ipynb\" target=\"_parent\"><img src=\"https://colab.research.google.com/assets/colab-badge.svg\" alt=\"Open In Colab\"/></a>"
      ]
    },
    {
      "cell_type": "code",
      "source": [
        "from google.colab import drive\n",
        "drive.mount('/content/drive')"
      ],
      "metadata": {
        "id": "iqYVvfG834oE"
      },
      "execution_count": null,
      "outputs": []
    },
    {
      "cell_type": "code",
      "execution_count": 1,
      "metadata": {
        "id": "8mIIjYiz2uqX"
      },
      "outputs": [],
      "source": [
        "import requests\n",
        "import subprocess\n",
        "import json\n",
        "import time\n",
        "import os\n",
        "\n",
        "# Define your PixelDrain API key\n",
        "api_key = \"PixelDrain_API_key\"  # Replace with your actual PixelDrain API key\n",
        "\n",
        "# Function to download a file from a URL with real-time progress\n",
        "def download_file(url, file_name):\n",
        "    \"\"\"\n",
        "    Download a file from a specified URL and save it locally with real-time download progress.\n",
        "\n",
        "    Parameters:\n",
        "    url (str): The URL to download the file from.\n",
        "    file_name (str): The local file name to save the downloaded file as.\n",
        "    \"\"\"\n",
        "    print(f\"Starting download from: {url}\")\n",
        "\n",
        "    # Start the timer for download speed calculation\n",
        "    start_time = time.time()\n",
        "\n",
        "    # Stream the download process to monitor progress\n",
        "    response = requests.get(url, stream=True)\n",
        "    total_size = int(response.headers.get('content-length', 0))  # Get total file size\n",
        "\n",
        "    if response.status_code == 200 and total_size > 0:\n",
        "        with open(file_name, 'wb') as file:\n",
        "            downloaded_size = 0\n",
        "            for data in response.iter_content(chunk_size=8192):\n",
        "                file.write(data)\n",
        "                downloaded_size += len(data)\n",
        "\n",
        "                # Calculate download progress and speed in MB/s\n",
        "                progress = (downloaded_size / total_size) * 100\n",
        "                download_speed = downloaded_size / (1024 * 1024) / (time.time() - start_time)  # Speed in MB/s\n",
        "\n",
        "                # Real-time progress print\n",
        "                print(f\"\\rDownload Progress: {progress:.2f}% | Speed: {download_speed:.2f} MB/s\", end=\"\")\n",
        "\n",
        "        # End time for final download speed\n",
        "        end_time = time.time()\n",
        "        total_duration = end_time - start_time\n",
        "        final_speed = total_size / (1024 * 1024) / total_duration\n",
        "\n",
        "        print(f\"\\nDownload complete! File saved as: {file_name}\")\n",
        "        print(f\"Total Size: {total_size / (1024 * 1024):.2f} MB\")\n",
        "        print(f\"Total Duration: {total_duration:.2f} seconds\")\n",
        "        print(f\"Average Download Speed: {final_speed:.2f} MB/s\")\n",
        "    else:\n",
        "        print(f\"\\nFailed to download file.\\nStatus Code: {response.status_code}\\nResponse: {response.text}\")"
      ]
    },
    {
      "cell_type": "code",
      "source": [
        "download_url = \"https://pixeldrain.com/api/file/qx3N8EyS?download\"  # URL of the file to download\n",
        "file_name = \"Mission.Impossible.-.The.Final.Reckoning.2025.720p.WEB-DL.x264-Pahe.in.mkv\"  # Name to save the downloaded file locally\n",
        "\n",
        "# Step 1: Download the file\n",
        "download_file(download_url, file_name)"
      ],
      "metadata": {
        "colab": {
          "base_uri": "https://localhost:8080/"
        },
        "id": "5PWCC00I23Ke",
        "outputId": "c697f3c3-3a8f-487c-cc72-2020c2a61acb"
      },
      "execution_count": 2,
      "outputs": [
        {
          "output_type": "stream",
          "name": "stdout",
          "text": [
            "Starting download from: https://pixeldrain.com/api/file/qx3N8EyS?download\n",
            "Download Progress: 100.00% | Speed: 84.95 MB/s\n",
            "Download complete! File saved as: Mission.Impossible.-.The.Final.Reckoning.2025.720p.WEB-DL.x264-Pahe.in.mkv\n",
            "Total Size: 1597.77 MB\n",
            "Total Duration: 18.81 seconds\n",
            "Average Download Speed: 84.95 MB/s\n"
          ]
        }
      ]
    },
    {
      "cell_type": "code",
      "metadata": {
        "colab": {
          "base_uri": "https://localhost:8080/"
        },
        "id": "442df966",
        "outputId": "1beee412-ccf6-43d0-b378-9e8fa78f7b6e"
      },
      "source": [
        "import os\n",
        "import shutil\n",
        "\n",
        "source_path = \"Mission.Impossible.-.The.Final.Reckoning.2025.720p.WEB-DL.x264-Pahe.in.mkv\"\n",
        "destination_path = \"/content/drive/MyDrive/_temp\"\n",
        "\n",
        "if os.path.exists(source_path):\n",
        "    os.makedirs(destination_path, exist_ok=True)  # Create destination folder if it doesn't exist\n",
        "    shutil.move(source_path, destination_path)\n",
        "    print(f\"File moved successfully to: {destination_path}\")\n",
        "else:\n",
        "    print(f\"File not found at: {source_path}\")"
      ],
      "execution_count": 3,
      "outputs": [
        {
          "output_type": "stream",
          "name": "stdout",
          "text": [
            "File moved successfully to: /content/drive/_temp/\n"
          ]
        }
      ]
    }
  ]
}