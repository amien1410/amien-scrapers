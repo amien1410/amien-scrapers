{
  "nbformat": 4,
  "nbformat_minor": 0,
  "metadata": {
    "colab": {
      "provenance": [],
      "authorship_tag": "ABX9TyNOh8LnAaPl4mj6ElehoIpL",
      "include_colab_link": true
    },
    "kernelspec": {
      "name": "python3",
      "display_name": "Python 3"
    },
    "language_info": {
      "name": "python"
    }
  },
  "cells": [
    {
      "cell_type": "markdown",
      "metadata": {
        "id": "view-in-github",
        "colab_type": "text"
      },
      "source": [
        "<a href=\"https://colab.research.google.com/github/amien1410/amien-scrapers/blob/main/canadiantire_scraper.ipynb\" target=\"_parent\"><img src=\"https://colab.research.google.com/assets/colab-badge.svg\" alt=\"Open In Colab\"/></a>"
      ]
    },
    {
      "cell_type": "code",
      "execution_count": 1,
      "metadata": {
        "id": "8FFf-RfyBOCF"
      },
      "outputs": [],
      "source": [
        "import json\n",
        "import requests"
      ]
    },
    {
      "cell_type": "code",
      "source": [
        "url = \"https://www.homecenter.com.co/s/search/v1/soco/category/products?&priceGroup=10&zone=1&currentpage=1&channel=kiosk&categoryId=cat740127\"\n",
        "headers = {\n",
        "    \"accept\": \"*/*\",\n",
        "    \"accept-encoding\": \"gzip, deflate, br, zstd\",\n",
        "    \"accept-language\": \"en-US,en;q=0.9,id;q=0.8,fa;q=0.7,ar;q=0.6,ms;q=0.5,ja;q=0.4,es;q=0.3\",\n",
        "    \"cookie\": \"__CO_exp=comCo-21; experience=CATALYST; __cf_bm=IQNyNoh_s4S7252_bVkYUS0OcevFla0PNFqJ8Yg_kI0-1757996994-1.0.1.1-byN_vfmOrdUB54g.py6M2bn2bxyJrcWZMTLk98FpmWgSKGRjYyUAX5sN15uTRr_dXdsv3t9OEP91e1Qny.zlI7hzkuVHRb3uvNawj1M9IPo; _cfuvid=Ml1ZFCUb48FG_tKBvUN04QdDLZcKMqeu255gHIFbB4c-1757996994083-0.0.1.1-604800000; regionName_key=CUNDINAMARCA; region=10; ZONE_NAME=BOGOTA D.C.; comuna=1; usrLocation=10; municipal_name=ZONA NORTE; municipal=24677; asid=1757997002620-1758040202620; userSelectedZone=defaultZone; cf_clearance=mEAz4R2QK339RcBoA8zuEzXhxZ9HqEB2o8B5oOkoo9A-1757997004-1.2.1.1-pj4FTPhP0S8ao5GXeyhpjsU8OxAs8fJ_FFJpHdn_ezKl6zJwIs_4GGeaDsg_SorBTbAaU0TV_LjOOj1e8WL3lBoI1gwnEqe_bkqokcpLCf2GElUWJeIXwP6wHRJ1sXwW6BqvfCjjz04KRAQhXnjLxgaz6erWW10HPexMkqOqfiSX9NHl4jk06smSKMsfOwrB26ffdNKP8l_8xbNIQkCj_1lcaL0CHHZgOXW_ry0ooEA; __exponea_etc__=8875e0b2-4961-4c85-a1ae-3625e3c152d8; AMCVS_867134FA53CCF4BE0A490D44%40AdobeOrg=1; __exponea_time2__=-0.42684102058410645; pspExperience=eyJQU0UiOiJGUEFZIiwiQkFOQ09fRkFMQUJFTExBX0RFQklUX0NBUkQiOiJGUEFZIn0=; forcePspExperience=eyJQU0UiOiJGUEFZIiwiQkFOQ09fRkFMQUJFTExBX0RFQklUX0NBUkQiOiJGUEFZIn0=; pspCombination=; s_cc=true; AMCV_867134FA53CCF4BE0A490D44%40AdobeOrg=179643557%7CMCIDTS%7C20348%7CMCMID%7C89870040806211548947693423825032126837%7CMCAID%7CNONE%7CMCOPTOUT-1758004366s%7CNONE%7CvVersion%7C5.5.0\",\n",
        "    \"priority\": \"u=1, i\",\n",
        "    \"referer\": \"https://www.homecenter.com.co/homecenter-co/category/cat740127/cerraduras-inteligentes-y-digitales/\",\n",
        "    \"sec-ch-ua\": '\"Chromium\";v=\"140\", \"Not=A?Brand\";v=\"24\", \"Microsoft Edge\";v=\"140\"',\n",
        "    \"sec-ch-ua-mobile\": \"?0\",\n",
        "    \"sec-ch-ua-platform\": \"Windows\",\n",
        "    \"sec-fetch-dest\": \"empty\",\n",
        "    \"sec-fetch-mode\": \"cors\",\n",
        "    \"sec-fetch-site\": \"same-origin\",\n",
        "    \"user-agent\": \"Mozilla/5.0 (Windows NT 10.0; Win64; x64) AppleWebKit/537.36 (KHTML, like Gecko) Chrome/140.0.0.0 Safari/537.36 Edg/140.0.0.0\"\n",
        "}\n",
        "res = requests.get(url, headers=headers)\n",
        "res.text"
      ],
      "metadata": {
        "id": "kbqUDx6LBVYs"
      },
      "execution_count": null,
      "outputs": []
    },
    {
      "cell_type": "code",
      "source": [
        "url2 = \"https://apim.canadiantire.ca/v1/search/v2/search?store=452&page=2\"\n",
        "headers2 = {\n",
        "    \"accept\": \"application/json, text/plain, */*\",\n",
        "    \"accept-encoding\": \"gzip, deflate, br, zstd\",\n",
        "    \"accept-language\": \"en-US,en;q=0.9,id;q=0.8,fa;q=0.7,ar;q=0.6,ms;q=0.5,ja;q=0.4,es;q=0.3\",\n",
        "    \"bannerid\": \"CTR\",\n",
        "    \"basesiteid\": \"CTR\",\n",
        "    \"browse-mode\": \"OFF\",\n",
        "    \"categorycode\": \"DC0001863\",\n",
        "    \"categorylevel\": \"ast-id-level-4\",\n",
        "    \"cookie\": \"gig_bootstrap_3_HJ80G1HPNNiHj1XllefNdB0vY4Dg9m66z8LMwITS6NpDTmD8OVJXE3GyeGjCaoM6=secure-gigya_ver4; _abck=EFBBC422232B4CD39A8FBFE5FE9126A3~0~YAAQll1idv8buzOZAQAAqUW8UA6kJ3qBn2ULdtEhI0D+TXBSti7xKEEFHPhJA0P0YL1xVS9qLmWgPKSQr3VZF0jkROEp6bjXMjAn/wlLZ6bfOxn5a6nLBCfp2YZRZTaKoUEoqs5ig8Jr1xcdLerjrCcSUuSyM3CDYF9C6MHntEWnoPkolWTLKfDK6a2LfpWs3fvHovMU7uiQZ3Z2zYCb1qEUD8I5c8uvmw0PzBhbW8zaqUftAh3RDjyxNS7pgo5Kxbw2wcUjUvURdUUnt64KkhG/GI+nHrtwJbzfcA64Pfuj954LqeotEEd/1rlHk50NZAtmBdMEkmq2YE2UIbSLQVy3AJntAbrfjOsDpwlA3Cpn10yWPr+wLEOFVWxELpQkodId72G7QQKQEbOHKvAaZE131dBGfFD2JIgxj0zXmAJHYi++/VTncrJkNg59Vc4lPQd2sRzpWisPso0KikYL2nwkApKat665u4Gb4/7h+xVafLhLXUrJ200WLYATh0HgSXamwOPVg82tOeKmo+UEbbiM9Nx0X9t9gqIFbU02xUhLV1GKTRZ3WRpSaCrMucycAvbtU4UdQH8Et20sCJHoJzr+L911iImevpR1sjVYJHTMF21YwCRsbj7U2AmOJvSYX9jSxVUZPw==~-1~-1~1757999686~AAQAAAAE%2f%2f%2f%2f%2f5O7BJd0LSOtFGBmDI6XvaykfkbeUlwtdWQV%2fBBn5DOQTncRZD5tYGTjgNNd1jKYQFRa5KYkVABNDjjvuQqE2oOoS5nhdpm4AHPE~-1; bm_mi=B0D4ED282FC14D2AD293B579C84B9570~YAAQll1idjAruzOZAQAAmbG+UB3rr+mw+ONd6xY54SCIwdDeHzjUngosNniGG6LFISiX0Cz8pDAiIMAD73Uxg0zIZS9grOC2G3amExJKb+5uTsvlC5f24GVgUZIeDldlftx1QyCqF9oT/yzrNg3ABj0s/GC63msa9it33GnvXMxNxjLIrRelM6nvLXpp5B7Y5bJgEewqDi9l4pkcotyQZPfcslFzKyP0F4GNX680tdxMk1Nm3u2c0QrvP+EVqCT4cRKU1NKBTL3PBoctoqH7Vl3paTrVth/UaUB4pxhQYVyd5Mx7ONAxI5a3oIwfD2DDtZfbvqEhaYW1oObQtNkvz9rO+nu4s6SG3fJnERpx8QDgFi1cTBe4xBIWOBHIKzh2tsR1o6LWhnbIoo/M0fBRq6hPeZ3mHR7OsVG3D3jCch+sKGm55fc=~1; bm_sv=CBCF42BD353E139B0C54DFDD6960AE79~YAAQll1idjEruzOZAQAAmbG+UB395dSomNp7viLPLN4+3y8gpMnZR7wDEylxgkmvYP+tXSAYh4G1YxEtx5DSUOf8bR014zU8RLJITjbPeR3XyzC9ALGCFEmEm+yrvLXHxpCZhjtp6kCfEiooZAqQS1iesYLNrqJayTC4L4v8CkI76yaCe2mwrRSXMDV0rg+VNhLuvISQf90tliXtOGefO/WZnSxZaOQQ5EBqmsBzSCyPAlkZayjaWM+U9vk4ghIlyKfqKoqr~1; ak_bmsc=A2FFAAC32B0131376AB31A9668DB3CA3~000000000000000000000000000000~YAAQbl1idj60G02ZAQAAGxnHUB28KU6EC60QkPmhwaj/MgHpGBS/MA3wYS169+a2wf/gL2nK/Yy4aEYdjtlD5bN8HnyBMvi7AoTEyV0jOJolZJNNslCMfg2QzlGlLiLO8b75fGY3femJMdOwdbM4tvPBcKMxS3fLA4jYn04HLsxugoT06rtUfNJLARC8MvRAqDEJb+IjesF5OHG/DPw/yT/PXq8zV8rTf1Nf6eajnLgaH52YZM4aNcggbyfsn+GslfaXdZisN9E0O+EPIMMDCcz0MfOOm4Ic96ozHhNum9xeOwtm78fSYAwfRhdJv9ZECJlhvZOyFBn/gdXgBvDXHf8yezOzwmNi/CpJ8FC8V7KTAjR0MmvhXZstOgGGIpSBhpiBXQVXR2O57Jw6KMaW6kGhNLH5sCY99Q/XT66Dr4Tpt4CKqctS/TOYN3MyLHYpHbLrmA+da/6h+spOvS4vEUe7m0E/LEJ0BjiZzs4lbshifur6iXyukn5CdJ9htwIQjeDsOPxR9aCFpslCH0gWzJ+uinsDBgX7vg==; bm_sz=BE269B28E58D697F2961C708174D21A8~YAAQbl1idj+0G02ZAQAAGxnHUB3uh09bubEnK9ObUIbM1jBeGxL0EPVcRVc0pqUQnhRAQpkxM1QpNPTGLfp4FYoveMpKU5p00LXVToyaEjLF0QXLILoeldu+lby25lO9Fz0JttcV3kub9NjQUA3DkwjQqHaJcu6nY1/GRhRpLZ4ZRk3zjL/D1MK8xKesSgeqTK6m9g7BmD8KcF9K0wSot/Axcm0bir2GPlOXr4udvSImrpQBw2/kmCIfrbc1NXNrUQuy472xczcKkPVpLN56eCMD/KLtvBP/VmZVRE7hBhLqGobywjgnow/uLJcrbQAFyD56FlkxOvczoG4E1g5Z1MI3eA1/TM7yO+RnrzCuA7iAkSLiRb6px6tGN1Wbx/wr/SmpHOMCTzVt8k9LknZIHU47+ntgXI7RYr5OYJYkfZ5U~4339505~3290935\",\n",
        "    \"count\": \"50\",\n",
        "    \"cr-spa-number\": \"4\",\n",
        "    \"cr-spa-positions\": \"1,2,3,11\",\n",
        "    \"criteocategorycode\": \"DC0001863\",\n",
        "    \"devicetype\": \"m\",\n",
        "    \"experience\": \"category\",\n",
        "    \"injectsponsoredproducts\": \"true\",\n",
        "    \"lang\": \"en_CA\",\n",
        "    \"light\": \"true\",\n",
        "    \"ocp-apim-subscription-key\": \"c01ef3612328420c9f5cd9277e815a0e\",\n",
        "    \"origin\": \"https://www.canadiantire.ca\",\n",
        "    \"pagetype\": \"categorylevelN\",\n",
        "    \"priority\": \"u=1, i\",\n",
        "    \"referer\": \"https://www.canadiantire.ca/\",\n",
        "    \"sec-ch-ua\": '\"Chromium\";v=\"140\", \"Not=A?Brand\";v=\"24\", \"Microsoft Edge\";v=\"140\"',\n",
        "    \"sec-ch-ua-mobile\": \"?0\",\n",
        "    \"sec-ch-ua-platform\": \"Windows\",\n",
        "    \"sec-fetch-dest\": \"empty\",\n",
        "    \"sec-fetch-mode\": \"cors\",\n",
        "    \"sec-fetch-site\": \"same-site\",\n",
        "    \"service-client\":\"ctr/web\",\n",
        "    \"service-version\": \"v1\",\n",
        "    \"sponsoredproducts\": \"true\",\n",
        "    \"user-agent\": \"Mozilla/5.0 (Windows NT 10.0; Win64; x64) AppleWebKit/537.36 (KHTML, like Gecko) Chrome/140.0.0.0 Safari/537.36 Edg/140.0.0.0\"\n",
        "}\n",
        "res = requests.get(url2, headers=headers2)\n",
        "data = res.json()['products']\n",
        "len(data)"
      ],
      "metadata": {
        "colab": {
          "base_uri": "https://localhost:8080/"
        },
        "id": "7bAXJLZ9LtIR",
        "outputId": "ae473a85-d408-4914-ba82-1a3a9b80e7c6"
      },
      "execution_count": 11,
      "outputs": [
        {
          "output_type": "execute_result",
          "data": {
            "text/plain": [
              "50"
            ]
          },
          "metadata": {},
          "execution_count": 11
        }
      ]
    }
  ]
}