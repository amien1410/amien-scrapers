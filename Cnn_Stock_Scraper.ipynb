{
  "nbformat": 4,
  "nbformat_minor": 0,
  "metadata": {
    "colab": {
      "provenance": [],
      "authorship_tag": "ABX9TyPd/LT9mE4YX7mTQHYWpl9l",
      "include_colab_link": true
    },
    "kernelspec": {
      "name": "python3",
      "display_name": "Python 3"
    },
    "language_info": {
      "name": "python"
    }
  },
  "cells": [
    {
      "cell_type": "markdown",
      "metadata": {
        "id": "view-in-github",
        "colab_type": "text"
      },
      "source": [
        "<a href=\"https://colab.research.google.com/github/amien1410/amien-scrapers/blob/main/Cnn_Stock_Scraper.ipynb\" target=\"_parent\"><img src=\"https://colab.research.google.com/assets/colab-badge.svg\" alt=\"Open In Colab\"/></a>"
      ]
    },
    {
      "cell_type": "code",
      "execution_count": 1,
      "metadata": {
        "id": "zt8yaLh-WroE"
      },
      "outputs": [],
      "source": [
        "import json\n",
        "import time\n",
        "import pandas as pd\n",
        "import requests\n",
        "from bs4 import BeautifulSoup"
      ]
    },
    {
      "cell_type": "code",
      "source": [
        "url = \"https://edition.cnn.com/markets/stocks/VNET\"\n",
        "res = requests.get(url)\n",
        "res"
      ],
      "metadata": {
        "colab": {
          "base_uri": "https://localhost:8080/"
        },
        "id": "nA7ZscM4XQl8",
        "outputId": "9aa0c735-b827-4337-af07-d9043923780b"
      },
      "execution_count": null,
      "outputs": [
        {
          "output_type": "execute_result",
          "data": {
            "text/plain": [
              "<Response [200]>"
            ]
          },
          "metadata": {},
          "execution_count": 4
        }
      ]
    },
    {
      "cell_type": "code",
      "source": [
        "soup = BeautifulSoup(res.text)\n",
        "soup.title"
      ],
      "metadata": {
        "colab": {
          "base_uri": "https://localhost:8080/"
        },
        "id": "p3oShP_nXbc-",
        "outputId": "e656dbc3-25b8-4f11-fbda-20310f8a4ad4"
      },
      "execution_count": null,
      "outputs": [
        {
          "output_type": "execute_result",
          "data": {
            "text/plain": [
              "<title>VNET Stock Quote Price and Forecast | CNN</title>"
            ]
          },
          "metadata": {},
          "execution_count": 7
        }
      ]
    },
    {
      "cell_type": "code",
      "source": [
        "soup"
      ],
      "metadata": {
        "id": "32ysl5v8YU_W"
      },
      "execution_count": null,
      "outputs": []
    },
    {
      "cell_type": "code",
      "source": [
        "# price momentum 200-days average\n",
        "# https://production.dataviz.cnn.io/insights/share_price/LCID\n",
        "\n",
        "# PE, company name, market cap, current price, 52 week range, pe ratio competitor highest and lowest\n",
        "# https://production.dataviz.cnn.io/quote/competitors/LCID/5\n",
        "\n",
        "# Tiprank\n",
        "# https://widgets.tipranks.com/content/v2/cnn/smartscoresmall/index.html?ticker=VNET\n",
        "\n",
        "# https://www.tipranks.com/api/assets?tickers=VNET\n",
        "# https://market.tipranks.com/api/quotes/GetQuotes?app_name=tr&tickers=CMG\n",
        "# https://www.tipranks.com/stocks/tsla/common/payload.json\n",
        "\n"
      ],
      "metadata": {
        "id": "y9nLBLFWmwXE"
      },
      "execution_count": null,
      "outputs": []
    },
    {
      "cell_type": "code",
      "source": [
        "import yfinance as yf\n",
        "from datetime import datetime, timedelta\n",
        "\n",
        "def calculate_price_change(ticker_symbol):\n",
        "    stock = yf.Ticker(ticker_symbol)\n",
        "    today = datetime.today().date()\n",
        "\n",
        "    # Define time ranges\n",
        "    dates = {\n",
        "        \"1 Month\": today - timedelta(days=30),\n",
        "        \"6 Months\": today - timedelta(days=182),  # ~6 months\n",
        "        \"1 Year\": today - timedelta(days=365)\n",
        "    }\n",
        "\n",
        "    current_price = stock.history(period=\"1d\")[\"Close\"].iloc[-1]\n",
        "    print(f\"\\nCurrent Price of {ticker_symbol.upper()}: ${current_price:.2f}\")\n",
        "\n",
        "    for label, date in dates.items():\n",
        "        past_data = stock.history(start=date - timedelta(days=5), end=date + timedelta(days=5))\n",
        "        if not past_data.empty:\n",
        "            past_price = past_data[\"Close\"].iloc[0]\n",
        "            change_percent = ((current_price - past_price) / past_price) * 100\n",
        "            print(f\"{label} Change: {change_percent:.2f}% (Past Price: ${past_price:.2f})\")\n",
        "        else:\n",
        "            print(f\"{label} Change: No data available around {date}\")\n",
        "\n",
        "# Example usage\n",
        "calculate_price_change(\"CMG\")  # Replace with any stock symbol"
      ],
      "metadata": {
        "colab": {
          "base_uri": "https://localhost:8080/"
        },
        "id": "waQjBZ4O15Pq",
        "outputId": "26b28f00-34bd-4a41-ff01-09e86c8e26cc"
      },
      "execution_count": null,
      "outputs": [
        {
          "output_type": "stream",
          "name": "stdout",
          "text": [
            "\n",
            "Current Price of CMG: $53.93\n",
            "1 Month Change: 2.65% (Past Price: $52.54)\n",
            "6 Months Change: -4.45% (Past Price: $56.44)\n",
            "1 Year Change: -4.73% (Past Price: $56.61)\n"
          ]
        }
      ]
    },
    {
      "cell_type": "code",
      "source": [
        "def get_change_percent(current_price, past_price):\n",
        "  return f\"Change: {((current_price - past_price) / past_price) * 100}\""
      ],
      "metadata": {
        "id": "-mXJEO7k2gWq"
      },
      "execution_count": null,
      "outputs": []
    },
    {
      "cell_type": "code",
      "source": [
        "get_change_percent(53.93, 53.56)"
      ],
      "metadata": {
        "colab": {
          "base_uri": "https://localhost:8080/",
          "height": 36
        },
        "id": "9q-s_BzR3S7x",
        "outputId": "304c2c66-f3cf-41b4-bfea-5774cedc44f8"
      },
      "execution_count": null,
      "outputs": [
        {
          "output_type": "execute_result",
          "data": {
            "text/plain": [
              "'Change: 0.6908140403285986'"
            ],
            "application/vnd.google.colaboratory.intrinsic+json": {
              "type": "string"
            }
          },
          "metadata": {},
          "execution_count": 5
        }
      ]
    },
    {
      "cell_type": "code",
      "source": [
        "tipranksHeaders = {\n",
        "  \"accept\":  \"application/json, text/plain, */*\",\n",
        "  \"accept-encoding\":  \"gzip, deflate, br, zstd\",\n",
        "  \"accept-language\":  \"en-US,en;q=0.9,id;q=0.8,fa;q=0.7,ar;q=0.6,ms;q=0.5,ja;q=0.4,es;q=0.3\",\n",
        "  \"cookie\":  \"personal-message=none; tr-plan-id=0; tr-plan-name=free; tr-experiments-version=1.14; tipranks-experiments=%7b%22Experiments%22%3a%5b%7b%22Name%22%3a%22general_A%22%2c%22Variant%22%3a%22v2%22%2c%22SendAnalytics%22%3afalse%7d%2c%7b%22Name%22%3a%22general_B%22%2c%22Variant%22%3a%22v1%22%2c%22SendAnalytics%22%3afalse%7d%2c%7b%22Name%22%3a%22general_C%22%2c%22Variant%22%3a%22v7%22%2c%22SendAnalytics%22%3afalse%7d%5d%7d; tipranks-experiments-slim=general_A%3av2%7cgeneral_B%3av1%7cgeneral_C%3av7; rbzid=LtANLSeCHMfmYXZm2cZ1L3pKEQQyDsPMsrJfGhmykxwDJgkIngd2w2QYM+9ntvEzEZ+v9JVUyaIDG641/Jf6wmrB61Y4+Wy1/v1n93ZQXn+Ohn4GkizVvYP9yUPk+yTjZHP6J7uvesn+SJFgtJVlokN8lS6D5anbjGICm6zPyv0A0/wSDH8eDYCvIVj5I018ciIges02MyaX0Y6akaGoPd3FTt8E/fE10hkhYXmRdxDqTxp71HMpU6TxR877TVBSu137k77ox/jhfr302vKQ0w__\",\n",
        "  \"priority\":  \"u=1, i\",\n",
        "  \"referer\":  \"https://www.tipranks.com/stocks/tsla/forecast\",\n",
        "  \"sec-ch-ua\":  '\"Not)A;Brand\";v=\"8\", \"Chromium\";v=\"138\", \"Microsoft Edge\";v=\"138\"',\n",
        "  \"sec-ch-ua-mobile\":  \"?0\",\n",
        "  \"sec-ch-ua-platform\":  \"Windows\",\n",
        "  \"sec-fetch-dest\":  \"empty\",\n",
        "  \"sec-fetch-mode\":  \"cors\",\n",
        "  \"sec-fetch-site\":  \"same-origin\",\n",
        "  \"user-agent\":  \"Mozilla/5.0 (Windows NT 10.0; Win64; x64) AppleWebKit/537.36 (KHTML, like Gecko) Chrome/138.0.0.0 Safari/537.36 Edg/138.0.0.0\"\n",
        "}\n",
        "\n",
        "res = requests.get(\"https://www.tipranks.com/stocks/plug/stock-forecast/payload.json\", headers=tipranksHeaders)\n",
        "res"
      ],
      "metadata": {
        "colab": {
          "base_uri": "https://localhost:8080/"
        },
        "id": "nmsU_kWz1Qqt",
        "outputId": "c00cf2b2-54c4-43d7-a695-853c60e1a237"
      },
      "execution_count": null,
      "outputs": [
        {
          "output_type": "execute_result",
          "data": {
            "text/plain": [
              "<Response [200]>"
            ]
          },
          "metadata": {},
          "execution_count": 3
        }
      ]
    },
    {
      "cell_type": "code",
      "source": [
        "res.json()['models']['stocks'][5]['analystRatings']['all']"
      ],
      "metadata": {
        "colab": {
          "base_uri": "https://localhost:8080/"
        },
        "id": "05Kh31BF1ori",
        "outputId": "086b3e25-fde9-4847-b771-04c99cc4664a"
      },
      "execution_count": null,
      "outputs": [
        {
          "output_type": "execute_result",
          "data": {
            "text/plain": [
              "{'id': 'neutral',\n",
              " 'buy': 4,\n",
              " 'sell': 4,\n",
              " 'hold': 11,\n",
              " 'total': 19,\n",
              " 'priceTarget': {'value': 1.38},\n",
              " 'highPriceTarget': 3.5,\n",
              " 'lowPriceTarget': 0.5}"
            ]
          },
          "metadata": {},
          "execution_count": 4
        }
      ]
    },
    {
      "cell_type": "code",
      "source": [
        "res = requests.get(\"https://widgets.tipranks.com/api/widgets/stockAnalysisOverview/?tickers=plug\")\n",
        "res.json()"
      ],
      "metadata": {
        "id": "3k43nCaHQ96A",
        "colab": {
          "base_uri": "https://localhost:8080/"
        },
        "outputId": "e7222830-dad9-4425-a64d-5a9005d16d95"
      },
      "execution_count": null,
      "outputs": [
        {
          "output_type": "execute_result",
          "data": {
            "text/plain": [
              "[{'ticker': 'plug',\n",
              "  'hedgeFundTrendValue': 4000632.0,\n",
              "  'smartScore': 7,\n",
              "  'bloggerSectorAvg': 0.6744,\n",
              "  'bloggerBullishSentiment': 0.4,\n",
              "  'insidersLast3MonthsSum': 918000.0,\n",
              "  'newsSentimentsBearishPercent': 0.0,\n",
              "  'newsSentimentsBullishPercent': 1.0,\n",
              "  'investorHoldingChangeLast7Days': 0.0149215746768906,\n",
              "  'investorHoldingChangeLast30Days': 0.0155141948342079,\n",
              "  'priceTarget': 1.38,\n",
              "  'convertedPriceTarget': 1.38,\n",
              "  'convertedPriceTargetCurrencyId': 1,\n",
              "  'fundamentalsReturnOnEquity': -0.838132,\n",
              "  'fundamentalsAssetGrowth': -0.250427,\n",
              "  'technicalsTwelveMonthsMomentum': -0.264,\n",
              "  'sma': 'Negative',\n",
              "  'analystConsensus': 'Hold',\n",
              "  'hedgeFundTrend': 'Increased',\n",
              "  'insiderTrend': 'BoughtShares',\n",
              "  'investorSentiment': 'Positive',\n",
              "  'newsSentiment': 'VeryBullish',\n",
              "  'bloggerConsensus': 'Neutral',\n",
              "  'marketCountryId': 1,\n",
              "  'isomic': 'XNAS'}]"
            ]
          },
          "metadata": {},
          "execution_count": 2
        }
      ]
    },
    {
      "cell_type": "code",
      "source": [
        "CNN_HEADERS = {\n",
        "    \"accept\": \"*/*\",\n",
        "    \"accept-encoding\": \"gzip, deflate, br, zstd\",\n",
        "    \"accept-language\": \"en-US,en;q=0.9,id;q=0.8,fa;q=0.7,ar;q=0.6,ms;q=0.5,ja;q=0.4,es;q=0.3\",\n",
        "    \"origin\": \"https://edition.cnn.com\",\n",
        "    \"priority\": \"u=1, i\",\n",
        "    \"referer\": \"https://edition.cnn.com/\",\n",
        "    \"sec-ch-ua\": \"\\\"Not)A;Brand\\\";v=\\\"8\\\", \\\"Chromium\\\";v=\\\"138\\\", \\\"Microsoft Edge\\\";v=\\\"138\\\"\",\n",
        "    \"sec-ch-ua-mobile\": \"?0\",\n",
        "    \"sec-ch-ua-platform\": \"\\\"Windows\\\"\",\n",
        "    \"sec-fetch-dest\": \"empty\",\n",
        "    \"sec-fetch-mode\": \"cors\",\n",
        "    \"sec-fetch-site\": \"cross-site\",\n",
        "    \"user-agent\": (\n",
        "        \"Mozilla/5.0 (Windows NT 10.0; Win64; x64) AppleWebKit/537.36 \"\n",
        "        \"(KHTML, like Gecko) Chrome/138.0.0.0 Safari/537.36 Edg/138.0.0.0\"\n",
        "    )\n",
        "}\n",
        "res = requests.get(\"https://production.dataviz.cnn.io/quote/competitors/LCID/5\", headers=CNN_HEADERS)\n",
        "data = res.json()\n",
        "data"
      ],
      "metadata": {
        "colab": {
          "base_uri": "https://localhost:8080/"
        },
        "id": "z9oLQxNwDOBS",
        "outputId": "24543144-28d0-412e-f5bc-edc0fde94f00"
      },
      "execution_count": 3,
      "outputs": [
        {
          "output_type": "execute_result",
          "data": {
            "text/plain": [
              "[{'name': 'Lucid Group, Inc.',\n",
              "  'symbol': 'LCID',\n",
              "  'industry': 'Motor Vehicles',\n",
              "  'sector': 'Consumer Durables',\n",
              "  'year_founded': 2007,\n",
              "  'market_cap': 9547.320293,\n",
              "  'market_cap_profile': 'Mid',\n",
              "  'market_cap_date': '2025-07-22',\n",
              "  'pe_ratio': None,\n",
              "  'div_yield': None,\n",
              "  'div_yield_date': '2025-07-22',\n",
              "  'next_earnings_date': '2025-08-05',\n",
              "  'annual_dividend_yield': None,\n",
              "  'ceo': '',\n",
              "  'headquarters_location': '7373 Gateway Boulevard,Newark, CA 94560',\n",
              "  'website_url': 'http://www.lucidmotors.com',\n",
              "  'num_of_employees': 6800,\n",
              "  'description': 'Lucid Group, Inc. manufactures electric vehicles. It designs, develops, and builds energy storage systems for electric vehicles and supplies automakers with the battery pack system needed to power hybrid, plug-in, and electric vehicles. The company was founded in December 2007 and is headquartered in Newark, CA.',\n",
              "  'ex_dividend_date': None,\n",
              "  'latest_ticker_data': {'symbol': 'LCID',\n",
              "   'call_symbol': 'LCID-USA:D',\n",
              "   'pretty_symbol': 'LCID-USA:D',\n",
              "   'current_price': 3.08,\n",
              "   'market_volume': 174947139,\n",
              "   'event_date': '2025-07-23',\n",
              "   'event_time': '2025-07-23T20:00:00.473000+00:00',\n",
              "   'market_status': 'REGULAR',\n",
              "   'trade_condition': '00 330',\n",
              "   'percent_change_to_date': 0,\n",
              "   'sort_order_index': 0,\n",
              "   'name': 'Lucid Group, Inc.',\n",
              "   'prev_close_price': 3.13,\n",
              "   'prev_close_date': '2025-07-22',\n",
              "   'price_change_from_prev_close': -0.04999999999999982,\n",
              "   'percent_change_from_prev_close': -0.015974440894568634,\n",
              "   'price_change_from_range_start': -0.04999999999999982,\n",
              "   'percent_change_from_range_start': -0.015974440894568634,\n",
              "   'low_52_week': 1.9300000000000002,\n",
              "   'high_52_week': 4.43,\n",
              "   'current_day_low': 3.04,\n",
              "   'current_day_high': 3.31,\n",
              "   'last_updated': '2025-07-23T20:15:09.464386+00:00',\n",
              "   'close_price': 3.08,\n",
              "   'close_price_date': '2025-07-23',\n",
              "   'price_change_from_close_price': -0.04999999999999982,\n",
              "   'percent_change_from_close_price': 98.40255591054313},\n",
              "  'last_updated': '2025-07-23T08:02:57.597000+00:00',\n",
              "  'div_rate': None,\n",
              "  'dividend': None,\n",
              "  'div_pay_date': None,\n",
              "  'shares_outstanding': 3050.26,\n",
              "  'market_cap_unit': '1000000',\n",
              "  'pe_ratio_unit': '1',\n",
              "  'div_yield_unit': '1',\n",
              "  'shares_outstanding_unit': '1000000',\n",
              "  'annual_div_yield_unit': '1',\n",
              "  'div_rate_unit': '1',\n",
              "  'dividend_unit': '1'},\n",
              " {'name': 'VinFast Auto Ltd.',\n",
              "  'symbol': 'VFS',\n",
              "  'industry': 'Motor Vehicles',\n",
              "  'sector': 'Consumer Durables',\n",
              "  'year_founded': 2017,\n",
              "  'market_cap': 8372.949446,\n",
              "  'market_cap_profile': 'Mid',\n",
              "  'market_cap_date': '2025-07-22',\n",
              "  'pe_ratio': None,\n",
              "  'div_yield': None,\n",
              "  'div_yield_date': '2025-07-22',\n",
              "  'next_earnings_date': '2025-09-19',\n",
              "  'annual_dividend_yield': None,\n",
              "  'ceo': '',\n",
              "  'headquarters_location': 'Dinh Vu – Cat Hai Economic Zone,Hai Phong City, Can Tho 180000',\n",
              "  'website_url': 'http://www.vinfastauto.us',\n",
              "  'num_of_employees': 13953,\n",
              "  'description': 'VinFast Auto Ltd. engages in designing and manufacturing electric vehicles. It offers electric scooters (e-scooters) and electric buses (e-buses). It provides e-mobility ecosystem built around customers, community and connectivity alongside new vehicle roll-out. The company was founded by Pham Nhat Vuong in June 2017 and is headquartered in Hai Phong City, Vietnam.',\n",
              "  'ex_dividend_date': None,\n",
              "  'latest_ticker_data': {'symbol': 'VFS',\n",
              "   'call_symbol': 'VFS-USA:D',\n",
              "   'pretty_symbol': 'VFS-USA:D',\n",
              "   'current_price': 3.66,\n",
              "   'market_volume': 835710,\n",
              "   'event_date': '2025-07-23',\n",
              "   'event_time': '2025-07-23T20:00:00.041000+00:00',\n",
              "   'market_status': 'REGULAR',\n",
              "   'trade_condition': '',\n",
              "   'percent_change_to_date': 0,\n",
              "   'sort_order_index': 0,\n",
              "   'name': 'VinFast Auto Ltd. engages in designing and manufacturing electric vehicles. It offers electric scooters (e-scooters) and electric buses (e-buses). It provides e-mobility ecosystem built around customers, community and connectivity alongside new vehicle roll-out. The company was founded by Pham Nhat Vuong in June 2017 and is headquartered in Hai Phong City, Vietnam.',\n",
              "   'prev_close_price': 3.58,\n",
              "   'prev_close_date': '2025-07-22',\n",
              "   'price_change_from_prev_close': 0.08000000000000007,\n",
              "   'percent_change_from_prev_close': 0.022346368715083813,\n",
              "   'price_change_from_range_start': 0,\n",
              "   'percent_change_from_range_start': 0,\n",
              "   'low_52_week': 2.56,\n",
              "   'high_52_week': 5.38,\n",
              "   'current_day_low': 3.6,\n",
              "   'current_day_high': 3.68,\n",
              "   'last_updated': '2025-07-23T20:15:07.321363+00:00',\n",
              "   'close_price': None,\n",
              "   'close_price_date': None,\n",
              "   'price_change_from_close_price': 0,\n",
              "   'percent_change_from_close_price': 0},\n",
              "  'last_updated': '2025-07-23T20:15:07.321363+00:00',\n",
              "  'div_rate': None,\n",
              "  'dividend': None,\n",
              "  'div_pay_date': None,\n",
              "  'shares_outstanding': 2338.8127,\n",
              "  'market_cap_unit': '1000000',\n",
              "  'pe_ratio_unit': '1',\n",
              "  'div_yield_unit': '1',\n",
              "  'shares_outstanding_unit': '1000000',\n",
              "  'annual_div_yield_unit': '1',\n",
              "  'div_rate_unit': '1',\n",
              "  'dividend_unit': '1'},\n",
              " {'name': 'Oshkosh Corp',\n",
              "  'symbol': 'OSK',\n",
              "  'industry': 'Motor Vehicles',\n",
              "  'sector': 'Consumer Durables',\n",
              "  'year_founded': 1917,\n",
              "  'market_cap': 8113.584657,\n",
              "  'market_cap_profile': 'Mid',\n",
              "  'market_cap_date': '2025-07-22',\n",
              "  'pe_ratio': 13.464085801,\n",
              "  'div_yield': 1.539193907,\n",
              "  'div_yield_date': '2025-07-22',\n",
              "  'next_earnings_date': '2025-08-01',\n",
              "  'annual_dividend_yield': 1.88282318291785,\n",
              "  'ceo': '',\n",
              "  'headquarters_location': '1917 Four Wheel Drive,Oshkosh, WI 54902-2400',\n",
              "  'website_url': 'http://www.oshkoshcorp.com',\n",
              "  'num_of_employees': 18500,\n",
              "  'description': 'Oshkosh Corp. is an industrial company, which engages in the design, development, and manufacture of purpose-built vehicles and equipment. It operates through the following segments: Access, Defense, and Vocational. The Access segment designs and manufactures access and material handling equipment. The Defense segment is involved in design and manufacture, and sustains vehicles and mobility systems. The Vocational segment includes the Pierce, Maxi-Metal, McNeilus, AeroTech, IMT, Frontline Communications, and Oshkosh S-Series businesses. The company was founded in 1917 and is headquartered in Oshkosh, WI.',\n",
              "  'ex_dividend_date': '2025-05-16',\n",
              "  'latest_ticker_data': {'symbol': 'OSK',\n",
              "   'call_symbol': 'OSK-USA:D',\n",
              "   'pretty_symbol': 'OSK-USA:D',\n",
              "   'current_price': 127.89,\n",
              "   'market_volume': 484852,\n",
              "   'event_date': '2025-07-23',\n",
              "   'event_time': '2025-07-23T20:00:02.141000+00:00',\n",
              "   'market_status': 'REGULAR',\n",
              "   'trade_condition': '',\n",
              "   'percent_change_to_date': 0,\n",
              "   'sort_order_index': 0,\n",
              "   'name': 'Oshkosh Corp. is an industrial company, which engages in the design, development, and manufacture of purpose-built vehicles and equipment. It operates through the following segments: Access, Defense, and Vocational. The Access segment designs and manufactures access and material handling equipment. The Defense segment is involved in design and manufacture, and sustains vehicles and mobility systems. The Vocational segment includes the Pierce, Maxi-Metal, McNeilus, AeroTech, IMT, Frontline Communications, and Oshkosh S-Series businesses. The company was founded in 1917 and is headquartered in Oshkosh, WI.',\n",
              "   'prev_close_price': 126.04,\n",
              "   'prev_close_date': '2025-07-22',\n",
              "   'price_change_from_prev_close': 1.8499999999999943,\n",
              "   'percent_change_from_prev_close': 0.014677880038083102,\n",
              "   'price_change_from_range_start': 0,\n",
              "   'percent_change_from_range_start': 0,\n",
              "   'low_52_week': 76.82,\n",
              "   'high_52_week': 129.02,\n",
              "   'current_day_low': 126.89,\n",
              "   'current_day_high': 128.63,\n",
              "   'last_updated': '2025-07-23T20:15:10.877657+00:00',\n",
              "   'close_price': None,\n",
              "   'close_price_date': None,\n",
              "   'price_change_from_close_price': 0,\n",
              "   'percent_change_from_close_price': 0},\n",
              "  'last_updated': '2025-07-23T20:15:10.877657+00:00',\n",
              "  'div_rate': 2.04,\n",
              "  'dividend': 0.51,\n",
              "  'div_pay_date': '2025-05-30',\n",
              "  'shares_outstanding': 64.3731,\n",
              "  'market_cap_unit': '1000000',\n",
              "  'pe_ratio_unit': '1',\n",
              "  'div_yield_unit': '1',\n",
              "  'shares_outstanding_unit': '1000000',\n",
              "  'annual_div_yield_unit': '1',\n",
              "  'div_rate_unit': '1',\n",
              "  'dividend_unit': '1'},\n",
              " {'name': 'ZEEKR Intelligent Technology Holding Limited Sponsored ADR',\n",
              "  'symbol': 'ZK',\n",
              "  'industry': 'Motor Vehicles',\n",
              "  'sector': 'Consumer Durables',\n",
              "  'year_founded': 2021,\n",
              "  'market_cap': 7398.231581,\n",
              "  'market_cap_profile': 'Mid',\n",
              "  'market_cap_date': '2025-07-22',\n",
              "  'pe_ratio': None,\n",
              "  'div_yield': None,\n",
              "  'div_yield_date': '2025-07-22',\n",
              "  'next_earnings_date': '2025-08-20',\n",
              "  'annual_dividend_yield': None,\n",
              "  'ceo': '',\n",
              "  'headquarters_location': 'Dadao Wangchao Shangwu Center,Hangzhou, Zhejiang 315800',\n",
              "  'website_url': 'http://www.zeekrlife.com',\n",
              "  'num_of_employees': 17439,\n",
              "  'description': \"ZEEKR Intelligent Technology Holding Ltd. engages in the commercialization and sale of electric vehicles and batteries, and provision of automotive related research and development services through its subsidiaries. It operates through the following segments: ZEEKR, Viridi, and China-Euro Vehicle Technology (CEVT). The ZEEKR segment deals with operations and distribution of vehicles mainly located in People's Republic of China (PRC) and Europe, and certain electric vehicle research and development services primarily within PRC. The Viridi segment includes batteries and other components manufacturing operations located in PRC, with batteries and other component distributed to Europe and PRC. The CEVT segment focuses on research and development operation located in Sweden, with service delivered primarily to related parties in China. The company was founded by Shu Fu Li, Cong Hui An, Dong Hui Li, and Sheng Yue Gui on March 31, 2021 and is headquartered in Hangzhou, China.\",\n",
              "  'ex_dividend_date': None,\n",
              "  'latest_ticker_data': {'symbol': 'ZK',\n",
              "   'call_symbol': 'ZK-USA:D',\n",
              "   'pretty_symbol': 'ZK-USA:D',\n",
              "   'current_price': 29.32,\n",
              "   'market_volume': 307590,\n",
              "   'event_date': '2025-07-23',\n",
              "   'event_time': '2025-07-23T20:00:02.157000+00:00',\n",
              "   'market_status': 'REGULAR',\n",
              "   'trade_condition': '',\n",
              "   'percent_change_to_date': 0,\n",
              "   'sort_order_index': 0,\n",
              "   'name': \"ZEEKR Intelligent Technology Holding Ltd. engages in the commercialization and sale of electric vehicles and batteries, and provision of automotive related research and development services through its subsidiaries. It operates through the following segments: ZEEKR, Viridi, and China-Euro Vehicle Technology (CEVT). The ZEEKR segment deals with operations and distribution of vehicles mainly located in People's Republic of China (PRC) and Europe, and certain electric vehicle research and development services primarily within PRC. The Viridi segment includes batteries and other components manufacturing operations located in PRC, with batteries and other component distributed to Europe and PRC. The CEVT segment focuses on research and development operation located in Sweden, with service delivered primarily to related parties in China. The company was founded by Shu Fu Li, Cong Hui An, Dong Hui Li, and Sheng Yue Gui on March 31, 2021 and is headquartered in Hangzhou, China.\",\n",
              "   'prev_close_price': 29.23,\n",
              "   'prev_close_date': '2025-07-22',\n",
              "   'price_change_from_prev_close': 0.08999999999999986,\n",
              "   'percent_change_from_prev_close': 0.0030790283954840866,\n",
              "   'price_change_from_range_start': 0,\n",
              "   'percent_change_from_range_start': 0,\n",
              "   'low_52_week': 13.0,\n",
              "   'high_52_week': 33.3185,\n",
              "   'current_day_low': 29.26,\n",
              "   'current_day_high': 29.6661,\n",
              "   'last_updated': '2025-07-23T20:15:17.711477+00:00',\n",
              "   'close_price': None,\n",
              "   'close_price_date': None,\n",
              "   'price_change_from_close_price': 0,\n",
              "   'percent_change_from_close_price': 0},\n",
              "  'last_updated': '2025-07-23T20:15:17.711477+00:00',\n",
              "  'div_rate': None,\n",
              "  'dividend': None,\n",
              "  'div_pay_date': None,\n",
              "  'shares_outstanding': 253.1040608,\n",
              "  'market_cap_unit': '1000000',\n",
              "  'pe_ratio_unit': '1',\n",
              "  'div_yield_unit': '1',\n",
              "  'shares_outstanding_unit': '1000000',\n",
              "  'annual_div_yield_unit': '1',\n",
              "  'div_rate_unit': '1',\n",
              "  'dividend_unit': '1'},\n",
              " {'name': 'Federal Signal Corporation',\n",
              "  'symbol': 'FSS',\n",
              "  'industry': 'Motor Vehicles',\n",
              "  'sector': 'Consumer Durables',\n",
              "  'year_founded': 1901,\n",
              "  'market_cap': 6645.603729,\n",
              "  'market_cap_profile': 'Mid',\n",
              "  'market_cap_date': '2025-07-22',\n",
              "  'pe_ratio': 31.909599227,\n",
              "  'div_yield': 0.4770642202,\n",
              "  'div_yield_date': '2025-07-22',\n",
              "  'next_earnings_date': '2025-07-30',\n",
              "  'annual_dividend_yield': 0.519536746401126,\n",
              "  'ceo': '',\n",
              "  'headquarters_location': '1333 Butterfield Road,Downers Grove, IL 60515',\n",
              "  'website_url': 'http://www.federalsignal.com',\n",
              "  'num_of_employees': 4700,\n",
              "  'description': 'Federal Signal Corp. engages in the design and manufacture of products and integrated solutions for municipal, governmental, industrial, and commercial customers. It operates through the Environmental Solutions Group and Safety and Security Systems Group segments. The Environment Solutions Group segment is involved in the manufacture and supply of street sweeper vehicles, sewer cleaners, vacuum loader trucks, hydro-excavation trucks, and water blasting equipment. The Safety and Security Systems Group segment offers comprehensive systems and products that law enforcement, fire rescue, emergency medical services, campuses, military facilities, and industrial sites use to protect people and property. The company was founded in 1901 and is headquartered in Downers Grove, IL.',\n",
              "  'ex_dividend_date': '2025-08-15',\n",
              "  'latest_ticker_data': {'symbol': 'FSS',\n",
              "   'call_symbol': 'FSS-USA:D',\n",
              "   'pretty_symbol': 'FSS-USA:D',\n",
              "   'current_price': 108.39,\n",
              "   'market_volume': 943952,\n",
              "   'event_date': '2025-07-23',\n",
              "   'event_time': '2025-07-23T20:00:02.368000+00:00',\n",
              "   'market_status': 'REGULAR',\n",
              "   'trade_condition': '',\n",
              "   'percent_change_to_date': 0,\n",
              "   'sort_order_index': 0,\n",
              "   'name': 'Federal Signal Corp. engages in the design and manufacture of products and integrated solutions for municipal, governmental, industrial, and commercial customers. It operates through the Environmental Solutions Group and Safety and Security Systems Group segments. The Environment Solutions Group segment is involved in the manufacture and supply of street sweeper vehicles, sewer cleaners, vacuum loader trucks, hydro-excavation trucks, and water blasting equipment. The Safety and Security Systems Group segment offers comprehensive systems and products that law enforcement, fire rescue, emergency medical services, campuses, military facilities, and industrial sites use to protect people and property. The company was founded in 1901 and is headquartered in Downers Grove, IL.',\n",
              "   'prev_close_price': 109.0,\n",
              "   'prev_close_date': '2025-07-22',\n",
              "   'price_change_from_prev_close': -0.6099999999999994,\n",
              "   'percent_change_from_prev_close': -0.005596330275229352,\n",
              "   'price_change_from_range_start': 0,\n",
              "   'percent_change_from_range_start': 0,\n",
              "   'low_52_week': 66.47,\n",
              "   'high_52_week': 114.4,\n",
              "   'current_day_low': 107.86,\n",
              "   'current_day_high': 111.25,\n",
              "   'last_updated': '2025-07-23T20:15:09.547017+00:00',\n",
              "   'close_price': None,\n",
              "   'close_price_date': None,\n",
              "   'price_change_from_close_price': 0,\n",
              "   'percent_change_from_close_price': 0},\n",
              "  'last_updated': '2025-07-23T20:15:09.547017+00:00',\n",
              "  'div_rate': 0.56,\n",
              "  'dividend': 0.14,\n",
              "  'div_pay_date': '2025-08-28',\n",
              "  'shares_outstanding': 60.9688,\n",
              "  'market_cap_unit': '1000000',\n",
              "  'pe_ratio_unit': '1',\n",
              "  'div_yield_unit': '1',\n",
              "  'shares_outstanding_unit': '1000000',\n",
              "  'annual_div_yield_unit': '1',\n",
              "  'div_rate_unit': '1',\n",
              "  'dividend_unit': '1'},\n",
              " {'name': 'Harley-Davidson, Inc.',\n",
              "  'symbol': 'HOG',\n",
              "  'industry': 'Motor Vehicles',\n",
              "  'sector': 'Consumer Durables',\n",
              "  'year_founded': 1903,\n",
              "  'market_cap': 2970.373273,\n",
              "  'market_cap_profile': 'Mid',\n",
              "  'market_cap_date': '2025-07-22',\n",
              "  'pe_ratio': 9.130288659,\n",
              "  'div_yield': 2.883435583,\n",
              "  'div_yield_date': '2025-07-22',\n",
              "  'next_earnings_date': '2025-07-30',\n",
              "  'annual_dividend_yield': 2.29007633587786,\n",
              "  'ceo': '',\n",
              "  'headquarters_location': '3700 West Juneau Avenue,Milwaukee, WI 53208-2818',\n",
              "  'website_url': 'http://www.harley-davidson.com',\n",
              "  'num_of_employees': 5900,\n",
              "  'description': 'Harley-Davidson, Inc. is engaged in the manufacture and sale of custom, cruiser, and touring motorcycles. It operates through the following segments: Motorcycles & Related Products and Financial Services. The Motorcycles & Related Products segment manufactures, designs, and sells at wholesale on-road Harley-Davidson motorcycles as well as motorcycle parts, accessories, general merchandise, and related services. The Financial Services segment consists of financing and servicing wholesale inventory receivables and retail consumer loans, primarily for the purchase of Harley-Davidson motorcycles. The company was founded by William Sylvester Harley, Arthur Davidson, Walter C. Davidson, Sr. and William A. Davidson in 1903 and is headquartered in Milwaukee, WI.',\n",
              "  'ex_dividend_date': '2025-06-02',\n",
              "  'latest_ticker_data': {'symbol': 'HOG',\n",
              "   'call_symbol': 'HOG-USA:D',\n",
              "   'pretty_symbol': 'HOG-USA:D',\n",
              "   'current_price': 25.29,\n",
              "   'market_volume': 2531095,\n",
              "   'event_date': '2025-07-23',\n",
              "   'event_time': '2025-07-23T20:01:58.021000+00:00',\n",
              "   'market_status': 'REGULAR',\n",
              "   'trade_condition': '',\n",
              "   'percent_change_to_date': 0,\n",
              "   'sort_order_index': 0,\n",
              "   'name': 'Harley-Davidson, Inc. is engaged in the manufacture and sale of custom, cruiser, and touring motorcycles. It operates through the following segments: Motorcycles & Related Products and Financial Services. The Motorcycles & Related Products segment manufactures, designs, and sells at wholesale on-road Harley-Davidson motorcycles as well as motorcycle parts, accessories, general merchandise, and related services. The Financial Services segment consists of financing and servicing wholesale inventory receivables and retail consumer loans, primarily for the purchase of Harley-Davidson motorcycles. The company was founded by William Sylvester Harley, Arthur Davidson, Walter C. Davidson, Sr. and William A. Davidson in 1903 and is headquartered in Milwaukee, WI.',\n",
              "   'prev_close_price': 24.45,\n",
              "   'prev_close_date': '2025-07-22',\n",
              "   'price_change_from_prev_close': 0.8399999999999999,\n",
              "   'percent_change_from_prev_close': 0.03435582822085889,\n",
              "   'price_change_from_range_start': 0,\n",
              "   'percent_change_from_range_start': 0,\n",
              "   'low_52_week': 20.45,\n",
              "   'high_52_week': 39.93,\n",
              "   'current_day_low': 24.69,\n",
              "   'current_day_high': 25.6884,\n",
              "   'last_updated': '2025-07-23T20:17:01.952836+00:00',\n",
              "   'close_price': None,\n",
              "   'close_price_date': None,\n",
              "   'price_change_from_close_price': 0,\n",
              "   'percent_change_from_close_price': 0},\n",
              "  'last_updated': '2025-07-23T20:17:01.952836+00:00',\n",
              "  'div_rate': 0.72,\n",
              "  'dividend': 0.18,\n",
              "  'div_pay_date': '2025-06-18',\n",
              "  'shares_outstanding': 121.488,\n",
              "  'market_cap_unit': '1000000',\n",
              "  'pe_ratio_unit': '1',\n",
              "  'div_yield_unit': '1',\n",
              "  'shares_outstanding_unit': '1000000',\n",
              "  'annual_div_yield_unit': '1',\n",
              "  'div_rate_unit': '1',\n",
              "  'dividend_unit': '1'}]"
            ]
          },
          "metadata": {},
          "execution_count": 3
        }
      ]
    },
    {
      "cell_type": "code",
      "source": [
        "# Part 1: Get specific fields from the first record\n",
        "first = data[0]\n",
        "latest = first.get(\"latest_ticker_data\", {})\n",
        "\n",
        "first_stock_info = {\n",
        "    \"name\": first.get(\"name\"),\n",
        "    \"market_cap\": first.get(\"market_cap\"),\n",
        "    \"market_volume\": latest.get(\"market_volume\"),\n",
        "    \"pe_ratio\": first.get(\"pe_ratio\"),\n",
        "    \"num_of_employees\": first.get(\"num_of_employees\"),\n",
        "    \"current_price\": latest.get(\"current_price\"),\n",
        "    \"close_price\": latest.get(\"close_price\"),\n",
        "    \"low_52_week\": latest.get(\"low_52_week\"),\n",
        "    \"high_52_week\": latest.get(\"high_52_week\")\n",
        "}\n",
        "\n",
        "# Part 2: Get all P/E ratios from the rest of the records\n",
        "pe_ratios = [\n",
        "    stock.get(\"pe_ratio\") for stock in data[1:]\n",
        "    if stock.get(\"pe_ratio\") is not None\n",
        "]\n",
        "\n",
        "# Find largest and smallest P/E ratios\n",
        "largest_pe = max(pe_ratios) if pe_ratios else None\n",
        "smallest_pe = min(pe_ratios) if pe_ratios else None\n",
        "\n",
        "# Output\n",
        "print(\"First Stock Info:\")\n",
        "for k, v in first_stock_info.items():\n",
        "    print(f\"  {k}: {v}\")\n",
        "\n",
        "print(\"\\nP/E Ratio Summary (Remaining Stocks):\")\n",
        "print(f\"  Largest P/E Ratio: {largest_pe}\")\n",
        "print(f\"  Smallest P/E Ratio: {smallest_pe}\")"
      ],
      "metadata": {
        "colab": {
          "base_uri": "https://localhost:8080/"
        },
        "id": "1cvq8NueDLdi",
        "outputId": "bf5e3583-c6bf-4244-bb76-afdde7441b5c"
      },
      "execution_count": 4,
      "outputs": [
        {
          "output_type": "stream",
          "name": "stdout",
          "text": [
            "First Stock Info:\n",
            "  name: Lucid Group, Inc.\n",
            "  market_cap: 9547.320293\n",
            "  market_volume: 174947139\n",
            "  pe_ratio: None\n",
            "  num_of_employees: 6800\n",
            "  current_price: 3.08\n",
            "  close_price: 3.08\n",
            "  low_52_week: 1.9300000000000002\n",
            "  high_52_week: 4.43\n",
            "\n",
            "P/E Ratio Summary (Remaining Stocks):\n",
            "  Largest P/E Ratio: 31.909599227\n",
            "  Smallest P/E Ratio: 9.130288659\n"
          ]
        }
      ]
    }
  ]
}