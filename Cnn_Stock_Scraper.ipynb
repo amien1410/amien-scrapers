{
  "nbformat": 4,
  "nbformat_minor": 0,
  "metadata": {
    "colab": {
      "provenance": [],
      "authorship_tag": "ABX9TyMByV1lU6q0iF0M56A7ksBd",
      "include_colab_link": true
    },
    "kernelspec": {
      "name": "python3",
      "display_name": "Python 3"
    },
    "language_info": {
      "name": "python"
    }
  },
  "cells": [
    {
      "cell_type": "markdown",
      "metadata": {
        "id": "view-in-github",
        "colab_type": "text"
      },
      "source": [
        "<a href=\"https://colab.research.google.com/github/amien1410/amien-scrapers/blob/main/Cnn_Stock_Scraper.ipynb\" target=\"_parent\"><img src=\"https://colab.research.google.com/assets/colab-badge.svg\" alt=\"Open In Colab\"/></a>"
      ]
    },
    {
      "cell_type": "code",
      "execution_count": 1,
      "metadata": {
        "id": "zt8yaLh-WroE"
      },
      "outputs": [],
      "source": [
        "import json\n",
        "import time\n",
        "import pandas as pd\n",
        "import requests\n",
        "from bs4 import BeautifulSoup"
      ]
    },
    {
      "cell_type": "code",
      "source": [
        "url = \"https://edition.cnn.com/markets/stocks/VNET\"\n",
        "res = requests.get(url)\n",
        "res"
      ],
      "metadata": {
        "colab": {
          "base_uri": "https://localhost:8080/"
        },
        "id": "nA7ZscM4XQl8",
        "outputId": "9aa0c735-b827-4337-af07-d9043923780b"
      },
      "execution_count": null,
      "outputs": [
        {
          "output_type": "execute_result",
          "data": {
            "text/plain": [
              "<Response [200]>"
            ]
          },
          "metadata": {},
          "execution_count": 4
        }
      ]
    },
    {
      "cell_type": "code",
      "source": [
        "soup = BeautifulSoup(res.text)\n",
        "soup.title"
      ],
      "metadata": {
        "colab": {
          "base_uri": "https://localhost:8080/"
        },
        "id": "p3oShP_nXbc-",
        "outputId": "e656dbc3-25b8-4f11-fbda-20310f8a4ad4"
      },
      "execution_count": null,
      "outputs": [
        {
          "output_type": "execute_result",
          "data": {
            "text/plain": [
              "<title>VNET Stock Quote Price and Forecast | CNN</title>"
            ]
          },
          "metadata": {},
          "execution_count": 7
        }
      ]
    },
    {
      "cell_type": "code",
      "source": [
        "soup"
      ],
      "metadata": {
        "id": "32ysl5v8YU_W"
      },
      "execution_count": null,
      "outputs": []
    },
    {
      "cell_type": "code",
      "source": [
        "# price momentum 200-days average\n",
        "# https://production.dataviz.cnn.io/insights/share_price/LCID\n",
        "\n",
        "# PE, company name, market cap, current price, 52 week range, pe ratio competitor highest and lowest\n",
        "# https://production.dataviz.cnn.io/quote/competitors/LCID/5\n",
        "\n",
        "# Tiprank\n",
        "# https://widgets.tipranks.com/content/v2/cnn/smartscoresmall/index.html?ticker=VNET\n",
        "\n",
        "# https://www.tipranks.com/api/assets?tickers=VNET\n",
        "# https://market.tipranks.com/api/quotes/GetQuotes?app_name=tr&tickers=CMG\n",
        "\n"
      ],
      "metadata": {
        "id": "y9nLBLFWmwXE"
      },
      "execution_count": null,
      "outputs": []
    },
    {
      "cell_type": "code",
      "source": [
        "import yfinance as yf\n",
        "from datetime import datetime, timedelta\n",
        "\n",
        "def calculate_price_change(ticker_symbol):\n",
        "    stock = yf.Ticker(ticker_symbol)\n",
        "    today = datetime.today().date()\n",
        "\n",
        "    # Define time ranges\n",
        "    dates = {\n",
        "        \"1 Month\": today - timedelta(days=30),\n",
        "        \"6 Months\": today - timedelta(days=182),  # ~6 months\n",
        "        \"1 Year\": today - timedelta(days=365)\n",
        "    }\n",
        "\n",
        "    current_price = stock.history(period=\"1d\")[\"Close\"].iloc[-1]\n",
        "    print(f\"\\nCurrent Price of {ticker_symbol.upper()}: ${current_price:.2f}\")\n",
        "\n",
        "    for label, date in dates.items():\n",
        "        past_data = stock.history(start=date - timedelta(days=5), end=date + timedelta(days=5))\n",
        "        if not past_data.empty:\n",
        "            past_price = past_data[\"Close\"].iloc[0]\n",
        "            change_percent = ((current_price - past_price) / past_price) * 100\n",
        "            print(f\"{label} Change: {change_percent:.2f}% (Past Price: ${past_price:.2f})\")\n",
        "        else:\n",
        "            print(f\"{label} Change: No data available around {date}\")\n",
        "\n",
        "# Example usage\n",
        "calculate_price_change(\"CMG\")  # Replace with any stock symbol"
      ],
      "metadata": {
        "colab": {
          "base_uri": "https://localhost:8080/"
        },
        "id": "waQjBZ4O15Pq",
        "outputId": "26b28f00-34bd-4a41-ff01-09e86c8e26cc"
      },
      "execution_count": null,
      "outputs": [
        {
          "output_type": "stream",
          "name": "stdout",
          "text": [
            "\n",
            "Current Price of CMG: $53.93\n",
            "1 Month Change: 2.65% (Past Price: $52.54)\n",
            "6 Months Change: -4.45% (Past Price: $56.44)\n",
            "1 Year Change: -4.73% (Past Price: $56.61)\n"
          ]
        }
      ]
    },
    {
      "cell_type": "code",
      "source": [
        "def get_change_percent(current_price, past_price):\n",
        "  return f\"Change: {((current_price - past_price) / past_price) * 100}\""
      ],
      "metadata": {
        "id": "-mXJEO7k2gWq"
      },
      "execution_count": null,
      "outputs": []
    },
    {
      "cell_type": "code",
      "source": [
        "get_change_percent(53.93, 53.56)"
      ],
      "metadata": {
        "colab": {
          "base_uri": "https://localhost:8080/",
          "height": 36
        },
        "id": "9q-s_BzR3S7x",
        "outputId": "304c2c66-f3cf-41b4-bfea-5774cedc44f8"
      },
      "execution_count": null,
      "outputs": [
        {
          "output_type": "execute_result",
          "data": {
            "text/plain": [
              "'Change: 0.6908140403285986'"
            ],
            "application/vnd.google.colaboratory.intrinsic+json": {
              "type": "string"
            }
          },
          "metadata": {},
          "execution_count": 5
        }
      ]
    },
    {
      "cell_type": "code",
      "source": [
        "tipranksHeaders = {\n",
        "  \"accept\":  \"application/json, text/plain, */*\",\n",
        "  \"accept-encoding\":  \"gzip, deflate, br, zstd\",\n",
        "  \"accept-language\":  \"en-US,en;q=0.9,id;q=0.8,fa;q=0.7,ar;q=0.6,ms;q=0.5,ja;q=0.4,es;q=0.3\",\n",
        "  \"cookie\":  \"personal-message=none; tr-plan-id=0; tr-plan-name=free; tr-experiments-version=1.14; tipranks-experiments=%7b%22Experiments%22%3a%5b%7b%22Name%22%3a%22general_A%22%2c%22Variant%22%3a%22v2%22%2c%22SendAnalytics%22%3afalse%7d%2c%7b%22Name%22%3a%22general_B%22%2c%22Variant%22%3a%22v1%22%2c%22SendAnalytics%22%3afalse%7d%2c%7b%22Name%22%3a%22general_C%22%2c%22Variant%22%3a%22v7%22%2c%22SendAnalytics%22%3afalse%7d%5d%7d; tipranks-experiments-slim=general_A%3av2%7cgeneral_B%3av1%7cgeneral_C%3av7; rbzid=LtANLSeCHMfmYXZm2cZ1L3pKEQQyDsPMsrJfGhmykxwDJgkIngd2w2QYM+9ntvEzEZ+v9JVUyaIDG641/Jf6wmrB61Y4+Wy1/v1n93ZQXn+Ohn4GkizVvYP9yUPk+yTjZHP6J7uvesn+SJFgtJVlokN8lS6D5anbjGICm6zPyv0A0/wSDH8eDYCvIVj5I018ciIges02MyaX0Y6akaGoPd3FTt8E/fE10hkhYXmRdxDqTxp71HMpU6TxR877TVBSu137k77ox/jhfr302vKQ0w__\",\n",
        "  \"priority\":  \"u=1, i\",\n",
        "  \"referer\":  \"https://www.tipranks.com/stocks/tsla/forecast\",\n",
        "  \"sec-ch-ua\":  '\"Not)A;Brand\";v=\"8\", \"Chromium\";v=\"138\", \"Microsoft Edge\";v=\"138\"',\n",
        "  \"sec-ch-ua-mobile\":  \"?0\",\n",
        "  \"sec-ch-ua-platform\":  \"Windows\",\n",
        "  \"sec-fetch-dest\":  \"empty\",\n",
        "  \"sec-fetch-mode\":  \"cors\",\n",
        "  \"sec-fetch-site\":  \"same-origin\",\n",
        "  \"user-agent\":  \"Mozilla/5.0 (Windows NT 10.0; Win64; x64) AppleWebKit/537.36 (KHTML, like Gecko) Chrome/138.0.0.0 Safari/537.36 Edg/138.0.0.0\"\n",
        "}\n",
        "\n",
        "res = requests.get(\"https://www.tipranks.com/stocks/plug/stock-forecast/payload.json\", headers=tipranksHeaders)\n",
        "res"
      ],
      "metadata": {
        "colab": {
          "base_uri": "https://localhost:8080/"
        },
        "id": "nmsU_kWz1Qqt",
        "outputId": "c00cf2b2-54c4-43d7-a695-853c60e1a237"
      },
      "execution_count": 3,
      "outputs": [
        {
          "output_type": "execute_result",
          "data": {
            "text/plain": [
              "<Response [200]>"
            ]
          },
          "metadata": {},
          "execution_count": 3
        }
      ]
    },
    {
      "cell_type": "code",
      "source": [
        "res.json()['models']['stocks'][5]['analystRatings']['all']"
      ],
      "metadata": {
        "colab": {
          "base_uri": "https://localhost:8080/"
        },
        "id": "05Kh31BF1ori",
        "outputId": "086b3e25-fde9-4847-b771-04c99cc4664a"
      },
      "execution_count": 4,
      "outputs": [
        {
          "output_type": "execute_result",
          "data": {
            "text/plain": [
              "{'id': 'neutral',\n",
              " 'buy': 4,\n",
              " 'sell': 4,\n",
              " 'hold': 11,\n",
              " 'total': 19,\n",
              " 'priceTarget': {'value': 1.38},\n",
              " 'highPriceTarget': 3.5,\n",
              " 'lowPriceTarget': 0.5}"
            ]
          },
          "metadata": {},
          "execution_count": 4
        }
      ]
    },
    {
      "cell_type": "code",
      "source": [
        "res = requests.get(\"https://widgets.tipranks.com/api/widgets/stockAnalysisOverview/?tickers=plug\")\n",
        "res.json()"
      ],
      "metadata": {
        "id": "3k43nCaHQ96A",
        "colab": {
          "base_uri": "https://localhost:8080/"
        },
        "outputId": "e7222830-dad9-4425-a64d-5a9005d16d95"
      },
      "execution_count": 2,
      "outputs": [
        {
          "output_type": "execute_result",
          "data": {
            "text/plain": [
              "[{'ticker': 'plug',\n",
              "  'hedgeFundTrendValue': 4000632.0,\n",
              "  'smartScore': 7,\n",
              "  'bloggerSectorAvg': 0.6744,\n",
              "  'bloggerBullishSentiment': 0.4,\n",
              "  'insidersLast3MonthsSum': 918000.0,\n",
              "  'newsSentimentsBearishPercent': 0.0,\n",
              "  'newsSentimentsBullishPercent': 1.0,\n",
              "  'investorHoldingChangeLast7Days': 0.0149215746768906,\n",
              "  'investorHoldingChangeLast30Days': 0.0155141948342079,\n",
              "  'priceTarget': 1.38,\n",
              "  'convertedPriceTarget': 1.38,\n",
              "  'convertedPriceTargetCurrencyId': 1,\n",
              "  'fundamentalsReturnOnEquity': -0.838132,\n",
              "  'fundamentalsAssetGrowth': -0.250427,\n",
              "  'technicalsTwelveMonthsMomentum': -0.264,\n",
              "  'sma': 'Negative',\n",
              "  'analystConsensus': 'Hold',\n",
              "  'hedgeFundTrend': 'Increased',\n",
              "  'insiderTrend': 'BoughtShares',\n",
              "  'investorSentiment': 'Positive',\n",
              "  'newsSentiment': 'VeryBullish',\n",
              "  'bloggerConsensus': 'Neutral',\n",
              "  'marketCountryId': 1,\n",
              "  'isomic': 'XNAS'}]"
            ]
          },
          "metadata": {},
          "execution_count": 2
        }
      ]
    }
  ]
}