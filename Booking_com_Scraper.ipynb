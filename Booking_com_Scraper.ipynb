{
  "cells": [
    {
      "cell_type": "markdown",
      "metadata": {
        "id": "view-in-github",
        "colab_type": "text"
      },
      "source": [
        "<a href=\"https://colab.research.google.com/github/amien1410/amien-scrapers/blob/main/Booking_com_Scraper.ipynb\" target=\"_parent\"><img src=\"https://colab.research.google.com/assets/colab-badge.svg\" alt=\"Open In Colab\"/></a>"
      ]
    },
    {
      "cell_type": "code",
      "source": [
        "#@title\n",
        "!pip install \"httpx[http2,brotli]\" parsel\n",
        "import difflib\n",
        "import httpx\n",
        "import requests\n",
        "import random\n",
        "import string\n",
        "import time\n",
        "import urllib.parse\n",
        "from bs4 import BeautifulSoup"
      ],
      "metadata": {
        "id": "DregH8shmUoU",
        "cellView": "form"
      },
      "execution_count": null,
      "outputs": []
    },
    {
      "cell_type": "code",
      "execution_count": null,
      "metadata": {
        "id": "YUttdi9QUFAV"
      },
      "outputs": [],
      "source": [
        "# @title\n",
        "headers2 = {\n",
        "    \"Accept\":\"text/html,application/xhtml+xml,application/xml;q=0.9,image/webp,image/apng,*/*;q=0.8,application/signed-exchange;v=b3;q=0.7\",\n",
        "    \"Accept-Encoding\":\"gzip, deflate, br\",\n",
        "    \"Accept-Language\":\"en-US,en;q=0.9,id;q=0.8,fa;q=0.7,ar;q=0.6,ms;q=0.5,ja;q=0.4\",\n",
        "    \"Cache-Control\":\"max-age=0\",\n",
        "    \"Cookie\": 'px_init=0; bkng_sso_session=e30; OptanonConsent=implicitConsentCountry=nonGDPR&implicitConsentDate=1688341835317; cors_js=1; g_state={\"i_p\":1689063805365,\"i_l\":3}; bkng_expired_hint=eyJib29raW5nX2dsb2JhbCI6W3sibG9naW5faGludCI6MzEzOTY4OTU3OH1dfQ; bkng_sso_ses=e30; pcm_consent=consentedAt%3D2023-10-05T01%3A23%3A23.659Z%26countryCode%3DID%26expiresAt%3D2024-04-02T01%3A23%3A23.659Z%26implicit%3Dfalse%26regionCode%3DKT%26regulation%3Dnone%26legacyRegulation%3Dnone%26consentId%3Db29ee419-b359-4dec-a21f-1c8402c65d3b%26analytical%3Dtrue%26marketing%3Dtrue; bkng_sso_auth=CAIQsOnuTRpykSzmv8JMEafw8OBQmEwHlYkQD1BE/07FzWiRhRk7T+Cl6VTgFnDCiL56Xay0/XGqcNUHKKqKRFihOdZ7YC//cVRbU2pPHoYkTkSQH/6vQU6aieTRoTmgSulVjhsbphBZoqDGAoy73r5buX1/UdTCAI6Z; bkng_sso_auth_1696469003=CAIQsOnuTRpykSzmv8JMEafw8OBQmEwHlYkQD1BE/07FzWiRhRk7T+Cl6VTgFnDCiL56Xay0/XGqcNUHKKqKRFihOdZ7YC//cVRbU2pPHoYkTkSQH/6vQU6aieTRoTmgSulVjhsbphBZoqDGAoy73r5buX1/UdTCAI6Z; pcm_verified=1; _pxhd=lqCYPkaoZw2EcwRodSEQcVNjv2dUrdyjcnLkfwtrjaZ3VJxRxhMb95aKJwm2UR5dS%2Fzyx6MoscUH6ZKhBh%2F-yg%3D%3D%3ASmhouaMR9crUa2OA5WPDA9cM258mYWqsIRAnsSjNEykR3Ts%2FTD9nXnekDYhvmiSAlrrmKyEWBpVLo3RW%2FxRWQt82gElCC9nT9fvqYOlg0F8%3D; bkng=11UmFuZG9tSVYkc2RlIyh9Yaa29%2F3xUOLbVA9iGwA%2BUSz7Vg8K6c%2FTKO%2BIrpV1ZQ2n%2B5FCqFNiuhx1xPFQ4WLBeRrLd6nyCRo5cvbNZvp%2FWSKPgAsnzPLn15YE4j0gtjbNgUmaPaznmATSU5ZXekDjP0VmKpof4OazBIAPTOmbG0%2FXze%2FPP45cuj4dAg0W1pjmSj5r4FlUS40G2Yy9xiPorA%3D%3D; lastSeen=0',\n",
        "    \"Sec-Ch-Ua\":'\"Not.A/Brand\";v=\"8\", \"Chromium\";v=\"114\", \"Microsoft Edge\";v=\"114\"',\n",
        "    \"Sec-Ch-Ua-Mobile\":\"?0\",\n",
        "    \"Sec-Ch-Ua-Platform\":\"Windows\",\n",
        "    \"Sec-Fetch-Dest\":\"document\",\n",
        "    \"Sec-Fetch-Mode\":\"navigate\",\n",
        "    \"Sec-Fetch-Site\":\"none\",\n",
        "    \"Sec-Fetch-User\":\"?1\",\n",
        "    \"Upgrade-Insecure-Requests\":'1',\n",
        "    \"User-Agent\":\"Mozilla/5.0 (Windows NT 10.0; Win64; x64) AppleWebKit/537.36 (KHTML, like Gecko) Chrome/114.0.0.0 Safari/537.36\"\n",
        "}\n",
        "# start HTTP session client with our headers and HTTP2\n",
        "client = httpx.AsyncClient(\n",
        "    http2=True,  # http2 connections are significantly less likely to get blocked\n",
        "    headers=headers2,\n",
        "    timeout=httpx.Timeout(15.0),\n",
        "    limits=httpx.Limits(max_connections=5),\n",
        ")\n",
        "\n",
        "# get additional info from the property\n",
        "def get_additional_info(url):\n",
        "  results = []\n",
        "  print(url)\n",
        "  res = requests.get(url, headers=headers)\n",
        "  soup = BeautifulSoup(res.text)\n",
        "  address = soup.select(\"span.hp_address_subtitle\")[0].text.strip()\n",
        "  categories = soup.select(\".c-score-bar\")\n",
        "  for i in range(len(categories)):\n",
        "    title = categories[i].select(\"span\")[0].text.strip()\n",
        "    score = categories[i].select(\"span\")[1].text\n",
        "    results.append(f\"{title} ({score})\")\n",
        "  results = \", \".join(results)\n",
        "  print(address, results)\n",
        "  return address, results\n",
        "\n",
        "# get all reviews from the given property name\n",
        "async def get_reviews(pageName):\n",
        "  results = []\n",
        "  hasNextPage = True\n",
        "  offset = 0\n",
        "  page = 1\n",
        "  while hasNextPage == True:\n",
        "    url = \"https://www.booking.com/reviewlist.html?cc1=us&pagename=\"+pageName+\"&rows=25&offset=\"+str(offset)\n",
        "    print(url)\n",
        "    res = await client.get(url)\n",
        "    soup = BeautifulSoup(res.text)\n",
        "    reviews = soup.select(\".review_list_new_item_block\")\n",
        "\n",
        "    if len(reviews) < 25:\n",
        "      hasNextPage = False\n",
        "\n",
        "    for i in range(len(reviews)):\n",
        "      countLike = reviews[i].select(\".-iconset-review_great\")\n",
        "      countDislike = reviews[i].select(\".-iconset-review_poor\")\n",
        "      countResponse = reviews[i].select(\".-iconset-chat_bubbles\")\n",
        "      like = \"\"\n",
        "      dislike = \"\"\n",
        "      response = \"\"\n",
        "      if len(countLike) > 0:\n",
        "        like = countLike[0].parent.find_next_siblings()[1].text\n",
        "      if len(countDislike) > 0:\n",
        "        dislike = countDislike[0].parent.find_next_siblings()[1].text\n",
        "      if len(countResponse) > 0:\n",
        "        response = countResponse[0].parent.find_next_siblings()[0].text\n",
        "      results.append({\n",
        "          \"username\" : reviews[i].select('.bui-avatar-block__title')[0].text,\n",
        "          \"likeReview\" : like,\n",
        "          \"dislikeReview\" : dislike,\n",
        "          \"response\" : response,\n",
        "          \"rating\" : reviews[i].select(\".bui-review-score__badge\")[0].text.strip(),\n",
        "          \"reviewDate\" : reviews[i].select(\".c-review-block__date\")[1].text.split(\": \")[1].strip()\n",
        "      })\n",
        "\n",
        "    offset += 25\n",
        "    page += 1\n",
        "    time.sleep(2)\n",
        "\n",
        "  return results"
      ]
    },
    {
      "cell_type": "code",
      "source": [
        "random_request_id = \"\".join(\n",
        "    random.choice(string.ascii_lowercase + string.digits) for i in range(180)\n",
        ")\n",
        "headers = {\n",
        "    \"Accept\":\"text/html,application/xhtml+xml,application/xml;q=0.9,image/webp,image/apng,*/*;q=0.8,application/signed-exchange;v=b3;q=0.7\",\n",
        "    \"Accept-Encoding\":\"gzip, deflate, br\",\n",
        "    \"Accept-Language\":\"en-US,en;q=0.9,id;q=0.8,fa;q=0.7,ar;q=0.6,ms;q=0.5,ja;q=0.4\",\n",
        "    \"Cache-Control\":\"max-age=0\",\n",
        "    \"Cookie\": 'px_init=0; bkng_sso_session=e30; OptanonConsent=implicitConsentCountry=nonGDPR&implicitConsentDate=1688341835317; cors_js=1; g_state={\"i_p\":1689063805365,\"i_l\":3}; bkng_expired_hint=eyJib29raW5nX2dsb2JhbCI6W3sibG9naW5faGludCI6MzEzOTY4OTU3OH1dfQ; bkng_sso_ses=e30; pcm_consent=consentedAt%3D2023-10-05T01%3A23%3A23.659Z%26countryCode%3DID%26expiresAt%3D2024-04-02T01%3A23%3A23.659Z%26implicit%3Dfalse%26regionCode%3DKT%26regulation%3Dnone%26legacyRegulation%3Dnone%26consentId%3Db29ee419-b359-4dec-a21f-1c8402c65d3b%26analytical%3Dtrue%26marketing%3Dtrue; bkng_sso_auth=CAIQsOnuTRpykSzmv8JMEafw8OBQmEwHlYkQD1BE/07FzWiRhRk7T+Cl6VTgFnDCiL56Xay0/XGqcNUHKKqKRFihOdZ7YC//cVRbU2pPHoYkTkSQH/6vQU6aieTRoTmgSulVjhsbphBZoqDGAoy73r5buX1/UdTCAI6Z; bkng_sso_auth_1696469003=CAIQsOnuTRpykSzmv8JMEafw8OBQmEwHlYkQD1BE/07FzWiRhRk7T+Cl6VTgFnDCiL56Xay0/XGqcNUHKKqKRFihOdZ7YC//cVRbU2pPHoYkTkSQH/6vQU6aieTRoTmgSulVjhsbphBZoqDGAoy73r5buX1/UdTCAI6Z; pcm_verified=1; _pxhd=lqCYPkaoZw2EcwRodSEQcVNjv2dUrdyjcnLkfwtrjaZ3VJxRxhMb95aKJwm2UR5dS%2Fzyx6MoscUH6ZKhBh%2F-yg%3D%3D%3ASmhouaMR9crUa2OA5WPDA9cM258mYWqsIRAnsSjNEykR3Ts%2FTD9nXnekDYhvmiSAlrrmKyEWBpVLo3RW%2FxRWQt82gElCC9nT9fvqYOlg0F8%3D; bkng=11UmFuZG9tSVYkc2RlIyh9Yaa29%2F3xUOLbVA9iGwA%2BUSz7Vg8K6c%2FTKO%2BIrpV1ZQ2n%2B5FCqFNiuhx1xPFQ4WLBeRrLd6nyCRo5cvbNZvp%2FWSKPgAsnzPLn15YE4j0gtjbNgUmaPaznmATSU5ZXekDjP0VmKpof4OazBIAPTOmbG0%2FXze%2FPP45cuj4dAg0W1pjmSj5r4FlUS40G2Yy9xiPorA%3D%3D; lastSeen=0',\n",
        "    \"Origin\": \"https://www.booking.com\",\n",
        "    \"Referer\": \"https://www.booking.com/searchresults.html?\",\n",
        "    \"Sec-Ch-Ua\":'\"Microsoft Edge\";v=\"117\", \"Not;A=Brand\";v=\"8\", \"Chromium\";v=\"117\"',\n",
        "    \"Sec-Ch-Ua-Mobile\":\"?0\",\n",
        "    \"Sec-Ch-Ua-Platform\":\"Windows\",\n",
        "    \"Sec-Fetch-Dest\":\"document\",\n",
        "    \"Sec-Fetch-Mode\":\"navigate\",\n",
        "    \"Sec-Fetch-Site\":\"none\",\n",
        "    \"Sec-Fetch-User\":\"?1\",\n",
        "    \"Upgrade-Insecure-Requests\":'1',\n",
        "    \"User-Agent\":\"Mozilla/5.0 (Windows NT 10.0; Win64; x64) AppleWebKit/537.36 (KHTML, like Gecko) Chrome/117.0.0.0 Safari/537.36\",\n",
        "    \"X-Requested-By\": random_request_id,\n",
        "}\n",
        "# start HTTP session client with our headers and HTTP2\n",
        "client = httpx.AsyncClient(\n",
        "    http2=True,  # http2 connections are significantly less likely to get blocked\n",
        "    headers=headers,\n",
        "    timeout=httpx.Timeout(15.0),\n",
        "    limits=httpx.Limits(max_connections=5),\n",
        ")"
      ],
      "metadata": {
        "id": "fLheE50YhE73"
      },
      "execution_count": null,
      "outputs": []
    },
    {
      "cell_type": "code",
      "source": [
        "# get 20 top properties from the search page\n",
        "headers = {\n",
        "    \"Host\": \"www.booking.com\",\n",
        "    \"Method\": \"GET\",\n",
        "    \"Path\": \"/searchresults.html?ss=Aston+Banua+Banjarmasin\",\n",
        "    \"Scheme\": \"https\",\n",
        "    \"Accept\": \"text/html,application/xhtml+xml,application/xml;q=0.9,image/webp,image/apng,*/*;q=0.8,application/signed-exchange;v=b3;q=0.7\",\n",
        "    \"Accept-Encoding\": \"gzip, deflate, br\",\n",
        "    \"Accept-Language\": \"en-US,en;q=0.9,id;q=0.8,fa;q=0.7,ar;q=0.6,ms;q=0.5,ja;q=0.4\",\n",
        "    \"Cache-Control\": \"max-age=0\",\n",
        "    \"Cookie\": \"px_init=0; bkng_sso_session=e30; OptanonConsent=implicitConsentCountry=nonGDPR&implicitConsentDate=1688341835317; cors_js=1; g_state={\\\"i_p\\\":1689063805365,\\\"i_l\\\":3}; bkng_expired_hint=eyJib29raW5nX2dsb2JhbCI6W3sibg9naW5faGludCI6MzEzOTY4OTU3OH1dfQ; bkng_sso_ses=e30; pcm_consent=consentedAt%3D2023-10-05T01%3A23%3A23.659Z%26countryCode%3DID%26expiresAt%3D2024-04-02T01%3A23%3A23.659Z%26implicit%3Dfalse%26regionCode%3DKT%26regulation%3Dnone%26legacyRegulation%3Dnone%26consentId%3Db29ee419-b359-4dec-a21f-1c8402c65d3b%26analytical%3Dtrue%26marketing%3Dtrue; bkng_sso_auth=CAIQsOnuTRpykSzmv8JMEafw8OBQmEwHlYkQD1BE/07FzWiRhRk7T+Cl6VTgFnDCiL56Xay0/XGqcNUHKKqKRFihOdZ7YC//cVRbU2pPHoYkTkSQH/6vQU6aieTRoTmgSulVjhsbphBZoqDGAoy73r5buX1/UdTCAI6Z; bkng_sso_auth_1696469003=CAIQsOnuTRpykSzmv8JMEafw8OBQmEwHlYkQD1BE/07FzWiRhRk7T+Cl6VTgFnDCiL56Xay0/XGqcNUHKKqKRFihOdZ7YC//cVRbU2pPHoYkTkSQH/6vQU6aieTRoTmgSulVjhsbphBZoqDGAoy73r5buX1/UdTCAI6Z; pcm_verified=1; _pxhd=lqCYPkaoZw2EcwRodSEQcVNjv2dUrdyjcnLkfwtrjaZ3VJxRxhMb95aKJwm2UR5dS%2Fzyx6MoscUH6ZKhBh%2F-yg%3D%3D%3ASmhouaMR9crUa2OA5WPDA9cM258mYWqsIRAnsSjNEykR3Ts%2FTD9nXnekDYhvmiSAlrrmKyEWBpVLo3RW%2FxRWQt82gElCC9nT9fvqYOlg0F8%3D; bkng=11UmFuZG9tSVYkc2RlIyh9Yaa29%2F3xUOLbVA9iGwA%2BUSz7Vg8K6c%2FTKO%2BIrpV1ZQ2n%2B5FCqFNiuhx1xPFQ4WLBeRrLd6nyCRo5cvbNZvp%2FWSKPgAsnzPLn15YE4j0gtjbNgUmaPaznmATSU5ZXekDjP0VmKpof4OazBIAPTOmbG0%2FXze%2FPP45cuj4dAg0W1pjmSj5r4FlUS40G2Yy9xiPorA%3D%3D; lastSeen=0\",\n",
        "    \"Sec-Ch-Ua\": \"\\\"Microsoft Edge\\\";v=\\\"117\\\", \\\"Not;A=Brand\\\";v=\\\"8\\\", \\\"Chromium\\\";v=\\\"117\\\"\",\n",
        "    \"Sec-Ch-Ua-Mobile\": \"?0\",\n",
        "    \"Sec-Ch-Ua-Platform\": \"\\\"Windows\\\"\",\n",
        "    \"Sec-Fetch-Dest\": \"document\",\n",
        "    \"Sec-Fetch-Mode\": \"navigate\",\n",
        "    \"Sec-Fetch-Site\": \"none\",\n",
        "    \"Sec-Fetch-User\": \"?1\",\n",
        "    \"Upgrade-Insecure-Requests\": \"1\",\n",
        "    \"User-Agent\": \"Mozilla/5.0 (Windows NT 10.0; Win64; x64) AppleWebKit/537.36 (KHTML, like Gecko) Chrome/117.0.0.0 Safari/537.36\"\n",
        "}\n",
        "\n",
        "headers2 = {\n",
        "    \"Accept\":\"text/html,application/xhtml+xml,application/xml;q=0.9,image/webp,image/apng,*/*;q=0.8,application/signed-exchange;v=b3;q=0.7\",\n",
        "    \"Accept-Encoding\":\"gzip, deflate, br\",\n",
        "    \"Accept-Language\":\"en-US,en;q=0.9,id;q=0.8,fa;q=0.7,ar;q=0.6,ms;q=0.5,ja;q=0.4\",\n",
        "    \"Cache-Control\":\"max-age=0\",\n",
        "    \"Cookie\": 'px_init=0; bkng_sso_session=e30; OptanonConsent=implicitConsentCountry=nonGDPR&implicitConsentDate=1688341835317; cors_js=1; g_state={\"i_p\":1689063805365,\"i_l\":3}; bkng_expired_hint=eyJib29raW5nX2dsb2JhbCI6W3sibG9naW5faGludCI6MzEzOTY4OTU3OH1dfQ; bkng_sso_ses=e30; pcm_consent=consentedAt%3D2023-10-05T01%3A23%3A23.659Z%26countryCode%3DID%26expiresAt%3D2024-04-02T01%3A23%3A23.659Z%26implicit%3Dfalse%26regionCode%3DKT%26regulation%3Dnone%26legacyRegulation%3Dnone%26consentId%3Db29ee419-b359-4dec-a21f-1c8402c65d3b%26analytical%3Dtrue%26marketing%3Dtrue; bkng_sso_auth=CAIQsOnuTRpykSzmv8JMEafw8OBQmEwHlYkQD1BE/07FzWiRhRk7T+Cl6VTgFnDCiL56Xay0/XGqcNUHKKqKRFihOdZ7YC//cVRbU2pPHoYkTkSQH/6vQU6aieTRoTmgSulVjhsbphBZoqDGAoy73r5buX1/UdTCAI6Z; bkng_sso_auth_1696469003=CAIQsOnuTRpykSzmv8JMEafw8OBQmEwHlYkQD1BE/07FzWiRhRk7T+Cl6VTgFnDCiL56Xay0/XGqcNUHKKqKRFihOdZ7YC//cVRbU2pPHoYkTkSQH/6vQU6aieTRoTmgSulVjhsbphBZoqDGAoy73r5buX1/UdTCAI6Z; pcm_verified=1; _pxhd=lqCYPkaoZw2EcwRodSEQcVNjv2dUrdyjcnLkfwtrjaZ3VJxRxhMb95aKJwm2UR5dS%2Fzyx6MoscUH6ZKhBh%2F-yg%3D%3D%3ASmhouaMR9crUa2OA5WPDA9cM258mYWqsIRAnsSjNEykR3Ts%2FTD9nXnekDYhvmiSAlrrmKyEWBpVLo3RW%2FxRWQt82gElCC9nT9fvqYOlg0F8%3D; bkng=11UmFuZG9tSVYkc2RlIyh9Yaa29%2F3xUOLbVA9iGwA%2BUSz7Vg8K6c%2FTKO%2BIrpV1ZQ2n%2B5FCqFNiuhx1xPFQ4WLBeRrLd6nyCRo5cvbNZvp%2FWSKPgAsnzPLn15YE4j0gtjbNgUmaPaznmATSU5ZXekDjP0VmKpof4OazBIAPTOmbG0%2FXze%2FPP45cuj4dAg0W1pjmSj5r4FlUS40G2Yy9xiPorA%3D%3D; lastSeen=0',\n",
        "    \"Sec-Ch-Ua\":'\"Not.A/Brand\";v=\"8\", \"Chromium\";v=\"114\", \"Microsoft Edge\";v=\"114\"',\n",
        "    \"Sec-Ch-Ua-Mobile\":\"?0\",\n",
        "    \"Sec-Ch-Ua-Platform\":\"Windows\",\n",
        "    \"Sec-Fetch-Dest\":\"document\",\n",
        "    \"Sec-Fetch-Mode\":\"navigate\",\n",
        "    \"Sec-Fetch-Site\":\"none\",\n",
        "    \"Sec-Fetch-User\":\"?1\",\n",
        "    \"Upgrade-Insecure-Requests\":'1',\n",
        "    \"User-Agent\":\"Mozilla/5.0 (Windows NT 10.0; Win64; x64) AppleWebKit/537.36 (KHTML, like Gecko) Chrome/114.0.0.0 Safari/537.36\"\n",
        "}\n",
        "# start HTTP session client with our headers and HTTP2\n",
        "client = httpx.AsyncClient(\n",
        "    http2=True,  # http2 connections are significantly less likely to get blocked\n",
        "    headers=headers,\n",
        "    timeout=httpx.Timeout(15.0),\n",
        "    limits=httpx.Limits(max_connections=5),\n",
        ")\n",
        "\n",
        "def get_hotels(hotel_name, address):\n",
        "  results = []\n",
        "  query = urllib.parse.quote(hotel_name+\" \"+address)\n",
        "  url = \"https://www.booking.com/searchresults.html?ss=Aston+Banua+Banjarmasin\"\n",
        "  # url = \"https://www.booking.com/searchresults.html?ss=Aston+Banua+Banjarmasin\"\n",
        "  res = requests.get(url, headers=headers2)\n",
        "  soup = BeautifulSoup(res.text, 'lxml')\n",
        "  # properties = soup.select(\"a.e13098a59f\")\n",
        "  return soup\n",
        "  # for i in range(len(properties)):\n",
        "  #   url = properties[i].get(\"href\")\n",
        "  #   pageName = url.split(\"/\")[-1].split(\".\")[0]\n",
        "  #   results.append({\n",
        "  #       \"newPropertyName\": properties[i].find(\"div\").text,\n",
        "  #       \"pageName\": pageName,\n",
        "  #       \"url\": url\n",
        "  #   })\n",
        "\n",
        "  #   if i > 19:\n",
        "  #     return results"
      ],
      "metadata": {
        "id": "PHo0OSNRbCXo"
      },
      "execution_count": null,
      "outputs": []
    },
    {
      "cell_type": "code",
      "source": [
        "hotels = get_hotels(\"Residence Inn\", \"410 North Chicago\")\n",
        "hotels.select(\"h3\")"
      ],
      "metadata": {
        "id": "NBB3iwfosma7",
        "colab": {
          "base_uri": "https://localhost:8080/"
        },
        "outputId": "10a5b124-52a3-4a7f-d923-2346281df127"
      },
      "execution_count": null,
      "outputs": [
        {
          "output_type": "execute_result",
          "data": {
            "text/plain": [
              "[<h3 class=\"travel_articles__header travel_articles__two_line\" id=\"travel_articles_title_1\">6 incredible Bangkok rooftop bars</h3>,\n",
              " <h3 class=\"rlp-intro-how__title rlp-intro-how__a11y-exp-title\">It starts with a booking</h3>,\n",
              " <h3 class=\"rlp-intro-how__title rlp-intro-how__a11y-exp-title\">Followed by a trip</h3>,\n",
              " <h3 class=\"rlp-intro-how__title rlp-intro-how__a11y-exp-title\">And finally, a review</h3>]"
            ]
          },
          "metadata": {},
          "execution_count": 118
        }
      ]
    },
    {
      "cell_type": "code",
      "source": [
        "def getHotels(hotelName, address, city):\n",
        "  results = []\n",
        "  query = urllib.parse.quote(hotelName+\" \"+address)\n",
        "  destType = getDestId(city)\n",
        "  url = \"https://www.booking.com/searchresults.html?ss=\"+query+\"&dest_id=\"+destType+\"&dest_type=hotel\"\n",
        "  res = requests.get(url, headers=headers)\n",
        "  soup = BeautifulSoup(res.text, 'lxml')\n",
        "  properties = soup.select(\"a.a78ca197d0\")\n",
        "  for i in range(len(properties)):\n",
        "    url = properties[i].get(\"href\")\n",
        "    pageName = url.split(\"/\")[-1].split(\".\")[0]\n",
        "    results.append({\n",
        "        \"newPropertyName\": properties[i].find(\"div\").text,\n",
        "        \"pageName\": pageName,\n",
        "        \"url\": url\n",
        "    })\n",
        "\n",
        "  return results"
      ],
      "metadata": {
        "id": "SX4RGO9kDFiO"
      },
      "execution_count": null,
      "outputs": []
    },
    {
      "cell_type": "code",
      "source": [
        "headers3 = {\n",
        "    \"Accept\":\"*/*\",\n",
        "    \"Accept-Encoding\":\"gzip, deflate, br\",\n",
        "    \"Accept-Language\":\"en-US,en;q=0.9,id;q=0.8,fa;q=0.7,ar;q=0.6,ms;q=0.5,ja;q=0.4\",\n",
        "    \"Content-Length\":\"97\",\n",
        "    \"Content-Type\":\"text/plain;charset=UTF-8\",\n",
        "    \"Cookie\":\"px_init=0; bkng_sso_session=e30; cors_js=1; bkng_expired_hint=eyJib29raW5nX2dsb2JhbCI6W3sibG9naW5faGludCI6MzEzOTY4OTU3OH1dfQ; bkng_sso_ses=e30; pcm_consent=consentedAt%3D2023-10-05T01%3A23%3A23.659Z%26countryCode%3DID%26expiresAt%3D2024-04-02T01%3A23%3A23.659Z%26implicit%3Dfalse%26regionCode%3DKT%26regulation%3Dnone%26legacyRegulation%3Dnone%26consentId%3Db29ee419-b359-4dec-a21f-1c8402c65d3b%26analytical%3Dtrue%26marketing%3Dtrue; bkng_sso_auth=CAIQsOnuTRpykSzmv8JMEafw8OBQmEwHlYkQD1BE/07FzWiRhRk7T+Cl6VTgFnDCiL56Xay0/XGqcNUHKKqKRFihOdZ7YC//cVRbU2pPHoYkTkSQH/6vQU6aieTRoTmgSulVjhsbphBZoqDGAoy73r5buX1/UdTCAI6Z; g_state={'i_p':1698891354300,'i_l':4}; _vs=4496662336926575762:1696476352.8664062:8139239005403879237; 11_srd=%7B%22features%22%3A%5B%7B%22id%22%3A16%7D%5D%2C%22score%22%3A3%2C%22detected%22%3Afalse%7D; _pxhd=5ScEwaqD-7M3tg9IQbg4inyqSLYDbs4aP6KKxtqCUEQyrd8dY8htNPOpNlyFb96Aw56CNB52WbSGAsSqcsEwnw%3D%3D%3A4JFiFATPLE5uHJRl4WH%2FfwQAhZkOfzmsErRiH1zZtamB0rQHUox3ySvAkXgCOIcjOHA%2F5JdLidI5mVgo%2F71mjPmzQ3n8WJCNaswHzTEQf98%3D; bkng=11UmFuZG9tSVYkc2RlIyh9Yaa29%2F3xUOLblgO%2Fz4BDP5vo0AnnJEYr%2BDF1TOIpdko7ZUwuj05DOowpzvFt7fumKjnXxR4fIIIrygGcufWequ77aOTsT9NzXV%2FrOzvcN5h9zX7yyZI1qVrHKg2VYOhdCMQ04NU562w%2BbLAUy66oXtJOXzG%2BKPHVZlxPIb1CMIYpjUu923TUTKrLMTDsthSTFA%3D%3D; lastSeen=0\",\n",
        "    \"Origin\":\"https://www.booking.com\",\n",
        "    \"Referer\":\"https://www.booking.com/\",\n",
        "    \"Sec-Ch-Ua\":'\"Microsoft Edge\";v=\"117\", \"Not;A=Brand\";v=\"8\", \"Chromium\";v=\"117\"',\n",
        "    \"Sec-Ch-Ua-Mobile\":\"?0\",\n",
        "    \"Sec-Ch-Ua-Platform\":\"Windows\",\n",
        "    \"Sec-Fetch-Dest\":\"empty\",\n",
        "    \"Sec-Fetch-Mode\":\"cors\",\n",
        "    \"Sec-Fetch-Site\":\"same-site\",\n",
        "    \"User-Agent\":\"Mozilla/5.0 (Windows NT 10.0; Win64; x64) AppleWebKit/537.36 (KHTML, like Gecko) Chrome/117.0.0.0 Safari/537.36\"\n",
        "}\n",
        "def getDestId(city):\n",
        "  try:\n",
        "    url = \"https://accommodations.booking.com/autocomplete.json\"\n",
        "    params = {\"query\":city,\"pageview_id\":\"bd241b165c8a020d\",\"aid\":304142,\"language\":\"en-us\",\"size\":5}\n",
        "    res = requests.post(url, json=params)\n",
        "    data = res.json()\n",
        "    res = []\n",
        "    if len(data['results']) == 0:\n",
        "      return {\"No result, check your query!\"}\n",
        "    for result in data.get(\"results\", []):\n",
        "      if result.get(\"dest_type\") == \"city\":\n",
        "        res.append(result['dest_id'])\n",
        "    if len(res) > 0:\n",
        "      return res[0]\n",
        "    else:\n",
        "      return {\"There is no destination city type from the result\"}\n",
        "  except:\n",
        "    return {\"Error!\"}"
      ],
      "metadata": {
        "id": "5T1FbMKg_vC1"
      },
      "execution_count": null,
      "outputs": []
    },
    {
      "cell_type": "code",
      "source": [
        "# getDestId(\"Chicago\")\n",
        "# await getHotels(\"Residence Inn\", \"410 North\", \"Chicago\")\n",
        "getHotels(\"TreePark\", \"\", \"Banjarmasin\")"
      ],
      "metadata": {
        "colab": {
          "base_uri": "https://localhost:8080/"
        },
        "id": "Q7IZBiXMBpiF",
        "outputId": "d733f9c4-9dd7-4222-cbbb-5aeae92dfb19"
      },
      "execution_count": null,
      "outputs": [
        {
          "output_type": "execute_result",
          "data": {
            "text/plain": [
              "[{'newPropertyName': 'ASTON Banua Banjarmasin Hotel & Convention Center',\n",
              "  'pageName': 'aston-banua-amp-convention-center',\n",
              "  'url': 'https://www.booking.com/hotel/id/aston-banua-amp-convention-center.html?aid=304142&label=gen173nr-1FCAQoggJCDmhvdGVsXy0yNjcxNzMwSDNYBGiqAogBAZgBMbgBGMgBDNgBAegBAfgBA4gCAagCBLgCzKz5qAbAAgHSAiQ5ZDVhZDc0MS03OTY3LTRiYWUtYWJmZS0zZmRlODI1ZWFkNmPYAgXgAgE&ucfs=1&arphpl=1&dest_id=-2671730&dest_type=hotel&group_adults=2&req_adults=2&no_rooms=1&group_children=0&req_children=0&hpos=1&hapos=1&sr_order=popularity&srpvid=ce6e2ce6dceb00dd&srepoch=1696486989&from_sustainable_property_sr=1&from=searchresults#hotelTmpl'},\n",
              " {'newPropertyName': 'Swiss-Belhotel Borneo Banjarmasin',\n",
              "  'pageName': 'swissbel-borneo-banjarmasin',\n",
              "  'url': 'https://www.booking.com/hotel/id/swissbel-borneo-banjarmasin.html?aid=304142&label=gen173nr-1FCAQoggJCDmhvdGVsXy0yNjcxNzMwSDNYBGiqAogBAZgBMbgBGMgBDNgBAegBAfgBA4gCAagCBLgCzKz5qAbAAgHSAiQ5ZDVhZDc0MS03OTY3LTRiYWUtYWJmZS0zZmRlODI1ZWFkNmPYAgXgAgE&ucfs=1&arphpl=1&dest_id=-2671730&dest_type=hotel&group_adults=2&req_adults=2&no_rooms=1&group_children=0&req_children=0&hpos=2&hapos=2&sr_order=popularity&srpvid=ce6e2ce6dceb00dd&srepoch=1696486989&from_sustainable_property_sr=1&from=searchresults#hotelTmpl'},\n",
              " {'newPropertyName': 'SUPER OYO 850 Lapan Lapan',\n",
              "  'pageName': 'lapan-lapan-guesthouse',\n",
              "  'url': 'https://www.booking.com/hotel/id/lapan-lapan-guesthouse.html?aid=304142&label=gen173nr-1FCAQoggJCDmhvdGVsXy0yNjcxNzMwSDNYBGiqAogBAZgBMbgBGMgBDNgBAegBAfgBA4gCAagCBLgCzKz5qAbAAgHSAiQ5ZDVhZDc0MS03OTY3LTRiYWUtYWJmZS0zZmRlODI1ZWFkNmPYAgXgAgE&ucfs=1&arphpl=1&dest_id=-2671730&dest_type=hotel&group_adults=2&req_adults=2&no_rooms=1&group_children=0&req_children=0&hpos=3&hapos=3&sr_order=popularity&srpvid=ce6e2ce6dceb00dd&srepoch=1696486989&from=searchresults#hotelTmpl'},\n",
              " {'newPropertyName': 'Urbanview Hotel AVA Banjarmasin',\n",
              "  'pageName': 'reddoorz-near-jalan-ahmad-yani-banjarmasin',\n",
              "  'url': 'https://www.booking.com/hotel/id/reddoorz-near-jalan-ahmad-yani-banjarmasin.html?aid=304142&label=gen173nr-1FCAQoggJCDmhvdGVsXy0yNjcxNzMwSDNYBGiqAogBAZgBMbgBGMgBDNgBAegBAfgBA4gCAagCBLgCzKz5qAbAAgHSAiQ5ZDVhZDc0MS03OTY3LTRiYWUtYWJmZS0zZmRlODI1ZWFkNmPYAgXgAgE&ucfs=1&arphpl=1&dest_id=-2671730&dest_type=hotel&group_adults=2&req_adults=2&no_rooms=1&group_children=0&req_children=0&hpos=4&hapos=4&sr_order=popularity&srpvid=ce6e2ce6dceb00dd&srepoch=1696486989&from=searchresults#hotelTmpl'},\n",
              " {'newPropertyName': 'favehotel Ahmad Yani Banjarmasin',\n",
              "  'pageName': 'favehotel-ahmad-yani-banjarmasin',\n",
              "  'url': 'https://www.booking.com/hotel/id/favehotel-ahmad-yani-banjarmasin.html?aid=304142&label=gen173nr-1FCAQoggJCDmhvdGVsXy0yNjcxNzMwSDNYBGiqAogBAZgBMbgBGMgBDNgBAegBAfgBA4gCAagCBLgCzKz5qAbAAgHSAiQ5ZDVhZDc0MS03OTY3LTRiYWUtYWJmZS0zZmRlODI1ZWFkNmPYAgXgAgE&ucfs=1&arphpl=1&dest_id=-2671730&dest_type=hotel&group_adults=2&req_adults=2&no_rooms=1&group_children=0&req_children=0&hpos=5&hapos=5&sr_order=popularity&srpvid=ce6e2ce6dceb00dd&srepoch=1696486989&from_sustainable_property_sr=1&from=searchresults#hotelTmpl'},\n",
              " {'newPropertyName': 'OYO 2057 Hotel Kharisma',\n",
              "  'pageName': 'oyo-2057-kharisma',\n",
              "  'url': 'https://www.booking.com/hotel/id/oyo-2057-kharisma.html?aid=304142&label=gen173nr-1FCAQoggJCDmhvdGVsXy0yNjcxNzMwSDNYBGiqAogBAZgBMbgBGMgBDNgBAegBAfgBA4gCAagCBLgCzKz5qAbAAgHSAiQ5ZDVhZDc0MS03OTY3LTRiYWUtYWJmZS0zZmRlODI1ZWFkNmPYAgXgAgE&ucfs=1&arphpl=1&dest_id=-2671730&dest_type=hotel&group_adults=2&req_adults=2&no_rooms=1&group_children=0&req_children=0&hpos=6&hapos=6&sr_order=popularity&srpvid=ce6e2ce6dceb00dd&srepoch=1696486989&from=searchresults#hotelTmpl'},\n",
              " {'newPropertyName': 'FUGO Banjarmasin',\n",
              "  'pageName': 'fugo-banjarmasin',\n",
              "  'url': 'https://www.booking.com/hotel/id/fugo-banjarmasin.html?aid=304142&label=gen173nr-1FCAQoggJCDmhvdGVsXy0yNjcxNzMwSDNYBGiqAogBAZgBMbgBGMgBDNgBAegBAfgBA4gCAagCBLgCzKz5qAbAAgHSAiQ5ZDVhZDc0MS03OTY3LTRiYWUtYWJmZS0zZmRlODI1ZWFkNmPYAgXgAgE&ucfs=1&arphpl=1&dest_id=-2671730&dest_type=hotel&group_adults=2&req_adults=2&no_rooms=1&group_children=0&req_children=0&hpos=7&hapos=7&sr_order=popularity&srpvid=ce6e2ce6dceb00dd&srepoch=1696486989&from=searchresults#hotelTmpl'},\n",
              " {'newPropertyName': 'RedDoorz near Pasar Tarapung Siring Banjarmasin',\n",
              "  'pageName': 'reddoorz-near-pasar-terapung',\n",
              "  'url': 'https://www.booking.com/hotel/id/reddoorz-near-pasar-terapung.html?aid=304142&label=gen173nr-1FCAQoggJCDmhvdGVsXy0yNjcxNzMwSDNYBGiqAogBAZgBMbgBGMgBDNgBAegBAfgBA4gCAagCBLgCzKz5qAbAAgHSAiQ5ZDVhZDc0MS03OTY3LTRiYWUtYWJmZS0zZmRlODI1ZWFkNmPYAgXgAgE&ucfs=1&arphpl=1&dest_id=-2671730&dest_type=hotel&group_adults=2&req_adults=2&no_rooms=1&group_children=0&req_children=0&hpos=8&hapos=8&sr_order=popularity&srpvid=ce6e2ce6dceb00dd&srepoch=1696486989&from=searchresults#hotelTmpl'},\n",
              " {'newPropertyName': 'POP! Hotel Banjarmasin',\n",
              "  'pageName': 'pop-hotel-banjarmasin',\n",
              "  'url': 'https://www.booking.com/hotel/id/pop-hotel-banjarmasin.html?aid=304142&label=gen173nr-1FCAQoggJCDmhvdGVsXy0yNjcxNzMwSDNYBGiqAogBAZgBMbgBGMgBDNgBAegBAfgBA4gCAagCBLgCzKz5qAbAAgHSAiQ5ZDVhZDc0MS03OTY3LTRiYWUtYWJmZS0zZmRlODI1ZWFkNmPYAgXgAgE&ucfs=1&arphpl=1&dest_id=-2671730&dest_type=hotel&group_adults=2&req_adults=2&no_rooms=1&group_children=0&req_children=0&hpos=9&hapos=9&sr_order=popularity&srpvid=ce6e2ce6dceb00dd&srepoch=1696486989&from_sustainable_property_sr=1&from=searchresults#hotelTmpl'},\n",
              " {'newPropertyName': 'Harper Banjarmasin',\n",
              "  'pageName': 'harper-banjarmasin',\n",
              "  'url': 'https://www.booking.com/hotel/id/harper-banjarmasin.html?aid=304142&label=gen173nr-1FCAQoggJCDmhvdGVsXy0yNjcxNzMwSDNYBGiqAogBAZgBMbgBGMgBDNgBAegBAfgBA4gCAagCBLgCzKz5qAbAAgHSAiQ5ZDVhZDc0MS03OTY3LTRiYWUtYWJmZS0zZmRlODI1ZWFkNmPYAgXgAgE&ucfs=1&arphpl=1&dest_id=-2671730&dest_type=hotel&group_adults=2&req_adults=2&no_rooms=1&group_children=0&req_children=0&hpos=10&hapos=10&sr_order=popularity&srpvid=ce6e2ce6dceb00dd&srepoch=1696486989&from_sustainable_property_sr=1&from=searchresults#hotelTmpl'},\n",
              " {'newPropertyName': 'Lex Hotel Banjarmasin By Excelsior',\n",
              "  'pageName': 'lex-banjarmasin-by-excelsior-banjarmasin',\n",
              "  'url': 'https://www.booking.com/hotel/id/lex-banjarmasin-by-excelsior-banjarmasin.html?aid=304142&label=gen173nr-1FCAQoggJCDmhvdGVsXy0yNjcxNzMwSDNYBGiqAogBAZgBMbgBGMgBDNgBAegBAfgBA4gCAagCBLgCzKz5qAbAAgHSAiQ5ZDVhZDc0MS03OTY3LTRiYWUtYWJmZS0zZmRlODI1ZWFkNmPYAgXgAgE&ucfs=1&arphpl=1&dest_id=-2671730&dest_type=hotel&group_adults=2&req_adults=2&no_rooms=1&group_children=0&req_children=0&hpos=11&hapos=11&sr_order=popularity&srpvid=ce6e2ce6dceb00dd&srepoch=1696486989&from_sustainable_property_sr=1&from=searchresults#hotelTmpl'},\n",
              " {'newPropertyName': 'TreePark Banjarmasin',\n",
              "  'pageName': 'treepark-banjarmasin',\n",
              "  'url': 'https://www.booking.com/hotel/id/treepark-banjarmasin.html?aid=304142&label=gen173nr-1FCAQoggJCDmhvdGVsXy0yNjcxNzMwSDNYBGiqAogBAZgBMbgBGMgBDNgBAegBAfgBA4gCAagCBLgCzKz5qAbAAgHSAiQ5ZDVhZDc0MS03OTY3LTRiYWUtYWJmZS0zZmRlODI1ZWFkNmPYAgXgAgE&ucfs=1&arphpl=1&dest_id=-2671730&dest_type=hotel&group_adults=2&req_adults=2&no_rooms=1&group_children=0&req_children=0&hpos=12&hapos=12&sr_order=popularity&srpvid=ce6e2ce6dceb00dd&srepoch=1696486989&from=searchresults#hotelTmpl'},\n",
              " {'newPropertyName': 'RedDoorz Syariah near RSU Suaka Insan',\n",
              "  'pageName': 'reddoorz-near-rsu-suaka-insan',\n",
              "  'url': 'https://www.booking.com/hotel/id/reddoorz-near-rsu-suaka-insan.html?aid=304142&label=gen173nr-1FCAQoggJCDmhvdGVsXy0yNjcxNzMwSDNYBGiqAogBAZgBMbgBGMgBDNgBAegBAfgBA4gCAagCBLgCzKz5qAbAAgHSAiQ5ZDVhZDc0MS03OTY3LTRiYWUtYWJmZS0zZmRlODI1ZWFkNmPYAgXgAgE&ucfs=1&arphpl=1&dest_id=-2671730&dest_type=hotel&group_adults=2&req_adults=2&no_rooms=1&group_children=0&req_children=0&hpos=13&hapos=13&sr_order=popularity&srpvid=ce6e2ce6dceb00dd&srepoch=1696486989&from=searchresults#hotelTmpl'},\n",
              " {'newPropertyName': 'RedDoorz Syariah Plus @ Banjarbaru',\n",
              "  'pageName': 'reddoorz-plus-banjarbaru',\n",
              "  'url': 'https://www.booking.com/hotel/id/reddoorz-plus-banjarbaru.html?aid=304142&label=gen173nr-1FCAQoggJCDmhvdGVsXy0yNjcxNzMwSDNYBGiqAogBAZgBMbgBGMgBDNgBAegBAfgBA4gCAagCBLgCzKz5qAbAAgHSAiQ5ZDVhZDc0MS03OTY3LTRiYWUtYWJmZS0zZmRlODI1ZWFkNmPYAgXgAgE&ucfs=1&arphpl=1&dest_id=-2671730&dest_type=hotel&group_adults=2&req_adults=2&no_rooms=1&group_children=0&req_children=0&hpos=14&hapos=14&sr_order=popularity&srpvid=ce6e2ce6dceb00dd&srepoch=1696486989&from=searchresults#hotelTmpl'},\n",
              " {'newPropertyName': 'SPOT ON 92196 Kost Axcel',\n",
              "  'pageName': 'spot-on-92196-kost-axcel',\n",
              "  'url': 'https://www.booking.com/hotel/id/spot-on-92196-kost-axcel.html?aid=304142&label=gen173nr-1FCAQoggJCDmhvdGVsXy0yNjcxNzMwSDNYBGiqAogBAZgBMbgBGMgBDNgBAegBAfgBA4gCAagCBLgCzKz5qAbAAgHSAiQ5ZDVhZDc0MS03OTY3LTRiYWUtYWJmZS0zZmRlODI1ZWFkNmPYAgXgAgE&ucfs=1&arphpl=1&dest_id=-2671730&dest_type=hotel&group_adults=2&req_adults=2&no_rooms=1&group_children=0&req_children=0&hpos=15&hapos=15&sr_order=popularity&srpvid=ce6e2ce6dceb00dd&srepoch=1696486989&from=searchresults#hotelTmpl'},\n",
              " {'newPropertyName': 'RedDoorz near Uniska Banjarmasin',\n",
              "  'pageName': 'reddoorz-near-uniska-banjarmasin',\n",
              "  'url': 'https://www.booking.com/hotel/id/reddoorz-near-uniska-banjarmasin.html?aid=304142&label=gen173nr-1FCAQoggJCDmhvdGVsXy0yNjcxNzMwSDNYBGiqAogBAZgBMbgBGMgBDNgBAegBAfgBA4gCAagCBLgCzKz5qAbAAgHSAiQ5ZDVhZDc0MS03OTY3LTRiYWUtYWJmZS0zZmRlODI1ZWFkNmPYAgXgAgE&ucfs=1&arphpl=1&dest_id=-2671730&dest_type=hotel&group_adults=2&req_adults=2&no_rooms=1&group_children=0&req_children=0&hpos=16&hapos=16&sr_order=popularity&srpvid=ce6e2ce6dceb00dd&srepoch=1696486989&from=searchresults#hotelTmpl'},\n",
              " {'newPropertyName': 'BEST WORLD KINDAI HOTEL',\n",
              "  'pageName': 'best-world-kindai',\n",
              "  'url': 'https://www.booking.com/hotel/id/best-world-kindai.html?aid=304142&label=gen173nr-1FCAQoggJCDmhvdGVsXy0yNjcxNzMwSDNYBGiqAogBAZgBMbgBGMgBDNgBAegBAfgBA4gCAagCBLgCzKz5qAbAAgHSAiQ5ZDVhZDc0MS03OTY3LTRiYWUtYWJmZS0zZmRlODI1ZWFkNmPYAgXgAgE&ucfs=1&arphpl=1&dest_id=-2671730&dest_type=hotel&group_adults=2&req_adults=2&no_rooms=1&group_children=0&req_children=0&hpos=17&hapos=17&sr_order=popularity&srpvid=ce6e2ce6dceb00dd&srepoch=1696486989&from=searchresults#hotelTmpl'},\n",
              " {'newPropertyName': 'Urbanview Hotel Kanca Banjarmasin',\n",
              "  'pageName': 'urbanview-kanca-banjarmasin',\n",
              "  'url': 'https://www.booking.com/hotel/id/urbanview-kanca-banjarmasin.html?aid=304142&label=gen173nr-1FCAQoggJCDmhvdGVsXy0yNjcxNzMwSDNYBGiqAogBAZgBMbgBGMgBDNgBAegBAfgBA4gCAagCBLgCzKz5qAbAAgHSAiQ5ZDVhZDc0MS03OTY3LTRiYWUtYWJmZS0zZmRlODI1ZWFkNmPYAgXgAgE&ucfs=1&arphpl=1&dest_id=-2671730&dest_type=hotel&group_adults=2&req_adults=2&no_rooms=1&group_children=0&req_children=0&hpos=18&hapos=18&sr_order=popularity&srpvid=ce6e2ce6dceb00dd&srepoch=1696486989&from=searchresults#hotelTmpl'},\n",
              " {'newPropertyName': 'RedDoorz Syariah near Jalan A Yani KM 8 Citraland',\n",
              "  'pageName': 'reddoorz-syariah-near-citraland-banjarmasin',\n",
              "  'url': 'https://www.booking.com/hotel/id/reddoorz-syariah-near-citraland-banjarmasin.html?aid=304142&label=gen173nr-1FCAQoggJCDmhvdGVsXy0yNjcxNzMwSDNYBGiqAogBAZgBMbgBGMgBDNgBAegBAfgBA4gCAagCBLgCzKz5qAbAAgHSAiQ5ZDVhZDc0MS03OTY3LTRiYWUtYWJmZS0zZmRlODI1ZWFkNmPYAgXgAgE&ucfs=1&arphpl=1&dest_id=-2671730&dest_type=hotel&group_adults=2&req_adults=2&no_rooms=1&group_children=0&req_children=0&hpos=19&hapos=19&sr_order=popularity&srpvid=ce6e2ce6dceb00dd&srepoch=1696486989&from=searchresults#hotelTmpl'},\n",
              " {'newPropertyName': 'Hotel 88 Banjarmasin By WH',\n",
              "  'pageName': '88-banjarmasin',\n",
              "  'url': 'https://www.booking.com/hotel/id/88-banjarmasin.html?aid=304142&label=gen173nr-1FCAQoggJCDmhvdGVsXy0yNjcxNzMwSDNYBGiqAogBAZgBMbgBGMgBDNgBAegBAfgBA4gCAagCBLgCzKz5qAbAAgHSAiQ5ZDVhZDc0MS03OTY3LTRiYWUtYWJmZS0zZmRlODI1ZWFkNmPYAgXgAgE&ucfs=1&arphpl=1&dest_id=-2671730&dest_type=hotel&group_adults=2&req_adults=2&no_rooms=1&group_children=0&req_children=0&hpos=20&hapos=20&sr_order=popularity&srpvid=ce6e2ce6dceb00dd&srepoch=1696486989&from=searchresults#hotelTmpl'},\n",
              " {'newPropertyName': 'SPOT ON 92466 Adam Kost Syariah',\n",
              "  'pageName': 'spot-on-92466-adam-kost-syariah',\n",
              "  'url': 'https://www.booking.com/hotel/id/spot-on-92466-adam-kost-syariah.html?aid=304142&label=gen173nr-1FCAQoggJCDmhvdGVsXy0yNjcxNzMwSDNYBGiqAogBAZgBMbgBGMgBDNgBAegBAfgBA4gCAagCBLgCzKz5qAbAAgHSAiQ5ZDVhZDc0MS03OTY3LTRiYWUtYWJmZS0zZmRlODI1ZWFkNmPYAgXgAgE&ucfs=1&arphpl=1&dest_id=-2671730&dest_type=hotel&group_adults=2&req_adults=2&no_rooms=1&group_children=0&req_children=0&hpos=21&hapos=21&sr_order=popularity&srpvid=ce6e2ce6dceb00dd&srepoch=1696486989&from=searchresults#hotelTmpl'},\n",
              " {'newPropertyName': 'Super OYO 90112 Hotel Permata Inn',\n",
              "  'pageName': 'oyo-90112-permata-inn',\n",
              "  'url': 'https://www.booking.com/hotel/id/oyo-90112-permata-inn.html?aid=304142&label=gen173nr-1FCAQoggJCDmhvdGVsXy0yNjcxNzMwSDNYBGiqAogBAZgBMbgBGMgBDNgBAegBAfgBA4gCAagCBLgCzKz5qAbAAgHSAiQ5ZDVhZDc0MS03OTY3LTRiYWUtYWJmZS0zZmRlODI1ZWFkNmPYAgXgAgE&ucfs=1&arphpl=1&dest_id=-2671730&dest_type=hotel&group_adults=2&req_adults=2&no_rooms=1&group_children=0&req_children=0&hpos=22&hapos=22&sr_order=popularity&srpvid=ce6e2ce6dceb00dd&srepoch=1696486989&from=searchresults#hotelTmpl'},\n",
              " {'newPropertyName': 'Hotel SAS Syariah',\n",
              "  'pageName': 'sas-syariah',\n",
              "  'url': 'https://www.booking.com/hotel/id/sas-syariah.html?aid=304142&label=gen173nr-1FCAQoggJCDmhvdGVsXy0yNjcxNzMwSDNYBGiqAogBAZgBMbgBGMgBDNgBAegBAfgBA4gCAagCBLgCzKz5qAbAAgHSAiQ5ZDVhZDc0MS03OTY3LTRiYWUtYWJmZS0zZmRlODI1ZWFkNmPYAgXgAgE&ucfs=1&arphpl=1&dest_id=-2671730&dest_type=hotel&group_adults=2&req_adults=2&no_rooms=1&group_children=0&req_children=0&hpos=23&hapos=23&sr_order=popularity&srpvid=ce6e2ce6dceb00dd&srepoch=1696486989&from=searchresults#hotelTmpl'},\n",
              " {'newPropertyName': 'SPOT ON 92458 Azeela Kost Syariah',\n",
              "  'pageName': 'spot-on-92458-azeela-kost-syariah',\n",
              "  'url': 'https://www.booking.com/hotel/id/spot-on-92458-azeela-kost-syariah.html?aid=304142&label=gen173nr-1FCAQoggJCDmhvdGVsXy0yNjcxNzMwSDNYBGiqAogBAZgBMbgBGMgBDNgBAegBAfgBA4gCAagCBLgCzKz5qAbAAgHSAiQ5ZDVhZDc0MS03OTY3LTRiYWUtYWJmZS0zZmRlODI1ZWFkNmPYAgXgAgE&ucfs=1&arphpl=1&dest_id=-2671730&dest_type=hotel&group_adults=2&req_adults=2&no_rooms=1&group_children=0&req_children=0&hpos=24&hapos=24&sr_order=popularity&srpvid=ce6e2ce6dceb00dd&srepoch=1696486989&from=searchresults#hotelTmpl'}]"
            ]
          },
          "metadata": {},
          "execution_count": 210
        }
      ]
    },
    {
      "cell_type": "code",
      "source": [
        "new_address, categories = get_additional_info(hotels[0]['url'])"
      ],
      "metadata": {
        "colab": {
          "base_uri": "https://localhost:8080/"
        },
        "id": "puvYAlmCt3xb",
        "outputId": "d10c060d-a999-4f54-d511-fed5a2820ebd"
      },
      "execution_count": null,
      "outputs": [
        {
          "output_type": "stream",
          "name": "stdout",
          "text": [
            "https://www.booking.com/hotel/us/residence-inn-chicago-downtown-river-north.html?aid=304142&label=gen173nr-1FCAQoggJCNnNlYXJjaF9yZXNpZGVuY2UgaW5uIDQxMCBub3J0aCBkZWFyYm9ybiBzdHJlZXQgY2hpY2Fnb0gzWARoqQGIAQGYATG4ARjIAQzYAQHoAQH4AQOIAgGoAgS4AtXAkagGwAIB0gIkYmQ1ZjE3ODMtYjM0NC00ZmM0LWIwMjQtZmU3MTlhMTg2ODJi2AIF4AIB&ucfs=1&arphpl=1&group_adults=2&req_adults=2&no_rooms=1&group_children=0&req_children=0&hpos=1&hapos=1&sr_order=popularity&srpvid=dd7860eac0f00207&srepoch=1694785623&from_sustainable_property_sr=1&from=searchresults#hotelTmpl\n",
            "410 North Dearborn Street, River North, Chicago, IL 60654, United States of America Staff (8.8), Facilities (8.5), Cleanliness (8.7), Comfort (8.6), Value for money (8.1), Location (9.2), Free WiFi (8.1)\n"
          ]
        }
      ]
    },
    {
      "cell_type": "code",
      "source": [
        "await get_reviews(\"residence-inn-chicago-downtown-river-north\")"
      ],
      "metadata": {
        "id": "tfDqMl9HuVdx"
      },
      "execution_count": null,
      "outputs": []
    }
  ],
  "metadata": {
    "colab": {
      "provenance": [],
      "authorship_tag": "ABX9TyOY/M9f4HvVWcDfPmv1MR1+",
      "include_colab_link": true
    },
    "kernelspec": {
      "display_name": "Python 3",
      "name": "python3"
    },
    "language_info": {
      "name": "python"
    }
  },
  "nbformat": 4,
  "nbformat_minor": 0
}