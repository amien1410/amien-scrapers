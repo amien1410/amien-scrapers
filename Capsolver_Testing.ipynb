{
  "nbformat": 4,
  "nbformat_minor": 0,
  "metadata": {
    "colab": {
      "provenance": [],
      "authorship_tag": "ABX9TyN8S3bw74WnA7jUOqrmIpa0",
      "include_colab_link": true
    },
    "kernelspec": {
      "name": "python3",
      "display_name": "Python 3"
    },
    "language_info": {
      "name": "python"
    }
  },
  "cells": [
    {
      "cell_type": "markdown",
      "metadata": {
        "id": "view-in-github",
        "colab_type": "text"
      },
      "source": [
        "<a href=\"https://colab.research.google.com/github/amien1410/amien-scrapers/blob/main/Capsolver_Testing.ipynb\" target=\"_parent\"><img src=\"https://colab.research.google.com/assets/colab-badge.svg\" alt=\"Open In Colab\"/></a>"
      ]
    },
    {
      "cell_type": "code",
      "execution_count": 15,
      "metadata": {
        "colab": {
          "base_uri": "https://localhost:8080/"
        },
        "id": "qEtSPfkQcGW6",
        "outputId": "13791b75-369b-4771-f915-fd76b27be20f"
      },
      "outputs": [
        {
          "output_type": "execute_result",
          "data": {
            "text/plain": [
              "{'errorCode': 'ERROR_PROXY_CONNECT_REFUSED',\n",
              " 'errorDescription': 'custom proxy connect failed.',\n",
              " 'errorId': 1}"
            ]
          },
          "metadata": {},
          "execution_count": 15
        }
      ],
      "source": [
        "import requests\n",
        "import time\n",
        "\n",
        "api_key = \"CAP-5DA091C94C88DBE90BFB1D2AFADF8212697C53BC04A80D46DFC930238F0C74FE\"\n",
        "\n",
        "payload = {\n",
        "    \"clientKey\": api_key,\n",
        "    \"task\": {\n",
        "        \"type\": 'DatadomeSliderTask',\n",
        "        \"websiteURL\": \"https://www.hermes.com\",\n",
        "        \"captchaUrl\": \"https://geo.captcha-delivery.com/captcha/?initialCid=AHrlqAAAAAMA1QGvUmJwyYoAwpyjNg%3D%3D&hash=789361B674144528D0B7EE76B35826&cid=6QAEcL8coBYTi9tYLmjCdyKmNNyHz1xwM2tMHHGVd_Rxr6FsWrb7H~a04csMptCPYfQ25CBDmaOZpdDa4qwAigFnsrzbCkVkoaBIXVAwHsjXJaKYXsTpkBPtqJfLMGN&t=fe&referer=https%3A//www.hermes.com/us/en/product/lindy-ii-mini-bag-H085956CK55/\",\n",
        "        \"proxy\": \"http://45.238.58.161:8080\",\n",
        "    \"userAgent\": \"Mozilla/5.0 (Windows NT 10.0; Win64; x64) AppleWebKit/537.36 (KHTML, like Gecko) Chrome/123.0.0.0 Safari/537.36\"\n",
        "    }\n",
        "}\n",
        "res = requests.post(\"https://api.capsolver.com/createTask\", json=payload)\n",
        "resp = res.json()\n",
        "resp\n",
        "# task_id = resp.get(\"taskId\")\n",
        "# if not task_id:\n",
        "#     print(\"Failed to create task:\", res.text)\n",
        "#     return\n",
        "# print(f\"Got taskId: {task_id} / Getting result...\")"
      ]
    }
  ]
}