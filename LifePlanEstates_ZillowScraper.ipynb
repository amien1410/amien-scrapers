{
  "nbformat": 4,
  "nbformat_minor": 0,
  "metadata": {
    "colab": {
      "provenance": [],
      "authorship_tag": "ABX9TyOs6ArrSJ018MRNsCpWsC3Q",
      "include_colab_link": true
    },
    "kernelspec": {
      "name": "python3",
      "display_name": "Python 3"
    },
    "language_info": {
      "name": "python"
    }
  },
  "cells": [
    {
      "cell_type": "markdown",
      "metadata": {
        "id": "view-in-github",
        "colab_type": "text"
      },
      "source": [
        "<a href=\"https://colab.research.google.com/github/amien1410/amien-scrapers/blob/main/LifePlanEstates_ZillowScraper.ipynb\" target=\"_parent\"><img src=\"https://colab.research.google.com/assets/colab-badge.svg\" alt=\"Open In Colab\"/></a>"
      ]
    },
    {
      "cell_type": "code",
      "execution_count": 1,
      "metadata": {
        "id": "wJ4nsb-SILZ2"
      },
      "outputs": [],
      "source": [
        "#@title Load Libraries and Headers\n",
        "import requests\n",
        "import json\n",
        "import pandas as pd\n",
        "import urllib.parse\n",
        "from bs4 import BeautifulSoup\n",
        "from pprint import pprint\n",
        "from google.colab import files\n",
        "\n",
        "# Headers\n",
        "headers = {\n",
        "    'Host': 'www.zillow.com',\n",
        "    'User-Agent': 'Mozilla/5.0 (Windows NT 10.0; Win64; x64; rv:128.0) Gecko/20100101 Firefox/128.0',\n",
        "    'Accept': '*/*',\n",
        "    'Accept-Language': 'en-US,en;q=0.5',\n",
        "    'Accept-Encoding': 'gzip, deflate, br, zstd',\n",
        "    'Referer': 'https://www.zillow.com',\n",
        "    'Content-Type': 'application/json',\n",
        "    'Content-Length': '477',\n",
        "    'Origin': 'https://www.zillow.com',\n",
        "    'Connection': 'keep-alive',\n",
        "    'Cookie': 'zguid=24|%24423a56b1-eda5-47fd-821a-10d76746ba77; zjs_anonymous_id=%22423a56b1-eda5-47fd-821a-10d76746ba77%22; zjs_user_id=null; zg_anonymous_id=%22160f8ed6-a749-4e61-bddf-9367550d929b%22; _ga=GA1.2.2125728770.1714614688; _gcl_au=1.1.1779002264.1714614715; _scid=10891441-454c-4b28-90ab-f15adbdaa9e7; _pxvid=8fe053a9-0826-11ef-812a-6ba062c8191e; _tt_enable_cookie=1; _ttp=pN8KrfaC5PFzZZi6A67l6xlyKKV; _pin_unauth=dWlkPVlqWTNPR1JqTkRjdE16YzBNQzAwWm1FNExUazBPR0l0TTJKbE56bGtOVEZqT1RZMQ; _clck=1149u5t%7C2%7Cfnd%7C0%7C1583; _hp2_id.1215457233=%7B%22userId%22%3A%221959135605871692%22%2C%22pageviewId%22%3A%223970380166358572%22%2C%22sessionId%22%3A%224951974483248503%22%2C%22identity%22%3Anull%2C%22trackerVersion%22%3A%224.0%22%7D; _sctr=1%7C1720627200000; _px3=58a3ec9ece0fa6d2d89cdbe3593596416c1a30aac6f7184a994eec2e4cb819e0:ughmrnurvb1GfhVTswt9OK5zMpS0nzZRm4io+Snej6GRWxMOvNKACKLvQvza9Y3ynTHdhliwt0eFEsRNBP/s9Q==:1000:sPBWFNIGUOBxQXXfVhx+2ruOjgWRy9xJcssICAzFAiZ6pEE8rFlUu8BiVEbBi7VLDG2CHWCMje6ACR+KtkX2lrzEAZtlK4rd4ig2C2IrWhj1cmQ3kzoorShC1DEK22WqFjMpjchy+wOsZJ+rA87PlD+e2LkIKLtQAoYml0lCSuIml0zMPtS8jdx1LcUlW8Gm5c8y6Au9Z+avUy4t4K91H2iVao+aXaEcjK9r46RBmog=; g_state={\"i_p\":1720767922877,\"i_l\":2}; search=6|1723274353497%7Crect%3D34.06416377533277%2C-83.91200723144532%2C33.484272670963236%2C-84.97630776855469%26rid%3D37211%26disp%3Dmap%26mdm%3Dauto%26p%3D1%26z%3D1%26listPriceActive%3D1%26fs%3D1%26fr%3D0%26mmm%3D0%26rs%3D0%26ah%3D0%26singlestory%3D0%26housing-connector%3D0%26parking-spots%3Dnull-%26abo%3D0%26garage%3D0%26pool%3D0%26ac%3D0%26waterfront%3D0%26finished%3D0%26unfinished%3D0%26cityview%3D0%26mountainview%3D0%26parkview%3D0%26waterview%3D0%26hoadata%3D1%26zillow-owned%3D0%263dhome%3D0%26featuredMultiFamilyBuilding%3D0%26student-housing%3D0%26income-restricted-housing%3D0%26military-housing%3D0%26disabled-housing%3D0%26senior-housing%3D0%26commuteMode%3Ddriving%26commuteTimeOfDay%3Dnow%09%0937211%09%7B%22isList%22%3Atrue%2C%22isMap%22%3Afalse%7D%09%09%09%09%09; _dd_s=rum=0&expire=1720682493996; _gid=GA1.2.1962837663.1720681482; AWSALB=5CROb3kXH/Lj3R79O+KRkq9iRSe8b11uTDPTP/q1SCmyk9A2CMRdfQs/Sfs9iy5ajiyu4BY1aOxPRjE8vcX7xd64A5D8evxT5kAaTynJlyD9jXbKmMHk9Q/LJ08d; AWSALBCORS=5CROb3kXH/Lj3R79O+KRkq9iRSe8b11uTDPTP/q1SCmyk9A2CMRdfQs/Sfs9iy5ajiyu4BY1aOxPRjE8vcX7xd64A5D8evxT5kAaTynJlyD9jXbKmMHk9Q/LJ08d; _rdt_uuid=1714614719021.580bd2ef-d9c8-4b65-b75c-f19a510d1fe7; _scid_r=10891441-454c-4b28-90ab-f15adbdaa9e7; zgsession=1|8338f770-1391-4fe9-8003-dd23d50710f5; JSESSIONID=CFFAA039BF0007C23B852AD113712EDF; pxcts=d9794f14-3f53-11ef-b877-e59cd75c5589; DoubleClickSession=true; _uetsid=e21a83c03f5311ef9932336bb5ae4a86; _uetvid=9009e240082611ef8481c5eef80ef99f; _clsk=1c1i98x%7C1720682356245%7C3%7C0%7Cv.clarity.ms%2Fcollect',\n",
        "    'Sec-Fetch-Dest': 'empty',\n",
        "    'Sec-Fetch-Mode': 'cors',\n",
        "    'Sec-Fetch-Site': 'same-origin',\n",
        "    'Priority': 'u=4',\n",
        "    'TE': 'trailers'\n",
        "};\n",
        "\n",
        "headers2 = {\n",
        "    'Host': 'www.zillow.com',\n",
        "    'User-Agent': 'Mozilla/5.0 (Windows NT 10.0; Win64; x64; rv:128.0) Gecko/20100101 Firefox/128.0',\n",
        "    'Accept': '*/*',\n",
        "    'Accept-Language': 'en-US,en;q=0.5',\n",
        "    'Accept-Encoding': 'gzip, deflate, br, zstd',\n",
        "    'Referer': 'https://www.zillow.com/homedetails/386-Sawtell-Ave-SE-Atlanta-GA-30315/35876482_zpid/',\n",
        "    'Content-Type': 'application/json',\n",
        "    'Client-ID': 'for-sale-sub-app-browser-client',\n",
        "    'Connection': 'keep-alive',\n",
        "    'Cookie': 'zguid=24|%24423a56b1-eda5-47fd-821a-10d76746ba77; zjs_anonymous_id=%22423a56b1-eda5-47fd-821a-10d76746ba77%22; zjs_user_id=null; zg_anonymous_id=%22160f8ed6-a749-4e61-bddf-9367550d929b%22; _ga=GA1.2.2125728770.1714614688; _gcl_au=1.1.1779002264.1714614715; _scid=10891441-454c-4b28-90ab-f15adbdaa9e7; _pxvid=8fe053a9-0826-11ef-812a-6ba062c8191e; _tt_enable_cookie=1; _ttp=pN8KrfaC5PFzZZi6A67l6xlyKKV; _pin_unauth=dWlkPVlqWTNPR1JqTkRjdE16YzBNQzAwWm1FNExUazBPR0l0TTJKbE56bGtOVEZqT1RZMQ; _clck=1149u5t%7C2%7Cfnd%7C0%7C1583; _hp2_id.1215457233=%7B%22userId%22%3A%221959135605871692%22%2C%22pageviewId%22%3A%223970380166358572%22%2C%22sessionId%22%3A%224951974483248503%22%2C%22identity%22%3Anull%2C%22trackerVersion%22%3A%224.0%22%7D; _sctr=1%7C1720627200000; _px3=1ae833df74902fab5a5c6451671858f3fb75618449f391ca478be4f580ad5b06:Gwak86Dff/uu0nKTVyN8/nbesFYGdHfoCsjCQC8xlFPpmaLZ/d59vMpkNTzfQd9Go4j7NUCNBcnZnSI+hrSH5g==:1000:cb2NlOhFS2EuehxwnJC0qM0fmPNQCZaZGnOt/q3Lfx1tX0ZXkVWTbmWpxc6vXBICrJOg7wgJ+OheQQdMk6UqbqfGxSmiJeZ/46cGbT9h3Da26hq+x0H/1iey2Uk2Kc4tzw2PFQGL5iwkh6654wGAuP4XWppSLP9y+rW2whCkdD9SqE5qHrw9PES+czTNFT1tqmpzPfKu8189SA1LsdlshkqQT24WjPPRo9a9fc7gS2o=; g_state={\"i_p\":1720767922877,\"i_l\":2}; search=6|1723274447315%7Crect%3D34.06416377533277%2C-83.91200723144532%2C33.484272670963236%2C-84.97630776855469%26rid%3D37211%26disp%3Dmap%26mdm%3Dauto%26p%3D2%26z%3D1%26listPriceActive%3D1%26fs%3D1%26fr%3D0%26mmm%3D0%26rs%3D0%26ah%3D0%26singlestory%3D0%26housing-connector%3D0%26parking-spots%3Dnull-%26abo%3D0%26garage%3D0%26pool%3D0%26ac%3D0%26waterfront%3D0%26finished%3D0%26unfinished%3D0%26cityview%3D0%26mountainview%3D0%26parkview%3D0%26waterview%3D0%26hoadata%3D1%26zillow-owned%3D0%263dhome%3D0%26featuredMultiFamilyBuilding%3D0%26student-housing%3D0%26income-restricted-housing%3D0%26military-housing%3D0%26disabled-housing%3D0%26senior-housing%3D0%26commuteMode%3Ddriving%26commuteTimeOfDay%3Dnow%09%0937211%09%7B%22isList%22%3Atrue%2C%22isMap%22%3Afalse%7D%09%09%09%09%09; _gid=GA1.2.1962837663.1720681482; AWSALB=5CROb3kXH/Lj3R79O+KRkq9iRSe8b11uTDPTP/q1SCmyk9A2CMRdfQs/Sfs9iy5ajiyu4BY1aOxPRjE8vcX7xd64A5D8evxT5kAaTynJlyD9jXbKmMHk9Q/LJ08d; AWSALBCORS=5CROb3kXH/Lj3R79O+KRkq9iRSe8b11uTDPTP/q1SCmyk9A2CMRdfQs/Sfs9iy5ajiyu4BY1aOxPRjE8vcX7xd64A5D8evxT5kAaTynJlyD9jXbKmMHk9Q/LJ08d; _rdt_uuid=1714614719021.580bd2ef-d9c8-4b65-b75c-f19a510d1fe7; _scid_r=10891441-454c-4b28-90ab-f15adbdaa9e7; zgsession=1|8338f770-1391-4fe9-8003-dd23d50710f5; JSESSIONID=CFFAA039BF0007C23B852AD113712EDF; pxcts=d9794f14-3f53-11ef-b877-e59cd75c5589; DoubleClickSession=true; _uetsid=e21a83c03f5311ef9932336bb5ae4a86; _uetvid=9009e240082611ef8481c5eef80ef99f; _clsk=1c1i98x%7C1720685874209%7C8%7C0%7Cv.clarity.ms%2Fcollect',\n",
        "    'Sec-Fetch-Dest': 'empty',\n",
        "    'Sec-Fetch-Mode': 'cors',\n",
        "    'Sec-Fetch-Site': 'same-origin',\n",
        "    'Priority': 'u=4'\n",
        "};\n"
      ]
    },
    {
      "cell_type": "code",
      "source": [
        "#@title Create function to get Region ID\n",
        "def getRegionId(place):\n",
        "  res = requests.get('https://www.zillowstatic.com/autocomplete/v3/suggestions?q='+place)\n",
        "  return res.json()['results'][0]['metaData']['regionId']\n",
        "\n",
        "getRegionId(\"Georgia\")"
      ],
      "metadata": {
        "colab": {
          "base_uri": "https://localhost:8080/"
        },
        "id": "Z8YE7XyeIs5s",
        "outputId": "a2b2cff5-4088-4a63-fd6a-a119a6e89d20"
      },
      "execution_count": 2,
      "outputs": [
        {
          "output_type": "execute_result",
          "data": {
            "text/plain": [
              "16"
            ]
          },
          "metadata": {},
          "execution_count": 2
        }
      ]
    },
    {
      "cell_type": "code",
      "source": [
        "#@title Create function to get Map Bounds\n",
        "def getMapBounds(regionId):\n",
        "  data = {\n",
        "    \"searchQueryState\":{\n",
        "        \"regionSelection\":[{\n",
        "            \"regionId\":regionId\n",
        "            }]\n",
        "        },\n",
        "    \"wants\":{\n",
        "        \"cat1\":[\"listResults\"],\n",
        "        \"cat2\":[\"total\"]\n",
        "        }\n",
        "    }\n",
        "  res = requests.put(\"https://www.zillow.com/async-create-search-page-state\", json=data, headers=headers)\n",
        "  return res.json()['regionState']['regionBounds']\n",
        "\n",
        "getMapBounds(20330)"
      ],
      "metadata": {
        "colab": {
          "base_uri": "https://localhost:8080/"
        },
        "id": "3Bt3zWzGI55S",
        "outputId": "bd51e94f-d3b6-4aea-ffe3-395394465365"
      },
      "execution_count": 7,
      "outputs": [
        {
          "output_type": "execute_result",
          "data": {
            "text/plain": [
              "{'north': 37.842914,\n",
              " 'south': 37.707608,\n",
              " 'east': -122.32992,\n",
              " 'west': -122.536739}"
            ]
          },
          "metadata": {},
          "execution_count": 7
        }
      ]
    },
    {
      "cell_type": "code",
      "source": [
        "#@title Create function to get properties\n",
        "def getProperties(regionId, mapBounds, page):\n",
        "  data = {\n",
        "    \"searchQueryState\":{\n",
        "        \"pagination\":{\n",
        "            \"currentPage\":page\n",
        "            },\n",
        "        \"mapBounds\":{\n",
        "            \"west\":mapBounds['west'],\n",
        "            \"east\":mapBounds['east'],\n",
        "            \"south\":mapBounds['south'],\n",
        "            \"north\":mapBounds['north']\n",
        "            },\n",
        "        \"regionSelection\":[{\n",
        "            \"regionId\":regionId\n",
        "            }]\n",
        "        },\n",
        "    \"wants\":{\n",
        "        \"cat1\":[\"listResults\"],\n",
        "        \"cat2\":[\"total\"]\n",
        "        }\n",
        "    }\n",
        "  res = requests.put(\"https://www.zillow.com/async-create-search-page-state\", json=data, headers=headers)\n",
        "  return res.json()['cat1']['searchResults']['listResults']\n",
        "\n",
        "properties = getProperties(16,getMapBounds(16),1)\n",
        "properties"
      ],
      "metadata": {
        "id": "WaMhG3LdJl8-"
      },
      "execution_count": null,
      "outputs": []
    },
    {
      "cell_type": "code",
      "source": [
        "print(len(properties))\n",
        "print(properties[0])"
      ],
      "metadata": {
        "colab": {
          "base_uri": "https://localhost:8080/"
        },
        "id": "95CaPLumPmXQ",
        "outputId": "069b877d-1413-48a8-a87c-16fd5da1feea"
      },
      "execution_count": 5,
      "outputs": [
        {
          "output_type": "stream",
          "name": "stdout",
          "text": [
            "41\n",
            "{'zpid': '69922947', 'id': '69922947', 'rawHomeStatusCd': 'ForSale', 'marketingStatusSimplifiedCd': 'For Sale by Agent', 'imgSrc': 'https://photos.zillowstatic.com/fp/2d91434c5ad123643c430225cebd9765-p_e.jpg', 'hasImage': True, 'detailUrl': 'https://www.zillow.com/homedetails/223-Mandeville-Ave-Carrollton-GA-30117/69922947_zpid/', 'statusType': 'FOR_SALE', 'statusText': 'House for sale', 'countryCurrency': '$', 'price': '$120,000', 'unformattedPrice': 120000, 'address': '223 Mandeville Ave, Carrollton, GA 30117', 'addressStreet': '223 Mandeville Ave', 'addressCity': 'Carrollton', 'addressState': 'GA', 'addressZipcode': '30117', 'isUndisclosedAddress': False, 'beds': 2, 'baths': 1.0, 'area': 948, 'latLong': {'latitude': 33.578808, 'longitude': -85.0629}, 'isZillowOwned': False, 'flexFieldText': '10 days on Zillow', 'flexFieldType': 'daysOnZillow', 'hdpData': {'homeInfo': {'zpid': 69922947, 'streetAddress': '223 Mandeville Ave', 'zipcode': '30117', 'city': 'Carrollton', 'state': 'GA', 'latitude': 33.578808, 'longitude': -85.0629, 'price': 120000.0, 'bathrooms': 1.0, 'bedrooms': 2.0, 'livingArea': 948.0, 'homeType': 'SINGLE_FAMILY', 'homeStatus': 'FOR_SALE', 'daysOnZillow': 11, 'isFeatured': False, 'shouldHighlight': False, 'zestimate': 114000, 'rentZestimate': 1326, 'listing_sub_type': {'is_FSBA': True}, 'isUnmappable': False, 'isPreforeclosureAuction': False, 'homeStatusForHDP': 'FOR_SALE', 'priceForHDP': 120000.0, 'timeOnZillow': 971911000, 'isNonOwnerOccupied': True, 'isPremierBuilder': False, 'isZillowOwned': False, 'currency': 'USD', 'country': 'USA', 'taxAssessedValue': 44800.0, 'lotAreaValue': 0.39, 'lotAreaUnit': 'acres', 'isShowcaseListing': False}}, 'isSaved': False, 'isUserClaimingOwner': False, 'isUserConfirmedClaim': False, 'pgapt': 'ForSale', 'sgapt': 'For Sale (Broker)', 'zestimate': 114000, 'shouldShowZestimateAsPrice': False, 'has3DModel': False, 'hasVideo': False, 'isHomeRec': True, 'hasAdditionalAttributions': True, 'isFeaturedListing': False, 'isShowcaseListing': False, 'list': True, 'relaxed': False, 'info3String': 'https://photos.zillowstatic.com/fp/08b0db276869db8a6c4de190a4e47e15-zillow_web_48_23.jpg', 'brokerName': 'Triple R Real Estate LLC', 'carouselPhotos': [{'url': 'https://photos.zillowstatic.com/fp/2d91434c5ad123643c430225cebd9765-p_e.jpg'}, {'url': 'https://photos.zillowstatic.com/fp/6e8a67f917b63374da04c8cbcdfd0808-p_e.jpg'}, {'url': 'https://photos.zillowstatic.com/fp/750d367113798cfbddc750ed218afac8-p_e.jpg'}, {'url': 'https://photos.zillowstatic.com/fp/eae0edba131bfc77966812ae113f2639-p_e.jpg'}, {'url': 'https://photos.zillowstatic.com/fp/a060273b1f7b26e9068b723fcb2d1681-p_e.jpg'}, {'url': 'https://photos.zillowstatic.com/fp/8763383d27f5de51bae5f776d7aadeb4-p_e.jpg'}, {'url': 'https://photos.zillowstatic.com/fp/2b409c9a732191d1e8cb6910ec965792-p_e.jpg'}, {'url': 'https://photos.zillowstatic.com/fp/05ba535d4ef546340efa431054b944da-p_e.jpg'}, {'url': 'https://photos.zillowstatic.com/fp/1cf30cda7641b5b583d553fb6769f11f-p_e.jpg'}, {'url': 'https://photos.zillowstatic.com/fp/b436b92e82ef02552aed838df26c483d-p_e.jpg'}, {'url': 'https://photos.zillowstatic.com/fp/c341d46e9489331296c642ffd7936f40-p_e.jpg'}, {'url': 'https://photos.zillowstatic.com/fp/47678692b70c52e48721bad9d1cc0359-p_e.jpg'}, {'url': 'https://photos.zillowstatic.com/fp/fafe3804fdd80c5a2ccfccfa92aa7661-p_e.jpg'}, {'url': 'https://photos.zillowstatic.com/fp/43fdb44569246edd755910f8c7b8cfac-p_e.jpg'}, {'url': 'https://photos.zillowstatic.com/fp/7e6ae07a9c6b94a9d40182b311bb498f-p_e.jpg'}, {'url': 'https://photos.zillowstatic.com/fp/e76a35f70a0ed7e507b69f0bd74c5813-p_e.jpg'}]}\n"
          ]
        }
      ]
    },
    {
      "cell_type": "code",
      "source": [
        "def main(place):\n",
        "    regionId = getRegionId(place)\n",
        "    mapBounds = getMapBounds(regionId)\n",
        "    page = 1\n",
        "    properties = []\n",
        "\n",
        "    while True:\n",
        "        new_properties = getProperties(regionId, mapBounds, page)\n",
        "        properties.extend(new_properties)\n",
        "        if len(new_properties) < 41:\n",
        "            break\n",
        "        page += 1\n",
        "\n",
        "    return properties\n",
        "\n",
        "# if __name__ == \"__main__\":\n",
        "place = \"San Francisco, CA\"  # Change to the desired location\n",
        "properties = main(place)\n",
        "print(properties[0])\n",
        "print(len(properties))"
      ],
      "metadata": {
        "colab": {
          "base_uri": "https://localhost:8080/"
        },
        "id": "UQ0j9FJGMG1m",
        "outputId": "9d2db937-e731-46ee-fb28-199641698964"
      },
      "execution_count": 6,
      "outputs": [
        {
          "output_type": "stream",
          "name": "stdout",
          "text": [
            "{'zpid': '332850242', 'id': '332850242', 'rawHomeStatusCd': 'ForSale', 'marketingStatusSimplifiedCd': 'For Sale by Agent', 'imgSrc': 'https://photos.zillowstatic.com/fp/bde09b0ddff7bf3d0fa5404248b46287-p_e.jpg', 'hasImage': True, 'detailUrl': 'https://www.zillow.com/homedetails/1470-1472-Jackson-St-San-Francisco-CA-94109/332850242_zpid/', 'statusType': 'FOR_SALE', 'statusText': 'Multi-family home for sale', 'countryCurrency': '$', 'price': '$1,295,000', 'unformattedPrice': 1295000, 'address': '1470-1472 Jackson St, San Francisco, CA 94109', 'addressStreet': '1470-1472 Jackson St', 'addressCity': 'San Francisco', 'addressState': 'CA', 'addressZipcode': '94109', 'isUndisclosedAddress': False, 'beds': 5, 'baths': 4.0, 'area': 3134, 'latLong': {'latitude': 37.7946, 'longitude': -122.41932}, 'isZillowOwned': False, 'flexFieldText': 'Open: Tue 10am-3pm', 'flexFieldType': 'openHouse', 'hdpData': {'homeInfo': {'zpid': 332850242, 'streetAddress': '1470-1472 Jackson St', 'zipcode': '94109', 'city': 'San Francisco', 'state': 'CA', 'latitude': 37.7946, 'longitude': -122.41932, 'price': 1295000.0, 'bathrooms': 4.0, 'bedrooms': 5.0, 'livingArea': 3134.0, 'homeType': 'MULTI_FAMILY', 'homeStatus': 'FOR_SALE', 'daysOnZillow': 4, 'isFeatured': False, 'shouldHighlight': False, 'zestimate': 1344500, 'rentZestimate': 2952, 'listing_sub_type': {'is_FSBA': True, 'is_openHouse': True}, 'openHouse': 'Tue. 10am-3pm', 'isUnmappable': False, 'isPreforeclosureAuction': False, 'homeStatusForHDP': 'FOR_SALE', 'priceForHDP': 1295000.0, 'open_house_info': {'open_house_showing': [{'open_house_start': 1721754000000, 'open_house_end': 1721772000000}, {'open_house_start': 1722114000000, 'open_house_end': 1722121200000}, {'open_house_start': 1722200400000, 'open_house_end': 1722207600000}, {'open_house_start': 1722358800000, 'open_house_end': 1722362400000}]}, 'timeOnZillow': 369715000, 'isNonOwnerOccupied': True, 'isPremierBuilder': False, 'isZillowOwned': False, 'currency': 'USD', 'country': 'USA', 'taxAssessedValue': 178408.0, 'lotAreaValue': 2013.0, 'lotAreaUnit': 'sqft', 'isShowcaseListing': False}}, 'isSaved': False, 'isUserClaimingOwner': False, 'isUserConfirmedClaim': False, 'pgapt': 'ForSale', 'sgapt': 'For Sale (Broker)', 'zestimate': 1344500, 'shouldShowZestimateAsPrice': False, 'has3DModel': False, 'hasVideo': False, 'isHomeRec': False, 'hasAdditionalAttributions': True, 'isFeaturedListing': False, 'isShowcaseListing': False, 'list': True, 'relaxed': False, 'info6String': 'Ruksakul Tanatanyanon DRE #01960486', 'brokerName': 'Compass', 'carouselPhotos': [{'url': 'https://photos.zillowstatic.com/fp/bde09b0ddff7bf3d0fa5404248b46287-p_e.jpg'}, {'url': 'https://photos.zillowstatic.com/fp/ed96cf3bc999cd0b0e04765da79aa8e2-p_e.jpg'}, {'url': 'https://photos.zillowstatic.com/fp/9bb253b429d91e57a9bf2cd3b45d4c4a-p_e.jpg'}, {'url': 'https://photos.zillowstatic.com/fp/2d17ffe201d79bcaa6857b47500c5739-p_e.jpg'}, {'url': 'https://photos.zillowstatic.com/fp/aede40b261f4335458d376eeafd2535c-p_e.jpg'}, {'url': 'https://photos.zillowstatic.com/fp/1ada9eae262947933c5af5f3f1a7ea3d-p_e.jpg'}, {'url': 'https://photos.zillowstatic.com/fp/40d4361e086f48ad943044c87dbaa267-p_e.jpg'}, {'url': 'https://photos.zillowstatic.com/fp/fac336755901a16b093c6e7ac9233bb9-p_e.jpg'}, {'url': 'https://photos.zillowstatic.com/fp/a7147db26d1543673c56a26bea495792-p_e.jpg'}, {'url': 'https://photos.zillowstatic.com/fp/14ffda0107b1668a7b9841cd2a381d14-p_e.jpg'}, {'url': 'https://photos.zillowstatic.com/fp/6ca436f2f1e93df8cc28f7207279baa3-p_e.jpg'}, {'url': 'https://photos.zillowstatic.com/fp/98d439bd586da6f9d9ccb4e3a978d5b2-p_e.jpg'}, {'url': 'https://photos.zillowstatic.com/fp/514141f6eaf7c6b7be681a4dc92b5dae-p_e.jpg'}, {'url': 'https://photos.zillowstatic.com/fp/c3e33e29641a543d8eddcd6fbd5d6201-p_e.jpg'}, {'url': 'https://photos.zillowstatic.com/fp/fb8a9416933fbfb0114878fbf0f0c75c-p_e.jpg'}, {'url': 'https://photos.zillowstatic.com/fp/09b938a79641d8ef2b6194d93304a30c-p_e.jpg'}, {'url': 'https://photos.zillowstatic.com/fp/b89935c10d4ade81fa8e94da8c4e275f-p_e.jpg'}, {'url': 'https://photos.zillowstatic.com/fp/971367c80acd3b396cac20de40af611c-p_e.jpg'}, {'url': 'https://photos.zillowstatic.com/fp/689c89ddccf9f0bdcdad1fd0abcde7b9-p_e.jpg'}, {'url': 'https://photos.zillowstatic.com/fp/c234114e6fcd05a5d1037be75705964c-p_e.jpg'}, {'url': 'https://photos.zillowstatic.com/fp/a70862ae7329765172764e8aa63c97b6-p_e.jpg'}, {'url': 'https://photos.zillowstatic.com/fp/5b881bc2620852bf481eefc18cfc8915-p_e.jpg'}, {'url': 'https://photos.zillowstatic.com/fp/b0d59a245f8f708a969a0b1673155646-p_e.jpg'}, {'url': 'https://photos.zillowstatic.com/fp/fed12890a97f18394712450133431e20-p_e.jpg'}, {'url': 'https://photos.zillowstatic.com/fp/2e8db09a3f49b63ae56788415950bb8e-p_e.jpg'}, {'url': 'https://photos.zillowstatic.com/fp/6ffafd63f469b9fe6a1b13ee14022ac7-p_e.jpg'}, {'url': 'https://photos.zillowstatic.com/fp/3e74b992abd868797f11a15ce9824478-p_e.jpg'}, {'url': 'https://photos.zillowstatic.com/fp/374013fc527f3c29b4f30eacaa11d53c-p_e.jpg'}, {'url': 'https://photos.zillowstatic.com/fp/0a742e4b647aa3a5ed6c842816f790a2-p_e.jpg'}], 'hasOpenHouse': True, 'openHouseStartDate': '2024-07-23T10:00:00', 'openHouseEndDate': '2024-07-23T15:00:00', 'openHouseDescription': 'Open House - 10:00 AM - 3:00 PM'}\n",
            "984\n"
          ]
        }
      ]
    },
    {
      "cell_type": "code",
      "source": [
        "url = 'https://www.zillow.com/graphql/?extensions={\"persistedQuery\":{\"version\":1,\"sha256Hash\":\"bad47f51772bd14fa515b51d331a69e3c981c0f2e7f5c97f3f7828d64dcc3131\"}}&variables={\"zpid\":15196837}'\n",
        "res = requests.get(url, headers=headers2)\n",
        "res.json()"
      ],
      "metadata": {
        "id": "AuBGD0rXPtTr"
      },
      "execution_count": null,
      "outputs": []
    },
    {
      "cell_type": "code",
      "source": [
        "parcelId = \"14008700091097\"\n",
        "condition = f\"ParcelID = '{parcelId}'\"\n",
        "url = \"https://gismaps.fultoncountyga.gov/arcgispub2/rest/services/PropertyMapViewer/ParcelQuery/MapServer/0/query?where=\"+condition+\"&f=json&returnAliases=false&returnGeometry=false&outFields=OBJECTID,ParcelID,TaxYear,Address,Owner,OwnerAddr1,OwnerAddr2,TotAssess,TotAppr\"\n",
        "res = requests.get(url)\n",
        "res.json()['features'][0]['attributes']"
      ],
      "metadata": {
        "colab": {
          "base_uri": "https://localhost:8080/"
        },
        "id": "zq6Z-7RnYlp9",
        "outputId": "8856d847-328a-45a9-fb0a-1f534d36cbef"
      },
      "execution_count": 27,
      "outputs": [
        {
          "output_type": "execute_result",
          "data": {
            "text/plain": [
              "{'OBJECTID': 308320,\n",
              " 'ParcelID': '14 008700091097',\n",
              " 'TaxYear': 2024,\n",
              " 'Address': '1148 MC DANIEL ST SW',\n",
              " 'Owner': 'GEORGIA AREA HOLDINGS LLC ',\n",
              " 'OwnerAddr1': '300 COLONIAL CENTER PKWY SUITE 100N',\n",
              " 'OwnerAddr2': 'ROSWELL GA 30076',\n",
              " 'TotAssess': 100320,\n",
              " 'TotAppr': 250800}"
            ]
          },
          "metadata": {},
          "execution_count": 27
        }
      ]
    },
    {
      "cell_type": "code",
      "source": [
        "def formateParcelIDNumber(parcelID):\n",
        "    if len(parcelID) <= 2:\n",
        "        return parcelID\n",
        "    return parcelID[:2] + ' ' + parcelID[2:]\n",
        "\n",
        "# Example usage\n",
        "parcelID = \"22008700091097\"\n",
        "output = formateParcelIDNumber(parcelID)\n",
        "print(output)  # Output: \"14 008700091097\""
      ],
      "metadata": {
        "colab": {
          "base_uri": "https://localhost:8080/"
        },
        "id": "6lrIbh9ug6H-",
        "outputId": "959b6a87-e64a-40e1-cf8f-c8db3c7a4c61"
      },
      "execution_count": 30,
      "outputs": [
        {
          "output_type": "stream",
          "name": "stdout",
          "text": [
            "22 008700091097\n"
          ]
        }
      ]
    }
  ]
}