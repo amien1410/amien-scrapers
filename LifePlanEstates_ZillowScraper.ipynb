{
  "nbformat": 4,
  "nbformat_minor": 0,
  "metadata": {
    "colab": {
      "provenance": [],
      "authorship_tag": "ABX9TyMgsou6hTFLALWvBi897Ro0",
      "include_colab_link": true
    },
    "kernelspec": {
      "name": "python3",
      "display_name": "Python 3"
    },
    "language_info": {
      "name": "python"
    }
  },
  "cells": [
    {
      "cell_type": "markdown",
      "metadata": {
        "id": "view-in-github",
        "colab_type": "text"
      },
      "source": [
        "<a href=\"https://colab.research.google.com/github/amien1410/amien-scrapers/blob/main/LifePlanEstates_ZillowScraper.ipynb\" target=\"_parent\"><img src=\"https://colab.research.google.com/assets/colab-badge.svg\" alt=\"Open In Colab\"/></a>"
      ]
    },
    {
      "cell_type": "code",
      "execution_count": 1,
      "metadata": {
        "id": "wJ4nsb-SILZ2",
        "cellView": "form"
      },
      "outputs": [],
      "source": [
        "#@title Load Libraries and Headers\n",
        "import requests\n",
        "import time\n",
        "import json\n",
        "import pandas as pd\n",
        "import urllib.parse\n",
        "from bs4 import BeautifulSoup\n",
        "from pprint import pprint\n",
        "from google.colab import files\n",
        "\n",
        "# Headers\n",
        "headers = {\n",
        "    'Host': 'www.zillow.com',\n",
        "    'User-Agent': 'Mozilla/5.0 (Windows NT 10.0; Win64; x64; rv:128.0) Gecko/20100101 Firefox/128.0',\n",
        "    'Accept': '*/*',\n",
        "    'Accept-Language': 'en-US,en;q=0.5',\n",
        "    'Accept-Encoding': 'gzip, deflate, br, zstd',\n",
        "    'Referer': 'https://www.zillow.com',\n",
        "    'Content-Type': 'application/json',\n",
        "    'Content-Length': '477',\n",
        "    'Origin': 'https://www.zillow.com',\n",
        "    'Connection': 'keep-alive',\n",
        "    'Cookie': 'zguid=24|%24423a56b1-eda5-47fd-821a-10d76746ba77; zjs_anonymous_id=%22423a56b1-eda5-47fd-821a-10d76746ba77%22; zjs_user_id=null; zg_anonymous_id=%22160f8ed6-a749-4e61-bddf-9367550d929b%22; _ga=GA1.2.2125728770.1714614688; _gcl_au=1.1.1779002264.1714614715; _scid=10891441-454c-4b28-90ab-f15adbdaa9e7; _pxvid=8fe053a9-0826-11ef-812a-6ba062c8191e; _tt_enable_cookie=1; _ttp=pN8KrfaC5PFzZZi6A67l6xlyKKV; _pin_unauth=dWlkPVlqWTNPR1JqTkRjdE16YzBNQzAwWm1FNExUazBPR0l0TTJKbE56bGtOVEZqT1RZMQ; _clck=1149u5t%7C2%7Cfnd%7C0%7C1583; _hp2_id.1215457233=%7B%22userId%22%3A%221959135605871692%22%2C%22pageviewId%22%3A%223970380166358572%22%2C%22sessionId%22%3A%224951974483248503%22%2C%22identity%22%3Anull%2C%22trackerVersion%22%3A%224.0%22%7D; _sctr=1%7C1720627200000; _px3=58a3ec9ece0fa6d2d89cdbe3593596416c1a30aac6f7184a994eec2e4cb819e0:ughmrnurvb1GfhVTswt9OK5zMpS0nzZRm4io+Snej6GRWxMOvNKACKLvQvza9Y3ynTHdhliwt0eFEsRNBP/s9Q==:1000:sPBWFNIGUOBxQXXfVhx+2ruOjgWRy9xJcssICAzFAiZ6pEE8rFlUu8BiVEbBi7VLDG2CHWCMje6ACR+KtkX2lrzEAZtlK4rd4ig2C2IrWhj1cmQ3kzoorShC1DEK22WqFjMpjchy+wOsZJ+rA87PlD+e2LkIKLtQAoYml0lCSuIml0zMPtS8jdx1LcUlW8Gm5c8y6Au9Z+avUy4t4K91H2iVao+aXaEcjK9r46RBmog=; g_state={\"i_p\":1720767922877,\"i_l\":2}; search=6|1723274353497%7Crect%3D34.06416377533277%2C-83.91200723144532%2C33.484272670963236%2C-84.97630776855469%26rid%3D37211%26disp%3Dmap%26mdm%3Dauto%26p%3D1%26z%3D1%26listPriceActive%3D1%26fs%3D1%26fr%3D0%26mmm%3D0%26rs%3D0%26ah%3D0%26singlestory%3D0%26housing-connector%3D0%26parking-spots%3Dnull-%26abo%3D0%26garage%3D0%26pool%3D0%26ac%3D0%26waterfront%3D0%26finished%3D0%26unfinished%3D0%26cityview%3D0%26mountainview%3D0%26parkview%3D0%26waterview%3D0%26hoadata%3D1%26zillow-owned%3D0%263dhome%3D0%26featuredMultiFamilyBuilding%3D0%26student-housing%3D0%26income-restricted-housing%3D0%26military-housing%3D0%26disabled-housing%3D0%26senior-housing%3D0%26commuteMode%3Ddriving%26commuteTimeOfDay%3Dnow%09%0937211%09%7B%22isList%22%3Atrue%2C%22isMap%22%3Afalse%7D%09%09%09%09%09; _dd_s=rum=0&expire=1720682493996; _gid=GA1.2.1962837663.1720681482; AWSALB=5CROb3kXH/Lj3R79O+KRkq9iRSe8b11uTDPTP/q1SCmyk9A2CMRdfQs/Sfs9iy5ajiyu4BY1aOxPRjE8vcX7xd64A5D8evxT5kAaTynJlyD9jXbKmMHk9Q/LJ08d; AWSALBCORS=5CROb3kXH/Lj3R79O+KRkq9iRSe8b11uTDPTP/q1SCmyk9A2CMRdfQs/Sfs9iy5ajiyu4BY1aOxPRjE8vcX7xd64A5D8evxT5kAaTynJlyD9jXbKmMHk9Q/LJ08d; _rdt_uuid=1714614719021.580bd2ef-d9c8-4b65-b75c-f19a510d1fe7; _scid_r=10891441-454c-4b28-90ab-f15adbdaa9e7; zgsession=1|8338f770-1391-4fe9-8003-dd23d50710f5; JSESSIONID=CFFAA039BF0007C23B852AD113712EDF; pxcts=d9794f14-3f53-11ef-b877-e59cd75c5589; DoubleClickSession=true; _uetsid=e21a83c03f5311ef9932336bb5ae4a86; _uetvid=9009e240082611ef8481c5eef80ef99f; _clsk=1c1i98x%7C1720682356245%7C3%7C0%7Cv.clarity.ms%2Fcollect',\n",
        "    'Sec-Fetch-Dest': 'empty',\n",
        "    'Sec-Fetch-Mode': 'cors',\n",
        "    'Sec-Fetch-Site': 'same-origin',\n",
        "    'Priority': 'u=4',\n",
        "    'TE': 'trailers'\n",
        "};\n",
        "\n",
        "headers2 = {\n",
        "    'Host': 'www.zillow.com',\n",
        "    'User-Agent': 'Mozilla/5.0 (Windows NT 10.0; Win64; x64; rv:128.0) Gecko/20100101 Firefox/128.0',\n",
        "    'Accept': '*/*',\n",
        "    'Accept-Language': 'en-US,en;q=0.5',\n",
        "    'Accept-Encoding': 'gzip, deflate, br, zstd',\n",
        "    'Referer': 'https://www.zillow.com/homedetails/386-Sawtell-Ave-SE-Atlanta-GA-30315/35876482_zpid/',\n",
        "    'Content-Type': 'application/json',\n",
        "    'Client-ID': 'for-sale-sub-app-browser-client',\n",
        "    'Connection': 'keep-alive',\n",
        "    'Cookie': 'zguid=24|%24423a56b1-eda5-47fd-821a-10d76746ba77; zjs_anonymous_id=%22423a56b1-eda5-47fd-821a-10d76746ba77%22; zjs_user_id=null; zg_anonymous_id=%22160f8ed6-a749-4e61-bddf-9367550d929b%22; _ga=GA1.2.2125728770.1714614688; _gcl_au=1.1.1779002264.1714614715; _scid=10891441-454c-4b28-90ab-f15adbdaa9e7; _pxvid=8fe053a9-0826-11ef-812a-6ba062c8191e; _tt_enable_cookie=1; _ttp=pN8KrfaC5PFzZZi6A67l6xlyKKV; _pin_unauth=dWlkPVlqWTNPR1JqTkRjdE16YzBNQzAwWm1FNExUazBPR0l0TTJKbE56bGtOVEZqT1RZMQ; _clck=1149u5t%7C2%7Cfnd%7C0%7C1583; _hp2_id.1215457233=%7B%22userId%22%3A%221959135605871692%22%2C%22pageviewId%22%3A%223970380166358572%22%2C%22sessionId%22%3A%224951974483248503%22%2C%22identity%22%3Anull%2C%22trackerVersion%22%3A%224.0%22%7D; _sctr=1%7C1720627200000; _px3=1ae833df74902fab5a5c6451671858f3fb75618449f391ca478be4f580ad5b06:Gwak86Dff/uu0nKTVyN8/nbesFYGdHfoCsjCQC8xlFPpmaLZ/d59vMpkNTzfQd9Go4j7NUCNBcnZnSI+hrSH5g==:1000:cb2NlOhFS2EuehxwnJC0qM0fmPNQCZaZGnOt/q3Lfx1tX0ZXkVWTbmWpxc6vXBICrJOg7wgJ+OheQQdMk6UqbqfGxSmiJeZ/46cGbT9h3Da26hq+x0H/1iey2Uk2Kc4tzw2PFQGL5iwkh6654wGAuP4XWppSLP9y+rW2whCkdD9SqE5qHrw9PES+czTNFT1tqmpzPfKu8189SA1LsdlshkqQT24WjPPRo9a9fc7gS2o=; g_state={\"i_p\":1720767922877,\"i_l\":2}; search=6|1723274447315%7Crect%3D34.06416377533277%2C-83.91200723144532%2C33.484272670963236%2C-84.97630776855469%26rid%3D37211%26disp%3Dmap%26mdm%3Dauto%26p%3D2%26z%3D1%26listPriceActive%3D1%26fs%3D1%26fr%3D0%26mmm%3D0%26rs%3D0%26ah%3D0%26singlestory%3D0%26housing-connector%3D0%26parking-spots%3Dnull-%26abo%3D0%26garage%3D0%26pool%3D0%26ac%3D0%26waterfront%3D0%26finished%3D0%26unfinished%3D0%26cityview%3D0%26mountainview%3D0%26parkview%3D0%26waterview%3D0%26hoadata%3D1%26zillow-owned%3D0%263dhome%3D0%26featuredMultiFamilyBuilding%3D0%26student-housing%3D0%26income-restricted-housing%3D0%26military-housing%3D0%26disabled-housing%3D0%26senior-housing%3D0%26commuteMode%3Ddriving%26commuteTimeOfDay%3Dnow%09%0937211%09%7B%22isList%22%3Atrue%2C%22isMap%22%3Afalse%7D%09%09%09%09%09; _gid=GA1.2.1962837663.1720681482; AWSALB=5CROb3kXH/Lj3R79O+KRkq9iRSe8b11uTDPTP/q1SCmyk9A2CMRdfQs/Sfs9iy5ajiyu4BY1aOxPRjE8vcX7xd64A5D8evxT5kAaTynJlyD9jXbKmMHk9Q/LJ08d; AWSALBCORS=5CROb3kXH/Lj3R79O+KRkq9iRSe8b11uTDPTP/q1SCmyk9A2CMRdfQs/Sfs9iy5ajiyu4BY1aOxPRjE8vcX7xd64A5D8evxT5kAaTynJlyD9jXbKmMHk9Q/LJ08d; _rdt_uuid=1714614719021.580bd2ef-d9c8-4b65-b75c-f19a510d1fe7; _scid_r=10891441-454c-4b28-90ab-f15adbdaa9e7; zgsession=1|8338f770-1391-4fe9-8003-dd23d50710f5; JSESSIONID=CFFAA039BF0007C23B852AD113712EDF; pxcts=d9794f14-3f53-11ef-b877-e59cd75c5589; DoubleClickSession=true; _uetsid=e21a83c03f5311ef9932336bb5ae4a86; _uetvid=9009e240082611ef8481c5eef80ef99f; _clsk=1c1i98x%7C1720685874209%7C8%7C0%7Cv.clarity.ms%2Fcollect',\n",
        "    'Sec-Fetch-Dest': 'empty',\n",
        "    'Sec-Fetch-Mode': 'cors',\n",
        "    'Sec-Fetch-Site': 'same-origin',\n",
        "    'Priority': 'u=4'\n",
        "};\n"
      ]
    },
    {
      "cell_type": "code",
      "source": [
        "#@title Create function to get Region ID\n",
        "def getRegionId(place):\n",
        "    res = requests.get('https://www.zillowstatic.com/autocomplete/v3/suggestions?q=' + place)\n",
        "    results = res.json().get('results', [])\n",
        "\n",
        "    if results:\n",
        "        return results[0]['metaData']['regionId']\n",
        "    else:\n",
        "        # Handle the case where no results are found\n",
        "        print(f\"No region ID found for place: {place}\")\n",
        "        return None\n",
        "\n",
        "getRegionId(\"Augusta-Richmond County, GA\")"
      ],
      "metadata": {
        "colab": {
          "base_uri": "https://localhost:8080/"
        },
        "id": "Z8YE7XyeIs5s",
        "outputId": "132f9e11-d133-4c73-cc85-1b4e0c2c236c"
      },
      "execution_count": 3,
      "outputs": [
        {
          "output_type": "stream",
          "name": "stdout",
          "text": [
            "No region ID found for place: Augusta-Richmond County, GA\n"
          ]
        }
      ]
    },
    {
      "cell_type": "code",
      "source": [
        "#@title Create function to get Map Bounds\n",
        "def getMapBounds(regionId):\n",
        "  data = {\n",
        "    \"searchQueryState\":{\n",
        "        \"regionSelection\":[{\n",
        "            \"regionId\":regionId\n",
        "            }]\n",
        "        },\n",
        "    \"wants\":{\n",
        "        \"cat1\":[\"listResults\"],\n",
        "        \"cat2\":[\"total\"]\n",
        "        }\n",
        "    }\n",
        "  res = requests.put(\"https://www.zillow.com/async-create-search-page-state\", json=data, headers=headers)\n",
        "  return res.json()['regionState']['regionBounds']\n",
        "\n",
        "getMapBounds(275163)"
      ],
      "metadata": {
        "colab": {
          "base_uri": "https://localhost:8080/"
        },
        "id": "3Bt3zWzGI55S",
        "outputId": "d5f92373-bcdc-46cb-a298-e6d669f5a1d1"
      },
      "execution_count": null,
      "outputs": [
        {
          "output_type": "execute_result",
          "data": {
            "text/plain": [
              "{'north': 33.439573,\n",
              " 'south': 33.406781,\n",
              " 'east': -82.004352,\n",
              " 'west': -82.058997}"
            ]
          },
          "metadata": {},
          "execution_count": 17
        }
      ]
    },
    {
      "cell_type": "code",
      "source": [
        "#@title Create function to get properties\n",
        "def getProperties(regionId, mapBounds, page):\n",
        "  data = {\n",
        "    \"searchQueryState\":{\n",
        "        \"pagination\":{\n",
        "            \"currentPage\":page\n",
        "            },\n",
        "        \"mapBounds\":{\n",
        "            \"west\":mapBounds['west'],\n",
        "            \"east\":mapBounds['east'],\n",
        "            \"south\":mapBounds['south'],\n",
        "            \"north\":mapBounds['north']\n",
        "            },\n",
        "        \"regionSelection\":[{\n",
        "            \"regionId\":regionId\n",
        "            }]\n",
        "        },\n",
        "    \"wants\":{\n",
        "        \"cat1\":[\"listResults\"],\n",
        "        \"cat2\":[\"total\"]\n",
        "        }\n",
        "    }\n",
        "  res = requests.put(\"https://www.zillow.com/async-create-search-page-state\", json=data, headers=headers)\n",
        "  return res.json()['cat1']['searchResults']['listResults']\n",
        "\n",
        "properties = getProperties(275163,getMapBounds(275163),2)\n",
        "properties"
      ],
      "metadata": {
        "id": "WaMhG3LdJl8-"
      },
      "execution_count": null,
      "outputs": []
    },
    {
      "cell_type": "code",
      "source": [
        "len(properties)"
      ],
      "metadata": {
        "id": "vr885JIihMj2",
        "outputId": "fba56970-f18d-4684-e8bd-5e4d44510106",
        "colab": {
          "base_uri": "https://localhost:8080/"
        }
      },
      "execution_count": null,
      "outputs": [
        {
          "output_type": "execute_result",
          "data": {
            "text/plain": [
              "21"
            ]
          },
          "metadata": {},
          "execution_count": 21
        }
      ]
    },
    {
      "cell_type": "code",
      "source": [
        "def main(place):\n",
        "    regionId = getRegionId(place)\n",
        "\n",
        "    if regionId is None:\n",
        "        print(f\"Skipping {place} due to no region ID found.\")\n",
        "        return []\n",
        "\n",
        "    mapBounds = getMapBounds(regionId)\n",
        "    page = 1\n",
        "    properties = []\n",
        "\n",
        "    while True:\n",
        "        new_properties = getProperties(regionId, mapBounds, page)\n",
        "        properties.extend(new_properties)\n",
        "        if len(new_properties) < 41:\n",
        "            break\n",
        "        page += 1\n",
        "        time.sleep(1)\n",
        "\n",
        "    print(f\"There are {len(properties)} properties from {place}\")\n",
        "    return properties\n",
        "\n",
        "# if __name__ == \"__main__\":\n",
        "# place = \"San Francisco, CA\"  # Change to the desired location\n",
        "# properties = main(place)\n",
        "# print(properties[0])\n",
        "# print(len(properties))"
      ],
      "metadata": {
        "id": "UQ0j9FJGMG1m"
      },
      "execution_count": null,
      "outputs": []
    },
    {
      "cell_type": "code",
      "source": [
        "main(\"Augusta-Richmond County, GA\")"
      ],
      "metadata": {
        "colab": {
          "base_uri": "https://localhost:8080/",
          "height": 287
        },
        "id": "h7vKn9BmaL3U",
        "outputId": "1a7cccb9-918a-47ba-bba2-64875c490055"
      },
      "execution_count": null,
      "outputs": [
        {
          "output_type": "error",
          "ename": "IndexError",
          "evalue": "list index out of range",
          "traceback": [
            "\u001b[0;31m---------------------------------------------------------------------------\u001b[0m",
            "\u001b[0;31mIndexError\u001b[0m                                Traceback (most recent call last)",
            "\u001b[0;32m<ipython-input-15-e97dba669aea>\u001b[0m in \u001b[0;36m<cell line: 1>\u001b[0;34m()\u001b[0m\n\u001b[0;32m----> 1\u001b[0;31m \u001b[0mmain\u001b[0m\u001b[0;34m(\u001b[0m\u001b[0;34m\"Augusta-Richmond County, GA\"\u001b[0m\u001b[0;34m)\u001b[0m\u001b[0;34m\u001b[0m\u001b[0;34m\u001b[0m\u001b[0m\n\u001b[0m",
            "\u001b[0;32m<ipython-input-13-456ad681dbf8>\u001b[0m in \u001b[0;36mmain\u001b[0;34m(place)\u001b[0m\n\u001b[1;32m      1\u001b[0m \u001b[0;32mdef\u001b[0m \u001b[0mmain\u001b[0m\u001b[0;34m(\u001b[0m\u001b[0mplace\u001b[0m\u001b[0;34m)\u001b[0m\u001b[0;34m:\u001b[0m\u001b[0;34m\u001b[0m\u001b[0;34m\u001b[0m\u001b[0m\n\u001b[0;32m----> 2\u001b[0;31m     \u001b[0mregionId\u001b[0m \u001b[0;34m=\u001b[0m \u001b[0mgetRegionId\u001b[0m\u001b[0;34m(\u001b[0m\u001b[0mplace\u001b[0m\u001b[0;34m)\u001b[0m\u001b[0;34m\u001b[0m\u001b[0;34m\u001b[0m\u001b[0m\n\u001b[0m\u001b[1;32m      3\u001b[0m     \u001b[0mmapBounds\u001b[0m \u001b[0;34m=\u001b[0m \u001b[0mgetMapBounds\u001b[0m\u001b[0;34m(\u001b[0m\u001b[0mregionId\u001b[0m\u001b[0;34m)\u001b[0m\u001b[0;34m\u001b[0m\u001b[0;34m\u001b[0m\u001b[0m\n\u001b[1;32m      4\u001b[0m     \u001b[0mpage\u001b[0m \u001b[0;34m=\u001b[0m \u001b[0;36m1\u001b[0m\u001b[0;34m\u001b[0m\u001b[0;34m\u001b[0m\u001b[0m\n\u001b[1;32m      5\u001b[0m     \u001b[0mproperties\u001b[0m \u001b[0;34m=\u001b[0m \u001b[0;34m[\u001b[0m\u001b[0;34m]\u001b[0m\u001b[0;34m\u001b[0m\u001b[0;34m\u001b[0m\u001b[0m\n",
            "\u001b[0;32m<ipython-input-2-fe2842b2bc3c>\u001b[0m in \u001b[0;36mgetRegionId\u001b[0;34m(place)\u001b[0m\n\u001b[1;32m      2\u001b[0m \u001b[0;32mdef\u001b[0m \u001b[0mgetRegionId\u001b[0m\u001b[0;34m(\u001b[0m\u001b[0mplace\u001b[0m\u001b[0;34m)\u001b[0m\u001b[0;34m:\u001b[0m\u001b[0;34m\u001b[0m\u001b[0;34m\u001b[0m\u001b[0m\n\u001b[1;32m      3\u001b[0m   \u001b[0mres\u001b[0m \u001b[0;34m=\u001b[0m \u001b[0mrequests\u001b[0m\u001b[0;34m.\u001b[0m\u001b[0mget\u001b[0m\u001b[0;34m(\u001b[0m\u001b[0;34m'https://www.zillowstatic.com/autocomplete/v3/suggestions?q='\u001b[0m\u001b[0;34m+\u001b[0m\u001b[0mplace\u001b[0m\u001b[0;34m)\u001b[0m\u001b[0;34m\u001b[0m\u001b[0;34m\u001b[0m\u001b[0m\n\u001b[0;32m----> 4\u001b[0;31m   \u001b[0;32mreturn\u001b[0m \u001b[0mres\u001b[0m\u001b[0;34m.\u001b[0m\u001b[0mjson\u001b[0m\u001b[0;34m(\u001b[0m\u001b[0;34m)\u001b[0m\u001b[0;34m[\u001b[0m\u001b[0;34m'results'\u001b[0m\u001b[0;34m]\u001b[0m\u001b[0;34m[\u001b[0m\u001b[0;36m0\u001b[0m\u001b[0;34m]\u001b[0m\u001b[0;34m[\u001b[0m\u001b[0;34m'metaData'\u001b[0m\u001b[0;34m]\u001b[0m\u001b[0;34m[\u001b[0m\u001b[0;34m'regionId'\u001b[0m\u001b[0;34m]\u001b[0m\u001b[0;34m\u001b[0m\u001b[0;34m\u001b[0m\u001b[0m\n\u001b[0m\u001b[1;32m      5\u001b[0m \u001b[0;34m\u001b[0m\u001b[0m\n\u001b[1;32m      6\u001b[0m \u001b[0mgetRegionId\u001b[0m\u001b[0;34m(\u001b[0m\u001b[0;34m\"Georgia\"\u001b[0m\u001b[0;34m)\u001b[0m\u001b[0;34m\u001b[0m\u001b[0;34m\u001b[0m\u001b[0m\n",
            "\u001b[0;31mIndexError\u001b[0m: list index out of range"
          ]
        }
      ]
    },
    {
      "cell_type": "code",
      "source": [
        "url = 'https://www.zillow.com/graphql/?extensions={\"persistedQuery\":{\"version\":1,\"sha256Hash\":\"bad47f51772bd14fa515b51d331a69e3c981c0f2e7f5c97f3f7828d64dcc3131\"}}&variables={\"zpid\":15196837}'\n",
        "res = requests.get(url, headers=headers2)\n",
        "res.json()"
      ],
      "metadata": {
        "id": "AuBGD0rXPtTr"
      },
      "execution_count": null,
      "outputs": []
    },
    {
      "cell_type": "code",
      "source": [
        "parcelId = \"14008700091097\"\n",
        "condition = f\"ParcelID = '{parcelId}'\"\n",
        "url = \"https://gismaps.fultoncountyga.gov/arcgispub2/rest/services/PropertyMapViewer/ParcelQuery/MapServer/0/query?where=\"+condition+\"&f=json&returnAliases=false&returnGeometry=false&outFields=OBJECTID,ParcelID,TaxYear,Address,Owner,OwnerAddr1,OwnerAddr2,TotAssess,TotAppr\"\n",
        "res = requests.get(url)\n",
        "res.json()['features'][0]['attributes']"
      ],
      "metadata": {
        "colab": {
          "base_uri": "https://localhost:8080/"
        },
        "id": "zq6Z-7RnYlp9",
        "outputId": "8856d847-328a-45a9-fb0a-1f534d36cbef"
      },
      "execution_count": null,
      "outputs": [
        {
          "output_type": "execute_result",
          "data": {
            "text/plain": [
              "{'OBJECTID': 308320,\n",
              " 'ParcelID': '14 008700091097',\n",
              " 'TaxYear': 2024,\n",
              " 'Address': '1148 MC DANIEL ST SW',\n",
              " 'Owner': 'GEORGIA AREA HOLDINGS LLC ',\n",
              " 'OwnerAddr1': '300 COLONIAL CENTER PKWY SUITE 100N',\n",
              " 'OwnerAddr2': 'ROSWELL GA 30076',\n",
              " 'TotAssess': 100320,\n",
              " 'TotAppr': 250800}"
            ]
          },
          "metadata": {},
          "execution_count": 27
        }
      ]
    },
    {
      "cell_type": "code",
      "source": [
        "def formateParcelIDNumber(parcelID):\n",
        "    if len(parcelID) <= 2:\n",
        "        return parcelID\n",
        "    return parcelID[:2] + ' ' + parcelID[2:]\n",
        "\n",
        "# Example usage\n",
        "parcelID = \"22008700091097\"\n",
        "output = formateParcelIDNumber(parcelID)\n",
        "print(output)  # Output: \"14 008700091097\""
      ],
      "metadata": {
        "colab": {
          "base_uri": "https://localhost:8080/"
        },
        "id": "6lrIbh9ug6H-",
        "outputId": "959b6a87-e64a-40e1-cf8f-c8db3c7a4c61"
      },
      "execution_count": null,
      "outputs": [
        {
          "output_type": "stream",
          "name": "stdout",
          "text": [
            "22 008700091097\n"
          ]
        }
      ]
    },
    {
      "cell_type": "code",
      "source": [
        "# @title Georgia Cities List\n",
        "GeorgiaCities = [\n",
        "  \"Abbeville, GA\",\n",
        "  \"Acworth, GA\",\n",
        "  \"Adairsville, GA\",\n",
        "  \"Adel, GA\",\n",
        "  \"Alamo, GA\",\n",
        "  \"Alapaha, GA\",\n",
        "  \"Albany, GA\",\n",
        "  \"Aldora, GA\",\n",
        "  \"Allenhurst, GA\",\n",
        "  \"Allentown, GA\",\n",
        "  \"Alma, GA\",\n",
        "  \"Alpharetta, GA\",\n",
        "  \"Alston, GA\",\n",
        "  \"Alto, GA\",\n",
        "  \"Ambrose, GA\",\n",
        "  \"Americus, GA\",\n",
        "  \"Andersonville, GA\",\n",
        "  \"Arabi, GA\",\n",
        "  \"Aragon, GA\",\n",
        "  \"Arcade, GA\",\n",
        "  \"Argyle, GA\",\n",
        "  \"Arlington, GA\",\n",
        "  \"Arnoldsville, GA\",\n",
        "  \"Ashburn, GA\",\n",
        "  \"Athens, GA\",\n",
        "  \"Athens-Clarke County, GA\",\n",
        "  \"Atlanta, GA\",\n",
        "  \"Attapulgus, GA\",\n",
        "  \"Auburn, GA\",\n",
        "  \"Augusta, GA\",\n",
        "  \"Augusta-Richmond County, GA\",\n",
        "  \"Austell, GA\",\n",
        "  \"Avalon, GA\",\n",
        "  \"Avera, GA\",\n",
        "  \"Avondale Estates, GA\",\n",
        "  \"Baconton, GA\",\n",
        "  \"Bainbridge, GA\",\n",
        "  \"Baldwin, GA\",\n",
        "  \"Ball Ground, GA\",\n",
        "  \"Barnesville, GA\",\n",
        "  \"Bartow, GA\",\n",
        "  \"Barwick, GA\",\n",
        "  \"Baxley, GA\",\n",
        "  \"Bellville, GA\",\n",
        "  \"Belvedere Park, GA\",\n",
        "  \"Berkeley Lake, GA\",\n",
        "  \"Berlin, GA\",\n",
        "  \"Bethlehem, GA\",\n",
        "  \"Between, GA\",\n",
        "  \"Bibb City, GA\",\n",
        "  \"Bishop, GA\",\n",
        "  \"Blackshear, GA\",\n",
        "  \"Blairsville, GA\",\n",
        "  \"Blakely, GA\",\n",
        "  \"Bloomingdale, GA\",\n",
        "  \"Blue Ridge, GA\",\n",
        "  \"Bluffton, GA\",\n",
        "  \"Blythe, GA\",\n",
        "  \"Bogart, GA\",\n",
        "  \"Bonanza, GA\",\n",
        "  \"Boston, GA\",\n",
        "  \"Bostwick, GA\",\n",
        "  \"Bowdon, GA\",\n",
        "  \"Bowman, GA\",\n",
        "  \"Braselton, GA\",\n",
        "  \"Braswell, GA\",\n",
        "  \"Bremen, GA\",\n",
        "  \"Brinson, GA\",\n",
        "  \"Bronwood, GA\",\n",
        "  \"Brooklet, GA\",\n",
        "  \"Brooks, GA\",\n",
        "  \"Broxton, GA\",\n",
        "  \"Brunswick, GA\",\n",
        "  \"Buchanan, GA\",\n",
        "  \"Buckhead, GA\",\n",
        "  \"Buena Vista, GA\",\n",
        "  \"Buford, GA\",\n",
        "  \"Butler, GA\",\n",
        "  \"Byromville, GA\",\n",
        "  \"Byron, GA\",\n",
        "  \"Cadwell, GA\",\n",
        "  \"Cairo, GA\",\n",
        "  \"Calhoun, GA\",\n",
        "  \"Camak, GA\",\n",
        "  \"Camilla, GA\",\n",
        "  \"Canon, GA\",\n",
        "  \"Canton, GA\",\n",
        "  \"Carl, GA\",\n",
        "  \"Carlton, GA\",\n",
        "  \"Carnesville, GA\",\n",
        "  \"Carrollton, GA\",\n",
        "  \"Cartersville, GA\",\n",
        "  \"Cave Spring, GA\",\n",
        "  \"Cecil, GA\",\n",
        "  \"Cedartown, GA\",\n",
        "  \"Centerville, GA\",\n",
        "  \"Centralhatchee, GA\",\n",
        "  \"Chamblee, GA\",\n",
        "  \"Chatsworth, GA\",\n",
        "  \"Chattahoochee Hills, GA\",\n",
        "  \"Chester, GA\",\n",
        "  \"Chickamauga, GA\",\n",
        "  \"Clarkesville, GA\",\n",
        "  \"Clarkston, GA\",\n",
        "  \"Claxton, GA\",\n",
        "  \"Clayton, GA\",\n",
        "  \"Clermont, GA\",\n",
        "  \"Cleveland, GA\",\n",
        "  \"Climax, GA\",\n",
        "  \"Cobbtown, GA\",\n",
        "  \"Cochran, GA\",\n",
        "  \"Cogdell, GA\",\n",
        "  \"College Park, GA\",\n",
        "  \"Collins, GA\",\n",
        "  \"Colquitt, GA\",\n",
        "  \"Columbus, GA\",\n",
        "  \"Comer, GA\",\n",
        "  \"Commerce, GA\",\n",
        "  \"Concord, GA\",\n",
        "  \"Conley, GA\",\n",
        "  \"Conyers, GA\",\n",
        "  \"Coolidge, GA\",\n",
        "  \"Cordele, GA\",\n",
        "  \"Cornelia, GA\",\n",
        "  \"Covington, GA\",\n",
        "  \"Crawford, GA\",\n",
        "  \"Crawfordville, GA\",\n",
        "  \"Culloden, GA\",\n",
        "  \"Cumming, GA\",\n",
        "  \"Cusseta, GA\",\n",
        "  \"Cuthbert, GA\",\n",
        "  \"Dacula, GA\",\n",
        "  \"Dahlonega, GA\",\n",
        "  \"Daisy, GA\",\n",
        "  \"Dallas, GA\",\n",
        "  \"Dalton, GA\",\n",
        "  \"Damascus, GA\",\n",
        "  \"Danielsville, GA\",\n",
        "  \"Danville, GA\",\n",
        "  \"Darien, GA\",\n",
        "  \"Dasher, GA\",\n",
        "  \"Davisboro, GA\",\n",
        "  \"Dawson, GA\",\n",
        "  \"Dawsonville, GA\",\n",
        "  \"Dearing, GA\",\n",
        "  \"Decatur, GA\",\n",
        "  \"Denton, GA\",\n",
        "  \"De Soto, GA\",\n",
        "  \"Dexter, GA\",\n",
        "  \"Dillard, GA\",\n",
        "  \"Donalsonville, GA\",\n",
        "  \"Dooling, GA\",\n",
        "  \"Doraville, GA\",\n",
        "  \"Douglas, GA\",\n",
        "  \"Douglasville, GA\",\n",
        "  \"Druid Hills, GA\",\n",
        "  \"Dublin, GA\",\n",
        "  \"Du Pont, GA\",\n",
        "  \"East Dublin, GA\",\n",
        "  \"East Ellijay, GA\",\n",
        "  \"East Griffin, GA\",\n",
        "  \"Eastman, GA\",\n",
        "  \"East Newnan, GA\",\n",
        "  \"East Point, GA\",\n",
        "  \"Eatonton, GA\",\n",
        "  \"Edge Hill, GA\",\n",
        "  \"Edison, GA\",\n",
        "  \"Elberton, GA\",\n",
        "  \"Ellaville, GA\",\n",
        "  \"Ellenton, GA\",\n",
        "  \"Ellijay, GA\",\n",
        "  \"Emerson, GA\",\n",
        "  \"Enigma, GA\",\n",
        "  \"Ephesus, GA\",\n",
        "  \"Eton, GA\",\n",
        "  \"Euharlee, GA\",\n",
        "  \"Evans, GA\",\n",
        "  \"Experiment, GA\",\n",
        "  \"Fairburn, GA\",\n",
        "  \"Fairmount, GA\",\n",
        "  \"Fargo, GA\",\n",
        "  \"Fayetteville, GA\",\n",
        "  \"Fitzgerald, GA\",\n",
        "  \"Flemington, GA\",\n",
        "  \"Flovilla, GA\",\n",
        "  \"Flowery Branch, GA\",\n",
        "  \"Folkston, GA\",\n",
        "  \"Forest Park, GA\",\n",
        "  \"Forsyth, GA\",\n",
        "  \"Fort Benning South, GA\",\n",
        "  \"Fort Gaines, GA\",\n",
        "  \"Fort Oglethorpe, GA\",\n",
        "  \"Fort Valley, GA\",\n",
        "  \"Franklin, GA\",\n",
        "  \"Franklin Springs, GA\",\n",
        "  \"Funston, GA\",\n",
        "  \"Gainesville, GA\",\n",
        "  \"Garden City, GA\",\n",
        "  \"Garfield, GA\",\n",
        "  \"Gay, GA\",\n",
        "  \"Geneva, GA\",\n",
        "  \"Georgetown, GA\",\n",
        "  \"Georgetown-Quitman County, GA\",\n",
        "  \"Gibson, GA\",\n",
        "  \"Gillsville, GA\",\n",
        "  \"Girard, GA\",\n",
        "  \"Glennville, GA\",\n",
        "  \"Glenwood, GA\",\n",
        "  \"Good Hope, GA\",\n",
        "  \"Gordon, GA\",\n",
        "  \"Graham, GA\",\n",
        "  \"Grantville, GA\",\n",
        "  \"Gray, GA\",\n",
        "  \"Grayson, GA\",\n",
        "  \"Greensboro, GA\",\n",
        "  \"Greenville, GA\",\n",
        "  \"Gresham Park, GA\",\n",
        "  \"Griffin, GA\",\n",
        "  \"Grovetown, GA\",\n",
        "  \"Gumbranch, GA\",\n",
        "  \"Gumlog, GA\",\n",
        "  \"Guyton, GA\",\n",
        "  \"Hagan, GA\",\n",
        "  \"Hahira, GA\",\n",
        "  \"Hamilton, GA\",\n",
        "  \"Hampton, GA\",\n",
        "  \"Hannahs Mill, GA\",\n",
        "  \"Hapeville, GA\",\n",
        "  \"Haralson, GA\",\n",
        "  \"Harlem, GA\",\n",
        "  \"Harrison, GA\",\n",
        "  \"Hartwell, GA\",\n",
        "  \"Hawkinsville, GA\",\n",
        "  \"Hazlehurst, GA\",\n",
        "  \"Helen, GA\",\n",
        "  \"Helena, GA\",\n",
        "  \"Henderson, GA\",\n",
        "  \"Hephzibah, GA\",\n",
        "  \"Hiawassee, GA\",\n",
        "  \"Higgston, GA\",\n",
        "  \"Hinesville, GA\",\n",
        "  \"Hiram, GA\",\n",
        "  \"Hiltonia, GA\",\n",
        "  \"Hinesville, GA\",\n",
        "  \"Hiram, GA\",\n",
        "  \"Hoboken, GA\",\n",
        "  \"Hogansville, GA\",\n",
        "  \"Holly Springs, GA\",\n",
        "  \"Homer, GA\",\n",
        "  \"Homerville, GA\",\n",
        "  \"Hoschton, GA\",\n",
        "  \"Hull, GA\",\n",
        "  \"Ideal, GA\",\n",
        "  \"Ila, GA\",\n",
        "  \"Inman, GA\",\n",
        "  \"Iron City, GA\",\n",
        "  \"Irwinton, GA\",\n",
        "  \"Isle of Hope, GA\",\n",
        "  \"Ivey, GA\",\n",
        "  \"Jackson, GA\",\n",
        "  \"Jacksonville, GA\",\n",
        "  \"Jakin, GA\",\n",
        "  \"Jasper, GA\",\n",
        "  \"Jefferson, GA\",\n",
        "  \"Jeffersonville, GA\",\n",
        "  \"Jenkinsburg, GA\",\n",
        "  \"Jersey, GA\",\n",
        "  \"Jesup, GA\",\n",
        "  \"Johns Creek, GA\",\n",
        "  \"Jonesboro, GA\",\n",
        "  \"Junction City, GA\",\n",
        "  \"Kennesaw, GA\",\n",
        "  \"Keysville, GA\",\n",
        "  \"Kings Bay Base, GA\",\n",
        "  \"Kingsland, GA\",\n",
        "  \"Kingston, GA\",\n",
        "  \"Kite, GA\",\n",
        "  \"LaFayette, GA\",\n",
        "  \"LaGrange, GA\",\n",
        "  \"Lake City, GA\",\n",
        "  \"Lakeland, GA\",\n",
        "  \"Lake Park, GA\",\n",
        "  \"Lakeview, GA\",\n",
        "  \"Lavonia, GA\",\n",
        "  \"Lawrenceville, GA\",\n",
        "  \"Leary, GA\",\n",
        "  \"Leesburg, GA\",\n",
        "  \"Lennox, GA\",\n",
        "  \"Lenox, GA\",\n",
        "  \"Leslie, GA\",\n",
        "  \"Lexington, GA\",\n",
        "  \"Lilburn, GA\",\n",
        "  \"Lilly, GA\",\n",
        "  \"Lincolnton, GA\",\n",
        "  \"Lithia Springs, GA\",\n",
        "  \"Lithonia, GA\",\n",
        "  \"Locust Grove, GA\",\n",
        "  \"Loganville, GA\",\n",
        "  \"Lone Oak, GA\",\n",
        "  \"Lookout Mountain, GA\",\n",
        "  \"Louisville, GA\",\n",
        "  \"Lovejoy, GA\",\n",
        "  \"Ludowici, GA\",\n",
        "  \"Lula, GA\",\n",
        "  \"Lumber City, GA\",\n",
        "  \"Lumpkin, GA\",\n",
        "  \"Luthersville, GA\",\n",
        "  \"Lyons, GA\",\n",
        "  \"Mableton, GA\",\n",
        "  \"Macon, GA\",\n",
        "  \"Macon-Bibb County, GA\",\n",
        "  \"Madison, GA\",\n",
        "  \"Manassas, GA\",\n",
        "  \"Manchester, GA\",\n",
        "  \"Manor, GA\",\n",
        "  \"Mansfield, GA\",\n",
        "  \"Marietta, GA\",\n",
        "  \"Marshallville, GA\",\n",
        "  \"Martin, GA\",\n",
        "  \"Matthews, GA\",\n",
        "  \"Maxeys, GA\",\n",
        "  \"Maysville, GA\",\n",
        "  \"McCaysville, GA\",\n",
        "  \"McDonough, GA\",\n",
        "  \"McIntyre, GA\",\n",
        "  \"McRae, GA\",\n",
        "  \"Meansville, GA\",\n",
        "  \"Meigs, GA\",\n",
        "  \"Meldrim, GA\",\n",
        "  \"Menlo, GA\",\n",
        "  \"Metter, GA\",\n",
        "  \"Midville, GA\",\n",
        "  \"Midway, GA\",\n",
        "  \"Milledgeville, GA\",\n",
        "  \"Millen, GA\",\n",
        "  \"Milner, GA\",\n",
        "  \"Molena, GA\",\n",
        "  \"Monroe, GA\",\n",
        "  \"Montezuma, GA\",\n",
        "  \"Montgomery, GA\",\n",
        "  \"Monticello, GA\",\n",
        "  \"Montrose, GA\",\n",
        "  \"Moreland, GA\",\n",
        "  \"Morgan, GA\",\n",
        "  \"Morganton, GA\",\n",
        "  \"Morrow, GA\",\n",
        "  \"Morven, GA\",\n",
        "  \"Moultrie, GA\",\n",
        "  \"Mountain City, GA\",\n",
        "  \"Mountain Park, GA\",\n",
        "  \"Mount Airy, GA\",\n",
        "  \"Mount Vernon, GA\",\n",
        "  \"Mount Zion, GA\",\n",
        "  \"Nahunta, GA\",\n",
        "  \"Nashville, GA\",\n",
        "  \"Nelson, GA\",\n",
        "  \"Newborn, GA\",\n",
        "  \"Newington, GA\",\n",
        "  \"Newnan, GA\",\n",
        "  \"Newton, GA\",\n",
        "  \"Nicholls, GA\",\n",
        "  \"Nicholson, GA\",\n",
        "  \"Norcross, GA\",\n",
        "  \"Norman Park, GA\",\n",
        "  \"North Atlanta, GA\",\n",
        "  \"North Decatur, GA\",\n",
        "  \"North Druid Hills, GA\",\n",
        "  \"North High Shoals, GA\",\n",
        "  \"Norwood, GA\",\n",
        "  \"Nunez, GA\",\n",
        "  \"Oak Park, GA\",\n",
        "  \"Oakwood, GA\",\n",
        "  \"Ocilla, GA\",\n",
        "  \"Oconee, GA\",\n",
        "  \"Odum, GA\",\n",
        "  \"Offerman, GA\",\n",
        "  \"Oglethorpe, GA\",\n",
        "  \"Oliver, GA\",\n",
        "  \"Omaha, GA\",\n",
        "  \"Omega, GA\",\n",
        "  \"Orchard Hill, GA\",\n",
        "  \"Oxford, GA\",\n",
        "  \"Palmetto, GA\",\n",
        "  \"Parrott, GA\",\n",
        "  \"Patterson, GA\",\n",
        "  \"Pavo, GA\",\n",
        "  \"Payne, GA\",\n",
        "  \"Peachtree City, GA\",\n",
        "  \"Peachtree Corners, GA\",\n",
        "  \"Pearson, GA\",\n",
        "  \"Pelham, GA\",\n",
        "  \"Pembroke, GA\",\n",
        "  \"Pendergrass, GA\",\n",
        "  \"Perkins, GA\",\n",
        "  \"Perry, GA\",\n",
        "  \"Phillipsburg, GA\",\n",
        "  \"Pinehurst, GA\",\n",
        "  \"Pine Lake, GA\",\n",
        "  \"Pine Mountain, GA\",\n",
        "  \"Pineview, GA\",\n",
        "  \"Pitts, GA\",\n",
        "  \"Plains, GA\",\n",
        "  \"Plainville, GA\",\n",
        "  \"Pooler, GA\",\n",
        "  \"Portal, GA\",\n",
        "  \"Porterdale, GA\",\n",
        "  \"Powder Springs, GA\",\n",
        "  \"Pulaski, GA\",\n",
        "  \"Putney, GA\",\n",
        "  \"Quitman, GA\",\n",
        "  \"Raoul, GA\",\n",
        "  \"Ray City, GA\",\n",
        "  \"Rayle, GA\",\n",
        "  \"Rebecca, GA\",\n",
        "  \"Redan, GA\",\n",
        "  \"Register, GA\",\n",
        "  \"Reidsville, GA\",\n",
        "  \"Remerton, GA\",\n",
        "  \"Rentz, GA\",\n",
        "  \"Resaca, GA\",\n",
        "  \"Rest Haven, GA\",\n",
        "  \"Reynolds, GA\",\n",
        "  \"Rhine, GA\",\n",
        "  \"Riceboro, GA\",\n",
        "  \"Richland, GA\",\n",
        "  \"Richmond Hill, GA\",\n",
        "  \"Riddleville, GA\",\n",
        "  \"Rincon, GA\",\n",
        "  \"Ringgold, GA\",\n",
        "  \"Riverdale, GA\",\n",
        "  \"Riverside, GA\",\n",
        "  \"Roberta, GA\",\n",
        "  \"Robins Air Force Base, GA\",\n",
        "  \"Rochelle, GA\",\n",
        "  \"Rockmart, GA\",\n",
        "  \"Rocky Ford, GA\",\n",
        "  \"Rome, GA\",\n",
        "  \"Roopville, GA\",\n",
        "  \"Rossville, GA\",\n",
        "  \"Roswell, GA\",\n",
        "  \"Royston, GA\",\n",
        "  \"Rutledge, GA\",\n",
        "  \"Sale City, GA\",\n",
        "  \"Sandersville, GA\",\n",
        "  \"Sandy Springs, GA\",\n",
        "  \"Santa Claus, GA\",\n",
        "  \"Sardis, GA\",\n",
        "  \"Sasser, GA\",\n",
        "  \"Savannah, GA\",\n",
        "  \"Scottdale, GA\",\n",
        "  \"Screven, GA\",\n",
        "  \"Senoia, GA\",\n",
        "  \"Shady Dale, GA\",\n",
        "  \"Shannon, GA\",\n",
        "  \"Sharpsburg, GA\",\n",
        "  \"Shellman, GA\",\n",
        "  \"Shiloh, GA\",\n",
        "  \"Siloam, GA\",\n",
        "  \"Skidaway Island, GA\",\n",
        "  \"Sky Valley, GA\",\n",
        "  \"Smithville, GA\",\n",
        "  \"Smyrna, GA\",\n",
        "  \"Snellville, GA\",\n",
        "  \"Social Circle, GA\",\n",
        "  \"Soperton, GA\",\n",
        "  \"Sparks, GA\",\n",
        "  \"Sparta, GA\",\n",
        "  \"Springfield, GA\",\n",
        "  \"Stapleton, GA\",\n",
        "  \"Statham, GA\",\n",
        "  \"Statesboro, GA\",\n",
        "  \"Statenville, GA\",\n",
        "  \"St. Marys, GA\",\n",
        "  \"St. Simons, GA\",\n",
        "  \"Stillmore, GA\",\n",
        "  \"Stockbridge, GA\",\n",
        "  \"Stone Mountain, GA\",\n",
        "  \"Sugar Hill, GA\",\n",
        "  \"Summertown, GA\",\n",
        "  \"Summerville, GA\",\n",
        "  \"Sumner, GA\",\n",
        "  \"Sunny Side, GA\",\n",
        "  \"Surrency, GA\",\n",
        "  \"Suwanee, GA\",\n",
        "  \"Swainsboro, GA\",\n",
        "  \"Sycamore, GA\",\n",
        "  \"Sylvania, GA\",\n",
        "  \"Sylvester, GA\",\n",
        "  \"Talahi Island, GA\",\n",
        "  \"Tallapoosa, GA\",\n",
        "  \"Talmo, GA\",\n",
        "  \"Tarrytown, GA\",\n",
        "  \"Tate City, GA\",\n",
        "  \"Temple, GA\",\n",
        "  \"Tennille, GA\",\n",
        "  \"The Rock, GA\",\n",
        "  \"Thomasville, GA\",\n",
        "  \"Thomaston, GA\",\n",
        "  \"Thomson, GA\",\n",
        "  \"Thunderbolt, GA\",\n",
        "  \"Tifton, GA\",\n",
        "  \"Tiger, GA\",\n",
        "  \"Tignall, GA\",\n",
        "  \"Toccoa, GA\",\n",
        "  \"Toomsboro, GA\",\n",
        "  \"Towns, GA\",\n",
        "  \"Trenton, GA\",\n",
        "  \"Trion, GA\",\n",
        "  \"Tucker, GA\",\n",
        "  \"Tunnel Hill, GA\",\n",
        "  \"Twin City, GA\",\n",
        "  \"Tybee Island, GA\",\n",
        "  \"Tyrone, GA\",\n",
        "  \"Unadilla, GA\",\n",
        "  \"Union City, GA\",\n",
        "  \"Union Point, GA\",\n",
        "  \"Uvalda, GA\",\n",
        "  \"Valdosta, GA\",\n",
        "  \"Varnell, GA\",\n",
        "  \"Vernonburg, GA\",\n",
        "  \"Vidalia, GA\",\n",
        "  \"Vienna, GA\",\n",
        "  \"Villa Rica, GA\",\n",
        "  \"Vinings, GA\",\n",
        "  \"Waco, GA\",\n",
        "  \"Wadley, GA\",\n",
        "  \"Waleska, GA\",\n",
        "  \"Walnut Grove, GA\",\n",
        "  \"Walthourville, GA\",\n",
        "  \"Warm Springs, GA\",\n",
        "  \"Warner Robins, GA\",\n",
        "  \"Warrenton, GA\",\n",
        "  \"Warwick, GA\",\n",
        "  \"Washington, GA\",\n",
        "  \"Watkinsville, GA\",\n",
        "  \"Waverly Hall, GA\",\n",
        "  \"Waycross, GA\",\n",
        "  \"Waynesboro, GA\",\n",
        "  \"Weston, GA\",\n",
        "  \"West Point, GA\",\n",
        "  \"Whigham, GA\",\n",
        "  \"White, GA\",\n",
        "  \"White Plains, GA\",\n",
        "  \"Whitemarsh Island, GA\",\n",
        "  \"Whitesburg, GA\",\n",
        "  \"Willacoochee, GA\",\n",
        "  \"Williamson, GA\",\n",
        "  \"Wilmington Island, GA\",\n",
        "  \"Winder, GA\",\n",
        "  \"Winterville, GA\",\n",
        "  \"Woodbine, GA\",\n",
        "  \"Woodbury, GA\",\n",
        "  \"Woodland, GA\",\n",
        "  \"Woodstock, GA\",\n",
        "  \"Woolsey, GA\",\n",
        "  \"Wrens, GA\",\n",
        "  \"Wrightsville, GA\",\n",
        "  \"Yatesville, GA\",\n",
        "  \"Young Harris, GA\",\n",
        "  \"Zebulon, GA\"\n",
        "];\n"
      ],
      "metadata": {
        "cellView": "form",
        "id": "7jPhYHnyRMjn"
      },
      "execution_count": null,
      "outputs": []
    },
    {
      "cell_type": "code",
      "source": [
        "# Process each city and save results as JSON\n",
        "for city in GeorgiaCities:\n",
        "    print(f\"Processing {city}\")\n",
        "    properties = main(city)\n",
        "    filename = f'{city.replace(\", \", \"_\").replace(\" \", \"_\")}_properties.json'\n",
        "    with open(filename, 'w') as f:\n",
        "        json.dump(properties, f, indent=4)\n",
        "    # Use files.download to make the file available for download\n",
        "    time.sleep(5)\n",
        "    files.download(filename)"
      ],
      "metadata": {
        "colab": {
          "base_uri": "https://localhost:8080/",
          "height": 1000
        },
        "id": "-gdzNOdHWTss",
        "outputId": "dfe10c38-25c8-458a-a202-2d334c5a8dd2"
      },
      "execution_count": null,
      "outputs": [
        {
          "output_type": "stream",
          "name": "stdout",
          "text": [
            "Processing Abbeville, GA\n",
            "There are 12 from Abbeville, GA\n"
          ]
        },
        {
          "output_type": "display_data",
          "data": {
            "text/plain": [
              "<IPython.core.display.Javascript object>"
            ],
            "application/javascript": [
              "\n",
              "    async function download(id, filename, size) {\n",
              "      if (!google.colab.kernel.accessAllowed) {\n",
              "        return;\n",
              "      }\n",
              "      const div = document.createElement('div');\n",
              "      const label = document.createElement('label');\n",
              "      label.textContent = `Downloading \"${filename}\": `;\n",
              "      div.appendChild(label);\n",
              "      const progress = document.createElement('progress');\n",
              "      progress.max = size;\n",
              "      div.appendChild(progress);\n",
              "      document.body.appendChild(div);\n",
              "\n",
              "      const buffers = [];\n",
              "      let downloaded = 0;\n",
              "\n",
              "      const channel = await google.colab.kernel.comms.open(id);\n",
              "      // Send a message to notify the kernel that we're ready.\n",
              "      channel.send({})\n",
              "\n",
              "      for await (const message of channel.messages) {\n",
              "        // Send a message to notify the kernel that we're ready.\n",
              "        channel.send({})\n",
              "        if (message.buffers) {\n",
              "          for (const buffer of message.buffers) {\n",
              "            buffers.push(buffer);\n",
              "            downloaded += buffer.byteLength;\n",
              "            progress.value = downloaded;\n",
              "          }\n",
              "        }\n",
              "      }\n",
              "      const blob = new Blob(buffers, {type: 'application/binary'});\n",
              "      const a = document.createElement('a');\n",
              "      a.href = window.URL.createObjectURL(blob);\n",
              "      a.download = filename;\n",
              "      div.appendChild(a);\n",
              "      a.click();\n",
              "      div.remove();\n",
              "    }\n",
              "  "
            ]
          },
          "metadata": {}
        },
        {
          "output_type": "display_data",
          "data": {
            "text/plain": [
              "<IPython.core.display.Javascript object>"
            ],
            "application/javascript": [
              "download(\"download_8f5f3aa2-9756-4a9a-aece-b2065aac31f6\", \"Abbeville_GA_properties.json\", 62917)"
            ]
          },
          "metadata": {}
        },
        {
          "output_type": "stream",
          "name": "stdout",
          "text": [
            "Processing Acworth, GA\n",
            "There are 407 from Acworth, GA\n"
          ]
        },
        {
          "output_type": "display_data",
          "data": {
            "text/plain": [
              "<IPython.core.display.Javascript object>"
            ],
            "application/javascript": [
              "\n",
              "    async function download(id, filename, size) {\n",
              "      if (!google.colab.kernel.accessAllowed) {\n",
              "        return;\n",
              "      }\n",
              "      const div = document.createElement('div');\n",
              "      const label = document.createElement('label');\n",
              "      label.textContent = `Downloading \"${filename}\": `;\n",
              "      div.appendChild(label);\n",
              "      const progress = document.createElement('progress');\n",
              "      progress.max = size;\n",
              "      div.appendChild(progress);\n",
              "      document.body.appendChild(div);\n",
              "\n",
              "      const buffers = [];\n",
              "      let downloaded = 0;\n",
              "\n",
              "      const channel = await google.colab.kernel.comms.open(id);\n",
              "      // Send a message to notify the kernel that we're ready.\n",
              "      channel.send({})\n",
              "\n",
              "      for await (const message of channel.messages) {\n",
              "        // Send a message to notify the kernel that we're ready.\n",
              "        channel.send({})\n",
              "        if (message.buffers) {\n",
              "          for (const buffer of message.buffers) {\n",
              "            buffers.push(buffer);\n",
              "            downloaded += buffer.byteLength;\n",
              "            progress.value = downloaded;\n",
              "          }\n",
              "        }\n",
              "      }\n",
              "      const blob = new Blob(buffers, {type: 'application/binary'});\n",
              "      const a = document.createElement('a');\n",
              "      a.href = window.URL.createObjectURL(blob);\n",
              "      a.download = filename;\n",
              "      div.appendChild(a);\n",
              "      a.click();\n",
              "      div.remove();\n",
              "    }\n",
              "  "
            ]
          },
          "metadata": {}
        },
        {
          "output_type": "display_data",
          "data": {
            "text/plain": [
              "<IPython.core.display.Javascript object>"
            ],
            "application/javascript": [
              "download(\"download_899169a8-7ae4-4f4b-9499-bd2525c1729c\", \"Acworth_GA_properties.json\", 3360367)"
            ]
          },
          "metadata": {}
        },
        {
          "output_type": "stream",
          "name": "stdout",
          "text": [
            "Processing Adairsville, GA\n",
            "There are 87 from Adairsville, GA\n"
          ]
        },
        {
          "output_type": "display_data",
          "data": {
            "text/plain": [
              "<IPython.core.display.Javascript object>"
            ],
            "application/javascript": [
              "\n",
              "    async function download(id, filename, size) {\n",
              "      if (!google.colab.kernel.accessAllowed) {\n",
              "        return;\n",
              "      }\n",
              "      const div = document.createElement('div');\n",
              "      const label = document.createElement('label');\n",
              "      label.textContent = `Downloading \"${filename}\": `;\n",
              "      div.appendChild(label);\n",
              "      const progress = document.createElement('progress');\n",
              "      progress.max = size;\n",
              "      div.appendChild(progress);\n",
              "      document.body.appendChild(div);\n",
              "\n",
              "      const buffers = [];\n",
              "      let downloaded = 0;\n",
              "\n",
              "      const channel = await google.colab.kernel.comms.open(id);\n",
              "      // Send a message to notify the kernel that we're ready.\n",
              "      channel.send({})\n",
              "\n",
              "      for await (const message of channel.messages) {\n",
              "        // Send a message to notify the kernel that we're ready.\n",
              "        channel.send({})\n",
              "        if (message.buffers) {\n",
              "          for (const buffer of message.buffers) {\n",
              "            buffers.push(buffer);\n",
              "            downloaded += buffer.byteLength;\n",
              "            progress.value = downloaded;\n",
              "          }\n",
              "        }\n",
              "      }\n",
              "      const blob = new Blob(buffers, {type: 'application/binary'});\n",
              "      const a = document.createElement('a');\n",
              "      a.href = window.URL.createObjectURL(blob);\n",
              "      a.download = filename;\n",
              "      div.appendChild(a);\n",
              "      a.click();\n",
              "      div.remove();\n",
              "    }\n",
              "  "
            ]
          },
          "metadata": {}
        },
        {
          "output_type": "display_data",
          "data": {
            "text/plain": [
              "<IPython.core.display.Javascript object>"
            ],
            "application/javascript": [
              "download(\"download_b21e3510-d509-4d68-a5a7-1540d91454bc\", \"Adairsville_GA_properties.json\", 728285)"
            ]
          },
          "metadata": {}
        },
        {
          "output_type": "stream",
          "name": "stdout",
          "text": [
            "Processing Adel, GA\n",
            "There are 38 from Adel, GA\n"
          ]
        },
        {
          "output_type": "display_data",
          "data": {
            "text/plain": [
              "<IPython.core.display.Javascript object>"
            ],
            "application/javascript": [
              "\n",
              "    async function download(id, filename, size) {\n",
              "      if (!google.colab.kernel.accessAllowed) {\n",
              "        return;\n",
              "      }\n",
              "      const div = document.createElement('div');\n",
              "      const label = document.createElement('label');\n",
              "      label.textContent = `Downloading \"${filename}\": `;\n",
              "      div.appendChild(label);\n",
              "      const progress = document.createElement('progress');\n",
              "      progress.max = size;\n",
              "      div.appendChild(progress);\n",
              "      document.body.appendChild(div);\n",
              "\n",
              "      const buffers = [];\n",
              "      let downloaded = 0;\n",
              "\n",
              "      const channel = await google.colab.kernel.comms.open(id);\n",
              "      // Send a message to notify the kernel that we're ready.\n",
              "      channel.send({})\n",
              "\n",
              "      for await (const message of channel.messages) {\n",
              "        // Send a message to notify the kernel that we're ready.\n",
              "        channel.send({})\n",
              "        if (message.buffers) {\n",
              "          for (const buffer of message.buffers) {\n",
              "            buffers.push(buffer);\n",
              "            downloaded += buffer.byteLength;\n",
              "            progress.value = downloaded;\n",
              "          }\n",
              "        }\n",
              "      }\n",
              "      const blob = new Blob(buffers, {type: 'application/binary'});\n",
              "      const a = document.createElement('a');\n",
              "      a.href = window.URL.createObjectURL(blob);\n",
              "      a.download = filename;\n",
              "      div.appendChild(a);\n",
              "      a.click();\n",
              "      div.remove();\n",
              "    }\n",
              "  "
            ]
          },
          "metadata": {}
        },
        {
          "output_type": "display_data",
          "data": {
            "text/plain": [
              "<IPython.core.display.Javascript object>"
            ],
            "application/javascript": [
              "download(\"download_04494ad9-9485-4fd2-aa0a-02c1cfb706ce\", \"Adel_GA_properties.json\", 254189)"
            ]
          },
          "metadata": {}
        },
        {
          "output_type": "stream",
          "name": "stdout",
          "text": [
            "Processing Alamo, GA\n",
            "There are 7 from Alamo, GA\n"
          ]
        },
        {
          "output_type": "display_data",
          "data": {
            "text/plain": [
              "<IPython.core.display.Javascript object>"
            ],
            "application/javascript": [
              "\n",
              "    async function download(id, filename, size) {\n",
              "      if (!google.colab.kernel.accessAllowed) {\n",
              "        return;\n",
              "      }\n",
              "      const div = document.createElement('div');\n",
              "      const label = document.createElement('label');\n",
              "      label.textContent = `Downloading \"${filename}\": `;\n",
              "      div.appendChild(label);\n",
              "      const progress = document.createElement('progress');\n",
              "      progress.max = size;\n",
              "      div.appendChild(progress);\n",
              "      document.body.appendChild(div);\n",
              "\n",
              "      const buffers = [];\n",
              "      let downloaded = 0;\n",
              "\n",
              "      const channel = await google.colab.kernel.comms.open(id);\n",
              "      // Send a message to notify the kernel that we're ready.\n",
              "      channel.send({})\n",
              "\n",
              "      for await (const message of channel.messages) {\n",
              "        // Send a message to notify the kernel that we're ready.\n",
              "        channel.send({})\n",
              "        if (message.buffers) {\n",
              "          for (const buffer of message.buffers) {\n",
              "            buffers.push(buffer);\n",
              "            downloaded += buffer.byteLength;\n",
              "            progress.value = downloaded;\n",
              "          }\n",
              "        }\n",
              "      }\n",
              "      const blob = new Blob(buffers, {type: 'application/binary'});\n",
              "      const a = document.createElement('a');\n",
              "      a.href = window.URL.createObjectURL(blob);\n",
              "      a.download = filename;\n",
              "      div.appendChild(a);\n",
              "      a.click();\n",
              "      div.remove();\n",
              "    }\n",
              "  "
            ]
          },
          "metadata": {}
        },
        {
          "output_type": "display_data",
          "data": {
            "text/plain": [
              "<IPython.core.display.Javascript object>"
            ],
            "application/javascript": [
              "download(\"download_47137c24-a43d-4cf5-a454-240ebba9b63e\", \"Alamo_GA_properties.json\", 52429)"
            ]
          },
          "metadata": {}
        },
        {
          "output_type": "stream",
          "name": "stdout",
          "text": [
            "Processing Alapaha, GA\n",
            "There are 1 from Alapaha, GA\n"
          ]
        },
        {
          "output_type": "display_data",
          "data": {
            "text/plain": [
              "<IPython.core.display.Javascript object>"
            ],
            "application/javascript": [
              "\n",
              "    async function download(id, filename, size) {\n",
              "      if (!google.colab.kernel.accessAllowed) {\n",
              "        return;\n",
              "      }\n",
              "      const div = document.createElement('div');\n",
              "      const label = document.createElement('label');\n",
              "      label.textContent = `Downloading \"${filename}\": `;\n",
              "      div.appendChild(label);\n",
              "      const progress = document.createElement('progress');\n",
              "      progress.max = size;\n",
              "      div.appendChild(progress);\n",
              "      document.body.appendChild(div);\n",
              "\n",
              "      const buffers = [];\n",
              "      let downloaded = 0;\n",
              "\n",
              "      const channel = await google.colab.kernel.comms.open(id);\n",
              "      // Send a message to notify the kernel that we're ready.\n",
              "      channel.send({})\n",
              "\n",
              "      for await (const message of channel.messages) {\n",
              "        // Send a message to notify the kernel that we're ready.\n",
              "        channel.send({})\n",
              "        if (message.buffers) {\n",
              "          for (const buffer of message.buffers) {\n",
              "            buffers.push(buffer);\n",
              "            downloaded += buffer.byteLength;\n",
              "            progress.value = downloaded;\n",
              "          }\n",
              "        }\n",
              "      }\n",
              "      const blob = new Blob(buffers, {type: 'application/binary'});\n",
              "      const a = document.createElement('a');\n",
              "      a.href = window.URL.createObjectURL(blob);\n",
              "      a.download = filename;\n",
              "      div.appendChild(a);\n",
              "      a.click();\n",
              "      div.remove();\n",
              "    }\n",
              "  "
            ]
          },
          "metadata": {}
        },
        {
          "output_type": "display_data",
          "data": {
            "text/plain": [
              "<IPython.core.display.Javascript object>"
            ],
            "application/javascript": [
              "download(\"download_c84a7fa1-47ff-4f22-82bc-d7401e8bf8a2\", \"Alapaha_GA_properties.json\", 9135)"
            ]
          },
          "metadata": {}
        },
        {
          "output_type": "stream",
          "name": "stdout",
          "text": [
            "Processing Albany, GA\n",
            "There are 522 from Albany, GA\n"
          ]
        },
        {
          "output_type": "display_data",
          "data": {
            "text/plain": [
              "<IPython.core.display.Javascript object>"
            ],
            "application/javascript": [
              "\n",
              "    async function download(id, filename, size) {\n",
              "      if (!google.colab.kernel.accessAllowed) {\n",
              "        return;\n",
              "      }\n",
              "      const div = document.createElement('div');\n",
              "      const label = document.createElement('label');\n",
              "      label.textContent = `Downloading \"${filename}\": `;\n",
              "      div.appendChild(label);\n",
              "      const progress = document.createElement('progress');\n",
              "      progress.max = size;\n",
              "      div.appendChild(progress);\n",
              "      document.body.appendChild(div);\n",
              "\n",
              "      const buffers = [];\n",
              "      let downloaded = 0;\n",
              "\n",
              "      const channel = await google.colab.kernel.comms.open(id);\n",
              "      // Send a message to notify the kernel that we're ready.\n",
              "      channel.send({})\n",
              "\n",
              "      for await (const message of channel.messages) {\n",
              "        // Send a message to notify the kernel that we're ready.\n",
              "        channel.send({})\n",
              "        if (message.buffers) {\n",
              "          for (const buffer of message.buffers) {\n",
              "            buffers.push(buffer);\n",
              "            downloaded += buffer.byteLength;\n",
              "            progress.value = downloaded;\n",
              "          }\n",
              "        }\n",
              "      }\n",
              "      const blob = new Blob(buffers, {type: 'application/binary'});\n",
              "      const a = document.createElement('a');\n",
              "      a.href = window.URL.createObjectURL(blob);\n",
              "      a.download = filename;\n",
              "      div.appendChild(a);\n",
              "      a.click();\n",
              "      div.remove();\n",
              "    }\n",
              "  "
            ]
          },
          "metadata": {}
        },
        {
          "output_type": "display_data",
          "data": {
            "text/plain": [
              "<IPython.core.display.Javascript object>"
            ],
            "application/javascript": [
              "download(\"download_72b21180-d732-462b-89d6-dde192854497\", \"Albany_GA_properties.json\", 2505000)"
            ]
          },
          "metadata": {}
        },
        {
          "output_type": "stream",
          "name": "stdout",
          "text": [
            "Processing Aldora, GA\n",
            "There are 984 from Aldora, GA\n"
          ]
        },
        {
          "output_type": "display_data",
          "data": {
            "text/plain": [
              "<IPython.core.display.Javascript object>"
            ],
            "application/javascript": [
              "\n",
              "    async function download(id, filename, size) {\n",
              "      if (!google.colab.kernel.accessAllowed) {\n",
              "        return;\n",
              "      }\n",
              "      const div = document.createElement('div');\n",
              "      const label = document.createElement('label');\n",
              "      label.textContent = `Downloading \"${filename}\": `;\n",
              "      div.appendChild(label);\n",
              "      const progress = document.createElement('progress');\n",
              "      progress.max = size;\n",
              "      div.appendChild(progress);\n",
              "      document.body.appendChild(div);\n",
              "\n",
              "      const buffers = [];\n",
              "      let downloaded = 0;\n",
              "\n",
              "      const channel = await google.colab.kernel.comms.open(id);\n",
              "      // Send a message to notify the kernel that we're ready.\n",
              "      channel.send({})\n",
              "\n",
              "      for await (const message of channel.messages) {\n",
              "        // Send a message to notify the kernel that we're ready.\n",
              "        channel.send({})\n",
              "        if (message.buffers) {\n",
              "          for (const buffer of message.buffers) {\n",
              "            buffers.push(buffer);\n",
              "            downloaded += buffer.byteLength;\n",
              "            progress.value = downloaded;\n",
              "          }\n",
              "        }\n",
              "      }\n",
              "      const blob = new Blob(buffers, {type: 'application/binary'});\n",
              "      const a = document.createElement('a');\n",
              "      a.href = window.URL.createObjectURL(blob);\n",
              "      a.download = filename;\n",
              "      div.appendChild(a);\n",
              "      a.click();\n",
              "      div.remove();\n",
              "    }\n",
              "  "
            ]
          },
          "metadata": {}
        },
        {
          "output_type": "display_data",
          "data": {
            "text/plain": [
              "<IPython.core.display.Javascript object>"
            ],
            "application/javascript": [
              "download(\"download_7ae5be1b-2692-45db-8f15-f08bf098c91f\", \"Aldora_GA_properties.json\", 7401649)"
            ]
          },
          "metadata": {}
        },
        {
          "output_type": "stream",
          "name": "stdout",
          "text": [
            "Processing Allenhurst, GA\n",
            "There are 50 from Allenhurst, GA\n"
          ]
        },
        {
          "output_type": "display_data",
          "data": {
            "text/plain": [
              "<IPython.core.display.Javascript object>"
            ],
            "application/javascript": [
              "\n",
              "    async function download(id, filename, size) {\n",
              "      if (!google.colab.kernel.accessAllowed) {\n",
              "        return;\n",
              "      }\n",
              "      const div = document.createElement('div');\n",
              "      const label = document.createElement('label');\n",
              "      label.textContent = `Downloading \"${filename}\": `;\n",
              "      div.appendChild(label);\n",
              "      const progress = document.createElement('progress');\n",
              "      progress.max = size;\n",
              "      div.appendChild(progress);\n",
              "      document.body.appendChild(div);\n",
              "\n",
              "      const buffers = [];\n",
              "      let downloaded = 0;\n",
              "\n",
              "      const channel = await google.colab.kernel.comms.open(id);\n",
              "      // Send a message to notify the kernel that we're ready.\n",
              "      channel.send({})\n",
              "\n",
              "      for await (const message of channel.messages) {\n",
              "        // Send a message to notify the kernel that we're ready.\n",
              "        channel.send({})\n",
              "        if (message.buffers) {\n",
              "          for (const buffer of message.buffers) {\n",
              "            buffers.push(buffer);\n",
              "            downloaded += buffer.byteLength;\n",
              "            progress.value = downloaded;\n",
              "          }\n",
              "        }\n",
              "      }\n",
              "      const blob = new Blob(buffers, {type: 'application/binary'});\n",
              "      const a = document.createElement('a');\n",
              "      a.href = window.URL.createObjectURL(blob);\n",
              "      a.download = filename;\n",
              "      div.appendChild(a);\n",
              "      a.click();\n",
              "      div.remove();\n",
              "    }\n",
              "  "
            ]
          },
          "metadata": {}
        },
        {
          "output_type": "display_data",
          "data": {
            "text/plain": [
              "<IPython.core.display.Javascript object>"
            ],
            "application/javascript": [
              "download(\"download_e5d49000-9c6c-479e-8351-8de73bc4547d\", \"Allenhurst_GA_properties.json\", 377570)"
            ]
          },
          "metadata": {}
        },
        {
          "output_type": "stream",
          "name": "stdout",
          "text": [
            "Processing Allentown, GA\n",
            "There are 2 from Allentown, GA\n"
          ]
        },
        {
          "output_type": "display_data",
          "data": {
            "text/plain": [
              "<IPython.core.display.Javascript object>"
            ],
            "application/javascript": [
              "\n",
              "    async function download(id, filename, size) {\n",
              "      if (!google.colab.kernel.accessAllowed) {\n",
              "        return;\n",
              "      }\n",
              "      const div = document.createElement('div');\n",
              "      const label = document.createElement('label');\n",
              "      label.textContent = `Downloading \"${filename}\": `;\n",
              "      div.appendChild(label);\n",
              "      const progress = document.createElement('progress');\n",
              "      progress.max = size;\n",
              "      div.appendChild(progress);\n",
              "      document.body.appendChild(div);\n",
              "\n",
              "      const buffers = [];\n",
              "      let downloaded = 0;\n",
              "\n",
              "      const channel = await google.colab.kernel.comms.open(id);\n",
              "      // Send a message to notify the kernel that we're ready.\n",
              "      channel.send({})\n",
              "\n",
              "      for await (const message of channel.messages) {\n",
              "        // Send a message to notify the kernel that we're ready.\n",
              "        channel.send({})\n",
              "        if (message.buffers) {\n",
              "          for (const buffer of message.buffers) {\n",
              "            buffers.push(buffer);\n",
              "            downloaded += buffer.byteLength;\n",
              "            progress.value = downloaded;\n",
              "          }\n",
              "        }\n",
              "      }\n",
              "      const blob = new Blob(buffers, {type: 'application/binary'});\n",
              "      const a = document.createElement('a');\n",
              "      a.href = window.URL.createObjectURL(blob);\n",
              "      a.download = filename;\n",
              "      div.appendChild(a);\n",
              "      a.click();\n",
              "      div.remove();\n",
              "    }\n",
              "  "
            ]
          },
          "metadata": {}
        },
        {
          "output_type": "display_data",
          "data": {
            "text/plain": [
              "<IPython.core.display.Javascript object>"
            ],
            "application/javascript": [
              "download(\"download_411ea629-1e13-4c97-9cb8-85e0906f1878\", \"Allentown_GA_properties.json\", 12583)"
            ]
          },
          "metadata": {}
        },
        {
          "output_type": "stream",
          "name": "stdout",
          "text": [
            "Processing Alma, GA\n",
            "There are 25 from Alma, GA\n"
          ]
        },
        {
          "output_type": "display_data",
          "data": {
            "text/plain": [
              "<IPython.core.display.Javascript object>"
            ],
            "application/javascript": [
              "\n",
              "    async function download(id, filename, size) {\n",
              "      if (!google.colab.kernel.accessAllowed) {\n",
              "        return;\n",
              "      }\n",
              "      const div = document.createElement('div');\n",
              "      const label = document.createElement('label');\n",
              "      label.textContent = `Downloading \"${filename}\": `;\n",
              "      div.appendChild(label);\n",
              "      const progress = document.createElement('progress');\n",
              "      progress.max = size;\n",
              "      div.appendChild(progress);\n",
              "      document.body.appendChild(div);\n",
              "\n",
              "      const buffers = [];\n",
              "      let downloaded = 0;\n",
              "\n",
              "      const channel = await google.colab.kernel.comms.open(id);\n",
              "      // Send a message to notify the kernel that we're ready.\n",
              "      channel.send({})\n",
              "\n",
              "      for await (const message of channel.messages) {\n",
              "        // Send a message to notify the kernel that we're ready.\n",
              "        channel.send({})\n",
              "        if (message.buffers) {\n",
              "          for (const buffer of message.buffers) {\n",
              "            buffers.push(buffer);\n",
              "            downloaded += buffer.byteLength;\n",
              "            progress.value = downloaded;\n",
              "          }\n",
              "        }\n",
              "      }\n",
              "      const blob = new Blob(buffers, {type: 'application/binary'});\n",
              "      const a = document.createElement('a');\n",
              "      a.href = window.URL.createObjectURL(blob);\n",
              "      a.download = filename;\n",
              "      div.appendChild(a);\n",
              "      a.click();\n",
              "      div.remove();\n",
              "    }\n",
              "  "
            ]
          },
          "metadata": {}
        },
        {
          "output_type": "display_data",
          "data": {
            "text/plain": [
              "<IPython.core.display.Javascript object>"
            ],
            "application/javascript": [
              "download(\"download_c15a68d1-df0f-49a7-9e0d-ef74b5d2f325\", \"Alma_GA_properties.json\", 148922)"
            ]
          },
          "metadata": {}
        },
        {
          "output_type": "stream",
          "name": "stdout",
          "text": [
            "Processing Alpharetta, GA\n",
            "There are 298 from Alpharetta, GA\n"
          ]
        },
        {
          "output_type": "display_data",
          "data": {
            "text/plain": [
              "<IPython.core.display.Javascript object>"
            ],
            "application/javascript": [
              "\n",
              "    async function download(id, filename, size) {\n",
              "      if (!google.colab.kernel.accessAllowed) {\n",
              "        return;\n",
              "      }\n",
              "      const div = document.createElement('div');\n",
              "      const label = document.createElement('label');\n",
              "      label.textContent = `Downloading \"${filename}\": `;\n",
              "      div.appendChild(label);\n",
              "      const progress = document.createElement('progress');\n",
              "      progress.max = size;\n",
              "      div.appendChild(progress);\n",
              "      document.body.appendChild(div);\n",
              "\n",
              "      const buffers = [];\n",
              "      let downloaded = 0;\n",
              "\n",
              "      const channel = await google.colab.kernel.comms.open(id);\n",
              "      // Send a message to notify the kernel that we're ready.\n",
              "      channel.send({})\n",
              "\n",
              "      for await (const message of channel.messages) {\n",
              "        // Send a message to notify the kernel that we're ready.\n",
              "        channel.send({})\n",
              "        if (message.buffers) {\n",
              "          for (const buffer of message.buffers) {\n",
              "            buffers.push(buffer);\n",
              "            downloaded += buffer.byteLength;\n",
              "            progress.value = downloaded;\n",
              "          }\n",
              "        }\n",
              "      }\n",
              "      const blob = new Blob(buffers, {type: 'application/binary'});\n",
              "      const a = document.createElement('a');\n",
              "      a.href = window.URL.createObjectURL(blob);\n",
              "      a.download = filename;\n",
              "      div.appendChild(a);\n",
              "      a.click();\n",
              "      div.remove();\n",
              "    }\n",
              "  "
            ]
          },
          "metadata": {}
        },
        {
          "output_type": "display_data",
          "data": {
            "text/plain": [
              "<IPython.core.display.Javascript object>"
            ],
            "application/javascript": [
              "download(\"download_988754fb-da44-42cb-9c95-a74bef7883b7\", \"Alpharetta_GA_properties.json\", 2861403)"
            ]
          },
          "metadata": {}
        },
        {
          "output_type": "stream",
          "name": "stdout",
          "text": [
            "Processing Alston, GA\n",
            "There are 16 from Alston, GA\n"
          ]
        },
        {
          "output_type": "display_data",
          "data": {
            "text/plain": [
              "<IPython.core.display.Javascript object>"
            ],
            "application/javascript": [
              "\n",
              "    async function download(id, filename, size) {\n",
              "      if (!google.colab.kernel.accessAllowed) {\n",
              "        return;\n",
              "      }\n",
              "      const div = document.createElement('div');\n",
              "      const label = document.createElement('label');\n",
              "      label.textContent = `Downloading \"${filename}\": `;\n",
              "      div.appendChild(label);\n",
              "      const progress = document.createElement('progress');\n",
              "      progress.max = size;\n",
              "      div.appendChild(progress);\n",
              "      document.body.appendChild(div);\n",
              "\n",
              "      const buffers = [];\n",
              "      let downloaded = 0;\n",
              "\n",
              "      const channel = await google.colab.kernel.comms.open(id);\n",
              "      // Send a message to notify the kernel that we're ready.\n",
              "      channel.send({})\n",
              "\n",
              "      for await (const message of channel.messages) {\n",
              "        // Send a message to notify the kernel that we're ready.\n",
              "        channel.send({})\n",
              "        if (message.buffers) {\n",
              "          for (const buffer of message.buffers) {\n",
              "            buffers.push(buffer);\n",
              "            downloaded += buffer.byteLength;\n",
              "            progress.value = downloaded;\n",
              "          }\n",
              "        }\n",
              "      }\n",
              "      const blob = new Blob(buffers, {type: 'application/binary'});\n",
              "      const a = document.createElement('a');\n",
              "      a.href = window.URL.createObjectURL(blob);\n",
              "      a.download = filename;\n",
              "      div.appendChild(a);\n",
              "      a.click();\n",
              "      div.remove();\n",
              "    }\n",
              "  "
            ]
          },
          "metadata": {}
        },
        {
          "output_type": "display_data",
          "data": {
            "text/plain": [
              "<IPython.core.display.Javascript object>"
            ],
            "application/javascript": [
              "download(\"download_cc72e085-3dc2-4707-b07a-8eb961572f24\", \"Alston_GA_properties.json\", 93876)"
            ]
          },
          "metadata": {}
        },
        {
          "output_type": "stream",
          "name": "stdout",
          "text": [
            "Processing Alto, GA\n",
            "There are 25 from Alto, GA\n"
          ]
        },
        {
          "output_type": "display_data",
          "data": {
            "text/plain": [
              "<IPython.core.display.Javascript object>"
            ],
            "application/javascript": [
              "\n",
              "    async function download(id, filename, size) {\n",
              "      if (!google.colab.kernel.accessAllowed) {\n",
              "        return;\n",
              "      }\n",
              "      const div = document.createElement('div');\n",
              "      const label = document.createElement('label');\n",
              "      label.textContent = `Downloading \"${filename}\": `;\n",
              "      div.appendChild(label);\n",
              "      const progress = document.createElement('progress');\n",
              "      progress.max = size;\n",
              "      div.appendChild(progress);\n",
              "      document.body.appendChild(div);\n",
              "\n",
              "      const buffers = [];\n",
              "      let downloaded = 0;\n",
              "\n",
              "      const channel = await google.colab.kernel.comms.open(id);\n",
              "      // Send a message to notify the kernel that we're ready.\n",
              "      channel.send({})\n",
              "\n",
              "      for await (const message of channel.messages) {\n",
              "        // Send a message to notify the kernel that we're ready.\n",
              "        channel.send({})\n",
              "        if (message.buffers) {\n",
              "          for (const buffer of message.buffers) {\n",
              "            buffers.push(buffer);\n",
              "            downloaded += buffer.byteLength;\n",
              "            progress.value = downloaded;\n",
              "          }\n",
              "        }\n",
              "      }\n",
              "      const blob = new Blob(buffers, {type: 'application/binary'});\n",
              "      const a = document.createElement('a');\n",
              "      a.href = window.URL.createObjectURL(blob);\n",
              "      a.download = filename;\n",
              "      div.appendChild(a);\n",
              "      a.click();\n",
              "      div.remove();\n",
              "    }\n",
              "  "
            ]
          },
          "metadata": {}
        },
        {
          "output_type": "display_data",
          "data": {
            "text/plain": [
              "<IPython.core.display.Javascript object>"
            ],
            "application/javascript": [
              "download(\"download_64031d3c-4b55-4bbd-a0c9-5297fbac4a0e\", \"Alto_GA_properties.json\", 153089)"
            ]
          },
          "metadata": {}
        },
        {
          "output_type": "stream",
          "name": "stdout",
          "text": [
            "Processing Ambrose, GA\n",
            "There are 4 from Ambrose, GA\n"
          ]
        },
        {
          "output_type": "display_data",
          "data": {
            "text/plain": [
              "<IPython.core.display.Javascript object>"
            ],
            "application/javascript": [
              "\n",
              "    async function download(id, filename, size) {\n",
              "      if (!google.colab.kernel.accessAllowed) {\n",
              "        return;\n",
              "      }\n",
              "      const div = document.createElement('div');\n",
              "      const label = document.createElement('label');\n",
              "      label.textContent = `Downloading \"${filename}\": `;\n",
              "      div.appendChild(label);\n",
              "      const progress = document.createElement('progress');\n",
              "      progress.max = size;\n",
              "      div.appendChild(progress);\n",
              "      document.body.appendChild(div);\n",
              "\n",
              "      const buffers = [];\n",
              "      let downloaded = 0;\n",
              "\n",
              "      const channel = await google.colab.kernel.comms.open(id);\n",
              "      // Send a message to notify the kernel that we're ready.\n",
              "      channel.send({})\n",
              "\n",
              "      for await (const message of channel.messages) {\n",
              "        // Send a message to notify the kernel that we're ready.\n",
              "        channel.send({})\n",
              "        if (message.buffers) {\n",
              "          for (const buffer of message.buffers) {\n",
              "            buffers.push(buffer);\n",
              "            downloaded += buffer.byteLength;\n",
              "            progress.value = downloaded;\n",
              "          }\n",
              "        }\n",
              "      }\n",
              "      const blob = new Blob(buffers, {type: 'application/binary'});\n",
              "      const a = document.createElement('a');\n",
              "      a.href = window.URL.createObjectURL(blob);\n",
              "      a.download = filename;\n",
              "      div.appendChild(a);\n",
              "      a.click();\n",
              "      div.remove();\n",
              "    }\n",
              "  "
            ]
          },
          "metadata": {}
        },
        {
          "output_type": "display_data",
          "data": {
            "text/plain": [
              "<IPython.core.display.Javascript object>"
            ],
            "application/javascript": [
              "download(\"download_ee3ff47a-21f4-4d04-b7fa-e5c9fa67c3b6\", \"Ambrose_GA_properties.json\", 24926)"
            ]
          },
          "metadata": {}
        },
        {
          "output_type": "stream",
          "name": "stdout",
          "text": [
            "Processing Americus, GA\n",
            "There are 81 from Americus, GA\n"
          ]
        },
        {
          "output_type": "display_data",
          "data": {
            "text/plain": [
              "<IPython.core.display.Javascript object>"
            ],
            "application/javascript": [
              "\n",
              "    async function download(id, filename, size) {\n",
              "      if (!google.colab.kernel.accessAllowed) {\n",
              "        return;\n",
              "      }\n",
              "      const div = document.createElement('div');\n",
              "      const label = document.createElement('label');\n",
              "      label.textContent = `Downloading \"${filename}\": `;\n",
              "      div.appendChild(label);\n",
              "      const progress = document.createElement('progress');\n",
              "      progress.max = size;\n",
              "      div.appendChild(progress);\n",
              "      document.body.appendChild(div);\n",
              "\n",
              "      const buffers = [];\n",
              "      let downloaded = 0;\n",
              "\n",
              "      const channel = await google.colab.kernel.comms.open(id);\n",
              "      // Send a message to notify the kernel that we're ready.\n",
              "      channel.send({})\n",
              "\n",
              "      for await (const message of channel.messages) {\n",
              "        // Send a message to notify the kernel that we're ready.\n",
              "        channel.send({})\n",
              "        if (message.buffers) {\n",
              "          for (const buffer of message.buffers) {\n",
              "            buffers.push(buffer);\n",
              "            downloaded += buffer.byteLength;\n",
              "            progress.value = downloaded;\n",
              "          }\n",
              "        }\n",
              "      }\n",
              "      const blob = new Blob(buffers, {type: 'application/binary'});\n",
              "      const a = document.createElement('a');\n",
              "      a.href = window.URL.createObjectURL(blob);\n",
              "      a.download = filename;\n",
              "      div.appendChild(a);\n",
              "      a.click();\n",
              "      div.remove();\n",
              "    }\n",
              "  "
            ]
          },
          "metadata": {}
        },
        {
          "output_type": "display_data",
          "data": {
            "text/plain": [
              "<IPython.core.display.Javascript object>"
            ],
            "application/javascript": [
              "download(\"download_1643b6a1-92d1-4d93-bdd0-fa154a3d3f53\", \"Americus_GA_properties.json\", 457093)"
            ]
          },
          "metadata": {}
        },
        {
          "output_type": "stream",
          "name": "stdout",
          "text": [
            "Processing Andersonville, GA\n",
            "There are 0 from Andersonville, GA\n"
          ]
        },
        {
          "output_type": "display_data",
          "data": {
            "text/plain": [
              "<IPython.core.display.Javascript object>"
            ],
            "application/javascript": [
              "\n",
              "    async function download(id, filename, size) {\n",
              "      if (!google.colab.kernel.accessAllowed) {\n",
              "        return;\n",
              "      }\n",
              "      const div = document.createElement('div');\n",
              "      const label = document.createElement('label');\n",
              "      label.textContent = `Downloading \"${filename}\": `;\n",
              "      div.appendChild(label);\n",
              "      const progress = document.createElement('progress');\n",
              "      progress.max = size;\n",
              "      div.appendChild(progress);\n",
              "      document.body.appendChild(div);\n",
              "\n",
              "      const buffers = [];\n",
              "      let downloaded = 0;\n",
              "\n",
              "      const channel = await google.colab.kernel.comms.open(id);\n",
              "      // Send a message to notify the kernel that we're ready.\n",
              "      channel.send({})\n",
              "\n",
              "      for await (const message of channel.messages) {\n",
              "        // Send a message to notify the kernel that we're ready.\n",
              "        channel.send({})\n",
              "        if (message.buffers) {\n",
              "          for (const buffer of message.buffers) {\n",
              "            buffers.push(buffer);\n",
              "            downloaded += buffer.byteLength;\n",
              "            progress.value = downloaded;\n",
              "          }\n",
              "        }\n",
              "      }\n",
              "      const blob = new Blob(buffers, {type: 'application/binary'});\n",
              "      const a = document.createElement('a');\n",
              "      a.href = window.URL.createObjectURL(blob);\n",
              "      a.download = filename;\n",
              "      div.appendChild(a);\n",
              "      a.click();\n",
              "      div.remove();\n",
              "    }\n",
              "  "
            ]
          },
          "metadata": {}
        },
        {
          "output_type": "display_data",
          "data": {
            "text/plain": [
              "<IPython.core.display.Javascript object>"
            ],
            "application/javascript": [
              "download(\"download_aee63a1e-eff3-4549-a7a4-83fe4ada9cbd\", \"Andersonville_GA_properties.json\", 2)"
            ]
          },
          "metadata": {}
        },
        {
          "output_type": "stream",
          "name": "stdout",
          "text": [
            "Processing Arabi, GA\n",
            "There are 4 from Arabi, GA\n"
          ]
        },
        {
          "output_type": "display_data",
          "data": {
            "text/plain": [
              "<IPython.core.display.Javascript object>"
            ],
            "application/javascript": [
              "\n",
              "    async function download(id, filename, size) {\n",
              "      if (!google.colab.kernel.accessAllowed) {\n",
              "        return;\n",
              "      }\n",
              "      const div = document.createElement('div');\n",
              "      const label = document.createElement('label');\n",
              "      label.textContent = `Downloading \"${filename}\": `;\n",
              "      div.appendChild(label);\n",
              "      const progress = document.createElement('progress');\n",
              "      progress.max = size;\n",
              "      div.appendChild(progress);\n",
              "      document.body.appendChild(div);\n",
              "\n",
              "      const buffers = [];\n",
              "      let downloaded = 0;\n",
              "\n",
              "      const channel = await google.colab.kernel.comms.open(id);\n",
              "      // Send a message to notify the kernel that we're ready.\n",
              "      channel.send({})\n",
              "\n",
              "      for await (const message of channel.messages) {\n",
              "        // Send a message to notify the kernel that we're ready.\n",
              "        channel.send({})\n",
              "        if (message.buffers) {\n",
              "          for (const buffer of message.buffers) {\n",
              "            buffers.push(buffer);\n",
              "            downloaded += buffer.byteLength;\n",
              "            progress.value = downloaded;\n",
              "          }\n",
              "        }\n",
              "      }\n",
              "      const blob = new Blob(buffers, {type: 'application/binary'});\n",
              "      const a = document.createElement('a');\n",
              "      a.href = window.URL.createObjectURL(blob);\n",
              "      a.download = filename;\n",
              "      div.appendChild(a);\n",
              "      a.click();\n",
              "      div.remove();\n",
              "    }\n",
              "  "
            ]
          },
          "metadata": {}
        },
        {
          "output_type": "display_data",
          "data": {
            "text/plain": [
              "<IPython.core.display.Javascript object>"
            ],
            "application/javascript": [
              "download(\"download_ad4e937c-d5b8-42ab-8e96-104ddb371540\", \"Arabi_GA_properties.json\", 29349)"
            ]
          },
          "metadata": {}
        },
        {
          "output_type": "stream",
          "name": "stdout",
          "text": [
            "Processing Aragon, GA\n",
            "There are 13 from Aragon, GA\n"
          ]
        },
        {
          "output_type": "display_data",
          "data": {
            "text/plain": [
              "<IPython.core.display.Javascript object>"
            ],
            "application/javascript": [
              "\n",
              "    async function download(id, filename, size) {\n",
              "      if (!google.colab.kernel.accessAllowed) {\n",
              "        return;\n",
              "      }\n",
              "      const div = document.createElement('div');\n",
              "      const label = document.createElement('label');\n",
              "      label.textContent = `Downloading \"${filename}\": `;\n",
              "      div.appendChild(label);\n",
              "      const progress = document.createElement('progress');\n",
              "      progress.max = size;\n",
              "      div.appendChild(progress);\n",
              "      document.body.appendChild(div);\n",
              "\n",
              "      const buffers = [];\n",
              "      let downloaded = 0;\n",
              "\n",
              "      const channel = await google.colab.kernel.comms.open(id);\n",
              "      // Send a message to notify the kernel that we're ready.\n",
              "      channel.send({})\n",
              "\n",
              "      for await (const message of channel.messages) {\n",
              "        // Send a message to notify the kernel that we're ready.\n",
              "        channel.send({})\n",
              "        if (message.buffers) {\n",
              "          for (const buffer of message.buffers) {\n",
              "            buffers.push(buffer);\n",
              "            downloaded += buffer.byteLength;\n",
              "            progress.value = downloaded;\n",
              "          }\n",
              "        }\n",
              "      }\n",
              "      const blob = new Blob(buffers, {type: 'application/binary'});\n",
              "      const a = document.createElement('a');\n",
              "      a.href = window.URL.createObjectURL(blob);\n",
              "      a.download = filename;\n",
              "      div.appendChild(a);\n",
              "      a.click();\n",
              "      div.remove();\n",
              "    }\n",
              "  "
            ]
          },
          "metadata": {}
        },
        {
          "output_type": "display_data",
          "data": {
            "text/plain": [
              "<IPython.core.display.Javascript object>"
            ],
            "application/javascript": [
              "download(\"download_2f1bdb60-4a3b-4e91-b331-f1baa9b21639\", \"Aragon_GA_properties.json\", 93820)"
            ]
          },
          "metadata": {}
        },
        {
          "output_type": "stream",
          "name": "stdout",
          "text": [
            "Processing Arcade, GA\n",
            "There are 11 from Arcade, GA\n"
          ]
        },
        {
          "output_type": "display_data",
          "data": {
            "text/plain": [
              "<IPython.core.display.Javascript object>"
            ],
            "application/javascript": [
              "\n",
              "    async function download(id, filename, size) {\n",
              "      if (!google.colab.kernel.accessAllowed) {\n",
              "        return;\n",
              "      }\n",
              "      const div = document.createElement('div');\n",
              "      const label = document.createElement('label');\n",
              "      label.textContent = `Downloading \"${filename}\": `;\n",
              "      div.appendChild(label);\n",
              "      const progress = document.createElement('progress');\n",
              "      progress.max = size;\n",
              "      div.appendChild(progress);\n",
              "      document.body.appendChild(div);\n",
              "\n",
              "      const buffers = [];\n",
              "      let downloaded = 0;\n",
              "\n",
              "      const channel = await google.colab.kernel.comms.open(id);\n",
              "      // Send a message to notify the kernel that we're ready.\n",
              "      channel.send({})\n",
              "\n",
              "      for await (const message of channel.messages) {\n",
              "        // Send a message to notify the kernel that we're ready.\n",
              "        channel.send({})\n",
              "        if (message.buffers) {\n",
              "          for (const buffer of message.buffers) {\n",
              "            buffers.push(buffer);\n",
              "            downloaded += buffer.byteLength;\n",
              "            progress.value = downloaded;\n",
              "          }\n",
              "        }\n",
              "      }\n",
              "      const blob = new Blob(buffers, {type: 'application/binary'});\n",
              "      const a = document.createElement('a');\n",
              "      a.href = window.URL.createObjectURL(blob);\n",
              "      a.download = filename;\n",
              "      div.appendChild(a);\n",
              "      a.click();\n",
              "      div.remove();\n",
              "    }\n",
              "  "
            ]
          },
          "metadata": {}
        },
        {
          "output_type": "display_data",
          "data": {
            "text/plain": [
              "<IPython.core.display.Javascript object>"
            ],
            "application/javascript": [
              "download(\"download_327a4461-b5a8-461d-aa00-504890a34547\", \"Arcade_GA_properties.json\", 68109)"
            ]
          },
          "metadata": {}
        },
        {
          "output_type": "stream",
          "name": "stdout",
          "text": [
            "Processing Argyle, GA\n",
            "There are 0 from Argyle, GA\n"
          ]
        },
        {
          "output_type": "display_data",
          "data": {
            "text/plain": [
              "<IPython.core.display.Javascript object>"
            ],
            "application/javascript": [
              "\n",
              "    async function download(id, filename, size) {\n",
              "      if (!google.colab.kernel.accessAllowed) {\n",
              "        return;\n",
              "      }\n",
              "      const div = document.createElement('div');\n",
              "      const label = document.createElement('label');\n",
              "      label.textContent = `Downloading \"${filename}\": `;\n",
              "      div.appendChild(label);\n",
              "      const progress = document.createElement('progress');\n",
              "      progress.max = size;\n",
              "      div.appendChild(progress);\n",
              "      document.body.appendChild(div);\n",
              "\n",
              "      const buffers = [];\n",
              "      let downloaded = 0;\n",
              "\n",
              "      const channel = await google.colab.kernel.comms.open(id);\n",
              "      // Send a message to notify the kernel that we're ready.\n",
              "      channel.send({})\n",
              "\n",
              "      for await (const message of channel.messages) {\n",
              "        // Send a message to notify the kernel that we're ready.\n",
              "        channel.send({})\n",
              "        if (message.buffers) {\n",
              "          for (const buffer of message.buffers) {\n",
              "            buffers.push(buffer);\n",
              "            downloaded += buffer.byteLength;\n",
              "            progress.value = downloaded;\n",
              "          }\n",
              "        }\n",
              "      }\n",
              "      const blob = new Blob(buffers, {type: 'application/binary'});\n",
              "      const a = document.createElement('a');\n",
              "      a.href = window.URL.createObjectURL(blob);\n",
              "      a.download = filename;\n",
              "      div.appendChild(a);\n",
              "      a.click();\n",
              "      div.remove();\n",
              "    }\n",
              "  "
            ]
          },
          "metadata": {}
        },
        {
          "output_type": "display_data",
          "data": {
            "text/plain": [
              "<IPython.core.display.Javascript object>"
            ],
            "application/javascript": [
              "download(\"download_5f63a164-5e01-4b2e-a4da-7da258a1b138\", \"Argyle_GA_properties.json\", 2)"
            ]
          },
          "metadata": {}
        },
        {
          "output_type": "stream",
          "name": "stdout",
          "text": [
            "Processing Arlington, GA\n",
            "There are 3 from Arlington, GA\n"
          ]
        },
        {
          "output_type": "display_data",
          "data": {
            "text/plain": [
              "<IPython.core.display.Javascript object>"
            ],
            "application/javascript": [
              "\n",
              "    async function download(id, filename, size) {\n",
              "      if (!google.colab.kernel.accessAllowed) {\n",
              "        return;\n",
              "      }\n",
              "      const div = document.createElement('div');\n",
              "      const label = document.createElement('label');\n",
              "      label.textContent = `Downloading \"${filename}\": `;\n",
              "      div.appendChild(label);\n",
              "      const progress = document.createElement('progress');\n",
              "      progress.max = size;\n",
              "      div.appendChild(progress);\n",
              "      document.body.appendChild(div);\n",
              "\n",
              "      const buffers = [];\n",
              "      let downloaded = 0;\n",
              "\n",
              "      const channel = await google.colab.kernel.comms.open(id);\n",
              "      // Send a message to notify the kernel that we're ready.\n",
              "      channel.send({})\n",
              "\n",
              "      for await (const message of channel.messages) {\n",
              "        // Send a message to notify the kernel that we're ready.\n",
              "        channel.send({})\n",
              "        if (message.buffers) {\n",
              "          for (const buffer of message.buffers) {\n",
              "            buffers.push(buffer);\n",
              "            downloaded += buffer.byteLength;\n",
              "            progress.value = downloaded;\n",
              "          }\n",
              "        }\n",
              "      }\n",
              "      const blob = new Blob(buffers, {type: 'application/binary'});\n",
              "      const a = document.createElement('a');\n",
              "      a.href = window.URL.createObjectURL(blob);\n",
              "      a.download = filename;\n",
              "      div.appendChild(a);\n",
              "      a.click();\n",
              "      div.remove();\n",
              "    }\n",
              "  "
            ]
          },
          "metadata": {}
        },
        {
          "output_type": "display_data",
          "data": {
            "text/plain": [
              "<IPython.core.display.Javascript object>"
            ],
            "application/javascript": [
              "download(\"download_e9a31009-ea34-452c-8f19-2367e574dc29\", \"Arlington_GA_properties.json\", 22622)"
            ]
          },
          "metadata": {}
        },
        {
          "output_type": "stream",
          "name": "stdout",
          "text": [
            "Processing Arnoldsville, GA\n",
            "There are 6 from Arnoldsville, GA\n"
          ]
        },
        {
          "output_type": "display_data",
          "data": {
            "text/plain": [
              "<IPython.core.display.Javascript object>"
            ],
            "application/javascript": [
              "\n",
              "    async function download(id, filename, size) {\n",
              "      if (!google.colab.kernel.accessAllowed) {\n",
              "        return;\n",
              "      }\n",
              "      const div = document.createElement('div');\n",
              "      const label = document.createElement('label');\n",
              "      label.textContent = `Downloading \"${filename}\": `;\n",
              "      div.appendChild(label);\n",
              "      const progress = document.createElement('progress');\n",
              "      progress.max = size;\n",
              "      div.appendChild(progress);\n",
              "      document.body.appendChild(div);\n",
              "\n",
              "      const buffers = [];\n",
              "      let downloaded = 0;\n",
              "\n",
              "      const channel = await google.colab.kernel.comms.open(id);\n",
              "      // Send a message to notify the kernel that we're ready.\n",
              "      channel.send({})\n",
              "\n",
              "      for await (const message of channel.messages) {\n",
              "        // Send a message to notify the kernel that we're ready.\n",
              "        channel.send({})\n",
              "        if (message.buffers) {\n",
              "          for (const buffer of message.buffers) {\n",
              "            buffers.push(buffer);\n",
              "            downloaded += buffer.byteLength;\n",
              "            progress.value = downloaded;\n",
              "          }\n",
              "        }\n",
              "      }\n",
              "      const blob = new Blob(buffers, {type: 'application/binary'});\n",
              "      const a = document.createElement('a');\n",
              "      a.href = window.URL.createObjectURL(blob);\n",
              "      a.download = filename;\n",
              "      div.appendChild(a);\n",
              "      a.click();\n",
              "      div.remove();\n",
              "    }\n",
              "  "
            ]
          },
          "metadata": {}
        },
        {
          "output_type": "display_data",
          "data": {
            "text/plain": [
              "<IPython.core.display.Javascript object>"
            ],
            "application/javascript": [
              "download(\"download_bbdef054-b793-473f-a9db-0899bceeff60\", \"Arnoldsville_GA_properties.json\", 49496)"
            ]
          },
          "metadata": {}
        },
        {
          "output_type": "stream",
          "name": "stdout",
          "text": [
            "Processing Ashburn, GA\n",
            "There are 24 from Ashburn, GA\n"
          ]
        },
        {
          "output_type": "display_data",
          "data": {
            "text/plain": [
              "<IPython.core.display.Javascript object>"
            ],
            "application/javascript": [
              "\n",
              "    async function download(id, filename, size) {\n",
              "      if (!google.colab.kernel.accessAllowed) {\n",
              "        return;\n",
              "      }\n",
              "      const div = document.createElement('div');\n",
              "      const label = document.createElement('label');\n",
              "      label.textContent = `Downloading \"${filename}\": `;\n",
              "      div.appendChild(label);\n",
              "      const progress = document.createElement('progress');\n",
              "      progress.max = size;\n",
              "      div.appendChild(progress);\n",
              "      document.body.appendChild(div);\n",
              "\n",
              "      const buffers = [];\n",
              "      let downloaded = 0;\n",
              "\n",
              "      const channel = await google.colab.kernel.comms.open(id);\n",
              "      // Send a message to notify the kernel that we're ready.\n",
              "      channel.send({})\n",
              "\n",
              "      for await (const message of channel.messages) {\n",
              "        // Send a message to notify the kernel that we're ready.\n",
              "        channel.send({})\n",
              "        if (message.buffers) {\n",
              "          for (const buffer of message.buffers) {\n",
              "            buffers.push(buffer);\n",
              "            downloaded += buffer.byteLength;\n",
              "            progress.value = downloaded;\n",
              "          }\n",
              "        }\n",
              "      }\n",
              "      const blob = new Blob(buffers, {type: 'application/binary'});\n",
              "      const a = document.createElement('a');\n",
              "      a.href = window.URL.createObjectURL(blob);\n",
              "      a.download = filename;\n",
              "      div.appendChild(a);\n",
              "      a.click();\n",
              "      div.remove();\n",
              "    }\n",
              "  "
            ]
          },
          "metadata": {}
        },
        {
          "output_type": "display_data",
          "data": {
            "text/plain": [
              "<IPython.core.display.Javascript object>"
            ],
            "application/javascript": [
              "download(\"download_c75df00d-6550-4fcd-99a9-0ac9dbd38f66\", \"Ashburn_GA_properties.json\", 139798)"
            ]
          },
          "metadata": {}
        },
        {
          "output_type": "stream",
          "name": "stdout",
          "text": [
            "Processing Athens, GA\n",
            "There are 391 from Athens, GA\n"
          ]
        },
        {
          "output_type": "display_data",
          "data": {
            "text/plain": [
              "<IPython.core.display.Javascript object>"
            ],
            "application/javascript": [
              "\n",
              "    async function download(id, filename, size) {\n",
              "      if (!google.colab.kernel.accessAllowed) {\n",
              "        return;\n",
              "      }\n",
              "      const div = document.createElement('div');\n",
              "      const label = document.createElement('label');\n",
              "      label.textContent = `Downloading \"${filename}\": `;\n",
              "      div.appendChild(label);\n",
              "      const progress = document.createElement('progress');\n",
              "      progress.max = size;\n",
              "      div.appendChild(progress);\n",
              "      document.body.appendChild(div);\n",
              "\n",
              "      const buffers = [];\n",
              "      let downloaded = 0;\n",
              "\n",
              "      const channel = await google.colab.kernel.comms.open(id);\n",
              "      // Send a message to notify the kernel that we're ready.\n",
              "      channel.send({})\n",
              "\n",
              "      for await (const message of channel.messages) {\n",
              "        // Send a message to notify the kernel that we're ready.\n",
              "        channel.send({})\n",
              "        if (message.buffers) {\n",
              "          for (const buffer of message.buffers) {\n",
              "            buffers.push(buffer);\n",
              "            downloaded += buffer.byteLength;\n",
              "            progress.value = downloaded;\n",
              "          }\n",
              "        }\n",
              "      }\n",
              "      const blob = new Blob(buffers, {type: 'application/binary'});\n",
              "      const a = document.createElement('a');\n",
              "      a.href = window.URL.createObjectURL(blob);\n",
              "      a.download = filename;\n",
              "      div.appendChild(a);\n",
              "      a.click();\n",
              "      div.remove();\n",
              "    }\n",
              "  "
            ]
          },
          "metadata": {}
        },
        {
          "output_type": "display_data",
          "data": {
            "text/plain": [
              "<IPython.core.display.Javascript object>"
            ],
            "application/javascript": [
              "download(\"download_cf5dddab-3c1c-4141-8989-82bb2c95d305\", \"Athens_GA_properties.json\", 2805655)"
            ]
          },
          "metadata": {}
        },
        {
          "output_type": "stream",
          "name": "stdout",
          "text": [
            "Processing Athens-Clarke County, GA\n",
            "There are 33 from Athens-Clarke County, GA\n"
          ]
        },
        {
          "output_type": "display_data",
          "data": {
            "text/plain": [
              "<IPython.core.display.Javascript object>"
            ],
            "application/javascript": [
              "\n",
              "    async function download(id, filename, size) {\n",
              "      if (!google.colab.kernel.accessAllowed) {\n",
              "        return;\n",
              "      }\n",
              "      const div = document.createElement('div');\n",
              "      const label = document.createElement('label');\n",
              "      label.textContent = `Downloading \"${filename}\": `;\n",
              "      div.appendChild(label);\n",
              "      const progress = document.createElement('progress');\n",
              "      progress.max = size;\n",
              "      div.appendChild(progress);\n",
              "      document.body.appendChild(div);\n",
              "\n",
              "      const buffers = [];\n",
              "      let downloaded = 0;\n",
              "\n",
              "      const channel = await google.colab.kernel.comms.open(id);\n",
              "      // Send a message to notify the kernel that we're ready.\n",
              "      channel.send({})\n",
              "\n",
              "      for await (const message of channel.messages) {\n",
              "        // Send a message to notify the kernel that we're ready.\n",
              "        channel.send({})\n",
              "        if (message.buffers) {\n",
              "          for (const buffer of message.buffers) {\n",
              "            buffers.push(buffer);\n",
              "            downloaded += buffer.byteLength;\n",
              "            progress.value = downloaded;\n",
              "          }\n",
              "        }\n",
              "      }\n",
              "      const blob = new Blob(buffers, {type: 'application/binary'});\n",
              "      const a = document.createElement('a');\n",
              "      a.href = window.URL.createObjectURL(blob);\n",
              "      a.download = filename;\n",
              "      div.appendChild(a);\n",
              "      a.click();\n",
              "      div.remove();\n",
              "    }\n",
              "  "
            ]
          },
          "metadata": {}
        },
        {
          "output_type": "display_data",
          "data": {
            "text/plain": [
              "<IPython.core.display.Javascript object>"
            ],
            "application/javascript": [
              "download(\"download_347afe80-6090-46bd-8779-a069122d1a1c\", \"Athens-Clarke_County_GA_properties.json\", 210163)"
            ]
          },
          "metadata": {}
        },
        {
          "output_type": "stream",
          "name": "stdout",
          "text": [
            "Processing Atlanta, GA\n",
            "There are 984 from Atlanta, GA\n"
          ]
        },
        {
          "output_type": "display_data",
          "data": {
            "text/plain": [
              "<IPython.core.display.Javascript object>"
            ],
            "application/javascript": [
              "\n",
              "    async function download(id, filename, size) {\n",
              "      if (!google.colab.kernel.accessAllowed) {\n",
              "        return;\n",
              "      }\n",
              "      const div = document.createElement('div');\n",
              "      const label = document.createElement('label');\n",
              "      label.textContent = `Downloading \"${filename}\": `;\n",
              "      div.appendChild(label);\n",
              "      const progress = document.createElement('progress');\n",
              "      progress.max = size;\n",
              "      div.appendChild(progress);\n",
              "      document.body.appendChild(div);\n",
              "\n",
              "      const buffers = [];\n",
              "      let downloaded = 0;\n",
              "\n",
              "      const channel = await google.colab.kernel.comms.open(id);\n",
              "      // Send a message to notify the kernel that we're ready.\n",
              "      channel.send({})\n",
              "\n",
              "      for await (const message of channel.messages) {\n",
              "        // Send a message to notify the kernel that we're ready.\n",
              "        channel.send({})\n",
              "        if (message.buffers) {\n",
              "          for (const buffer of message.buffers) {\n",
              "            buffers.push(buffer);\n",
              "            downloaded += buffer.byteLength;\n",
              "            progress.value = downloaded;\n",
              "          }\n",
              "        }\n",
              "      }\n",
              "      const blob = new Blob(buffers, {type: 'application/binary'});\n",
              "      const a = document.createElement('a');\n",
              "      a.href = window.URL.createObjectURL(blob);\n",
              "      a.download = filename;\n",
              "      div.appendChild(a);\n",
              "      a.click();\n",
              "      div.remove();\n",
              "    }\n",
              "  "
            ]
          },
          "metadata": {}
        },
        {
          "output_type": "display_data",
          "data": {
            "text/plain": [
              "<IPython.core.display.Javascript object>"
            ],
            "application/javascript": [
              "download(\"download_0d51a27b-c073-42c2-9c05-c98b6200a077\", \"Atlanta_GA_properties.json\", 7883438)"
            ]
          },
          "metadata": {}
        },
        {
          "output_type": "stream",
          "name": "stdout",
          "text": [
            "Processing Attapulgus, GA\n",
            "There are 1 from Attapulgus, GA\n"
          ]
        },
        {
          "output_type": "display_data",
          "data": {
            "text/plain": [
              "<IPython.core.display.Javascript object>"
            ],
            "application/javascript": [
              "\n",
              "    async function download(id, filename, size) {\n",
              "      if (!google.colab.kernel.accessAllowed) {\n",
              "        return;\n",
              "      }\n",
              "      const div = document.createElement('div');\n",
              "      const label = document.createElement('label');\n",
              "      label.textContent = `Downloading \"${filename}\": `;\n",
              "      div.appendChild(label);\n",
              "      const progress = document.createElement('progress');\n",
              "      progress.max = size;\n",
              "      div.appendChild(progress);\n",
              "      document.body.appendChild(div);\n",
              "\n",
              "      const buffers = [];\n",
              "      let downloaded = 0;\n",
              "\n",
              "      const channel = await google.colab.kernel.comms.open(id);\n",
              "      // Send a message to notify the kernel that we're ready.\n",
              "      channel.send({})\n",
              "\n",
              "      for await (const message of channel.messages) {\n",
              "        // Send a message to notify the kernel that we're ready.\n",
              "        channel.send({})\n",
              "        if (message.buffers) {\n",
              "          for (const buffer of message.buffers) {\n",
              "            buffers.push(buffer);\n",
              "            downloaded += buffer.byteLength;\n",
              "            progress.value = downloaded;\n",
              "          }\n",
              "        }\n",
              "      }\n",
              "      const blob = new Blob(buffers, {type: 'application/binary'});\n",
              "      const a = document.createElement('a');\n",
              "      a.href = window.URL.createObjectURL(blob);\n",
              "      a.download = filename;\n",
              "      div.appendChild(a);\n",
              "      a.click();\n",
              "      div.remove();\n",
              "    }\n",
              "  "
            ]
          },
          "metadata": {}
        },
        {
          "output_type": "display_data",
          "data": {
            "text/plain": [
              "<IPython.core.display.Javascript object>"
            ],
            "application/javascript": [
              "download(\"download_cf56370e-85b0-4454-b1a1-3bb478561a02\", \"Attapulgus_GA_properties.json\", 5522)"
            ]
          },
          "metadata": {}
        },
        {
          "output_type": "stream",
          "name": "stdout",
          "text": [
            "Processing Auburn, GA\n",
            "There are 127 from Auburn, GA\n"
          ]
        },
        {
          "output_type": "display_data",
          "data": {
            "text/plain": [
              "<IPython.core.display.Javascript object>"
            ],
            "application/javascript": [
              "\n",
              "    async function download(id, filename, size) {\n",
              "      if (!google.colab.kernel.accessAllowed) {\n",
              "        return;\n",
              "      }\n",
              "      const div = document.createElement('div');\n",
              "      const label = document.createElement('label');\n",
              "      label.textContent = `Downloading \"${filename}\": `;\n",
              "      div.appendChild(label);\n",
              "      const progress = document.createElement('progress');\n",
              "      progress.max = size;\n",
              "      div.appendChild(progress);\n",
              "      document.body.appendChild(div);\n",
              "\n",
              "      const buffers = [];\n",
              "      let downloaded = 0;\n",
              "\n",
              "      const channel = await google.colab.kernel.comms.open(id);\n",
              "      // Send a message to notify the kernel that we're ready.\n",
              "      channel.send({})\n",
              "\n",
              "      for await (const message of channel.messages) {\n",
              "        // Send a message to notify the kernel that we're ready.\n",
              "        channel.send({})\n",
              "        if (message.buffers) {\n",
              "          for (const buffer of message.buffers) {\n",
              "            buffers.push(buffer);\n",
              "            downloaded += buffer.byteLength;\n",
              "            progress.value = downloaded;\n",
              "          }\n",
              "        }\n",
              "      }\n",
              "      const blob = new Blob(buffers, {type: 'application/binary'});\n",
              "      const a = document.createElement('a');\n",
              "      a.href = window.URL.createObjectURL(blob);\n",
              "      a.download = filename;\n",
              "      div.appendChild(a);\n",
              "      a.click();\n",
              "      div.remove();\n",
              "    }\n",
              "  "
            ]
          },
          "metadata": {}
        },
        {
          "output_type": "display_data",
          "data": {
            "text/plain": [
              "<IPython.core.display.Javascript object>"
            ],
            "application/javascript": [
              "download(\"download_06d4470b-c2db-4d91-9421-33ec710955e4\", \"Auburn_GA_properties.json\", 1080772)"
            ]
          },
          "metadata": {}
        },
        {
          "output_type": "stream",
          "name": "stdout",
          "text": [
            "Processing Augusta, GA\n",
            "There are 595 from Augusta, GA\n"
          ]
        },
        {
          "output_type": "display_data",
          "data": {
            "text/plain": [
              "<IPython.core.display.Javascript object>"
            ],
            "application/javascript": [
              "\n",
              "    async function download(id, filename, size) {\n",
              "      if (!google.colab.kernel.accessAllowed) {\n",
              "        return;\n",
              "      }\n",
              "      const div = document.createElement('div');\n",
              "      const label = document.createElement('label');\n",
              "      label.textContent = `Downloading \"${filename}\": `;\n",
              "      div.appendChild(label);\n",
              "      const progress = document.createElement('progress');\n",
              "      progress.max = size;\n",
              "      div.appendChild(progress);\n",
              "      document.body.appendChild(div);\n",
              "\n",
              "      const buffers = [];\n",
              "      let downloaded = 0;\n",
              "\n",
              "      const channel = await google.colab.kernel.comms.open(id);\n",
              "      // Send a message to notify the kernel that we're ready.\n",
              "      channel.send({})\n",
              "\n",
              "      for await (const message of channel.messages) {\n",
              "        // Send a message to notify the kernel that we're ready.\n",
              "        channel.send({})\n",
              "        if (message.buffers) {\n",
              "          for (const buffer of message.buffers) {\n",
              "            buffers.push(buffer);\n",
              "            downloaded += buffer.byteLength;\n",
              "            progress.value = downloaded;\n",
              "          }\n",
              "        }\n",
              "      }\n",
              "      const blob = new Blob(buffers, {type: 'application/binary'});\n",
              "      const a = document.createElement('a');\n",
              "      a.href = window.URL.createObjectURL(blob);\n",
              "      a.download = filename;\n",
              "      div.appendChild(a);\n",
              "      a.click();\n",
              "      div.remove();\n",
              "    }\n",
              "  "
            ]
          },
          "metadata": {}
        },
        {
          "output_type": "display_data",
          "data": {
            "text/plain": [
              "<IPython.core.display.Javascript object>"
            ],
            "application/javascript": [
              "download(\"download_5f591f1d-fa83-4ef5-90eb-f2ef1784c1b8\", \"Augusta_GA_properties.json\", 3632227)"
            ]
          },
          "metadata": {}
        },
        {
          "output_type": "stream",
          "name": "stdout",
          "text": [
            "Processing Augusta-Richmond County, GA\n"
          ]
        },
        {
          "output_type": "error",
          "ename": "IndexError",
          "evalue": "list index out of range",
          "traceback": [
            "\u001b[0;31m---------------------------------------------------------------------------\u001b[0m",
            "\u001b[0;31mIndexError\u001b[0m                                Traceback (most recent call last)",
            "\u001b[0;32m<ipython-input-14-24409b088608>\u001b[0m in \u001b[0;36m<cell line: 2>\u001b[0;34m()\u001b[0m\n\u001b[1;32m      2\u001b[0m \u001b[0;32mfor\u001b[0m \u001b[0mcity\u001b[0m \u001b[0;32min\u001b[0m \u001b[0mGeorgiaCities\u001b[0m\u001b[0;34m:\u001b[0m\u001b[0;34m\u001b[0m\u001b[0;34m\u001b[0m\u001b[0m\n\u001b[1;32m      3\u001b[0m     \u001b[0mprint\u001b[0m\u001b[0;34m(\u001b[0m\u001b[0;34mf\"Processing {city}\"\u001b[0m\u001b[0;34m)\u001b[0m\u001b[0;34m\u001b[0m\u001b[0;34m\u001b[0m\u001b[0m\n\u001b[0;32m----> 4\u001b[0;31m     \u001b[0mproperties\u001b[0m \u001b[0;34m=\u001b[0m \u001b[0mmain\u001b[0m\u001b[0;34m(\u001b[0m\u001b[0mcity\u001b[0m\u001b[0;34m)\u001b[0m\u001b[0;34m\u001b[0m\u001b[0;34m\u001b[0m\u001b[0m\n\u001b[0m\u001b[1;32m      5\u001b[0m     \u001b[0mfilename\u001b[0m \u001b[0;34m=\u001b[0m \u001b[0;34mf'{city.replace(\", \", \"_\").replace(\" \", \"_\")}_properties.json'\u001b[0m\u001b[0;34m\u001b[0m\u001b[0;34m\u001b[0m\u001b[0m\n\u001b[1;32m      6\u001b[0m     \u001b[0;32mwith\u001b[0m \u001b[0mopen\u001b[0m\u001b[0;34m(\u001b[0m\u001b[0mfilename\u001b[0m\u001b[0;34m,\u001b[0m \u001b[0;34m'w'\u001b[0m\u001b[0;34m)\u001b[0m \u001b[0;32mas\u001b[0m \u001b[0mf\u001b[0m\u001b[0;34m:\u001b[0m\u001b[0;34m\u001b[0m\u001b[0;34m\u001b[0m\u001b[0m\n",
            "\u001b[0;32m<ipython-input-13-456ad681dbf8>\u001b[0m in \u001b[0;36mmain\u001b[0;34m(place)\u001b[0m\n\u001b[1;32m      1\u001b[0m \u001b[0;32mdef\u001b[0m \u001b[0mmain\u001b[0m\u001b[0;34m(\u001b[0m\u001b[0mplace\u001b[0m\u001b[0;34m)\u001b[0m\u001b[0;34m:\u001b[0m\u001b[0;34m\u001b[0m\u001b[0;34m\u001b[0m\u001b[0m\n\u001b[0;32m----> 2\u001b[0;31m     \u001b[0mregionId\u001b[0m \u001b[0;34m=\u001b[0m \u001b[0mgetRegionId\u001b[0m\u001b[0;34m(\u001b[0m\u001b[0mplace\u001b[0m\u001b[0;34m)\u001b[0m\u001b[0;34m\u001b[0m\u001b[0;34m\u001b[0m\u001b[0m\n\u001b[0m\u001b[1;32m      3\u001b[0m     \u001b[0mmapBounds\u001b[0m \u001b[0;34m=\u001b[0m \u001b[0mgetMapBounds\u001b[0m\u001b[0;34m(\u001b[0m\u001b[0mregionId\u001b[0m\u001b[0;34m)\u001b[0m\u001b[0;34m\u001b[0m\u001b[0;34m\u001b[0m\u001b[0m\n\u001b[1;32m      4\u001b[0m     \u001b[0mpage\u001b[0m \u001b[0;34m=\u001b[0m \u001b[0;36m1\u001b[0m\u001b[0;34m\u001b[0m\u001b[0;34m\u001b[0m\u001b[0m\n\u001b[1;32m      5\u001b[0m     \u001b[0mproperties\u001b[0m \u001b[0;34m=\u001b[0m \u001b[0;34m[\u001b[0m\u001b[0;34m]\u001b[0m\u001b[0;34m\u001b[0m\u001b[0;34m\u001b[0m\u001b[0m\n",
            "\u001b[0;32m<ipython-input-2-fe2842b2bc3c>\u001b[0m in \u001b[0;36mgetRegionId\u001b[0;34m(place)\u001b[0m\n\u001b[1;32m      2\u001b[0m \u001b[0;32mdef\u001b[0m \u001b[0mgetRegionId\u001b[0m\u001b[0;34m(\u001b[0m\u001b[0mplace\u001b[0m\u001b[0;34m)\u001b[0m\u001b[0;34m:\u001b[0m\u001b[0;34m\u001b[0m\u001b[0;34m\u001b[0m\u001b[0m\n\u001b[1;32m      3\u001b[0m   \u001b[0mres\u001b[0m \u001b[0;34m=\u001b[0m \u001b[0mrequests\u001b[0m\u001b[0;34m.\u001b[0m\u001b[0mget\u001b[0m\u001b[0;34m(\u001b[0m\u001b[0;34m'https://www.zillowstatic.com/autocomplete/v3/suggestions?q='\u001b[0m\u001b[0;34m+\u001b[0m\u001b[0mplace\u001b[0m\u001b[0;34m)\u001b[0m\u001b[0;34m\u001b[0m\u001b[0;34m\u001b[0m\u001b[0m\n\u001b[0;32m----> 4\u001b[0;31m   \u001b[0;32mreturn\u001b[0m \u001b[0mres\u001b[0m\u001b[0;34m.\u001b[0m\u001b[0mjson\u001b[0m\u001b[0;34m(\u001b[0m\u001b[0;34m)\u001b[0m\u001b[0;34m[\u001b[0m\u001b[0;34m'results'\u001b[0m\u001b[0;34m]\u001b[0m\u001b[0;34m[\u001b[0m\u001b[0;36m0\u001b[0m\u001b[0;34m]\u001b[0m\u001b[0;34m[\u001b[0m\u001b[0;34m'metaData'\u001b[0m\u001b[0;34m]\u001b[0m\u001b[0;34m[\u001b[0m\u001b[0;34m'regionId'\u001b[0m\u001b[0;34m]\u001b[0m\u001b[0;34m\u001b[0m\u001b[0;34m\u001b[0m\u001b[0m\n\u001b[0m\u001b[1;32m      5\u001b[0m \u001b[0;34m\u001b[0m\u001b[0m\n\u001b[1;32m      6\u001b[0m \u001b[0mgetRegionId\u001b[0m\u001b[0;34m(\u001b[0m\u001b[0;34m\"Georgia\"\u001b[0m\u001b[0;34m)\u001b[0m\u001b[0;34m\u001b[0m\u001b[0;34m\u001b[0m\u001b[0m\n",
            "\u001b[0;31mIndexError\u001b[0m: list index out of range"
          ]
        }
      ]
    },
    {
      "cell_type": "code",
      "source": [
        "# https://apps.vertigisstudio.com/web/?app=f6937550eb40432cac62e8c3cf4f3b7b\n",
        "# https://gis3.gwinnettcounty.com/mapvis/rest/services/GISDataBrowser/GC_Parcel/MapServer/5"
      ],
      "metadata": {
        "id": "6VYLRI_ak_0Q"
      },
      "execution_count": null,
      "outputs": []
    }
  ]
}