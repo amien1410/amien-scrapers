{
  "nbformat": 4,
  "nbformat_minor": 0,
  "metadata": {
    "colab": {
      "provenance": [],
      "authorship_tag": "ABX9TyM49+CrDF6WkeByQKyw9cJN",
      "include_colab_link": true
    },
    "kernelspec": {
      "name": "python3",
      "display_name": "Python 3"
    },
    "language_info": {
      "name": "python"
    }
  },
  "cells": [
    {
      "cell_type": "markdown",
      "metadata": {
        "id": "view-in-github",
        "colab_type": "text"
      },
      "source": [
        "<a href=\"https://colab.research.google.com/github/amien1410/amien-scrapers/blob/main/Bluebook_Scraper.ipynb\" target=\"_parent\"><img src=\"https://colab.research.google.com/assets/colab-badge.svg\" alt=\"Open In Colab\"/></a>"
      ]
    },
    {
      "cell_type": "code",
      "execution_count": null,
      "metadata": {
        "id": "IxAI0NZPlZID"
      },
      "outputs": [],
      "source": [
        "import requests\n",
        "from bs4 import BeautifulSoup\n",
        "\n",
        "base_url = \"https://www.thebluebook.com\""
      ]
    },
    {
      "cell_type": "code",
      "source": [
        "res = requests.get(\"https://www.thebluebook.com/search.html?region=33&searchsrc=&class=4704&searchTerm=Office+Relocation+%26+Logistics&page=1\")\n",
        "soup = BeautifulSoup(res.text, 'html.parser')\n",
        "companies = soup.find_all(\"div\", class_=\"single_result_wrapper\")"
      ],
      "metadata": {
        "id": "RrksMokdpQKv"
      },
      "execution_count": null,
      "outputs": []
    },
    {
      "cell_type": "code",
      "source": [
        "companies[0]"
      ],
      "metadata": {
        "colab": {
          "base_uri": "https://localhost:8080/"
        },
        "id": "5NAbL0kcrHwG",
        "outputId": "647127ac-18da-48e0-f950-8aaca3e87703"
      },
      "execution_count": null,
      "outputs": [
        {
          "output_type": "execute_result",
          "data": {
            "text/plain": [
              "<div class=\"single_result_wrapper inline-pv organic_result adsize mpvcard_8148862_0\" data-account=\"8148862\" data-companyname=\"\" data-proview-url=\"/iProView/1701820/a-better-moving-storage-co-inc/subcontractors/\" data-proviewid=\"1701820\" data-seq=\"0\" itemscope=\"\" itemtype=\"http://schema.org/LocalBusiness\" onclick=\"showInlineProview('data-proview-url')\">\n",
              "<div class=\"media\">\n",
              "<div class=\"upper-content\">\n",
              "<div class=\"media-left\">\n",
              "<div class=\"result_check\" onclick=\"checkMPVCard('8148862|0', 8148862, 0);\">\n",
              "<input class=\"chkselvend\" id=\"acct8148862\" name=\"acct8148862\" type=\"checkbox\" value=\"8148862|0\"/>\n",
              "<label for=\"acct8148862\"></label>\n",
              "</div>\n",
              "<div class=\"cname-mobile\">\n",
              "<a class=\"company-name-btn\" href=\"/iProView/1701820\" target=\"_blank\">\n",
              "<h3 class=\"cname\" itemprop=\"name\">A Better Moving &amp; Storage Co., Inc.</h3>\n",
              "</a>\n",
              "</div>\n",
              "</div>\n",
              "<div class=\"media-body media-left-padding\" style=\"color:#000;\">\n",
              "<div class=\"connection-btn-wrapper\"></div>\n",
              "<div class=\"header\">\n",
              "<div class=\"cname-wrapper\">\n",
              "<div class=\"company-name-wrapper\">\n",
              "<a class=\"company-name-btn\" href=\"/iProView/1701820\" target=\"_blank\">\n",
              "<h3 class=\"cname\" itemprop=\"name\">A Better Moving &amp; Storage Co., Inc.</h3>\n",
              "</a><bb-engage-activity-button account=\"8148862\" count=\"0\" id=\"en8148862\" size=\"icon-only\"></bb-engage-activity-button>\n",
              "</div>\n",
              "<div class=\"serving-areas\" title=\"California-Redding, Chico, Yuba City\"><span>Serving California-Redding, Chico, Yuba City…</span> <a class=\"more-btn inline-pv\" href=\"/iProView/1701820/a-better-moving-storage-co-inc/subcontractors/#gsaSection\">more</a></div>\n",
              "</div>\n",
              "</div>\n",
              "</div>\n",
              "</div>\n",
              "<div class=\"lower-content\">\n",
              "<div class=\"scroll-end-gradient\"> </div><div class=\"actions alphas-padding\">\n",
              "<a class=\"request-a-quote-btn act_button\" href=\"#\" onclick=\"launchSearchandSendModal('8148862|0', 8148862, 0); return false;\"><span>Request a Quote</span></a>\n",
              "<a class=\"contact-us-btn act_button\" href=\"/iProView/1701820/a-better-moving-storage-co-inc/subcontractors/locations-contacts/\" target=\"_blank\"><span>Contact Us</span></a>\n",
              "<a class=\"about-us-btn act_button\" href=\"/iProView/1701820/a-better-moving-storage-co-inc/subcontractors/\" onclick=\"woTracker('/wsnsa.dll/WService=wsbrk1/tracking/wotrack.htm?account=8148862&amp;seq=0&amp;type=external&amp;url=%2FiProView%2F1701820');\" target=\"_blank\" title=\"\"><span>About Us</span></a><a class=\"follow-btn act_button\" href=\"https://www.thebluebook.com/register.html\" target=\"_blank\" title=\"Add to My Targets\"><i class=\"fa fa-check\"></i>Follow</a>\n",
              "</div>\n",
              "</div>\n",
              "</div>\n",
              "</div>"
            ]
          },
          "metadata": {},
          "execution_count": 5
        }
      ]
    },
    {
      "cell_type": "code",
      "source": [
        "company_info = []\n",
        "\n",
        "for company in companies:\n",
        "  # Extract company name\n",
        "  company_name = company.find('h3', class_='cname').get_text()\n",
        "\n",
        "  # Extract company id (data-proviewid)\n",
        "  # company_id = company.find('div', class_='organic_result')\n",
        "\n",
        "  # Extract URL\n",
        "  url = company.find('div', class_='serving-areas').find('a').get('href')\n",
        "\n",
        "  # Extract serving areas and remove the word \"Serving\"\n",
        "  serving_areas = company.find('div', class_='serving-areas')['title']\n",
        "\n",
        "  company_info.append({\n",
        "      'company_name': company_name,\n",
        "      'url': base_url + url,\n",
        "      'serving_areas': serving_areas\n",
        "  })\n",
        "\n",
        "company_info\n",
        "# company_id"
      ],
      "metadata": {
        "id": "F074-d7xpYqv"
      },
      "execution_count": null,
      "outputs": []
    },
    {
      "cell_type": "code",
      "source": [
        "base_url = \"https://www.thebluebook.com\"\n",
        "page = 1\n",
        "company_info = []\n",
        "\n",
        "while True:\n",
        "    # Fetch the page\n",
        "    print(f\"Fetching page {page}\")\n",
        "    res = requests.get(f\"https://www.thebluebook.com/search.html?region=33&searchsrc=&class=4704&searchTerm=Office+Relocation+%26+Logistics&page={page}\")\n",
        "    soup = BeautifulSoup(res.text, 'html.parser')\n",
        "\n",
        "    # Find all company result divs\n",
        "    companies = soup.find_all(\"div\", class_=\"single_result_wrapper\")\n",
        "\n",
        "    # Break the loop if no companies are found\n",
        "    if not companies:\n",
        "        break\n",
        "\n",
        "    # Loop through companies and extract info\n",
        "    for company in companies:\n",
        "        # Extract company name\n",
        "        company_name = company.find('h3', class_='cname').get_text()\n",
        "\n",
        "        # Extract URL\n",
        "        url = company.find('div', class_='serving-areas').find('a').get('href')\n",
        "\n",
        "        # Extract serving areas from the title attribute\n",
        "        serving_areas = company.find('div', class_='serving-areas')['title']\n",
        "\n",
        "        # Append the information to the list\n",
        "        company_info.append({\n",
        "            'company_name': company_name,\n",
        "            'url': base_url + url,\n",
        "            'serving_areas': serving_areas\n",
        "        })\n",
        "\n",
        "    # Go to the next page\n",
        "    page += 1\n",
        "\n",
        "company_info"
      ],
      "metadata": {
        "colab": {
          "base_uri": "https://localhost:8080/"
        },
        "id": "NQD62yBuuRD1",
        "outputId": "58292ea9-9e6e-48b4-e90a-0c86ef316755"
      },
      "execution_count": null,
      "outputs": [
        {
          "output_type": "stream",
          "name": "stdout",
          "text": [
            "Fetching page 1\n",
            "Fetching page 2\n",
            "Fetching page 3\n"
          ]
        },
        {
          "output_type": "execute_result",
          "data": {
            "text/plain": [
              "[{'company_name': 'A Better Moving & Storage Co., Inc.',\n",
              "  'url': 'https://www.thebluebook.com/iProView/1701820/a-better-moving-storage-co-inc/subcontractors/#gsaSection',\n",
              "  'serving_areas': 'California-Redding, Chico, Yuba City'},\n",
              " {'company_name': 'AP Freight Inc.',\n",
              "  'url': 'https://www.thebluebook.com/iProView/1863541/ap-freight-inc/subcontractors/#gsaSection',\n",
              "  'serving_areas': 'California-Redding, Chico, Yuba City'},\n",
              " {'company_name': 'ATS',\n",
              "  'url': 'https://www.thebluebook.com/iProView/1573038/ats/subcontractors/#gsaSection',\n",
              "  'serving_areas': 'California-Redding, Chico, Yuba City'},\n",
              " {'company_name': 'All American Moving Service',\n",
              "  'url': 'https://www.thebluebook.com/iProView/1679349/all-american-moving-service/subcontractors/#gsaSection',\n",
              "  'serving_areas': 'California-Redding, Chico, Yuba City'},\n",
              " {'company_name': \"Brady's Moving & Storage, Inc.\",\n",
              "  'url': 'https://www.thebluebook.com#gsaSection',\n",
              "  'serving_areas': 'California-Redding, Chico, Yuba City'},\n",
              " {'company_name': 'Budget Moving & Storage',\n",
              "  'url': 'https://www.thebluebook.com/iProView/1678844/budget-moving-storage/subcontractors/#gsaSection',\n",
              "  'serving_areas': 'California-Redding, Chico, Yuba City'},\n",
              " {'company_name': 'C.H. Robinson Worldwide, Inc.',\n",
              "  'url': 'https://www.thebluebook.com/iProView/1632504/c-h-robinson-worldwide-inc/subcontractors/#gsaSection',\n",
              "  'serving_areas': 'California-Redding, Chico, Yuba City'},\n",
              " {'company_name': \"Cal Bennett's & All-Ways Moving\",\n",
              "  'url': 'https://www.thebluebook.com/iProView/350866/cal-bennett-s-all-ways-moving/material-suppliers/#gsaSection',\n",
              "  'serving_areas': 'California-Redding, Chico, Yuba City'},\n",
              " {'company_name': 'Casey Moving Systems',\n",
              "  'url': 'https://www.thebluebook.com/iProView/1680321/casey-moving-systems/subcontractors/#gsaSection',\n",
              "  'serving_areas': 'California-Redding, Chico, Yuba City'},\n",
              " {'company_name': 'Chipman Relocation & Logistics',\n",
              "  'url': 'https://www.thebluebook.com/iProView/1234487/chipman-relocation-logistics/subcontractors/#gsaSection',\n",
              "  'serving_areas': 'California-Redding, Chico, Yuba City'},\n",
              " {'company_name': 'Colonial Van & Storage, Inc.',\n",
              "  'url': 'https://www.thebluebook.com/iProView/1463828/colonial-van-storage-inc/subcontractors/#gsaSection',\n",
              "  'serving_areas': 'California-Redding, Chico, Yuba City'},\n",
              " {'company_name': 'Colonial Van & Storage, Inc.',\n",
              "  'url': 'https://www.thebluebook.com/iProView/1202995/colonial-van-storage-inc/subcontractors/#gsaSection',\n",
              "  'serving_areas': 'California-Redding, Chico, Yuba City'},\n",
              " {'company_name': 'Courtesy Moving & Storage',\n",
              "  'url': 'https://www.thebluebook.com/iProView/1678792/courtesy-moving-storage/subcontractors/#gsaSection',\n",
              "  'serving_areas': 'California-Redding, Chico, Yuba City'},\n",
              " {'company_name': 'Economy Movers',\n",
              "  'url': 'https://www.thebluebook.com/iProView/1680861/economy-movers/subcontractors/#gsaSection',\n",
              "  'serving_areas': 'California-Redding, Chico, Yuba City'},\n",
              " {'company_name': 'Ellco Transportation, Inc.',\n",
              "  'url': 'https://www.thebluebook.com/iProView/1625075/ellco-transportation-inc/subcontractors/#gsaSection',\n",
              "  'serving_areas': 'California-Redding, Chico, Yuba City'},\n",
              " {'company_name': \"Ernie's Van & Storage\",\n",
              "  'url': 'https://www.thebluebook.com#gsaSection',\n",
              "  'serving_areas': 'California-Redding, Chico, Yuba City'},\n",
              " {'company_name': 'Excel Relocation Systems',\n",
              "  'url': 'https://www.thebluebook.com/iProView/1324126/excel-relocation-systems/subcontractors/#gsaSection',\n",
              "  'serving_areas': 'California-Redding, Chico, Yuba City'},\n",
              " {'company_name': 'Fisher Brothers Logistics Inc.',\n",
              "  'url': 'https://www.thebluebook.com/iProView/1850258/fisher-brothers-logistics-inc/subcontractors/#gsaSection',\n",
              "  'serving_areas': 'California-Redding, Chico, Yuba City'},\n",
              " {'company_name': 'GDS Moving & Installing, Inc.',\n",
              "  'url': 'https://www.thebluebook.com/iProView/1521731/gds-moving-installing-inc/subcontractors/#gsaSection',\n",
              "  'serving_areas': 'California-Redding, Chico, Yuba City'},\n",
              " {'company_name': 'Gazelle Transportation LLC',\n",
              "  'url': 'https://www.thebluebook.com/iProView/1625212/gazelle-transportation-llc/subcontractors/#gsaSection',\n",
              "  'serving_areas': 'California-Redding, Chico, Yuba City'},\n",
              " {'company_name': 'Great American Movers',\n",
              "  'url': 'https://www.thebluebook.com/iProView/1681279/great-american-movers/subcontractors/#gsaSection',\n",
              "  'serving_areas': 'California-Redding, Chico, Yuba City'},\n",
              " {'company_name': \"Hansen's Moving & Storage, Inc.\",\n",
              "  'url': 'https://www.thebluebook.com/iProView/1625213/hansen-s-moving-storage-inc/subcontractors/#gsaSection',\n",
              "  'serving_areas': 'California-Redding, Chico, Yuba City'},\n",
              " {'company_name': 'Humboldt Moving & Storage Co.',\n",
              "  'url': 'https://www.thebluebook.com/iProView/1681747/humboldt-moving-storage-co/subcontractors/#gsaSection',\n",
              "  'serving_areas': 'California-Redding, Chico, Yuba City'},\n",
              " {'company_name': 'Inland Star Distribution Centers, Inc.',\n",
              "  'url': 'https://www.thebluebook.com#gsaSection',\n",
              "  'serving_areas': 'California-Redding, Chico, Yuba City'},\n",
              " {'company_name': 'Interior Logic Group Builder Services',\n",
              "  'url': 'https://www.thebluebook.com/iProView/1603417/interior-logic-group-builder-services/subcontractors/#gsaSection',\n",
              "  'serving_areas': 'California-Redding, Chico, Yuba City'},\n",
              " {'company_name': 'JC Trucking Co.',\n",
              "  'url': 'https://www.thebluebook.com#gsaSection',\n",
              "  'serving_areas': 'California-Redding, Chico, Yuba City'},\n",
              " {'company_name': 'Jack & Jeff Transfer',\n",
              "  'url': 'https://www.thebluebook.com/iProView/1626245/jack-jeff-transfer-co/subcontractors/#gsaSection',\n",
              "  'serving_areas': 'California-Redding, Chico, Yuba City'},\n",
              " {'company_name': 'Just In Time Logistics',\n",
              "  'url': 'https://www.thebluebook.com#gsaSection',\n",
              "  'serving_areas': 'California-Redding, Chico, Yuba City'},\n",
              " {'company_name': 'Lemoore Van & Storage, Inc.',\n",
              "  'url': 'https://www.thebluebook.com/iProView/1632524/lemoore-van-storage-inc/subcontractors/#gsaSection',\n",
              "  'serving_areas': 'California-Redding, Chico, Yuba City'},\n",
              " {'company_name': 'Mother Lode Van & Storage',\n",
              "  'url': 'https://www.thebluebook.com/iProView/1297898/mother-lode-van-storage/subcontractors/#gsaSection',\n",
              "  'serving_areas': 'California-Redding, Chico, Yuba City'},\n",
              " {'company_name': 'Owens Brothers Transfer',\n",
              "  'url': 'https://www.thebluebook.com/iProView/1626240/owens-brothers-transfer/subcontractors/#gsaSection',\n",
              "  'serving_areas': 'California-Redding, Chico, Yuba City'},\n",
              " {'company_name': 'Pacific Storage Company',\n",
              "  'url': 'https://www.thebluebook.com/iProView/1570900/pacific-storage-company/subcontractors/#gsaSection',\n",
              "  'serving_areas': 'California-Redding, Chico, Yuba City'},\n",
              " {'company_name': 'Ruan',\n",
              "  'url': 'https://www.thebluebook.com/iProView/1625103/ruan/subcontractors/#gsaSection',\n",
              "  'serving_areas': 'California-Redding, Chico, Yuba City'},\n",
              " {'company_name': 'Sierra Valley Moving & Storage, Inc.',\n",
              "  'url': 'https://www.thebluebook.com/iProView/1519263/sierra-valley-moving-storage-inc/subcontractors/#gsaSection',\n",
              "  'serving_areas': 'California-Redding, Chico, Yuba City'},\n",
              " {'company_name': 'Slingshot Transportation, Inc.',\n",
              "  'url': 'https://www.thebluebook.com#gsaSection',\n",
              "  'serving_areas': 'California-Redding, Chico, Yuba City'},\n",
              " {'company_name': 'Smooth Move USA',\n",
              "  'url': 'https://www.thebluebook.com/iProView/1605594/smooth-move-usa/subcontractors/#gsaSection',\n",
              "  'serving_areas': 'California-Redding, Chico, Yuba City'},\n",
              " {'company_name': 'Sorenson Moving & Storage',\n",
              "  'url': 'https://www.thebluebook.com#gsaSection',\n",
              "  'serving_areas': 'California-Redding, Chico, Yuba City'},\n",
              " {'company_name': 'Sunrise Trucking, Inc.',\n",
              "  'url': 'https://www.thebluebook.com/iProView/1628737/sunrise-trucking-inc/subcontractors/#gsaSection',\n",
              "  'serving_areas': 'California-Redding, Chico, Yuba City'},\n",
              " {'company_name': 'Superb Transport, Inc.',\n",
              "  'url': 'https://www.thebluebook.com#gsaSection',\n",
              "  'serving_areas': 'California-Redding, Chico, Yuba City'},\n",
              " {'company_name': 'Superior Truck Lines, Inc.',\n",
              "  'url': 'https://www.thebluebook.com#gsaSection',\n",
              "  'serving_areas': 'California-Redding, Chico, Yuba City'},\n",
              " {'company_name': 'Tailored Living',\n",
              "  'url': 'https://www.thebluebook.com/iProView/1387977/tailored-living/subcontractors/#gsaSection',\n",
              "  'serving_areas': 'California-Redding, Chico, Yuba City'},\n",
              " {'company_name': 'Wildwood Express',\n",
              "  'url': 'https://www.thebluebook.com#gsaSection',\n",
              "  'serving_areas': 'California-Redding, Chico, Yuba City'}]"
            ]
          },
          "metadata": {},
          "execution_count": 25
        }
      ]
    },
    {
      "cell_type": "code",
      "source": [
        "url = \"https://www.thebluebook.com/iProView/1701820/a-better-moving-storage-co-inc\"\n",
        "res = requests.get(url)\n",
        "soup = BeautifulSoup(res.text, 'html.parser')\n",
        "soup"
      ],
      "metadata": {
        "id": "qZYiv0qC-8Rn"
      },
      "execution_count": null,
      "outputs": []
    },
    {
      "cell_type": "code",
      "source": [
        "name = soup.find('h1', class_='mb-0').get_text()\n",
        "license = soup.find('p', class_='company-head-span').get_text()\n",
        "phone = soup.find('span', class_='phoneDisp').get_text()\n",
        "website = soup.find('a', class_='pvInfo-website').get('href')\n",
        "\n",
        "infoItems = soup.find('div', id='companyInfoSection').find('div', class_='card-body').find_all('li', class_='list-inline-item')\n",
        "# Extract and store company information\n",
        "companyInfo = {}\n",
        "\n",
        "for item in infoItems:\n",
        "    # Extract the label (inside <strong>)\n",
        "    label = item.find('strong').get_text(strip=True)\n",
        "\n",
        "    # Extract the corresponding value (text after <strong>)\n",
        "    value = item.get_text(strip=True).replace(label, '').strip()\n",
        "\n",
        "    # Add to the dictionary\n",
        "    companyInfo[label] = value\n",
        "\n",
        "# Convert to clean text format with new lines\n",
        "companyInfo = \"\\n\".join(f\"{label}: {value}\" for label, value in companyInfo.items())\n",
        "\n",
        "\n",
        "# Extract all <p> tags\n",
        "aboutUs = soup.find('div', id='ourStoryDispContainer').find_all('p')\n",
        "\n",
        "# Join the text content of each <p> tag with a space between them\n",
        "aboutUs = \"\\n\".join(p.get_text(strip=True) for p in aboutUs)"
      ],
      "metadata": {
        "colab": {
          "base_uri": "https://localhost:8080/",
          "height": 35
        },
        "id": "2ISu1wyaBWiC",
        "outputId": "348d9fd6-59af-4f7c-bbab-4473e9f8b49a"
      },
      "execution_count": 37,
      "outputs": [
        {
          "output_type": "execute_result",
          "data": {
            "text/plain": [
              "'Our main lines of business include: Office Relocation & Logistics.\\nA Better Moving & Storage Co., Inc. has been listed in the Blue Book since 2019.'"
            ],
            "application/vnd.google.colaboratory.intrinsic+json": {
              "type": "string"
            }
          },
          "metadata": {},
          "execution_count": 37
        }
      ]
    },
    {
      "cell_type": "code",
      "source": [
        "# Find the list of services\n",
        "services_list = soup.find('ul', id='v-pills-tabContent')\n",
        "\n",
        "# Extract all services (text inside <strong> tags)\n",
        "services = [service.get_text(strip=True) for service in services_list.find_all('strong')]\n",
        "\n",
        "# Convert the services into a clean text format with new lines\n",
        "clean_services = \"\\n\".join(services)\n",
        "\n",
        "# Print the clean services output\n",
        "print(clean_services)"
      ],
      "metadata": {
        "colab": {
          "base_uri": "https://localhost:8080/"
        },
        "id": "re1JuDf0P9Ij",
        "outputId": "167b3e08-0701-4135-ead7-aad60cd6ca8a"
      },
      "execution_count": 42,
      "outputs": [
        {
          "output_type": "stream",
          "name": "stdout",
          "text": [
            "Office Relocation & Logistics\n"
          ]
        }
      ]
    },
    {
      "cell_type": "code",
      "source": [
        "# Find the list of experiences\n",
        "experience_list = soup.find('div', id='commercialExperienceDispListing')\n",
        "\n",
        "# Check if the experience list exists\n",
        "if experience_list:\n",
        "    # Extract all experiences (text inside <span> tags)\n",
        "    experiences = [exp.get_text(strip=True) for exp in experience_list.find_all('span')]\n",
        "\n",
        "    # Convert the experiences into a clean text format with new lines\n",
        "    clean_experiences = \"\\n\".join(experiences)\n",
        "else:\n",
        "    # Handle the case when no experiences are found\n",
        "    clean_experiences = \"No commercial experience found.\"\n",
        "\n",
        "# Output the result\n",
        "print(clean_experiences)"
      ],
      "metadata": {
        "colab": {
          "base_uri": "https://localhost:8080/"
        },
        "id": "nq-6_BDhQ8MF",
        "outputId": "92d44715-5b0e-4089-9594-bb258c39205a"
      },
      "execution_count": 44,
      "outputs": [
        {
          "output_type": "stream",
          "name": "stdout",
          "text": [
            "No commercial experience found.\n"
          ]
        }
      ]
    },
    {
      "cell_type": "code",
      "source": [
        "# Find the list of service areas\n",
        "service_area_list = soup.find('div', id='gsaSection').find('ul', class_='list-inline')\n",
        "\n",
        "# Check if the service area list exists\n",
        "if service_area_list:\n",
        "    # Extract all service areas (text inside <li> tags)\n",
        "    service_areas = [li.get_text(strip=True) for li in service_area_list.find_all('li')]\n",
        "\n",
        "    # Convert the service areas into a clean text format with new lines\n",
        "    clean_service_areas = \"\\n\".join(service_areas)\n",
        "else:\n",
        "    # Handle the case when no service areas are found\n",
        "    clean_service_areas = \"No service areas found.\"\n",
        "\n",
        "# Output the result\n",
        "print(clean_service_areas)"
      ],
      "metadata": {
        "colab": {
          "base_uri": "https://localhost:8080/"
        },
        "id": "sxoopAZEVn7I",
        "outputId": "3fa3e51e-fad7-4803-f6c5-4b7a98122745"
      },
      "execution_count": 45,
      "outputs": [
        {
          "output_type": "stream",
          "name": "stdout",
          "text": [
            "California-Central Valley-Sacramento, Fresno, Bakersfield\n"
          ]
        }
      ]
    },
    {
      "cell_type": "code",
      "source": [
        "import requests\n",
        "from bs4 import BeautifulSoup\n",
        "\n",
        "# Define the URL\n",
        "url = \"https://www.thebluebook.com/iProView/1701820/a-better-moving-storage-co-inc\"\n",
        "\n",
        "# Request and parse the webpage\n",
        "try:\n",
        "    res = requests.get(url)\n",
        "    res.raise_for_status()  # Ensure the request was successful\n",
        "    soup = BeautifulSoup(res.text, 'html.parser')\n",
        "except requests.exceptions.RequestException as e:\n",
        "    print(f\"Error fetching the page: {e}\")\n",
        "    soup = None\n",
        "\n",
        "# Extract company information only if the page is fetched successfully\n",
        "if soup:\n",
        "    # Extract company name\n",
        "    try:\n",
        "        name = soup.find('h1', class_='mb-0').get_text(strip=True)\n",
        "    except AttributeError:\n",
        "        name = \"Company name not found.\"\n",
        "\n",
        "    # Extract license info\n",
        "    try:\n",
        "        license = soup.find('p', class_='company-head-span').get_text(strip=True)\n",
        "    except AttributeError:\n",
        "        license = \"License information not found.\"\n",
        "\n",
        "    # Extract phone number\n",
        "    try:\n",
        "        phone = soup.find('span', class_='phoneDisp').get_text(strip=True)\n",
        "    except AttributeError:\n",
        "        phone = \"Phone number not found.\"\n",
        "\n",
        "    # Extract website\n",
        "    try:\n",
        "        website = soup.find('a', class_='pvInfo-website').get('href')\n",
        "    except AttributeError:\n",
        "        website = \"Website not found.\"\n",
        "\n",
        "    # Extract additional company information from the list items\n",
        "    companyInfo = {}\n",
        "    try:\n",
        "        infoItems = soup.find('div', id='companyInfoSection').find('div', class_='card-body').find_all('li', class_='list-inline-item')\n",
        "        for item in infoItems:\n",
        "            label = item.find('strong').get_text(strip=True)\n",
        "            value = item.get_text(strip=True).replace(label, '').strip()\n",
        "            companyInfo[label] = value\n",
        "    except AttributeError:\n",
        "        companyInfo = {}\n",
        "\n",
        "    # Convert company information to a clean text format\n",
        "    companyInfo_text = \"\\n\".join(f\"{label}: {value}\" for label, value in companyInfo.items()) if companyInfo else \"No additional company info found.\"\n",
        "\n",
        "    # Extract 'About Us' section\n",
        "    try:\n",
        "        aboutUs = soup.find('div', id='ourStoryDispContainer').find_all('p')\n",
        "        aboutUs_text = \"\\n\".join(p.get_text(strip=True) for p in aboutUs)\n",
        "    except AttributeError:\n",
        "        aboutUs_text = \"About Us section not found.\"\n",
        "\n",
        "    # Extract the list of services\n",
        "    try:\n",
        "        services_list = soup.find('ul', id='v-pills-tabContent')\n",
        "        services = [service.get_text(strip=True) for service in services_list.find_all('strong')]\n",
        "        clean_services = \"\\n\".join(services)\n",
        "    except AttributeError:\n",
        "        clean_services = \"Services not found.\"\n",
        "\n",
        "    # Extract commercial experience\n",
        "    try:\n",
        "        experience_list = soup.find('div', id='commercialExperienceDispListing')\n",
        "        if experience_list:\n",
        "            experiences = [exp.get_text(strip=True) for exp in experience_list.find_all('span')]\n",
        "            clean_experiences = \"\\n\".join(experiences)\n",
        "        else:\n",
        "            clean_experiences = \"No commercial experience found.\"\n",
        "    except AttributeError:\n",
        "        clean_experiences = \"Commercial experience section not found.\"\n",
        "\n",
        "    # Extract service areas\n",
        "    try:\n",
        "        service_area_list = soup.find('div', id='gsaSection').find('ul', class_='list-inline')\n",
        "        if service_area_list:\n",
        "            service_areas = [li.get_text(strip=True) for li in service_area_list.find_all('li')]\n",
        "            clean_service_areas = \"\\n\".join(service_areas)\n",
        "        else:\n",
        "            clean_service_areas = \"No service areas found.\"\n",
        "    except AttributeError:\n",
        "        clean_service_areas = \"Service areas section not found.\"\n",
        "\n",
        "    # Print or return the extracted information\n",
        "    print(f\"Name: {name}\")\n",
        "    print(f\"License: {license}\")\n",
        "    print(f\"Phone: {phone}\")\n",
        "    print(f\"Website: {website}\")\n",
        "    print(f\"Company Info:\\n{companyInfo_text}\")\n",
        "    print(f\"About Us:\\n{aboutUs_text}\")\n",
        "    print(f\"Services:\\n{clean_services}\")\n",
        "    print(f\"Commercial Experience:\\n{clean_experiences}\")\n",
        "    print(f\"Service Areas:\\n{clean_service_areas}\")\n",
        "else:\n",
        "    print(\"Failed to process the webpage.\")\n"
      ],
      "metadata": {
        "colab": {
          "base_uri": "https://localhost:8080/"
        },
        "id": "JsHrr_e2XX2_",
        "outputId": "a0603d27-8004-4017-c1cc-7b34401940e1"
      },
      "execution_count": 46,
      "outputs": [
        {
          "output_type": "stream",
          "name": "stdout",
          "text": [
            "Name: A Better Moving & Storage Co., Inc.\n",
            "License: Carmichael, CA 95608\n",
            "Phone: (916) 489-3322\n",
            "Website: http://abettermoving.com/?utm_source=thebluebook&utm_medium=proview&utm_campaign=thebluebook\n",
            "Company Info:\n",
            "Est.: 1979\n",
            "Annual Vol: Not Provided\n",
            "About Us:\n",
            "Our main lines of business include: Office Relocation & Logistics.\n",
            "A Better Moving & Storage Co., Inc. has been listed in the Blue Book since 2019.\n",
            "Services:\n",
            "Office Relocation & Logistics\n",
            "Commercial Experience:\n",
            "No commercial experience found.\n",
            "Service Areas:\n",
            "California-Central Valley-Sacramento, Fresno, Bakersfield\n"
          ]
        }
      ]
    }
  ]
}