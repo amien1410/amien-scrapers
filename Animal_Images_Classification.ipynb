{
  "nbformat": 4,
  "nbformat_minor": 0,
  "metadata": {
    "colab": {
      "provenance": [],
      "authorship_tag": "ABX9TyPj3FPcsKcQvp09ksiAiqL8",
      "include_colab_link": true
    },
    "kernelspec": {
      "name": "python3",
      "display_name": "Python 3"
    },
    "language_info": {
      "name": "python"
    }
  },
  "cells": [
    {
      "cell_type": "markdown",
      "metadata": {
        "id": "view-in-github",
        "colab_type": "text"
      },
      "source": [
        "<a href=\"https://colab.research.google.com/github/amien1410/amien-scrapers/blob/main/Animal_Images_Classification.ipynb\" target=\"_parent\"><img src=\"https://colab.research.google.com/assets/colab-badge.svg\" alt=\"Open In Colab\"/></a>"
      ]
    },
    {
      "cell_type": "code",
      "execution_count": 1,
      "metadata": {
        "colab": {
          "base_uri": "https://localhost:8080/"
        },
        "id": "O2QphRQ-rhmN",
        "outputId": "7e104ac1-8e11-4048-f107-998c0320f31c"
      },
      "outputs": [
        {
          "output_type": "stream",
          "name": "stdout",
          "text": [
            "Mounted at /content/drive\n",
            "Requirement already satisfied: kaggle in /usr/local/lib/python3.11/dist-packages (1.7.4.5)\n",
            "Requirement already satisfied: bleach in /usr/local/lib/python3.11/dist-packages (from kaggle) (6.2.0)\n",
            "Requirement already satisfied: certifi>=14.05.14 in /usr/local/lib/python3.11/dist-packages (from kaggle) (2025.7.14)\n",
            "Requirement already satisfied: charset-normalizer in /usr/local/lib/python3.11/dist-packages (from kaggle) (3.4.2)\n",
            "Requirement already satisfied: idna in /usr/local/lib/python3.11/dist-packages (from kaggle) (3.10)\n",
            "Requirement already satisfied: protobuf in /usr/local/lib/python3.11/dist-packages (from kaggle) (5.29.5)\n",
            "Requirement already satisfied: python-dateutil>=2.5.3 in /usr/local/lib/python3.11/dist-packages (from kaggle) (2.9.0.post0)\n",
            "Requirement already satisfied: python-slugify in /usr/local/lib/python3.11/dist-packages (from kaggle) (8.0.4)\n",
            "Requirement already satisfied: requests in /usr/local/lib/python3.11/dist-packages (from kaggle) (2.32.3)\n",
            "Requirement already satisfied: setuptools>=21.0.0 in /usr/local/lib/python3.11/dist-packages (from kaggle) (75.2.0)\n",
            "Requirement already satisfied: six>=1.10 in /usr/local/lib/python3.11/dist-packages (from kaggle) (1.17.0)\n",
            "Requirement already satisfied: text-unidecode in /usr/local/lib/python3.11/dist-packages (from kaggle) (1.3)\n",
            "Requirement already satisfied: tqdm in /usr/local/lib/python3.11/dist-packages (from kaggle) (4.67.1)\n",
            "Requirement already satisfied: urllib3>=1.15.1 in /usr/local/lib/python3.11/dist-packages (from kaggle) (2.5.0)\n",
            "Requirement already satisfied: webencodings in /usr/local/lib/python3.11/dist-packages (from kaggle) (0.5.1)\n",
            "Dataset URL: https://www.kaggle.com/datasets/alessiocorrado99/animals10\n",
            "License(s): GPL-2.0\n",
            "Downloading animals10.zip to /content\n",
            " 99% 579M/586M [00:03<00:00, 121MB/s] \n",
            "100% 586M/586M [00:03<00:00, 185MB/s]\n"
          ]
        }
      ],
      "source": [
        "#@title Install Kaggle modules and download the dataset\n",
        "\n",
        "from google.colab import drive\n",
        "drive.mount('/content/drive')\n",
        "\n",
        "!pip install kaggle\n",
        "import os\n",
        "os.environ['KAGGLE_CONFIG_DIR'] = '/content/drive/MyDrive/kaggle'\n",
        "!kaggle datasets download -d alessiocorrado99/animals10\n",
        "!unzip -q \"/content/animals10.zip\""
      ]
    },
    {
      "cell_type": "code",
      "source": [
        "# Import Data Science Libraries\n",
        "import numpy as np\n",
        "import pandas as pd\n",
        "import tensorflow as tf\n",
        "from sklearn.model_selection import train_test_split\n",
        "import itertools\n",
        "import random\n",
        "\n",
        "# Import visualization libraries\n",
        "import matplotlib.pyplot as plt\n",
        "import matplotlib.cm as cm\n",
        "import cv2\n",
        "import seaborn as sns\n",
        "\n",
        "# Tensorflow Libraries\n",
        "from tensorflow import keras\n",
        "from tensorflow.keras import layers,models\n",
        "from tensorflow.keras.preprocessing.image import ImageDataGenerator\n",
        "from tensorflow.keras.layers import Dense, Dropout, BatchNormalization\n",
        "from tensorflow.keras.callbacks import Callback, EarlyStopping,ModelCheckpoint, ReduceLROnPlateau\n",
        "from tensorflow.keras import Model\n",
        "from tensorflow.keras.optimizers import Adam\n",
        "\n",
        "# System libraries\n",
        "from pathlib import Path\n",
        "import os.path\n",
        "\n",
        "# Metrics\n",
        "from sklearn.metrics import classification_report, confusion_matrix\n",
        "\n",
        "sns.set_style('darkgrid')"
      ],
      "metadata": {
        "id": "pwkok3zltO6h"
      },
      "execution_count": 4,
      "outputs": []
    },
    {
      "cell_type": "code",
      "source": [
        "# Seed Everything to reproduce results for future use cases\n",
        "def seed_everything(seed=42):\n",
        "    # Seed value for TensorFlow\n",
        "    tf.random.set_seed(seed)\n",
        "\n",
        "    # Seed value for NumPy\n",
        "    np.random.seed(seed)\n",
        "\n",
        "    # Seed value for Python's random library\n",
        "    random.seed(seed)\n",
        "\n",
        "    # Force TensorFlow to use single thread\n",
        "    # Multiple threads are a potential source of non-reproducible results.\n",
        "    session_conf = tf.compat.v1.ConfigProto(\n",
        "        intra_op_parallelism_threads=1,\n",
        "        inter_op_parallelism_threads=1\n",
        "    )\n",
        "\n",
        "    # Make sure that TensorFlow uses a deterministic operation wherever possible\n",
        "    tf.compat.v1.set_random_seed(seed)\n",
        "\n",
        "    # The following line is removed as set_session is not available in TF2.x\n",
        "    # sess = tf.compat.v1.Session(graph=tf.compat.v1.get_default_graph(), config=session_conf)\n",
        "    # tf.compat.v1.keras.backend.set_session(sess)\n",
        "\n",
        "seed_everything()"
      ],
      "metadata": {
        "id": "18JfFUO7tqRf"
      },
      "execution_count": 6,
      "outputs": []
    },
    {
      "cell_type": "code",
      "source": [
        "!wget https://raw.githubusercontent.com/mrdbourke/tensorflow-deep-learning/main/extras/helper_functions.py\n",
        "\n",
        "# Import series of helper functions for our notebook\n",
        "from helper_functions import create_tensorboard_callback, plot_loss_curves, unzip_data, compare_historys, walk_through_dir, pred_and_plot"
      ],
      "metadata": {
        "colab": {
          "base_uri": "https://localhost:8080/"
        },
        "id": "v_rzTGVKt9Bd",
        "outputId": "a0d5ebe3-515b-42b0-9ebc-db5e7cfde410"
      },
      "execution_count": 7,
      "outputs": [
        {
          "output_type": "stream",
          "name": "stdout",
          "text": [
            "--2025-08-02 02:59:11--  https://raw.githubusercontent.com/mrdbourke/tensorflow-deep-learning/main/extras/helper_functions.py\n",
            "Resolving raw.githubusercontent.com (raw.githubusercontent.com)... 185.199.109.133, 185.199.108.133, 185.199.110.133, ...\n",
            "Connecting to raw.githubusercontent.com (raw.githubusercontent.com)|185.199.109.133|:443... connected.\n",
            "HTTP request sent, awaiting response... 200 OK\n",
            "Length: 10246 (10K) [text/plain]\n",
            "Saving to: ‘helper_functions.py’\n",
            "\n",
            "\rhelper_functions.py   0%[                    ]       0  --.-KB/s               \rhelper_functions.py 100%[===================>]  10.01K  --.-KB/s    in 0s      \n",
            "\n",
            "2025-08-02 02:59:11 (71.0 MB/s) - ‘helper_functions.py’ saved [10246/10246]\n",
            "\n"
          ]
        }
      ]
    },
    {
      "cell_type": "code",
      "source": [
        "BATCH_SIZE = 32\n",
        "TARGET_SIZE = (224, 224)"
      ],
      "metadata": {
        "id": "PhNRnaR4uFcB"
      },
      "execution_count": 8,
      "outputs": []
    },
    {
      "cell_type": "code",
      "source": [
        "# Walk through each directory\n",
        "dataset = \"/content/raw-img\"\n",
        "walk_through_dir(dataset)"
      ],
      "metadata": {
        "colab": {
          "base_uri": "https://localhost:8080/"
        },
        "id": "b3hKQNdzuG12",
        "outputId": "0566c376-0503-44ca-cf93-38ecee198d5a"
      },
      "execution_count": 10,
      "outputs": [
        {
          "output_type": "stream",
          "name": "stdout",
          "text": [
            "There are 10 directories and 0 images in '/content/raw-img'.\n",
            "There are 0 directories and 1862 images in '/content/raw-img/scoiattolo'.\n",
            "There are 0 directories and 2623 images in '/content/raw-img/cavallo'.\n",
            "There are 0 directories and 1866 images in '/content/raw-img/mucca'.\n",
            "There are 0 directories and 3098 images in '/content/raw-img/gallina'.\n",
            "There are 0 directories and 4821 images in '/content/raw-img/ragno'.\n",
            "There are 0 directories and 1668 images in '/content/raw-img/gatto'.\n",
            "There are 0 directories and 2112 images in '/content/raw-img/farfalla'.\n",
            "There are 0 directories and 1446 images in '/content/raw-img/elefante'.\n",
            "There are 0 directories and 4863 images in '/content/raw-img/cane'.\n",
            "There are 0 directories and 1820 images in '/content/raw-img/pecora'.\n"
          ]
        }
      ]
    },
    {
      "cell_type": "code",
      "source": [
        "def convert_path_to_df(dataset):\n",
        "    image_dir = Path(dataset)\n",
        "\n",
        "    # Get filepaths and labels\n",
        "    filepaths = list(image_dir.glob(r'**/*.JPG')) + list(image_dir.glob(r'**/*.jpg')) + list(image_dir.glob(r'**/*.jpeg')) + list(image_dir.glob(r'**/*.PNG'))\n",
        "\n",
        "    labels = list(map(lambda x: os.path.split(os.path.split(x)[0])[1], filepaths))\n",
        "\n",
        "    filepaths = pd.Series(filepaths, name='Filepath').astype(str)\n",
        "    labels = pd.Series(labels, name='Label')\n",
        "\n",
        "    # Concatenate filepaths and labels\n",
        "    image_df = pd.concat([filepaths, labels], axis=1)\n",
        "    return image_df\n",
        "\n",
        "image_df = convert_path_to_df(dataset)"
      ],
      "metadata": {
        "id": "V3lqm4MewqJR"
      },
      "execution_count": 11,
      "outputs": []
    },
    {
      "cell_type": "code",
      "source": [
        "# Check for corrupted images within the dataset\n",
        "import PIL\n",
        "from pathlib import Path\n",
        "from PIL import UnidentifiedImageError\n",
        "\n",
        "path = Path(dataset).rglob(\"*.jpg\")\n",
        "for img_p in path:\n",
        "    try:\n",
        "        img = PIL.Image.open(img_p)\n",
        "    except PIL.UnidentifiedImageError:\n",
        "            print(img_p)"
      ],
      "metadata": {
        "id": "Lsc6u4THwx1D"
      },
      "execution_count": 12,
      "outputs": []
    },
    {
      "cell_type": "code",
      "source": [
        "# Get the value counts for each label\n",
        "label_counts = image_df['Label'].value_counts()\n",
        "\n",
        "# Create the figure and axes\n",
        "fig, axes = plt.subplots(nrows=1, ncols=1, figsize=(20, 6))\n",
        "\n",
        "# Plot the bar chart\n",
        "sns.barplot(x=label_counts.index, y=label_counts.values, alpha=0.8, palette='pastel', ax=axes)\n",
        "axes.set_title('Distribution of Labels in Image Dataset', fontsize=16)\n",
        "axes.set_xlabel('Label', fontsize=14)\n",
        "axes.set_ylabel('Count', fontsize=14)\n",
        "axes.set_xticklabels(label_counts.index, rotation=45)\n",
        "\n",
        "# Add a super-title to the figure\n",
        "fig.suptitle('Image Dataset Label Distribution', fontsize=20)\n",
        "\n",
        "# Adjust the spacing between the plots and the title\n",
        "fig.subplots_adjust(top=0.85)\n",
        "\n",
        "# Display the plot\n",
        "plt.show()"
      ],
      "metadata": {
        "colab": {
          "base_uri": "https://localhost:8080/",
          "height": 594
        },
        "id": "VRadS60ew7hy",
        "outputId": "b1445bca-ce58-4dba-9a01-9f9c464c4685"
      },
      "execution_count": 13,
      "outputs": [
        {
          "output_type": "stream",
          "name": "stderr",
          "text": [
            "/tmp/ipython-input-2361829875.py:8: FutureWarning: \n",
            "\n",
            "Passing `palette` without assigning `hue` is deprecated and will be removed in v0.14.0. Assign the `x` variable to `hue` and set `legend=False` for the same effect.\n",
            "\n",
            "  sns.barplot(x=label_counts.index, y=label_counts.values, alpha=0.8, palette='pastel', ax=axes)\n",
            "/tmp/ipython-input-2361829875.py:12: UserWarning: set_ticklabels() should only be used with a fixed number of ticks, i.e. after set_ticks() or using a FixedLocator.\n",
            "  axes.set_xticklabels(label_counts.index, rotation=45)\n"
          ]
        },
        {
          "output_type": "display_data",
          "data": {
            "text/plain": [
              "<Figure size 2000x600 with 1 Axes>"
            ],
            "image/png": "[encoded data removed]"
          },
          "metadata": {}
        }
      ]
    },
    {
      "cell_type": "code",
      "source": [
        "# Display 16 picture of the dataset with their labels\n",
        "random_index = np.random.randint(0, len(image_df), 16)\n",
        "fig, axes = plt.subplots(nrows=4, ncols=4, figsize=(10, 10),\n",
        "                        subplot_kw={'xticks': [], 'yticks': []})\n",
        "\n",
        "for i, ax in enumerate(axes.flat):\n",
        "    ax.imshow(plt.imread(image_df.Filepath[random_index[i]]))\n",
        "    ax.set_title(image_df.Label[random_index[i]])\n",
        "plt.tight_layout()\n",
        "plt.show()"
      ],
      "metadata": {
        "id": "mW-f6O2NxKhN"
      },
      "execution_count": null,
      "outputs": []
    },
    {
      "cell_type": "code",
      "source": [
        "def compute_ela_cv(path, quality):\n",
        "    temp_filename = 'temp_file_name.jpeg'\n",
        "    SCALE = 15\n",
        "    orig_img = cv2.imread(path)\n",
        "    orig_img = cv2.cvtColor(orig_img, cv2.COLOR_BGR2RGB)\n",
        "\n",
        "    cv2.imwrite(temp_filename, orig_img, [cv2.IMWRITE_JPEG_QUALITY, quality])\n",
        "\n",
        "    # read compressed image\n",
        "    compressed_img = cv2.imread(temp_filename)\n",
        "\n",
        "    # get absolute difference between img1 and img2 and multiply by scale\n",
        "    diff = SCALE * cv2.absdiff(orig_img, compressed_img)\n",
        "    return diff\n",
        "\n",
        "\n",
        "def convert_to_ela_image(path, quality):\n",
        "    temp_filename = 'temp_file_name.jpeg'\n",
        "    ela_filename = 'temp_ela.png'\n",
        "    image = Image.open(path).convert('RGB')\n",
        "    image.save(temp_filename, 'JPEG', quality = quality)\n",
        "    temp_image = Image.open(temp_filename)\n",
        "\n",
        "    ela_image = ImageChops.difference(image, temp_image)\n",
        "\n",
        "    extrema = ela_image.getextrema()\n",
        "    max_diff = max([ex[1] for ex in extrema])\n",
        "    if max_diff == 0:\n",
        "        max_diff = 1\n",
        "\n",
        "    scale = 255.0 / max_diff\n",
        "    ela_image = ImageEnhance.Brightness(ela_image).enhance(scale)\n",
        "\n",
        "    return ela_image\n",
        "\n",
        "\n",
        "def random_sample(path, extension=None):\n",
        "    if extension:\n",
        "        items = Path(path).glob(f'*.{extension}')\n",
        "    else:\n",
        "        items = Path(path).glob(f'*')\n",
        "\n",
        "    items = list(items)\n",
        "\n",
        "    p = random.choice(items)\n",
        "    return p.as_posix()"
      ],
      "metadata": {
        "id": "tNaGE53tyTop"
      },
      "execution_count": null,
      "outputs": []
    },
    {
      "cell_type": "code",
      "source": [
        "# View random sample from the dataset\n",
        "p = random_sample('/content/raw-img/cane')\n",
        "orig = cv2.imread(p)\n",
        "orig = cv2.cvtColor(orig, cv2.COLOR_BGR2RGB) / 255.0\n",
        "init_val = 100\n",
        "columns = 3\n",
        "rows = 3\n",
        "\n",
        "fig=plt.figure(figsize=(15, 10))\n",
        "for i in range(1, columns*rows +1):\n",
        "    quality=init_val - (i-1) * 8\n",
        "    img = compute_ela_cv(path=p, quality=quality)\n",
        "    if i == 1:\n",
        "        img = orig.copy()\n",
        "    ax = fig.add_subplot(rows, columns, i)\n",
        "    ax.title.set_text(f'q: {quality}')\n",
        "    plt.imshow(img)\n",
        "plt.show()"
      ],
      "metadata": {
        "id": "DkYUZI9xyWTw"
      },
      "execution_count": null,
      "outputs": []
    }
  ]
}