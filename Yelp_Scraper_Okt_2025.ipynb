{
  "nbformat": 4,
  "nbformat_minor": 0,
  "metadata": {
    "colab": {
      "provenance": [],
      "authorship_tag": "ABX9TyPPc+xd1aBEs09Q75Mz6+Gk",
      "include_colab_link": true
    },
    "kernelspec": {
      "name": "python3",
      "display_name": "Python 3"
    },
    "language_info": {
      "name": "python"
    }
  },
  "cells": [
    {
      "cell_type": "markdown",
      "metadata": {
        "id": "view-in-github",
        "colab_type": "text"
      },
      "source": [
        "<a href=\"https://colab.research.google.com/github/amien1410/amien-scrapers/blob/main/Yelp_Scraper_Okt_2025.ipynb\" target=\"_parent\"><img src=\"https://colab.research.google.com/assets/colab-badge.svg\" alt=\"Open In Colab\"/></a>"
      ]
    },
    {
      "cell_type": "code",
      "metadata": {
        "colab": {
          "base_uri": "https://localhost:8080/",
          "height": 35
        },
        "id": "5ec03d26",
        "outputId": "8f862861-c24b-4728-b192-7819562b194b"
      },
      "source": [
        "import requests\n",
        "import json\n",
        "\n",
        "# Replace with your GraphQL endpoint URL\n",
        "graphql_url = \"https://www.yelp.com/gql/batch\"\n",
        "\n",
        "# Prepare the request payload\n",
        "payload = [\n",
        "  {\n",
        "    \"operationName\": \"GetResultsSectionData\",\n",
        "    \"variables\": {\n",
        "      \"BizEncIds\": [\n",
        "        \"HdZLo3v4zNVpzx1CQjg5MA\",\n",
        "        \"2rvzTYaiXlqtBe5ZhNDiXA\",\n",
        "        \"iUockw0CUssKZLyoGJYEXA\",\n",
        "        \"QueFVMcMlT-6aZFv2M47mg\",\n",
        "        \"f-m7-hyFzkf0HSEeQ2s-9A\",\n",
        "        \"THpTY0X_xwRzUL7wYD6dDg\",\n",
        "        \"JAHzjTlZceEypYTnGziIjw\",\n",
        "        \"8dUaybEPHsZMgr1iKgqgMQ\",\n",
        "        \"mSMZJj2pFvttWLpcDmgrEA\",\n",
        "        \"uUifmxOmL8ClHXyRVsmD3Q\",\n",
        "        \"0T1Kc6tUWaG3cPnyiD40Hw\",\n",
        "        \"B09WOy0W83Od-Xw4xEXxog\",\n",
        "        \"ZSzXw0NgJTyOzcHwKY5eMA\",\n",
        "        \"yPxYIAJXOJJtpD1YT5fSIA\"\n",
        "      ]\n",
        "    },\n",
        "    \"extensions\": {\n",
        "      \"operationType\": \"query\",\n",
        "      \"documentId\": \"504b9952f2e7a3d797f46552fe260445cc9b0078bcacbfea5dc578be4c42cd41\"\n",
        "    }\n",
        "  }\n",
        "]\n",
        "\n",
        "# Make the POST request\n",
        "response = requests.post(graphql_url, json=payload)\n",
        "\n",
        "# Check for successful response\n",
        "# if response.status_code == 200:\n",
        "#     data = response.json()\n",
        "#     print(\"Response data:\")\n",
        "#     print(json.dumps(data, indent=2))\n",
        "# else:\n",
        "#     print(f\"Error: {response.status_code}\")\n",
        "#     print(response.text)\n",
        "\n",
        "data = response.json()[0]['data']['businesses']\n",
        "data[0]['name']"
      ],
      "execution_count": null,
      "outputs": [
        {
          "output_type": "execute_result",
          "data": {
            "text/plain": [
              "'Capital One Café'"
            ],
            "application/vnd.google.colaboratory.intrinsic+json": {
              "type": "string"
            }
          },
          "metadata": {},
          "execution_count": 9
        }
      ]
    },
    {
      "cell_type": "code",
      "source": [
        "import requests\n",
        "from bs4 import BeautifulSoup\n",
        "\n",
        "url = \"https://www.yelp.com/search?find_desc=restaurant&find_loc=San+Francisco%2C+CA&dd_referrer=https%3A%2F%2Fwww.yelp.com%2F&start=0\"\n",
        "headers = {\n",
        "  \"accept\": \"text/html,application/xhtml+xml,application/xml;q=0.9,image/avif,image/webp,image/apng,*/*;q=0.8,application/signed-exchange;v=b3;q=0.7\",\n",
        "  \"accept-encoding\": \"gzip, deflate, br, zstd\",\n",
        "  \"accept-language\": \"en-US,en;q=0.9,id;q=0.8,fa;q=0.7,ar;q=0.6,ms;q=0.5,ja;q=0.4,es;q=0.3\",\n",
        "  \"cookie\": \"wdi=2|52ABFD0420946339|0x1.a3cc291b0966cp+30|f13f0ac0eca372ef; hl=en_US; bse=bfdc544271584567b1e9404995a76c24; recentlocations=San+Francisco%2C+CA; location=%7B%22county%22%3A+%22San+Francisco+County%22%2C+%22max_longitude%22%3A+-122.3550796508789%2C+%22location_type%22%3A+%22locality%22%2C+%22max_latitude%22%3A+37.81602226140252%2C+%22latitude%22%3A+37.775123%2C+%22min_longitude%22%3A+-122.51781463623047%2C+%22address1%22%3A+%22%22%2C+%22city%22%3A+%22San+Francisco%22%2C+%22display%22%3A+%22San+Francisco%2C+CA%22%2C+%22parent_id%22%3A+371%2C+%22place_id%22%3A+%221237%22%2C+%22state%22%3A+%22CA%22%2C+%22country%22%3A+%22US%22%2C+%22unformatted%22%3A+%22San+Francisco%2C+CA%22%2C+%22address2%22%3A+%22%22%2C+%22longitude%22%3A+-122.41932%2C+%22provenance%22%3A+%22YELP_GEOCODING_ENGINE%22%2C+%22min_latitude%22%3A+37.706368356809776%2C+%22accuracy%22%3A+4%2C+%22zip%22%3A+%22%22%2C+%22address3%22%3A+%22%22%2C+%22borough%22%3A+%22%22%2C+%22confident%22%3A+null%2C+%22isGoogleHood%22%3A+false%2C+%22language%22%3A+null%2C+%22neighborhood%22%3A+%22%22%2C+%22polygons%22%3A+null%2C+%22usingDefaultZip%22%3A+false%7D; spses.5f33=*; bsi=1%7C7fe57c3f-c591-5cf9-b41c-17371e2b0b0a%7C1760834416237%7C1760833851870%7C1%7C276ad153e492ce38; datadome=Mm4N0I12bStLHERGojC~73naXU4qvNtFuUXTP6W~hHgVplNti8j_Wa_MqqL2afVdXvdwjcfQ3CWRHivKgWzEHO04n5m7Wq~maVmjoO0FAnnzUEIUQuXFKHmG~uN0U5v_; xcj=1|-v1GExBZhZkowwMA3liee3GDGp9DTaO4Bs113OHxIcM; g_state={\\\"i_l\\\":0,\\\"i_ll\\\":1760834439076,\\\"i_b\\\":\\\"v0Xf9ckkhoEKjefyz0tgf0VkqzAK06le2G8l/jcqQWo\\\"}; spid.5f33=efd77de1-17f1-4cdb-84d5-f403172632bc.1760758353.2.1760834522.1760759976.9a40d405-7e86-42f6-b457-162b28ffead3.90a65d37-2fa4-4b6a-9422-c3f59bbb6e31.6d056d19-f6af-4bc3-8b23-7cbe2b05d89b.1760833871587.61\",\n",
        "  \"priority\": \"u=0, i\",\n",
        "  \"sec-ch-device-memory\": \"4\",\n",
        "  \"sec-ch-ua\": \"\\\"Microsoft Edge\\\";v=\\\"141\\\", \\\"Not?A_Brand\\\";v=\\\"8\\\", \\\"Chromium\\\";v=\\\"141\\\"\",\n",
        "  \"sec-ch-ua-arch\": \"\\\"x86\\\"\",\n",
        "  \"sec-ch-ua-full-version-list\": \"\\\"Microsoft Edge\\\";v=\\\"141.0.3537.71\\\", \\\"Not?A_Brand\\\";v=\\\"8.0.0.0\\\", \\\"Chromium\\\";v=\\\"141.0.7390.66\\\"\",\n",
        "  \"sec-ch-ua-mobile\": \"?0\",\n",
        "  \"sec-ch-ua-model\": \"\\\"\\\"\",\n",
        "  \"sec-ch-ua-platform\": \"\\\"Windows\\\"\",\n",
        "  \"sec-fetch-dest\": \"document\",\n",
        "  \"sec-fetch-mode\": \"navigate\",\n",
        "  \"sec-fetch-site\": \"none\",\n",
        "  \"sec-fetch-user\": \"?1\",\n",
        "  \"upgrade-insecure-requests\": \"1\",\n",
        "  \"user-agent\": \"Mozilla/5.0 (Windows NT 10.0; Win64; x64) AppleWebKit/537.36 (KHTML, like Gecko) Chrome/141.0.0.0 Safari/537.36 Edg/141.0.0.0\"\n",
        "}\n",
        "\n",
        "res = requests.get(url, headers=headers)\n",
        "soup = BeautifulSoup(res.content, 'html.parser')\n",
        "soup"
      ],
      "metadata": {
        "colab": {
          "base_uri": "https://localhost:8080/"
        },
        "id": "Fpq03eZX-8jK",
        "outputId": "eaa58107-be49-44c2-cedd-39df0f85188a"
      },
      "execution_count": 4,
      "outputs": [
        {
          "output_type": "execute_result",
          "data": {
            "text/plain": [
              "<html lang=\"en\"><head><title>yelp.com</title><style>#cmsg{animation: A 1.5s;}@keyframes A{0%{opacity:0;}99%{opacity:0;}100%{opacity:1;}}</style></head><body style=\"margin:0\"><p id=\"cmsg\">Please enable JS and disable any ad blocker</p><script data-cfasync=\"false\">var dd={'rt':'c','cid':'AHrlqAAAAAMAJL-CcU9z8M8AJEyPvQ==','hsh':'3BD2468BAE4D73BEA0B5DE8314D745','t':'bv','qp':'find_desc%3Drestaurant%26find_loc%3DSan%2BFrancisco%252C%2BCA%26dd_referrer%3Dhttps%253A%252F%252Fwww.yelp.com%252F%26start%3D0','s':46977,'e':'8652525d23c07d2ec6b3f5100227be420e1fa18af63433602779153ee46759886438ef1a29bd07c6f6592aaf4bfa2782','host':'geo.captcha-delivery.com','cookie':'xLodcANXDSaFjf0tYU5fmMlZtuTWwtO0l2z1KXfuSoGgkNHX~7rr3z8~8pO4e3whIn9c24Buuxfpj1TcljoRqa0HjSxmeSrxpNfM627rdtJD2qUKexd3Mw9KFdBTlP6Q'}</script><script data-cfasync=\"false\" src=\"https://ct.captcha-delivery.com/c.js\"></script></body></html>"
            ]
          },
          "metadata": {},
          "execution_count": 4
        }
      ]
    }
  ]
}