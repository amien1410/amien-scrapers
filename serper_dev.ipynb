{
  "nbformat": 4,
  "nbformat_minor": 0,
  "metadata": {
    "colab": {
      "provenance": [],
      "authorship_tag": "ABX9TyO7oVfCCRRxRMPT2JHUXiy0",
      "include_colab_link": true
    },
    "kernelspec": {
      "name": "python3",
      "display_name": "Python 3"
    },
    "language_info": {
      "name": "python"
    }
  },
  "cells": [
    {
      "cell_type": "markdown",
      "metadata": {
        "id": "view-in-github",
        "colab_type": "text"
      },
      "source": [
        "<a href=\"https://colab.research.google.com/github/amien1410/amien-scrapers/blob/main/serper_dev.ipynb\" target=\"_parent\"><img src=\"https://colab.research.google.com/assets/colab-badge.svg\" alt=\"Open In Colab\"/></a>"
      ]
    },
    {
      "cell_type": "code",
      "execution_count": 1,
      "metadata": {
        "id": "QQSHhFGijZnO"
      },
      "outputs": [],
      "source": [
        "import json\n",
        "import time\n",
        "import requests"
      ]
    },
    {
      "cell_type": "code",
      "source": [
        "headers = {\n",
        "    \"accept\": \"application/json, text/plain, */*\",\n",
        "    \"accept-encoding\":\"gzip, deflate, br, zstd\",\n",
        "    \"accept-language\":\"en-US,en;q=0.9,id;q=0.8,ar;q=0.7,fa;q=0.6\",\n",
        "    \"content-length\":\"1028\",\n",
        "    \"content-type\":\"application/json\",\n",
        "    'origin':\"https://serper.dev\",\n",
        "    \"priority\":\"u=1, i\",\n",
        "    \"referer\":\"https://serper.dev/\",\n",
        "    \"sec-ch-ua\":'\"Chromium\";v=\"130\", \"Microsoft Edge\";v=\"130\", \"Not?A_Brand\";v=\"99\"',\n",
        "    \"sec-ch-ua-mobile\":\"?0\",\n",
        "    \"sec-ch-ua-platform\":\"Windows\",\n",
        "    \"sec-fetch-dest\":\"empty\",\n",
        "    \"sec-fetch-mode\":\"cors\",\n",
        "    \"sec-fetch-site\":\"same-site\",\n",
        "    \"user-agent\":\"Mozilla/5.0 (Windows NT 10.0; Win64; x64) AppleWebKit/537.36 (KHTML, like Gecko) Chrome/130.0.0.0 Safari/537.36 Edg/130.0.0.0\"\n",
        "}\n",
        "payload = {\n",
        "    \"q\":\"adofermia warehouse lithuania\",\n",
        "    \"gl\":\"us\",\n",
        "    \"hl\":\"en\",\n",
        "    \"autocorrect\":True,\n",
        "}\n",
        "url = \"https://google.serper.dev/w/search\"\n",
        "res = requests.post(url, headers=headers, data=json.dumps(payload))\n",
        "res.json()"
      ],
      "metadata": {
        "colab": {
          "base_uri": "https://localhost:8080/"
        },
        "id": "o6zHSC6bjd-3",
        "outputId": "1afc93a0-6db5-4997-a51e-678e670d52b7"
      },
      "execution_count": 7,
      "outputs": [
        {
          "output_type": "execute_result",
          "data": {
            "text/plain": [
              "{'message': 'Unauthorized. Sign up for a free account.', 'statusCode': 403}"
            ]
          },
          "metadata": {},
          "execution_count": 7
        }
      ]
    }
  ]
}