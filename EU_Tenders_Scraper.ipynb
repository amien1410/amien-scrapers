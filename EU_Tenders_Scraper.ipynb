{
  "cells": [
    {
      "cell_type": "markdown",
      "metadata": {
        "id": "view-in-github",
        "colab_type": "text"
      },
      "source": [
        "<a href=\"https://colab.research.google.com/github/amien1410/amien-scrapers/blob/main/EU_Tenders_Scraper.ipynb\" target=\"_parent\"><img src=\"https://colab.research.google.com/assets/colab-badge.svg\" alt=\"Open In Colab\"/></a>"
      ]
    },
    {
      "cell_type": "code",
      "execution_count": null,
      "metadata": {
        "colab": {
          "base_uri": "https://localhost:8080/"
        },
        "id": "dwBls0jwuVfa",
        "outputId": "8fc8e7ce-e079-4b6d-bc84-ef316c235e9f"
      },
      "outputs": [
        {
          "name": "stdout",
          "output_type": "stream",
          "text": [
            "Requirement already satisfied: brotli in /usr/local/lib/python3.10/dist-packages (1.1.0)\n"
          ]
        }
      ],
      "source": [
        "# !pip install \"httpx[http2,brotli]\" parsel\n",
        "!pip install brotli\n",
        "import json\n",
        "import brotli\n",
        "# import httpx\n",
        "import requests\n",
        "import pandas\n",
        "from bs4 import BeautifulSoup"
      ]
    },
    {
      "cell_type": "code",
      "execution_count": null,
      "metadata": {
        "id": "lkIIFkEkudsM"
      },
      "outputs": [],
      "source": [
        "payload = {\n",
        "    \"query\":\"OJ = ()  SORT BY publication-number DESC\",\n",
        "    \"page\":1,\n",
        "    \"limit\":50,\n",
        "    \"fields\":[\n",
        "        \"publication-number\",\n",
        "        \"BT-5141-Procedure\",\n",
        "        \"BT-5141-Part\",\n",
        "        \"BT-5141-Lot\",\n",
        "        \"BT-5071-Procedure\",\n",
        "        \"BT-5071-Part\",\n",
        "        \"BT-5071-Lot\",\n",
        "        \"BT-727-Procedure\",\n",
        "        \"BT-727-Part\",\n",
        "        \"BT-727-Lot\",\n",
        "        \"place-of-performance\",\n",
        "        \"procedure-type\",\n",
        "        \"contract-nature\",\n",
        "        \"buyer-name\",\n",
        "        \"buyer-country\",\n",
        "        \"publication-date\",\n",
        "        \"deadline-receipt-request\",\n",
        "        \"notice-title\",\n",
        "        \"official-language\",\n",
        "        \"notice-type\",\n",
        "        \"change-notice-version-identifier\"\n",
        "        ],\n",
        "    \"validation\":False,\n",
        "    \"scope\":\"ACTIVE\",\n",
        "    \"language\":\"EN\",\n",
        "    \"onlyLatestVersions\":False,\n",
        "    \"facets\":{\n",
        "        \"business-opportunity\":[],\n",
        "        \"cpv\":[],\n",
        "        \"contract-nature\":[],\n",
        "        \"place-of-performance\":[],\n",
        "        \"procedure-type\":[],\n",
        "        \"publication-date\":[],\n",
        "        \"buyer-country\":[]\n",
        "        }\n",
        "    }"
      ]
    },
    {
      "cell_type": "code",
      "execution_count": null,
      "metadata": {
        "id": "5T7Cv4HPvApW"
      },
      "outputs": [],
      "source": [
        "headers = {\n",
        "    \"User-Agent\": \"Mozilla/5.0 (Windows NT 10.0; Win64; x64; rv:131.0) Gecko/20100101 Firefox/131.0\",\n",
        "    \"Accept\": \"application/json, text/plain, */*\",\n",
        "    \"Accept-Language\": \"en-US,en;q=0.5\",\n",
        "    \"Accept-Encoding\": \"gzip, deflate, br, zstd\",\n",
        "    \"Content-Type\": \"application/json\",\n",
        "    \"Content-Length\": \"698\",\n",
        "    \"Origin\": \"https://ted.europa.eu\",\n",
        "    \"Connection\": \"keep-alive\",\n",
        "    \"Referer\": \"https://ted.europa.eu/\",\n",
        "    \"Cookie\": \"route=1730681832.194.30.946969|726825d00aba56cccab96f4e82375684; JSESSIONID=2E926FCC9FD43DBFE8AD8504287FAAA6.liferay-prod-0; GUEST_LANGUAGE_ID=en_GB; COOKIE_SUPPORT=true; cck1=%7B%22cm%22%3Afalse%2C%22all1st%22%3Afalse%2C%22closed%22%3Afalse%7D\",\n",
        "    \"Sec-Fetch-Dest\": \"empty\",\n",
        "    \"Sec-Fetch-Mode\": \"cors\",\n",
        "    \"Sec-Fetch-Site\": \"same-site\"\n",
        "}"
      ]
    },
    {
      "cell_type": "code",
      "execution_count": null,
      "metadata": {
        "id": "_324frJbvi1D"
      },
      "outputs": [],
      "source": [
        "url = \"https://api.ted.europa.eu/private-search/api/v1/notices/search\"\n",
        "res = requests.post(url, json=payload, headers=headers)\n",
        "data = json.loads(res.content)\n",
        "data['notices'][0]"
      ]
    },
    {
      "cell_type": "code",
      "execution_count": null,
      "metadata": {
        "colab": {
          "background_save": true,
          "base_uri": "https://localhost:8080/"
        },
        "id": "T3v_Eq6CsYII",
        "outputId": "5ef13988-3ba2-4fdd-cd78-8f81e3271d67"
      },
      "outputs": [
        {
          "data": {
            "text/plain": [
              "{'message': \"Content-Type 'multipart/form-data;boundary=4c7418e3ec094651b1767fd322021e19' is not supported\",\n",
              " 'error': None}"
            ]
          },
          "execution_count": 39,
          "metadata": {},
          "output_type": "execute_result"
        }
      ],
      "source": [
        "from requests_toolbelt.multipart.encoder import MultipartEncoder\n",
        "payload = {\n",
        "    \"query\": \"{}\"  # Simplified value\n",
        "}\n",
        "url2 = \"https://api.tech.ec.europa.eu/search-api/prod/rest/search?apiKey=SEDIA_NONH2020_PROD&text=***&pageSize=10&pageNumber=1\"\n",
        "res = requests.post(url, headers=headers, json=payload)\n",
        "data = json.loads(res.content)\n",
        "data"
      ]
    }
  ],
  "metadata": {
    "colab": {
      "provenance": [],
      "authorship_tag": "ABX9TyPr6NvlfdpLKllALitOZ5bi",
      "include_colab_link": true
    },
    "kernelspec": {
      "display_name": "Python 3",
      "name": "python3"
    },
    "language_info": {
      "name": "python"
    }
  },
  "nbformat": 4,
  "nbformat_minor": 0
}