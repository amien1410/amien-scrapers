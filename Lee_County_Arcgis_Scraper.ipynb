{
  "nbformat": 4,
  "nbformat_minor": 0,
  "metadata": {
    "colab": {
      "provenance": [],
      "authorship_tag": "ABX9TyPwRs6zN61R6DBhHzl9RvYF",
      "include_colab_link": true
    },
    "kernelspec": {
      "name": "python3",
      "display_name": "Python 3"
    },
    "language_info": {
      "name": "python"
    }
  },
  "cells": [
    {
      "cell_type": "markdown",
      "metadata": {
        "id": "view-in-github",
        "colab_type": "text"
      },
      "source": [
        "<a href=\"https://colab.research.google.com/github/amien1410/amien-scrapers/blob/main/Lee_County_Arcgis_Scraper.ipynb\" target=\"_parent\"><img src=\"https://colab.research.google.com/assets/colab-badge.svg\" alt=\"Open In Colab\"/></a>"
      ]
    },
    {
      "cell_type": "markdown",
      "source": [
        "# Load the libraries"
      ],
      "metadata": {
        "id": "VDb8luKV1mT3"
      }
    },
    {
      "cell_type": "code",
      "execution_count": null,
      "metadata": {
        "id": "FRknZz-XCgYR"
      },
      "outputs": [],
      "source": [
        "# load libraries\n",
        "import requests\n",
        "import json\n",
        "import pandas as pd\n",
        "import urllib.parse\n",
        "from google.colab import files"
      ]
    },
    {
      "cell_type": "markdown",
      "source": [
        "# You can change these values below, but just activate one line of condition, do not Uncomment all of its"
      ],
      "metadata": {
        "id": "mD4-pRqzJ6I6"
      }
    },
    {
      "cell_type": "code",
      "source": [
        "# write the condition and output fields\n",
        "\n",
        "# condition = \"0=0\" # Uncomment this line if you want to pull ALL DATA from the website\n",
        "# condition = \"FOLIOID = 10575536\"\n",
        "# condition = \"SITESTREET='BENTLY ST E'\" # You can change the street name for example LEROY AVE, AVALON PRESERVE BLVD etc\n",
        "# condition = \"SITECITY = 'LEHIGH ACRES'\" # You can change city name for example BONITA SPRINGS, FORT MYERS, CAPE CORAL etc\n",
        "# condition = \"GISACRES > 5\" # Uncomment this condition if you want to search property based on its total of area\n",
        "# condition = \"TRSPARCEL like '452722%'\"\n",
        "# condition =  \"PLATTEDSUBDIVISION = 'GRAND CANYON UNIT 16'\"\n",
        "condition = \"NAME = 'San Luis Valley Ranches'\"\n",
        "\n",
        "# fields = 'FOLIOID,SITESTREET,SITECITY,O_NAME,O_ADDR1,O_CITY,O_STATE,O_ZIP,GISACRES'\n",
        "# fields = 'FOLIOID'\n",
        "fields = '*'"
      ],
      "metadata": {
        "id": "MhF3-r9JCzrg"
      },
      "execution_count": null,
      "outputs": []
    },
    {
      "cell_type": "code",
      "source": [
        "results = []\n",
        "# url = \"https://services1.arcgis.com/Rlvx5g8pKeK13apH/arcgis/rest/services/Coconino_County_Parcels/FeatureServer/0/query?where=\"+condition+\"&f=json&outFields=*\"\n",
        "url = \"https://gis.yavapaiaz.gov/arcgis/rest/services/Parcels/MapServer/0/query?where=0=0&f=json&outFields=*\"\n",
        "# request data from url\n",
        "res = requests.get(url)\n",
        "data = res.json()\n",
        "for i in range(len(data['features'])):\n",
        "  results.append(data['features'][i]['attributes'])\n",
        "df = pd.DataFrame(results)\n",
        "df"
      ],
      "metadata": {
        "id": "IiLoN9xmp4w_"
      },
      "execution_count": null,
      "outputs": []
    },
    {
      "cell_type": "code",
      "source": [
        "# Download the result into excel file\n",
        "df.to_excel(\"yavapaiaz.xlsx\")\n",
        "files.download('yavapaiaz.xlsx')"
      ],
      "metadata": {
        "colab": {
          "base_uri": "https://localhost:8080/",
          "height": 17
        },
        "id": "4GQwSLBSqc38",
        "outputId": "44c93939-6191-4235-eae0-56aa6f3af1c5"
      },
      "execution_count": null,
      "outputs": [
        {
          "output_type": "display_data",
          "data": {
            "text/plain": [
              "<IPython.core.display.Javascript object>"
            ],
            "application/javascript": [
              "\n",
              "    async function download(id, filename, size) {\n",
              "      if (!google.colab.kernel.accessAllowed) {\n",
              "        return;\n",
              "      }\n",
              "      const div = document.createElement('div');\n",
              "      const label = document.createElement('label');\n",
              "      label.textContent = `Downloading \"${filename}\": `;\n",
              "      div.appendChild(label);\n",
              "      const progress = document.createElement('progress');\n",
              "      progress.max = size;\n",
              "      div.appendChild(progress);\n",
              "      document.body.appendChild(div);\n",
              "\n",
              "      const buffers = [];\n",
              "      let downloaded = 0;\n",
              "\n",
              "      const channel = await google.colab.kernel.comms.open(id);\n",
              "      // Send a message to notify the kernel that we're ready.\n",
              "      channel.send({})\n",
              "\n",
              "      for await (const message of channel.messages) {\n",
              "        // Send a message to notify the kernel that we're ready.\n",
              "        channel.send({})\n",
              "        if (message.buffers) {\n",
              "          for (const buffer of message.buffers) {\n",
              "            buffers.push(buffer);\n",
              "            downloaded += buffer.byteLength;\n",
              "            progress.value = downloaded;\n",
              "          }\n",
              "        }\n",
              "      }\n",
              "      const blob = new Blob(buffers, {type: 'application/binary'});\n",
              "      const a = document.createElement('a');\n",
              "      a.href = window.URL.createObjectURL(blob);\n",
              "      a.download = filename;\n",
              "      div.appendChild(a);\n",
              "      a.click();\n",
              "      div.remove();\n",
              "    }\n",
              "  "
            ]
          },
          "metadata": {}
        },
        {
          "output_type": "display_data",
          "data": {
            "text/plain": [
              "<IPython.core.display.Javascript object>"
            ],
            "application/javascript": [
              "download(\"download_a74e2af3-690c-407d-a63f-2695cdfe6ad6\", \"yavapaiaz.xlsx\", 237464)"
            ]
          },
          "metadata": {}
        }
      ]
    },
    {
      "cell_type": "code",
      "source": [
        "#@title\n",
        "check = False\n",
        "results = []\n",
        "offset = -1\n",
        "\n",
        "while check == False:\n",
        "\n",
        "  try:\n",
        "\n",
        "    # Get data from lee county arcgis server\n",
        "    # url = 'https://gismapserver.leegov.com/gisserver910/rest/services/Layers/ParcelAddress/MapServer/0/query?where=O_CITY%20=%20%27FORT%20MYERS%27&outFields=FOLIOID,GISACRES,O_NAME,%20O_ADDR1,%20O_CITY,%20O_STATE,%20O_ZIP&f=json'\n",
        "    if offset < 0:\n",
        "      offset = 0\n",
        "    # url = 'https://gismapserver.leegov.com/gisserver910/rest/services/Layers/ParcelAddress/MapServer/0/query?where=0=0&outFields=*&f=json&returnGeometry=false&supportsPagination=true&resultOffset='+str(offset)\n",
        "    # url = \"https://services.arcgis.com/4YineAQdtmx0tv46/arcgis/rest/services/CostillaCOFeatures/FeatureServer/2/query?where=\"+condition+\"&outFields=\"+fields+\"&f=json&returnGeometry=false&supportsPagination=true&resultOffset=\"+str(offset)\n",
        "    url = \"https://services.arcgis.com/4YineAQdtmx0tv46/arcgis/rest/services/CostillaCOFeatures/FeatureServer/2/query?where=0=0&outFields=*&f=json&returnGeometry=false&supportsPagination=true&resultOffset=\"+str(offset)\n",
        "    print(url)\n",
        "\n",
        "    # request data from url\n",
        "    res = requests.get(url)\n",
        "    data = res.json()\n",
        "\n",
        "    # check if the features is empty or not, if it is empty, change the value of check variable into True so the process will stop\n",
        "    if len(data['features']) == 1000:\n",
        "      check = False\n",
        "    else:\n",
        "      check = True\n",
        "\n",
        "    # add offset value for the next page\n",
        "    offset += 1000\n",
        "\n",
        "    for i in range(len(data['features'])):\n",
        "      results.append(data['features'][i]['attributes'])\n",
        "\n",
        "  except:\n",
        "\n",
        "    print(data['error']['message'])\n",
        "    check = True\n",
        "\n",
        "# results\n",
        "# df = pd.DataFrame(results)\n",
        "# df.columns = ['Folio ID', 'Site Street', 'Site City', 'Owner Name', 'Owner Address', 'Owner City', 'Owner State', 'Owner Zip', 'GIS Acres']\n",
        "# df"
      ],
      "metadata": {
        "id": "WTvWRhcU1YX0",
        "colab": {
          "base_uri": "https://localhost:8080/",
          "height": 1000
        },
        "outputId": "953ec2df-2c50-4b36-bce3-4b24de7bc174"
      },
      "execution_count": null,
      "outputs": [
        {
          "output_type": "stream",
          "name": "stdout",
          "text": [
            "https://services.arcgis.com/4YineAQdtmx0tv46/arcgis/rest/services/CostillaCOFeatures/FeatureServer/2/query?where=0=0&outFields=*&f=json&returnGeometry=false&supportsPagination=true&resultOffset=0\n",
            "https://services.arcgis.com/4YineAQdtmx0tv46/arcgis/rest/services/CostillaCOFeatures/FeatureServer/2/query?where=0=0&outFields=*&f=json&returnGeometry=false&supportsPagination=true&resultOffset=1000\n",
            "https://services.arcgis.com/4YineAQdtmx0tv46/arcgis/rest/services/CostillaCOFeatures/FeatureServer/2/query?where=0=0&outFields=*&f=json&returnGeometry=false&supportsPagination=true&resultOffset=2000\n",
            "https://services.arcgis.com/4YineAQdtmx0tv46/arcgis/rest/services/CostillaCOFeatures/FeatureServer/2/query?where=0=0&outFields=*&f=json&returnGeometry=false&supportsPagination=true&resultOffset=3000\n",
            "https://services.arcgis.com/4YineAQdtmx0tv46/arcgis/rest/services/CostillaCOFeatures/FeatureServer/2/query?where=0=0&outFields=*&f=json&returnGeometry=false&supportsPagination=true&resultOffset=4000\n",
            "https://services.arcgis.com/4YineAQdtmx0tv46/arcgis/rest/services/CostillaCOFeatures/FeatureServer/2/query?where=0=0&outFields=*&f=json&returnGeometry=false&supportsPagination=true&resultOffset=5000\n",
            "https://services.arcgis.com/4YineAQdtmx0tv46/arcgis/rest/services/CostillaCOFeatures/FeatureServer/2/query?where=0=0&outFields=*&f=json&returnGeometry=false&supportsPagination=true&resultOffset=6000\n",
            "https://services.arcgis.com/4YineAQdtmx0tv46/arcgis/rest/services/CostillaCOFeatures/FeatureServer/2/query?where=0=0&outFields=*&f=json&returnGeometry=false&supportsPagination=true&resultOffset=7000\n",
            "https://services.arcgis.com/4YineAQdtmx0tv46/arcgis/rest/services/CostillaCOFeatures/FeatureServer/2/query?where=0=0&outFields=*&f=json&returnGeometry=false&supportsPagination=true&resultOffset=8000\n",
            "https://services.arcgis.com/4YineAQdtmx0tv46/arcgis/rest/services/CostillaCOFeatures/FeatureServer/2/query?where=0=0&outFields=*&f=json&returnGeometry=false&supportsPagination=true&resultOffset=9000\n",
            "https://services.arcgis.com/4YineAQdtmx0tv46/arcgis/rest/services/CostillaCOFeatures/FeatureServer/2/query?where=0=0&outFields=*&f=json&returnGeometry=false&supportsPagination=true&resultOffset=10000\n",
            "https://services.arcgis.com/4YineAQdtmx0tv46/arcgis/rest/services/CostillaCOFeatures/FeatureServer/2/query?where=0=0&outFields=*&f=json&returnGeometry=false&supportsPagination=true&resultOffset=11000\n",
            "https://services.arcgis.com/4YineAQdtmx0tv46/arcgis/rest/services/CostillaCOFeatures/FeatureServer/2/query?where=0=0&outFields=*&f=json&returnGeometry=false&supportsPagination=true&resultOffset=12000\n",
            "https://services.arcgis.com/4YineAQdtmx0tv46/arcgis/rest/services/CostillaCOFeatures/FeatureServer/2/query?where=0=0&outFields=*&f=json&returnGeometry=false&supportsPagination=true&resultOffset=13000\n",
            "https://services.arcgis.com/4YineAQdtmx0tv46/arcgis/rest/services/CostillaCOFeatures/FeatureServer/2/query?where=0=0&outFields=*&f=json&returnGeometry=false&supportsPagination=true&resultOffset=14000\n",
            "https://services.arcgis.com/4YineAQdtmx0tv46/arcgis/rest/services/CostillaCOFeatures/FeatureServer/2/query?where=0=0&outFields=*&f=json&returnGeometry=false&supportsPagination=true&resultOffset=15000\n",
            "https://services.arcgis.com/4YineAQdtmx0tv46/arcgis/rest/services/CostillaCOFeatures/FeatureServer/2/query?where=0=0&outFields=*&f=json&returnGeometry=false&supportsPagination=true&resultOffset=16000\n",
            "https://services.arcgis.com/4YineAQdtmx0tv46/arcgis/rest/services/CostillaCOFeatures/FeatureServer/2/query?where=0=0&outFields=*&f=json&returnGeometry=false&supportsPagination=true&resultOffset=17000\n",
            "https://services.arcgis.com/4YineAQdtmx0tv46/arcgis/rest/services/CostillaCOFeatures/FeatureServer/2/query?where=0=0&outFields=*&f=json&returnGeometry=false&supportsPagination=true&resultOffset=18000\n",
            "https://services.arcgis.com/4YineAQdtmx0tv46/arcgis/rest/services/CostillaCOFeatures/FeatureServer/2/query?where=0=0&outFields=*&f=json&returnGeometry=false&supportsPagination=true&resultOffset=19000\n",
            "https://services.arcgis.com/4YineAQdtmx0tv46/arcgis/rest/services/CostillaCOFeatures/FeatureServer/2/query?where=0=0&outFields=*&f=json&returnGeometry=false&supportsPagination=true&resultOffset=20000\n",
            "https://services.arcgis.com/4YineAQdtmx0tv46/arcgis/rest/services/CostillaCOFeatures/FeatureServer/2/query?where=0=0&outFields=*&f=json&returnGeometry=false&supportsPagination=true&resultOffset=21000\n",
            "https://services.arcgis.com/4YineAQdtmx0tv46/arcgis/rest/services/CostillaCOFeatures/FeatureServer/2/query?where=0=0&outFields=*&f=json&returnGeometry=false&supportsPagination=true&resultOffset=22000\n",
            "https://services.arcgis.com/4YineAQdtmx0tv46/arcgis/rest/services/CostillaCOFeatures/FeatureServer/2/query?where=0=0&outFields=*&f=json&returnGeometry=false&supportsPagination=true&resultOffset=23000\n",
            "https://services.arcgis.com/4YineAQdtmx0tv46/arcgis/rest/services/CostillaCOFeatures/FeatureServer/2/query?where=0=0&outFields=*&f=json&returnGeometry=false&supportsPagination=true&resultOffset=24000\n",
            "https://services.arcgis.com/4YineAQdtmx0tv46/arcgis/rest/services/CostillaCOFeatures/FeatureServer/2/query?where=0=0&outFields=*&f=json&returnGeometry=false&supportsPagination=true&resultOffset=25000\n",
            "https://services.arcgis.com/4YineAQdtmx0tv46/arcgis/rest/services/CostillaCOFeatures/FeatureServer/2/query?where=0=0&outFields=*&f=json&returnGeometry=false&supportsPagination=true&resultOffset=26000\n",
            "https://services.arcgis.com/4YineAQdtmx0tv46/arcgis/rest/services/CostillaCOFeatures/FeatureServer/2/query?where=0=0&outFields=*&f=json&returnGeometry=false&supportsPagination=true&resultOffset=27000\n",
            "https://services.arcgis.com/4YineAQdtmx0tv46/arcgis/rest/services/CostillaCOFeatures/FeatureServer/2/query?where=0=0&outFields=*&f=json&returnGeometry=false&supportsPagination=true&resultOffset=28000\n",
            "https://services.arcgis.com/4YineAQdtmx0tv46/arcgis/rest/services/CostillaCOFeatures/FeatureServer/2/query?where=0=0&outFields=*&f=json&returnGeometry=false&supportsPagination=true&resultOffset=29000\n",
            "https://services.arcgis.com/4YineAQdtmx0tv46/arcgis/rest/services/CostillaCOFeatures/FeatureServer/2/query?where=0=0&outFields=*&f=json&returnGeometry=false&supportsPagination=true&resultOffset=30000\n",
            "https://services.arcgis.com/4YineAQdtmx0tv46/arcgis/rest/services/CostillaCOFeatures/FeatureServer/2/query?where=0=0&outFields=*&f=json&returnGeometry=false&supportsPagination=true&resultOffset=31000\n",
            "https://services.arcgis.com/4YineAQdtmx0tv46/arcgis/rest/services/CostillaCOFeatures/FeatureServer/2/query?where=0=0&outFields=*&f=json&returnGeometry=false&supportsPagination=true&resultOffset=32000\n",
            "https://services.arcgis.com/4YineAQdtmx0tv46/arcgis/rest/services/CostillaCOFeatures/FeatureServer/2/query?where=0=0&outFields=*&f=json&returnGeometry=false&supportsPagination=true&resultOffset=33000\n",
            "https://services.arcgis.com/4YineAQdtmx0tv46/arcgis/rest/services/CostillaCOFeatures/FeatureServer/2/query?where=0=0&outFields=*&f=json&returnGeometry=false&supportsPagination=true&resultOffset=34000\n",
            "https://services.arcgis.com/4YineAQdtmx0tv46/arcgis/rest/services/CostillaCOFeatures/FeatureServer/2/query?where=0=0&outFields=*&f=json&returnGeometry=false&supportsPagination=true&resultOffset=35000\n",
            "https://services.arcgis.com/4YineAQdtmx0tv46/arcgis/rest/services/CostillaCOFeatures/FeatureServer/2/query?where=0=0&outFields=*&f=json&returnGeometry=false&supportsPagination=true&resultOffset=36000\n",
            "https://services.arcgis.com/4YineAQdtmx0tv46/arcgis/rest/services/CostillaCOFeatures/FeatureServer/2/query?where=0=0&outFields=*&f=json&returnGeometry=false&supportsPagination=true&resultOffset=37000\n",
            "https://services.arcgis.com/4YineAQdtmx0tv46/arcgis/rest/services/CostillaCOFeatures/FeatureServer/2/query?where=0=0&outFields=*&f=json&returnGeometry=false&supportsPagination=true&resultOffset=38000\n",
            "https://services.arcgis.com/4YineAQdtmx0tv46/arcgis/rest/services/CostillaCOFeatures/FeatureServer/2/query?where=0=0&outFields=*&f=json&returnGeometry=false&supportsPagination=true&resultOffset=39000\n",
            "https://services.arcgis.com/4YineAQdtmx0tv46/arcgis/rest/services/CostillaCOFeatures/FeatureServer/2/query?where=0=0&outFields=*&f=json&returnGeometry=false&supportsPagination=true&resultOffset=40000\n",
            "https://services.arcgis.com/4YineAQdtmx0tv46/arcgis/rest/services/CostillaCOFeatures/FeatureServer/2/query?where=0=0&outFields=*&f=json&returnGeometry=false&supportsPagination=true&resultOffset=41000\n",
            "https://services.arcgis.com/4YineAQdtmx0tv46/arcgis/rest/services/CostillaCOFeatures/FeatureServer/2/query?where=0=0&outFields=*&f=json&returnGeometry=false&supportsPagination=true&resultOffset=42000\n",
            "https://services.arcgis.com/4YineAQdtmx0tv46/arcgis/rest/services/CostillaCOFeatures/FeatureServer/2/query?where=0=0&outFields=*&f=json&returnGeometry=false&supportsPagination=true&resultOffset=43000\n",
            "https://services.arcgis.com/4YineAQdtmx0tv46/arcgis/rest/services/CostillaCOFeatures/FeatureServer/2/query?where=0=0&outFields=*&f=json&returnGeometry=false&supportsPagination=true&resultOffset=44000\n",
            "https://services.arcgis.com/4YineAQdtmx0tv46/arcgis/rest/services/CostillaCOFeatures/FeatureServer/2/query?where=0=0&outFields=*&f=json&returnGeometry=false&supportsPagination=true&resultOffset=45000\n",
            "https://services.arcgis.com/4YineAQdtmx0tv46/arcgis/rest/services/CostillaCOFeatures/FeatureServer/2/query?where=0=0&outFields=*&f=json&returnGeometry=false&supportsPagination=true&resultOffset=46000\n",
            "https://services.arcgis.com/4YineAQdtmx0tv46/arcgis/rest/services/CostillaCOFeatures/FeatureServer/2/query?where=0=0&outFields=*&f=json&returnGeometry=false&supportsPagination=true&resultOffset=47000\n",
            "https://services.arcgis.com/4YineAQdtmx0tv46/arcgis/rest/services/CostillaCOFeatures/FeatureServer/2/query?where=0=0&outFields=*&f=json&returnGeometry=false&supportsPagination=true&resultOffset=48000\n",
            "https://services.arcgis.com/4YineAQdtmx0tv46/arcgis/rest/services/CostillaCOFeatures/FeatureServer/2/query?where=0=0&outFields=*&f=json&returnGeometry=false&supportsPagination=true&resultOffset=49000\n",
            "https://services.arcgis.com/4YineAQdtmx0tv46/arcgis/rest/services/CostillaCOFeatures/FeatureServer/2/query?where=0=0&outFields=*&f=json&returnGeometry=false&supportsPagination=true&resultOffset=50000\n",
            "https://services.arcgis.com/4YineAQdtmx0tv46/arcgis/rest/services/CostillaCOFeatures/FeatureServer/2/query?where=0=0&outFields=*&f=json&returnGeometry=false&supportsPagination=true&resultOffset=51000\n",
            "https://services.arcgis.com/4YineAQdtmx0tv46/arcgis/rest/services/CostillaCOFeatures/FeatureServer/2/query?where=0=0&outFields=*&f=json&returnGeometry=false&supportsPagination=true&resultOffset=52000\n",
            "https://services.arcgis.com/4YineAQdtmx0tv46/arcgis/rest/services/CostillaCOFeatures/FeatureServer/2/query?where=0=0&outFields=*&f=json&returnGeometry=false&supportsPagination=true&resultOffset=53000\n",
            "https://services.arcgis.com/4YineAQdtmx0tv46/arcgis/rest/services/CostillaCOFeatures/FeatureServer/2/query?where=0=0&outFields=*&f=json&returnGeometry=false&supportsPagination=true&resultOffset=54000\n",
            "https://services.arcgis.com/4YineAQdtmx0tv46/arcgis/rest/services/CostillaCOFeatures/FeatureServer/2/query?where=0=0&outFields=*&f=json&returnGeometry=false&supportsPagination=true&resultOffset=55000\n",
            "https://services.arcgis.com/4YineAQdtmx0tv46/arcgis/rest/services/CostillaCOFeatures/FeatureServer/2/query?where=0=0&outFields=*&f=json&returnGeometry=false&supportsPagination=true&resultOffset=56000\n"
          ]
        },
        {
          "output_type": "error",
          "ename": "KeyError",
          "evalue": "ignored",
          "traceback": [
            "\u001b[0;31m---------------------------------------------------------------------------\u001b[0m",
            "\u001b[0;31mKeyboardInterrupt\u001b[0m                         Traceback (most recent call last)",
            "\u001b[0;32m<ipython-input-11-f7de3a56768d>\u001b[0m in \u001b[0;36m<cell line: 6>\u001b[0;34m()\u001b[0m\n\u001b[1;32m     20\u001b[0m     \u001b[0mres\u001b[0m \u001b[0;34m=\u001b[0m \u001b[0mrequests\u001b[0m\u001b[0;34m.\u001b[0m\u001b[0mget\u001b[0m\u001b[0;34m(\u001b[0m\u001b[0murl\u001b[0m\u001b[0;34m)\u001b[0m\u001b[0;34m\u001b[0m\u001b[0;34m\u001b[0m\u001b[0m\n\u001b[0;32m---> 21\u001b[0;31m     \u001b[0mdata\u001b[0m \u001b[0;34m=\u001b[0m \u001b[0mres\u001b[0m\u001b[0;34m.\u001b[0m\u001b[0mjson\u001b[0m\u001b[0;34m(\u001b[0m\u001b[0;34m)\u001b[0m\u001b[0;34m\u001b[0m\u001b[0;34m\u001b[0m\u001b[0m\n\u001b[0m\u001b[1;32m     22\u001b[0m \u001b[0;34m\u001b[0m\u001b[0m\n",
            "\u001b[0;32m/usr/local/lib/python3.10/dist-packages/requests/models.py\u001b[0m in \u001b[0;36mjson\u001b[0;34m(self, **kwargs)\u001b[0m\n\u001b[1;32m    970\u001b[0m         \u001b[0;32mtry\u001b[0m\u001b[0;34m:\u001b[0m\u001b[0;34m\u001b[0m\u001b[0;34m\u001b[0m\u001b[0m\n\u001b[0;32m--> 971\u001b[0;31m             \u001b[0;32mreturn\u001b[0m \u001b[0mcomplexjson\u001b[0m\u001b[0;34m.\u001b[0m\u001b[0mloads\u001b[0m\u001b[0;34m(\u001b[0m\u001b[0mself\u001b[0m\u001b[0;34m.\u001b[0m\u001b[0mtext\u001b[0m\u001b[0;34m,\u001b[0m \u001b[0;34m**\u001b[0m\u001b[0mkwargs\u001b[0m\u001b[0;34m)\u001b[0m\u001b[0;34m\u001b[0m\u001b[0;34m\u001b[0m\u001b[0m\n\u001b[0m\u001b[1;32m    972\u001b[0m         \u001b[0;32mexcept\u001b[0m \u001b[0mJSONDecodeError\u001b[0m \u001b[0;32mas\u001b[0m \u001b[0me\u001b[0m\u001b[0;34m:\u001b[0m\u001b[0;34m\u001b[0m\u001b[0;34m\u001b[0m\u001b[0m\n",
            "\u001b[0;32m/usr/lib/python3.10/json/__init__.py\u001b[0m in \u001b[0;36mloads\u001b[0;34m(s, cls, object_hook, parse_float, parse_int, parse_constant, object_pairs_hook, **kw)\u001b[0m\n\u001b[1;32m    345\u001b[0m             parse_constant is None and object_pairs_hook is None and not kw):\n\u001b[0;32m--> 346\u001b[0;31m         \u001b[0;32mreturn\u001b[0m \u001b[0m_default_decoder\u001b[0m\u001b[0;34m.\u001b[0m\u001b[0mdecode\u001b[0m\u001b[0;34m(\u001b[0m\u001b[0ms\u001b[0m\u001b[0;34m)\u001b[0m\u001b[0;34m\u001b[0m\u001b[0;34m\u001b[0m\u001b[0m\n\u001b[0m\u001b[1;32m    347\u001b[0m     \u001b[0;32mif\u001b[0m \u001b[0mcls\u001b[0m \u001b[0;32mis\u001b[0m \u001b[0;32mNone\u001b[0m\u001b[0;34m:\u001b[0m\u001b[0;34m\u001b[0m\u001b[0;34m\u001b[0m\u001b[0m\n",
            "\u001b[0;32m/usr/lib/python3.10/json/decoder.py\u001b[0m in \u001b[0;36mdecode\u001b[0;34m(self, s, _w)\u001b[0m\n\u001b[1;32m    336\u001b[0m         \"\"\"\n\u001b[0;32m--> 337\u001b[0;31m         \u001b[0mobj\u001b[0m\u001b[0;34m,\u001b[0m \u001b[0mend\u001b[0m \u001b[0;34m=\u001b[0m \u001b[0mself\u001b[0m\u001b[0;34m.\u001b[0m\u001b[0mraw_decode\u001b[0m\u001b[0;34m(\u001b[0m\u001b[0ms\u001b[0m\u001b[0;34m,\u001b[0m \u001b[0midx\u001b[0m\u001b[0;34m=\u001b[0m\u001b[0m_w\u001b[0m\u001b[0;34m(\u001b[0m\u001b[0ms\u001b[0m\u001b[0;34m,\u001b[0m \u001b[0;36m0\u001b[0m\u001b[0;34m)\u001b[0m\u001b[0;34m.\u001b[0m\u001b[0mend\u001b[0m\u001b[0;34m(\u001b[0m\u001b[0;34m)\u001b[0m\u001b[0;34m)\u001b[0m\u001b[0;34m\u001b[0m\u001b[0;34m\u001b[0m\u001b[0m\n\u001b[0m\u001b[1;32m    338\u001b[0m         \u001b[0mend\u001b[0m \u001b[0;34m=\u001b[0m \u001b[0m_w\u001b[0m\u001b[0;34m(\u001b[0m\u001b[0ms\u001b[0m\u001b[0;34m,\u001b[0m \u001b[0mend\u001b[0m\u001b[0;34m)\u001b[0m\u001b[0;34m.\u001b[0m\u001b[0mend\u001b[0m\u001b[0;34m(\u001b[0m\u001b[0;34m)\u001b[0m\u001b[0;34m\u001b[0m\u001b[0;34m\u001b[0m\u001b[0m\n",
            "\u001b[0;32m/usr/lib/python3.10/json/decoder.py\u001b[0m in \u001b[0;36mraw_decode\u001b[0;34m(self, s, idx)\u001b[0m\n\u001b[1;32m    352\u001b[0m         \u001b[0;32mtry\u001b[0m\u001b[0;34m:\u001b[0m\u001b[0;34m\u001b[0m\u001b[0;34m\u001b[0m\u001b[0m\n\u001b[0;32m--> 353\u001b[0;31m             \u001b[0mobj\u001b[0m\u001b[0;34m,\u001b[0m \u001b[0mend\u001b[0m \u001b[0;34m=\u001b[0m \u001b[0mself\u001b[0m\u001b[0;34m.\u001b[0m\u001b[0mscan_once\u001b[0m\u001b[0;34m(\u001b[0m\u001b[0ms\u001b[0m\u001b[0;34m,\u001b[0m \u001b[0midx\u001b[0m\u001b[0;34m)\u001b[0m\u001b[0;34m\u001b[0m\u001b[0;34m\u001b[0m\u001b[0m\n\u001b[0m\u001b[1;32m    354\u001b[0m         \u001b[0;32mexcept\u001b[0m \u001b[0mStopIteration\u001b[0m \u001b[0;32mas\u001b[0m \u001b[0merr\u001b[0m\u001b[0;34m:\u001b[0m\u001b[0;34m\u001b[0m\u001b[0;34m\u001b[0m\u001b[0m\n",
            "\u001b[0;31mKeyboardInterrupt\u001b[0m: ",
            "\nDuring handling of the above exception, another exception occurred:\n",
            "\u001b[0;31mKeyError\u001b[0m                                  Traceback (most recent call last)",
            "\u001b[0;32m<ipython-input-11-f7de3a56768d>\u001b[0m in \u001b[0;36m<cell line: 6>\u001b[0;34m()\u001b[0m\n\u001b[1;32m     35\u001b[0m   \u001b[0;32mexcept\u001b[0m\u001b[0;34m:\u001b[0m\u001b[0;34m\u001b[0m\u001b[0;34m\u001b[0m\u001b[0m\n\u001b[1;32m     36\u001b[0m \u001b[0;34m\u001b[0m\u001b[0m\n\u001b[0;32m---> 37\u001b[0;31m     \u001b[0mprint\u001b[0m\u001b[0;34m(\u001b[0m\u001b[0mdata\u001b[0m\u001b[0;34m[\u001b[0m\u001b[0;34m'error'\u001b[0m\u001b[0;34m]\u001b[0m\u001b[0;34m[\u001b[0m\u001b[0;34m'message'\u001b[0m\u001b[0;34m]\u001b[0m\u001b[0;34m)\u001b[0m\u001b[0;34m\u001b[0m\u001b[0;34m\u001b[0m\u001b[0m\n\u001b[0m\u001b[1;32m     38\u001b[0m     \u001b[0mcheck\u001b[0m \u001b[0;34m=\u001b[0m \u001b[0;32mTrue\u001b[0m\u001b[0;34m\u001b[0m\u001b[0;34m\u001b[0m\u001b[0m\n\u001b[1;32m     39\u001b[0m \u001b[0;34m\u001b[0m\u001b[0m\n",
            "\u001b[0;31mKeyError\u001b[0m: 'error'"
          ]
        }
      ]
    },
    {
      "cell_type": "code",
      "source": [
        "df = pd.DataFrame(results)\n",
        "df"
      ],
      "metadata": {
        "id": "YG6vEsqH94ZC"
      },
      "execution_count": null,
      "outputs": []
    },
    {
      "cell_type": "markdown",
      "source": [
        "# You can download the result into Excel file by click play button on code below"
      ],
      "metadata": {
        "id": "cRVFVaB-2dBt"
      }
    },
    {
      "cell_type": "code",
      "source": [
        "# Download the result into excel file\n",
        "sliced_df = df.iloc[0:10000]\n",
        "sliced_df.to_excel(\"costilla-county-10000.xlsx\")\n",
        "files.download('costilla-county-10000.xlsx')"
      ],
      "metadata": {
        "id": "NP5c1aKfnhR9",
        "colab": {
          "base_uri": "https://localhost:8080/",
          "height": 34
        },
        "outputId": "4dceed0a-b41d-4077-fce5-59cd35ab7e2b"
      },
      "execution_count": null,
      "outputs": [
        {
          "output_type": "display_data",
          "data": {
            "text/plain": [
              "<IPython.core.display.Javascript object>"
            ],
            "application/javascript": [
              "\n",
              "    async function download(id, filename, size) {\n",
              "      if (!google.colab.kernel.accessAllowed) {\n",
              "        return;\n",
              "      }\n",
              "      const div = document.createElement('div');\n",
              "      const label = document.createElement('label');\n",
              "      label.textContent = `Downloading \"${filename}\": `;\n",
              "      div.appendChild(label);\n",
              "      const progress = document.createElement('progress');\n",
              "      progress.max = size;\n",
              "      div.appendChild(progress);\n",
              "      document.body.appendChild(div);\n",
              "\n",
              "      const buffers = [];\n",
              "      let downloaded = 0;\n",
              "\n",
              "      const channel = await google.colab.kernel.comms.open(id);\n",
              "      // Send a message to notify the kernel that we're ready.\n",
              "      channel.send({})\n",
              "\n",
              "      for await (const message of channel.messages) {\n",
              "        // Send a message to notify the kernel that we're ready.\n",
              "        channel.send({})\n",
              "        if (message.buffers) {\n",
              "          for (const buffer of message.buffers) {\n",
              "            buffers.push(buffer);\n",
              "            downloaded += buffer.byteLength;\n",
              "            progress.value = downloaded;\n",
              "          }\n",
              "        }\n",
              "      }\n",
              "      const blob = new Blob(buffers, {type: 'application/binary'});\n",
              "      const a = document.createElement('a');\n",
              "      a.href = window.URL.createObjectURL(blob);\n",
              "      a.download = filename;\n",
              "      div.appendChild(a);\n",
              "      a.click();\n",
              "      div.remove();\n",
              "    }\n",
              "  "
            ]
          },
          "metadata": {}
        },
        {
          "output_type": "display_data",
          "data": {
            "text/plain": [
              "<IPython.core.display.Javascript object>"
            ],
            "application/javascript": [
              "download(\"download_0aa4fe24-ce22-48f7-ba8d-0491935f0494\", \"costilla-county-10000.xlsx\", 8115960)"
            ]
          },
          "metadata": {}
        }
      ]
    }
  ]
}