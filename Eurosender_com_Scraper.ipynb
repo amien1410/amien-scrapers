{
  "nbformat": 4,
  "nbformat_minor": 0,
  "metadata": {
    "colab": {
      "provenance": [],
      "authorship_tag": "ABX9TyNRHUBu41cSD5ipmZS5AcTg",
      "include_colab_link": true
    },
    "kernelspec": {
      "name": "python3",
      "display_name": "Python 3"
    },
    "language_info": {
      "name": "python"
    }
  },
  "cells": [
    {
      "cell_type": "markdown",
      "metadata": {
        "id": "view-in-github",
        "colab_type": "text"
      },
      "source": [
        "<a href=\"https://colab.research.google.com/github/amien1410/amien-scrapers/blob/main/Eurosender_com_Scraper.ipynb\" target=\"_parent\"><img src=\"https://colab.research.google.com/assets/colab-badge.svg\" alt=\"Open In Colab\"/></a>"
      ]
    },
    {
      "cell_type": "code",
      "execution_count": 1,
      "metadata": {
        "id": "qGaTPnVXt6Bh"
      },
      "outputs": [],
      "source": [
        "import json\n",
        "import time\n",
        "import requests\n",
        "import pandas as pd\n",
        "from bs4 import BeautifulSoup"
      ]
    },
    {
      "cell_type": "code",
      "source": [
        "url = \"https://www.eurosender.com/api/v2/quote\"\n",
        "payload = {\n",
        "  \"paymentMethod\": \"credit_card\",\n",
        "  \"selectedServiceTypeId\": None,\n",
        "  \"serviceSubtype\": \"door_to_door\",\n",
        "  \"accountType\": \"person\",\n",
        "  \"additionalInsuranceId\": None,\n",
        "  \"couponCode\": None,\n",
        "  \"currencyCode\": \"EUR\",\n",
        "  \"parcels\": {\n",
        "    \"packages\": [\n",
        "      {\n",
        "        \"parcelId\": \"ede64369-6780-4f3b-b8c9-501d803b6663\",\n",
        "        \"quantity\": 1,\n",
        "        \"weight\": 1,\n",
        "        \"height\": 1,\n",
        "        \"width\": 11,\n",
        "        \"length\": 15,\n",
        "        \"value\": None\n",
        "      }\n",
        "    ]\n",
        "  },\n",
        "  \"shipment\": {\n",
        "    \"pickupAddress\": {\n",
        "      \"zip\": None,\n",
        "      \"city\": None,\n",
        "      \"street\": None,\n",
        "      \"additionalInfo\": None,\n",
        "      \"region\": None,\n",
        "      \"countryId\": 16,\n",
        "      \"customFields\": [],\n",
        "      \"comment\": None,\n",
        "      \"pudoPointCode\": None\n",
        "    },\n",
        "    \"deliveryAddress\": {\n",
        "      \"zip\": None,\n",
        "      \"city\": None,\n",
        "      \"street\": None,\n",
        "      \"additionalInfo\": None,\n",
        "      \"region\": None,\n",
        "      \"countryId\": 16,\n",
        "      \"customFields\": [],\n",
        "      \"comment\": None,\n",
        "      \"pudoPointCode\": None\n",
        "    },\n",
        "    \"pickupDate\": None,\n",
        "    \"addOns\": [],\n",
        "    \"value\": None\n",
        "  },\n",
        "  \"unfinishedOrderUuid\": None\n",
        "}"
      ],
      "metadata": {
        "id": "omhYtRy7uEqd"
      },
      "execution_count": 2,
      "outputs": []
    },
    {
      "cell_type": "code",
      "source": [
        "res = requests.post(url, json=payload)\n",
        "res.json()"
      ],
      "metadata": {
        "id": "5RxA94DLud0_"
      },
      "execution_count": null,
      "outputs": []
    },
    {
      "cell_type": "code",
      "source": [
        "data = res.json()['data']['options']['serviceTypes']\n",
        "data"
      ],
      "metadata": {
        "id": "aLe-z1ciuuJ3"
      },
      "execution_count": null,
      "outputs": []
    },
    {
      "cell_type": "code",
      "source": [],
      "metadata": {
        "id": "awVaKL5ovbqS"
      },
      "execution_count": null,
      "outputs": []
    }
  ]
}