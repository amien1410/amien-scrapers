{
  "nbformat": 4,
  "nbformat_minor": 0,
  "metadata": {
    "colab": {
      "provenance": [],
      "authorship_tag": "ABX9TyMbR+W/Dg48MSQGrIqR/sEG",
      "include_colab_link": true
    },
    "kernelspec": {
      "name": "python3",
      "display_name": "Python 3"
    },
    "language_info": {
      "name": "python"
    }
  },
  "cells": [
    {
      "cell_type": "markdown",
      "metadata": {
        "id": "view-in-github",
        "colab_type": "text"
      },
      "source": [
        "<a href=\"https://colab.research.google.com/github/amien1410/amien-scrapers/blob/main/Expedia_com_Scraper.ipynb\" target=\"_parent\"><img src=\"https://colab.research.google.com/assets/colab-badge.svg\" alt=\"Open In Colab\"/></a>"
      ]
    },
    {
      "cell_type": "code",
      "execution_count": 1,
      "metadata": {
        "id": "T8s_jvRYiqO9"
      },
      "outputs": [],
      "source": [
        "import requests\n",
        "from bs4 import BeautifulSoup"
      ]
    },
    {
      "cell_type": "code",
      "source": [
        "#@title Generate Headers function\n",
        "def fetch_cookies(url=\"https://www.expedia.com\"):\n",
        "    session = requests.Session()\n",
        "    response = session.get(url)\n",
        "    cookies_dict = session.cookies.get_dict()\n",
        "    cookie_header = \"; \".join([f\"{name}={value}\" for name, value in cookies_dict.items()])\n",
        "    cookie_header = f\"tpid=v.1,1; iEAPID=0; currency=USD; CRQS=t|1`s|1`l|en_US`c|USD; CRQSS=e|0; linfo=v.4,|0|0|255|1|0||||||||1033|0|0||0|0|0|-1|-1; {cookie_header};  feeInclusivePricingSheetLastShown=1752800272447; should-display-fee-inclusive-coachmark=true; _dd_s=rum=0&expire=1752801180465\"\n",
        "    return cookie_header\n",
        "\n",
        "def generate_headers():\n",
        "  return {\n",
        "    \"accept\": \"*/*\",\n",
        "    \"accept-encoding\": \"gzip, deflate, br, zstd\",\n",
        "    \"accept-language\": \"en-US,en;q=0.9,id;q=0.8,fa;q=0.7,ar;q=0.6,ms;q=0.5,ja;q=0.4,es;q=0.3\",\n",
        "    \"client-info\": \"lotus-home-ui,49c720df0390602f32eb48186e207d24b6961451,us-west-2\",\n",
        "    \"content-length\": \"544\",\n",
        "    \"content-type\": \"application/json\",\n",
        "    \"cookie\": fetch_cookies(),\n",
        "    \"ctx-view-id\": \"1ec963ac-27f9-424b-be78-b721607cf192\",\n",
        "    \"origin\": \"https://www.expedia.com\",\n",
        "    \"priority\": \"u=1, i\",\n",
        "    \"referer\": \"https://www.expedia.com/\",\n",
        "    \"sec-ch-ua\": '\"Not)A;Brand\";v=\"8\", \"Chromium\";v=\"138\", \"Microsoft Edge\";v=\"138\"',\n",
        "    \"sec-ch-ua-mobile\": \"?0\",\n",
        "    \"sec-ch-ua-platform\": '\"Windows\"',\n",
        "    \"sec-fetch-dest\": \"empty\",\n",
        "    \"sec-fetch-mode\": \"cors\",\n",
        "    \"sec-fetch-site\": \"same-origin\",\n",
        "    \"user-agent\": \"Mozilla/5.0 (Windows NT 10.0; Win64; x64) AppleWebKit/537.36 (KHTML, like Gecko) Chrome/138.0.0.0 Safari/537.36 Edg/138.0.0.0\",\n",
        "    \"x-hcom-origin-id\": \"Homepage,U,10\",\n",
        "    \"x-page-id\": \"Homepage,U,10\"\n",
        "}\n",
        "\n",
        "headers = generate_headers()\n",
        "headers"
      ],
      "metadata": {
        "id": "YTPZy8OXizTX",
        "cellView": "form"
      },
      "execution_count": null,
      "outputs": []
    },
    {
      "cell_type": "code",
      "source": [
        "#@title Get addresses function (later)\n",
        "# fetching address result\n",
        "url = \"https://www.expedia.com/graphql\"\n",
        "headers = generate_headers()\n",
        "payload = {\n",
        "  \"operationName\": \"SearchLocationSuggestions\",\n",
        "  \"variables\": {\n",
        "    \"context\": {\n",
        "      \"siteId\": 1,\n",
        "      \"locale\": \"en_US\",\n",
        "      \"eapid\": 0,\n",
        "      \"tpid\": 1,\n",
        "      \"currency\": \"USD\",\n",
        "      \"device\": {\n",
        "        \"type\": \"DESKTOP\"\n",
        "      },\n",
        "      \"identity\": {\n",
        "        \"duaid\": \"4a6af905-a200-43c5-8d1d-5554c3add0cc\",\n",
        "        \"authState\": \"ANONYMOUS\"\n",
        "      },\n",
        "      \"privacyTrackingState\": \"CAN_TRACK\"\n",
        "    },\n",
        "    \"searchLocationCriteria\": {\n",
        "      \"searchTerm\": \"banjarmasin\",\n",
        "      \"lineOfBusiness\": \"HOTELS\",\n",
        "      \"isDestination\": True,\n",
        "      \"isGroundTransfersAirport\": False\n",
        "    }\n",
        "  },\n",
        "  \"extensions\": {\n",
        "    \"persistedQuery\": {\n",
        "      \"version\": 1,\n",
        "      \"sha256Hash\": \"d59763ac1db048fe52c47398da71f8da6894467cbdd78d703f0138579a3d8ee2\"\n",
        "    }\n",
        "  }\n",
        "}\n",
        "\n",
        "res = requests.post(url, headers=headers, data=payload)\n",
        "res.text\n"
      ],
      "metadata": {
        "id": "hozyDc8Ikctf",
        "cellView": "form"
      },
      "execution_count": null,
      "outputs": []
    },
    {
      "cell_type": "code",
      "source": [],
      "metadata": {
        "id": "ySUYpihsAk5T"
      },
      "execution_count": null,
      "outputs": []
    }
  ]
}