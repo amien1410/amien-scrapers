{
  "nbformat": 4,
  "nbformat_minor": 0,
  "metadata": {
    "colab": {
      "provenance": [],
      "authorship_tag": "ABX9TyO/9QtcEX6kEiQDXypjGb+K",
      "include_colab_link": true
    },
    "kernelspec": {
      "name": "python3",
      "display_name": "Python 3"
    },
    "language_info": {
      "name": "python"
    }
  },
  "cells": [
    {
      "cell_type": "markdown",
      "metadata": {
        "id": "view-in-github",
        "colab_type": "text"
      },
      "source": [
        "<a href=\"https://colab.research.google.com/github/amien1410/amien-scrapers/blob/main/Ferry_Schedule_Scraper.ipynb\" target=\"_parent\"><img src=\"https://colab.research.google.com/assets/colab-badge.svg\" alt=\"Open In Colab\"/></a>"
      ]
    },
    {
      "cell_type": "code",
      "execution_count": 1,
      "metadata": {
        "id": "3MeXFtDAMitx"
      },
      "outputs": [],
      "source": [
        "import json\n",
        "import requests\n",
        "import pandas as pd\n",
        "from bs4 import BeautifulSoup"
      ]
    },
    {
      "cell_type": "code",
      "source": [
        "url = \"https://singaporecruise.com.sg/schedule/ferries/?ferry-status=departure&date=&time=all&terminal=all&port=all&ferry=all\"\n",
        "HEADERS = {\n",
        "    \"accept\": \"text/html,application/xhtml+xml,application/xml;q=0.9,image/avif,image/webp,image/apng,*/*;q=0.8,application/signed-exchange;v=b3;q=0.7\",\n",
        "    \"accept-encoding\": \"gzip, deflate, br, zstd\",\n",
        "    \"accept-language\": \"en-US,en;q=0.9,id;q=0.8,fa;q=0.7,ar;q=0.6,ms;q=0.5,ja;q=0.4,es;q=0.3\",\n",
        "    \"cookie\": \"visid_incap_3134597=6++H+hcVRe2PiPXqwoGbcajHiWgAAAAAQUIPAAAAAADH+k3t3FJEz8hSMZpWnuPA; incap_ses_1763_3134597=x5q+H0Y9FEWPdjXyfm93GKjHiWgAAAAAVluWrKc19nO+FhB/wsbaYQ==\",\n",
        "    \"priority\": \"u=0, i\",\n",
        "    \"referer\": \"https://singaporecruise.com.sg/schedule/ferries/\",\n",
        "    \"sec-ch-ua\": \"\\\"Not)A;Brand\\\";v=\\\"8\\\", \\\"Chromium\\\";v=\\\"138\\\", \\\"Microsoft Edge\\\";v=\\\"138\\\"\",\n",
        "    \"sec-ch-ua-mobile\": \"?0\",\n",
        "    \"sec-ch-ua-platform\": \"\\\"Windows\\\"\",\n",
        "    \"sec-fetch-dest\": \"document\",\n",
        "    \"sec-fetch-mode\": \"navigate\",\n",
        "    \"sec-fetch-site\": \"same-origin\",\n",
        "    \"sec-fetch-user\": \"?1\",\n",
        "    \"upgrade-insecure-requests\": \"1\",\n",
        "    \"user-agent\": \"Mozilla/5.0 (Windows NT 10.0; Win64; x64) AppleWebKit/537.36 (KHTML, like Gecko) Chrome/138.0.0.0 Safari/537.36 Edg/138.0.0.0\"\n",
        "}\n",
        "\n",
        "res = requests.get(url, headers=HEADERS)\n",
        "res"
      ],
      "metadata": {
        "colab": {
          "base_uri": "https://localhost:8080/"
        },
        "id": "poM4WgohMx69",
        "outputId": "2833cb22-53c9-4291-cce9-cb6cc4dd9a0a"
      },
      "execution_count": 3,
      "outputs": [
        {
          "output_type": "execute_result",
          "data": {
            "text/plain": [
              "<Response [200]>"
            ]
          },
          "metadata": {},
          "execution_count": 3
        }
      ]
    },
    {
      "cell_type": "code",
      "source": [
        "soup = BeautifulSoup(res.text, \"html.parser\")\n",
        "soup.title"
      ],
      "metadata": {
        "colab": {
          "base_uri": "https://localhost:8080/"
        },
        "id": "dtwa6jvEOYZT",
        "outputId": "c19123f0-a5c9-45b9-8f94-df25f3bae342"
      },
      "execution_count": 4,
      "outputs": [
        {
          "output_type": "execute_result",
          "data": {
            "text/plain": [
              "<title>Schedule for Ferries | Singapore Cruise Centre (ferry &amp; cruise)</title>"
            ]
          },
          "metadata": {},
          "execution_count": 4
        }
      ]
    }
  ]
}