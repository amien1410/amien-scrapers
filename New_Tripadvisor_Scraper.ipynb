{
  "nbformat": 4,
  "nbformat_minor": 0,
  "metadata": {
    "colab": {
      "provenance": [],
      "authorship_tag": "ABX9TyPV8GZW5OCAe+N9+Pb1gWAc",
      "include_colab_link": true
    },
    "kernelspec": {
      "name": "python3",
      "display_name": "Python 3"
    },
    "language_info": {
      "name": "python"
    }
  },
  "cells": [
    {
      "cell_type": "markdown",
      "metadata": {
        "id": "view-in-github",
        "colab_type": "text"
      },
      "source": [
        "<a href=\"https://colab.research.google.com/github/amien1410/amien-scrapers/blob/main/New_Tripadvisor_Scraper.ipynb\" target=\"_parent\"><img src=\"https://colab.research.google.com/assets/colab-badge.svg\" alt=\"Open In Colab\"/></a>"
      ]
    },
    {
      "cell_type": "code",
      "source": [
        "!pip install \"httpx[http2,brotli]\" parsel"
      ],
      "metadata": {
        "colab": {
          "base_uri": "https://localhost:8080/"
        },
        "id": "5DeR1zTKoou3",
        "outputId": "abe0b7e8-317d-4cad-a3c0-ee806afb0961",
        "collapsed": true
      },
      "execution_count": null,
      "outputs": [
        {
          "output_type": "stream",
          "name": "stdout",
          "text": [
            "Collecting parsel\n",
            "  Downloading parsel-1.9.1-py2.py3-none-any.whl.metadata (11 kB)\n",
            "Collecting httpx[brotli,http2]\n",
            "  Downloading httpx-0.27.2-py3-none-any.whl.metadata (7.1 kB)\n",
            "Requirement already satisfied: anyio in /usr/local/lib/python3.10/dist-packages (from httpx[brotli,http2]) (3.7.1)\n",
            "Requirement already satisfied: certifi in /usr/local/lib/python3.10/dist-packages (from httpx[brotli,http2]) (2024.8.30)\n",
            "Collecting httpcore==1.* (from httpx[brotli,http2])\n",
            "  Downloading httpcore-1.0.6-py3-none-any.whl.metadata (21 kB)\n",
            "Requirement already satisfied: idna in /usr/local/lib/python3.10/dist-packages (from httpx[brotli,http2]) (3.10)\n",
            "Requirement already satisfied: sniffio in /usr/local/lib/python3.10/dist-packages (from httpx[brotli,http2]) (1.3.1)\n",
            "Collecting brotli (from httpx[brotli,http2])\n",
            "  Downloading Brotli-1.1.0-cp310-cp310-manylinux_2_5_x86_64.manylinux1_x86_64.manylinux_2_12_x86_64.manylinux2010_x86_64.whl.metadata (5.5 kB)\n",
            "Collecting h2<5,>=3 (from httpx[brotli,http2])\n",
            "  Downloading h2-4.1.0-py3-none-any.whl.metadata (3.6 kB)\n",
            "Collecting h11<0.15,>=0.13 (from httpcore==1.*->httpx[brotli,http2])\n",
            "  Downloading h11-0.14.0-py3-none-any.whl.metadata (8.2 kB)\n",
            "Collecting cssselect>=1.2.0 (from parsel)\n",
            "  Downloading cssselect-1.2.0-py2.py3-none-any.whl.metadata (2.2 kB)\n",
            "Collecting jmespath (from parsel)\n",
            "  Downloading jmespath-1.0.1-py3-none-any.whl.metadata (7.6 kB)\n",
            "Requirement already satisfied: lxml in /usr/local/lib/python3.10/dist-packages (from parsel) (4.9.4)\n",
            "Requirement already satisfied: packaging in /usr/local/lib/python3.10/dist-packages (from parsel) (24.1)\n",
            "Collecting w3lib>=1.19.0 (from parsel)\n",
            "  Downloading w3lib-2.2.1-py3-none-any.whl.metadata (2.1 kB)\n",
            "Collecting hyperframe<7,>=6.0 (from h2<5,>=3->httpx[brotli,http2])\n",
            "  Downloading hyperframe-6.0.1-py3-none-any.whl.metadata (2.7 kB)\n",
            "Collecting hpack<5,>=4.0 (from h2<5,>=3->httpx[brotli,http2])\n",
            "  Downloading hpack-4.0.0-py3-none-any.whl.metadata (2.5 kB)\n",
            "Requirement already satisfied: exceptiongroup in /usr/local/lib/python3.10/dist-packages (from anyio->httpx[brotli,http2]) (1.2.2)\n",
            "Downloading httpcore-1.0.6-py3-none-any.whl (78 kB)\n",
            "\u001b[2K   \u001b[90m━━━━━━━━━━━━━━━━━━━━━━━━━━━━━━━━━━━━━━━━\u001b[0m \u001b[32m78.0/78.0 kB\u001b[0m \u001b[31m2.9 MB/s\u001b[0m eta \u001b[36m0:00:00\u001b[0m\n",
            "\u001b[?25hDownloading parsel-1.9.1-py2.py3-none-any.whl (17 kB)\n",
            "Downloading cssselect-1.2.0-py2.py3-none-any.whl (18 kB)\n",
            "Downloading h2-4.1.0-py3-none-any.whl (57 kB)\n",
            "\u001b[2K   \u001b[90m━━━━━━━━━━━━━━━━━━━━━━━━━━━━━━━━━━━━━━━━\u001b[0m \u001b[32m57.5/57.5 kB\u001b[0m \u001b[31m3.4 MB/s\u001b[0m eta \u001b[36m0:00:00\u001b[0m\n",
            "\u001b[?25hDownloading w3lib-2.2.1-py3-none-any.whl (21 kB)\n",
            "Downloading Brotli-1.1.0-cp310-cp310-manylinux_2_5_x86_64.manylinux1_x86_64.manylinux_2_12_x86_64.manylinux2010_x86_64.whl (3.0 MB)\n",
            "\u001b[2K   \u001b[90m━━━━━━━━━━━━━━━━━━━━━━━━━━━━━━━━━━━━━━━━\u001b[0m \u001b[32m3.0/3.0 MB\u001b[0m \u001b[31m29.3 MB/s\u001b[0m eta \u001b[36m0:00:00\u001b[0m\n",
            "\u001b[?25hDownloading httpx-0.27.2-py3-none-any.whl (76 kB)\n",
            "\u001b[2K   \u001b[90m━━━━━━━━━━━━━━━━━━━━━━━━━━━━━━━━━━━━━━━━\u001b[0m \u001b[32m76.4/76.4 kB\u001b[0m \u001b[31m5.0 MB/s\u001b[0m eta \u001b[36m0:00:00\u001b[0m\n",
            "\u001b[?25hDownloading jmespath-1.0.1-py3-none-any.whl (20 kB)\n",
            "Downloading h11-0.14.0-py3-none-any.whl (58 kB)\n",
            "\u001b[2K   \u001b[90m━━━━━━━━━━━━━━━━━━━━━━━━━━━━━━━━━━━━━━━━\u001b[0m \u001b[32m58.3/58.3 kB\u001b[0m \u001b[31m3.4 MB/s\u001b[0m eta \u001b[36m0:00:00\u001b[0m\n",
            "\u001b[?25hDownloading hpack-4.0.0-py3-none-any.whl (32 kB)\n",
            "Downloading hyperframe-6.0.1-py3-none-any.whl (12 kB)\n",
            "Installing collected packages: brotli, w3lib, jmespath, hyperframe, hpack, h11, cssselect, parsel, httpcore, h2, httpx\n",
            "Successfully installed brotli-1.1.0 cssselect-1.2.0 h11-0.14.0 h2-4.1.0 hpack-4.0.0 httpcore-1.0.6 httpx-0.27.2 hyperframe-6.0.1 jmespath-1.0.1 parsel-1.9.1 w3lib-2.2.1\n"
          ]
        }
      ]
    },
    {
      "cell_type": "code",
      "execution_count": null,
      "metadata": {
        "id": "BayI1wTSadq1"
      },
      "outputs": [],
      "source": [
        "import re\n",
        "import httpx\n",
        "import json\n",
        "import time\n",
        "import string\n",
        "import random\n",
        "import datetime\n",
        "import requests\n",
        "import pandas as pd\n",
        "from bs4 import BeautifulSoup"
      ]
    },
    {
      "cell_type": "code",
      "source": [
        "def extract_rental_info(json_data):\n",
        "    try:\n",
        "        rental = json_data.get('rental', {})\n",
        "        quick_view = rental.get('quickView', {})\n",
        "        nearby_info = json_data.get('nearbyInfo', {})\n",
        "\n",
        "        # Extract required fields with error handling for missing data\n",
        "        rental_info = {\n",
        "            'rental_id': rental.get('id', 'N/A'),\n",
        "            'rental_name': rental.get('name', 'N/A'),\n",
        "            'bath_count': rental.get('bathCount', 'N/A'),\n",
        "            'room_count': rental.get('roomCount', 'N/A'),\n",
        "            'sleep_count': rental.get('sleepCount', 'N/A'),\n",
        "            'averageRatingNumber': rental.get('averageRatingNumber', 'N/A'),\n",
        "            'url': rental.get('detailRoute', {}).get('url', 'N/A'),\n",
        "            'hasPaymentProtection': rental.get('hasPaymentProtection', False),\n",
        "            'isAffiliate': rental.get('isAffiliate', False),\n",
        "            'affiliateLogoUrl': rental.get('affiliateLogoUrl') if rental.get('isAffiliate', False) else None,\n",
        "            'photos': [\n",
        "                {\n",
        "                    'url': photo.get('dynamicUrl', 'N/A'),\n",
        "                    'description': photo.get('description', 'N/A')\n",
        "                } for photo in rental.get('photos', [])\n",
        "            ] if rental.get('photos') else 'No photos available',\n",
        "            'latitude': rental.get('geoCoordinates', {}).get('lat', 'N/A'),\n",
        "            'longitude': rental.get('geoCoordinates', {}).get('lng', 'N/A'),\n",
        "            'address': quick_view.get('address', 'N/A'),\n",
        "            'rental_description': quick_view.get('description', 'N/A'),\n",
        "            'rentalCategory': quick_view.get('rentalCategory', 'N/A'),\n",
        "            'amenities': ', '.join(\n",
        "                [amenity['value'].get('localizedText', 'N/A') for amenity in quick_view.get('amenities', [])]\n",
        "            ) if quick_view.get('amenities') else 'No amenities available',\n",
        "\n",
        "            # Handling nearby locations and concatenating names with commas\n",
        "            'nearby_locationName': ', '.join(\n",
        "                [nearby_info.get('locationName', 'N/A')]\n",
        "            )\n",
        "        }\n",
        "\n",
        "        return rental_info\n",
        "\n",
        "    except Exception as e:\n",
        "        print(f\"Error extracting rental information: {e}\")\n",
        "        return None"
      ],
      "metadata": {
        "id": "BdGgOFPxMXEr"
      },
      "execution_count": null,
      "outputs": []
    },
    {
      "cell_type": "code",
      "source": [
        "BASE_HEADERS = {\n",
        "    \"authority\": \"www.tripadvisor.com\",\n",
        "    \"accept-language\": \"en-US,en;q=0.9\",\n",
        "    \"user-agent\": \"Mozilla/5.0 (Windows NT 10.0; Win64; x64) AppleWebKit/537.36 (KHTML, like Gecko) Chrome/96.0.4664.110 Safari/537.36\",\n",
        "    \"accept\": \"text/html,application/xhtml+xml,application/xml;q=0.9,image/webp,image/apng,*/*;q=0.8\",\n",
        "    \"accept-language\": \"en-US;en;q=0.9\",\n",
        "    \"accept-encoding\": \"gzip, deflate, br\",\n",
        "}\n",
        "# start HTTP session client with our headers and HTTP2\n",
        "client = httpx.AsyncClient(\n",
        "    http2=True,  # http2 connections are significantly less likely to get blocked\n",
        "    headers=BASE_HEADERS,\n",
        "    timeout=httpx.Timeout(15.0),\n",
        "    limits=httpx.Limits(max_connections=5),\n",
        ")"
      ],
      "metadata": {
        "id": "04lQtU3oo0dn"
      },
      "execution_count": null,
      "outputs": []
    },
    {
      "cell_type": "code",
      "source": [
        "payload = [{\n",
        "  \"variables\":{\n",
        "      \"offset\":0,\n",
        "      \"rentalCountLimit\":100,\n",
        "      \"currencyCode\":\"USD\",\n",
        "      \"urlParams\":[],\n",
        "      \"sortOrder\":\"POPULARITY\",\n",
        "      \"geoId\":60763\n",
        "  },\n",
        "  \"extensions\":{\n",
        "      \"preRegisteredQueryId\":\"a926137f5e9dcd0c\"\n",
        "  }\n",
        "}]\n",
        "\n",
        "# we need to generate a random request ID for this request to succeed\n",
        "random_request_id = \"\".join(\n",
        "    random.choice(string.ascii_lowercase + string.digits) for i in range(180)\n",
        ")\n",
        "\n",
        "# set the headers\n",
        "headers = {\n",
        "    \"X-Requested-By\": random_request_id,\n",
        "    \"Referer\": \"https://www.tripadvisor.com/Hotels\",\n",
        "    \"Origin\": \"https://www.tripadvisor.com\",\n",
        "}\n",
        "\n",
        "# get the page with method POST and pass the payload and headers as the parameters\n",
        "result = await client.post(\n",
        "    url=\"https://www.tripadvisor.com/data/graphql/ids\",\n",
        "    json=payload,\n",
        "    headers=headers,\n",
        ")\n",
        "\n",
        "# get the results from page content\n",
        "data = json.loads(result.content)\n",
        "listings = data[0][\"data\"]['RentalInformation_legacyRentalSearch']['listings']\n",
        "listings"
      ],
      "metadata": {
        "id": "NC94LGF4assb"
      },
      "execution_count": null,
      "outputs": []
    },
    {
      "cell_type": "code",
      "source": [
        "rentalInfo = extract_rental_info(listings[11])\n",
        "rentalInfo"
      ],
      "metadata": {
        "colab": {
          "base_uri": "https://localhost:8080/"
        },
        "id": "GUlRhUDpJRGQ",
        "outputId": "9ec50c88-dbe6-4ecf-f1d4-480985bfb09a"
      },
      "execution_count": null,
      "outputs": [
        {
          "output_type": "execute_result",
          "data": {
            "text/plain": [
              "{'rental_id': 24355939,\n",
              " 'rental_name': 'Sonder City Hall Park | Studio Apartment',\n",
              " 'bath_count': 1,\n",
              " 'room_count': 0,\n",
              " 'sleep_count': 2,\n",
              " 'averageRatingNumber': 5,\n",
              " 'url': '/VacationRentalReview-g60763-d24355939-Sonder_City_Hall_Park_Studio_Apartment-New_York_City_New_York.html',\n",
              " 'hasPaymentProtection': False,\n",
              " 'isAffiliate': True,\n",
              " 'affiliateLogoUrl': '/img2/vacationrentals/affiliate-logos/logo-vrbo-darker.svg',\n",
              " 'photos': [{'url': 'https://dynamic-media.tacdn.com/media/vr-ha-splice-j/12/1b/dd/b3.jpg',\n",
              "   'description': 'Room'},\n",
              "  {'url': 'https://dynamic-media.tacdn.com/media/vr-ha-splice-j/12/1b/73/0c.jpg',\n",
              "   'description': None},\n",
              "  {'url': 'https://dynamic-media.tacdn.com/media/vr-ha-splice-j/12/45/d3/72.jpg',\n",
              "   'description': None},\n",
              "  {'url': 'https://dynamic-media.tacdn.com/media/vr-ha-splice-j/12/45/d3/73.jpg',\n",
              "   'description': None},\n",
              "  {'url': 'https://dynamic-media.tacdn.com/media/vr-ha-splice-j/12/1b/dd/b0.jpg',\n",
              "   'description': 'Private kitchen'},\n",
              "  {'url': 'https://dynamic-media.tacdn.com/media/vr-ha-splice-j/12/1b/73/1b.jpg',\n",
              "   'description': 'Private kitchen'},\n",
              "  {'url': 'https://dynamic-media.tacdn.com/media/vr-ha-splice-j/12/1b/dd/b7.jpg',\n",
              "   'description': 'Room'},\n",
              "  {'url': 'https://dynamic-media.tacdn.com/media/vr-ha-splice-j/12/1b/dd/b4.jpg',\n",
              "   'description': 'Room'},\n",
              "  {'url': 'https://dynamic-media.tacdn.com/media/vr-ha-splice-j/12/1b/73/0b.jpg',\n",
              "   'description': 'Bathroom'},\n",
              "  {'url': 'https://dynamic-media.tacdn.com/media/vr-ha-splice-j/12/1b/dd/b1.jpg',\n",
              "   'description': 'Bathroom'}],\n",
              " 'latitude': 40.70997,\n",
              " 'longitude': -74.00874,\n",
              " 'address': None,\n",
              " 'rental_description': 'Welcome to City Hall Park, where the hustle and bustle of FiDi melt \\naway. Have your cameras ready to capture beautiful archways and \\nfloor-to-ceiling greenery. Inside your space, biophilic design and \\nearthy colors set a calming tone. May we suggest dinner at Maestro \\nPasta, just a block away? Or...',\n",
              " 'rentalCategory': 'Condo/Apartment',\n",
              " 'amenities': 'Stove, 1 full bath(s), Television, Kid friendly, Microwave, Elevator/Lift access, Refrigerator, 1 bathroom(s), Pet friendly, Washer, Kid friendly, Fits 2 pax, Internet access, Dryer, Towels provided, Dishwasher, Air conditioning, Smoking allowed',\n",
              " 'nearby_locationName': 'Leather Spa - Downtown'}"
            ]
          },
          "metadata": {},
          "execution_count": 19
        }
      ]
    }
  ]
}