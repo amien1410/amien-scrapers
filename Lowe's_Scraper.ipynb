{
  "nbformat": 4,
  "nbformat_minor": 0,
  "metadata": {
    "colab": {
      "provenance": [],
      "authorship_tag": "ABX9TyPT1ocW8cIAN+JgR6DtnvUb",
      "include_colab_link": true
    },
    "kernelspec": {
      "name": "python3",
      "display_name": "Python 3"
    },
    "language_info": {
      "name": "python"
    }
  },
  "cells": [
    {
      "cell_type": "markdown",
      "metadata": {
        "id": "view-in-github",
        "colab_type": "text"
      },
      "source": [
        "<a href=\"https://colab.research.google.com/github/amien1410/amien-scrapers/blob/main/Lowe's_Scraper.ipynb\" target=\"_parent\"><img src=\"https://colab.research.google.com/assets/colab-badge.svg\" alt=\"Open In Colab\"/></a>"
      ]
    },
    {
      "cell_type": "code",
      "source": [
        "import requests"
      ],
      "metadata": {
        "id": "EHCFf4JHN0Bx"
      },
      "execution_count": null,
      "outputs": []
    },
    {
      "cell_type": "code",
      "source": [
        "headers = {\n",
        "    \"accept\": \"application/json, text/plain, */*\",\n",
        "    \"accept-encoding\": \"gzip, deflate, br, zstd\",\n",
        "    \"accept-language\": \"en-US,en;q=0.9,id;q=0.8,fa;q=0.7,ar;q=0.6,ms;q=0.5,ja;q=0.4,es;q=0.3\"\n",
        "    \"cookie\": dbidv2=dec71b61-1d44-4d2d-aa11-5a38f31d9623; EPID=dec71b61-1d44-4d2d-aa11-5a38f31d9623; sn=0119; sd=%7B%22id%22%3A%220119%22%2C%22zip%22%3A%2296797%22%2C%22city%22%3A%22Waipahu%22%2C%22state%22%3A%22HI%22%2C%22name%22%3A%22Waipahu%20Lowe's%22%2C%22region%22%3A%228%22%7D; zipcode=96797; nearbyid=0119; zipstate=HI; regionNumber=8; region=central; ph_aid=11b2d84d-05b0-492c-d288-cd460aceb8aa-387c4d5cfb8c2-45d932d71c018-343b6f6a3b839; _abck=633BF68E938F56D8EF5874C9236F826E~0~YAAQByZidn4u3giaAQAAc9U4Cg6f/anMKhnQY1ZuM2ZYGjxYvdighUWljIYgN6yruoMcUq01BueJKJF4wfFGAbK4g+vUUuI7zAKvj88vsH0wHGFHZh6PnUU5lxBJQjCUx60Jx4sRrP8WbIfQuwwjwoRZu/6sPyHm3rKrJFJyS4od2PZZTOHrDSc2HJt3HHgNlT2vS7VdHEAFkBU8vwoz/sUzegnP6oRQWv/Hrz3ahaN6xlDBbVNYXg0VkV6dapRz8HR+8mtv1BbDQWW/hlGVRW2IdUkVBNRsN2PTOVjlfVr9kr9OkxJGlzNh4eURytLIVT3mZPF/ChaWFcVL23qZjQtSt7+wVIbzV47vMvkF+v7oZqNaZgY2ACqzNQXwCGx4dW7Uvx0KzGMdvqz7Hq/VTkkIqeGEdwutUkJaQyVy+HmK4Gv3VigH/siE74yid96uNQD8u6GBik4q7uvRuWmopoVvxkdgOxJvY41lU4TTv4YYwm1BE6Ia6sMPilqYng5cEvjEZCwY5tlxxDUThdnNy9HOxtTbhM41KDiiQJsfjBK8ZNVq/QmowEwcU1XoRxWrIkuScNmh7SYs4EeZ+1fFmoBho5jP4FMNWDBGuWnprUiYOOCyKyeIaG4IRTWaQ4LRairO9RhobJdYhSXdrQXeXcucfOdJHtHpaRJfJM50Q8LBIALuGSFngMcTrrByHLLP3qHsIQp53hWHv47doEj3bJSLMjLPiFAf41lH+/gpez2pbMcvNb+BL8s+Kvr++w4NzUe18TuqBxd5246khUMGokw0kWXB035YTLzQtI6nR8Zp1GRDO/aL+PwPUOWCH7cNIZ70AuhNO/O/YKT00sthMH8YRWzVxSLSXhHB6gpWkMuBQ0keSFYMfy/e41njUA==~-1~-1~-1~AAQAAAAE%2f%2f%2f%2f%2f3SbicrqgYqKnZuNoNzG8YK9WeRyVYuHjSbz6of3UMhc3n2lFisUetegezruh%2fUFlBOPCHCZI4izHTllZ0YBem1rtN2y7PmkWwHa0cZYTjXbAWPdgF1IRTxU2EO2LypXTctKOXA%3d~-1; atc-reco-wdf=abt-13489; salsify_session_id=8edfc168-e34f-48ba-9ab9-ed269a6e3899; seo-partner=; bm_ss=ab8e18ef4e; al_sess=FuA4EWsuT07UWryyq/3foMCP6tDifWSFDQ+oDFTRuXaV71dGRf0IOuCYKr1no6ay; bm_lso=AD7B6BC2F5E396D8209551E4B42A949BEF40D0A96CD9FB1B5BEDDC5A45D38B5E~YAAQlhFDJGAr3AiaAQAAkDTeCgVissEpVVCQOhw60j2XUeCpGwbr8JTgPyuRYytKKYi1vfw8nXbxh90Q9z24z0lQgTYqX1R4SnilW7B3jMVXKn2QvWNXgvy54fhiBY6Zh5QCwLKOEFVU11E6TvupSsyWeavWv1eA+Xlb1c+QBPe9PjDS3ajJs5NDy8LCwdWph+wCOhFyz+PdNPZ2MMaLtNMeryKjfrqIp6nVE3qbxu8jdT/QN0irpTpCbT5tXNZi7jtinUvBzYzl/ALsaGuYSBQ07lD20gh2S5qqO9CSOJDCTuJDMLupNvwmMhuozETUjU28tpyIFHdL2LKmgaRtb+Uan2NAon5q4xDrNQkLzLvaLRY9E7kmotxL4QwpyftG0Y5aSZ4P3xntDh5hhzhOtFZ6JMrZwkkOUmBRMduGovOwfX0O8gp6A1CNZHo/2uOHLcGnisauHzNwXzOm^1761118929448; AKA_A2=A; bm_mi=F66CFC3E6E70B8853B941635A85C211D~YAAQlhFDJIIr3AiaAQAAWV3eCh0gq9QJfOUWG87Go7BiWF4tgl3jVBNOXywefSVyEFbxvSeQtC/VWDx4u2c8AJAOsCdb1GdL0n2PXnaHjLrCEZc9g0x3H+dh2R49oldVKehMEGsxa3Drsn4oSekvBFP/mm+gHSUHR9uKwiOeTdYucY4978FEjsaIH2gyB5tNgmhdCZgtJ1gYOst+GPKv89qBdazAl5OIfhh+sAhoGGpxTz7B6EuI5WlYAA5Oj4eUmSnUPRUFN+ql+STOWzxG41sNjNdXDBjig3PjFZjVwVJD0sLjAdX8uh9BTbMXpLmIS64ZFld4LPluelYPCB60NG7BxH+RohbfFw/F4DzeektKdHtsBDPlk34IHW4=~1; bm_sc=4~1~493478273~YAAQlhFDJIQr3AiaAQAAWV3eCgVFBZwnEPxMeDpLDK8OaeuqTxmlsdld7jIiCwN1/623qVMqjkI7n5l7IIRM3gBRpspnoJ0SyfT3KT4iAcdqqftuF9OGYip1pjslzb7UlMZz8oXGdYoErwUBJyXqCwCJiS6pAmub9Z4GI1SCrQWtBGtEyjxOS7DIY0tpiGBd3WzsqWBM7PDD8vp77uK+SVWoxOHQHeVzRhTR6f6n/sRUVXvqK9oPjhI+jYjsGAlkELlT5Umq80Bj1v4cpPvllKSKqYytC45Z6boJ5A4SYeZrMHqmekr5RMWRFLIdtlS6U9cOYyV/jQkftA1lQQL1oY4cKxiUBbj37BaDdbPxzZwRa2nxKZrOQr0/ETvtCw9D+BauxBqpnHwcEinHK/2F2Pg/oJ80U4iDhro2qBWvK2tGGosG5bC+NzdFBdBmLfFaWaRgDnf2g6WhgxjoiGAjLwdDx0rqjQ==; PIM-SESSION-ID=dOp0rmgaHOOEePqn; akavpau_cart=1761119252~id=94bd01644105eb5d19b1f95166c4c58d; ak_bmsc=772DB4B772141748A7FA3CF7474AB94C~000000000000000000000000000000~YAAQlhFDJM8r3AiaAQAAJMbeCh1Di2JBCb7ROFZRiKMqjaavLMqs24x3i1qkqO/z3Y6zhms3HHwtpqdR4LfhEEFK1rS+u9VA7rSPmC5tikgrLwIRv/xJfzEy5tv/CPWqRWiVEbfyj3Ndzjya51EbnrJolqsMQJvidYzi5cMwgVBcO3fEOUrWoEciB6XULeqnQ/z+umGXyMrfJ8H5h5BLCf/WbLWy6GJUFUS70c06gj10P7uxYEw8zop31+36LOxCum4mmZ05gOw+cseRpcxhuYaO0ETH0/5WbkI590kRhSm9IW+UtN013eHNLSDw8XePobzDoH0bgiWdpRdnpT7Epv1IDa5GuA4MZrKXYUcwHC/D26VfaNjySvvplGuMGlFyxYn/hwnbOctYttdDG5zkuVhrZkYSt3Mx8M52S63CkZ/gp18gcWBxfuPmRerxEdxDJ7i2cOH0HOGCfCkqg1/7+P81PvMbHzCNtlUWLnPV7WeK7grn; p13n=%7B%22zipCode%22%3A%2296797%22%2C%22storeId%22%3A%220119%22%2C%22state%22%3A%22HI%22%2C%22audienceList%22%3A%5B%5D%7D; purchase-test-isProrationRequired=true; bm_so=893256718B229B923567EE0815874B959DE141A55381C90C87F4119D1ED0209F~YAAQlhFDJAgs3AiaAQAA0xffCgX7wbz+HzX+ImKswkpy8TZzwBBrLVAR4kSJok+s3RUZKDnxOOgYmjNU8TtYrNc+A2ukYcAvH1Iti7TaN+FxKKtJ+XF4un080DmCNaY93ez9F2qFift4QqQ1IfOsWF5mLZcwSAmqJoYUeQvxDOexp67eGPA5YbVY037UFC6sX5tbOipOz5WSxnrZfTxnIGWryLOj3enWSxGZMBIzt5xw054dHRwfcX3ussIN1qC/W4tauimVAFiEhJvzgE9V3H3DO0m9SUHvfFk9abuTNDsd3VroBKq966gZxmahcWYK/uiDfhp0DKx3UFUTcMxyoKFueyd7NmpliOVHmKgRX+Tj+j0db6PgCO4sbHSz3uKR1eLCVipdK+lxvjcLe/aclLpOeQln1vpGI0CsUpmwrK5l1w+QjzCknJKqHiT3Vi3JM4SJ64ntbo+R5YrQ; akaalb_prod_dual=1761205386~op=PROD_GCP_EAST_CTRL_DFLT:PROD_DEFAULT_CTRL|~rv=75~m=PROD_DEFAULT_CTRL:0|~os=352fb8a62db4e37e16b221fb4cefd635~id=efa10763dd5f4653a174c51b7d048edb; akavpau_default=1761119286~id=342f2826da255c945b93913d658a1e02; bm_s=YAAQlhFDJBUs3AiaAQAA5yHfCgTaoQLeWZsaAdYwVzJb3smFMCL5KvNAfpBxIs7DDurOAcLbVmUX8W8KLSRcm0PXYooLxJ1Gp0bnh2NZorg72bAeq7hDqgQv8RmVmNEFFGOoPdxhwC3sVxRvWQdwHWmmd+jJDqh2ICDbZQ2GyNXCganLbZOr0oKdmAIbwyeAUGp1GuAvaHMVUgfC97yL+as35acGC9CeceipzE4jZe6KKWOM1B5M4DiZ81wCM+upHkMBiRZ3T2OQfuFFXCXaCV9F+ZLVt8PGkzT2pk3dMhezI8QX+CVLYkkbZmy2/kBpaGTJyotqvL96To+tYF9NWfPOra+2HneIzNFUUmh4B/DV0Lde5rCF1blpmOJ13LzNnhdCbGHvI4hnImHunCUaJH4O9ZMBTbgzmflxB8J97vZvoU+/HpdaEIXHwuzsD1fYiTUXZlfpUQKytWzMMMrQyOModCDbrZBHX5S3i8VPV3SvDirlXLrF82gQNpuTXU7i58i8ks1y9Y9ZEOmU66nzh3s3/iN+jJdK66akcOa+nohQpDhwIEMxQn+IcIEV7Py96nqBfuD1OqWuKS4=; bm_sv=6794031667C4876A201D75F1DAFF4013~YAAQlhFDJBYs3AiaAQAA5yHfCh0wvts7I1btEDFJxJQOYJMsaNSdXvL/1OONT+AK2NyiRuYbYvyrWarq6ch9wcxO6MO3Z+lIKmg5hMTeIVDsetAnqjWhnw3RDlUNqXBy4b1Tk27zyGBlIq7IbLm2+pXJwPdbIldeT1Fdq/1PB89by52JDKapW9ma3j32dUcXUnT/W3euP743lAb3TAS/JMUJmT3hv0XoQIfwetavOXoi77R5aGYBTb6m3KjVEhFZ~1; bm_sz=2BF595EB1D9ECF3CD9817031D177C020~YAAQlhFDJBcs3AiaAQAA5yHfCh3+3E22caBBYsfaa4zE6pJfLi09g5I33Lu7XSqz+fmXMkidqUk1RL3RH/UEyIFeqBDlet4mZ/5FVJyuopRQjKXQ/KnPr844Gzn9y111mg5fhhrnGKLDJ+RHB/f9JbhsIzBVBQ0xhw9gWLkeXyQrEv8XziB6e14e4jA5rxhO3yG4oIT+mHuJzLsOZENBlfTGDWAom4ml2eG/p3oW9VS8UnKpuuu3iZQijsXw0xScyiJN53MtB4KH6yOWDG0hAEktGUEaQpie09O5np5cyki9b/4rRsSQNEzq+kGm+1j4dv8AkFSpWHNZetbR7P+bKInLTHDdskb78xR82w1m5GN019caIDzTq8EJcDqD7r8m9BQQFrB1x6K/sWXUz/35A1+Rf6mpx/p2W+9Wlgrxd/vx84znJKltEYdNSHsksbNsWLwZa21BiAHlEPQbhBEgNVU=~3228723~3421750\n",
        "    \"priority\":    u=1, i\n",
        "    \"referer\": https://www.lowes.com/pd/Qeetex-Halloween-Dinosaur-Costume/7412806\n",
        "    'sec-ch-ua': \"Microsoft Edge\";v=\"141\", \"Not?A_Brand\";v=\"8\", \"Chromium\";v=\"141\"\n",
        "    'sec-ch-ua-mobile':?0\n",
        "    sec-ch-ua-platform:\"Windows\"\n",
        "    sec-fetch-dest:empty\n",
        "    sec-fetch-mode:cors\n",
        "    sec-fetch-site:same-origin\n",
        "    user-agent:Mozilla/5.0 (Windows NT 10.0; Win64; x64) AppleWebKit/537.36 (KHTML, like Gecko) Chrome/141.0.0.0 Safari/537.36 Edg/141.0.0.0\n",
        "}"
      ],
      "metadata": {
        "id": "8YANjDEg4YAV"
      },
      "execution_count": null,
      "outputs": []
    },
    {
      "cell_type": "code",
      "source": [
        "res = requests.get(\"https://www.lowes.com/wpd/5016826069/productdetail/0119/Guest/96797?nearByStore=0119&zipState=HI\")\n",
        "res"
      ],
      "metadata": {
        "colab": {
          "base_uri": "https://localhost:8080/"
        },
        "id": "Lbhl5hotN4si",
        "outputId": "58882222-d494-4c7b-ef8a-dad02fe9d925"
      },
      "execution_count": null,
      "outputs": [
        {
          "output_type": "execute_result",
          "data": {
            "text/plain": [
              "<Response [403]>"
            ]
          },
          "metadata": {},
          "execution_count": 3
        }
      ]
    },
    {
      "cell_type": "code",
      "source": [
        "# !pip install scrapfly-sdk\n",
        "from scrapfly import ScrapeConfig, ScrapflyClient\n",
        "import json\n",
        "\n",
        "# key = \"scp-live-8afea162f0f44a54a71193fb1e19cae6\"\n",
        "# key = \"scp-live-75b0a47294c84d38a8c8e01023f4c3c4\"\n",
        "# key = \"scp-live-a6f1d54d1d0448bc8c60cbefb6f8fd7f\"\n",
        "# key = \"scp-live-cd79086c889146738c7515ab8705c766\"\n",
        "# key = \"scp-live-b8a1a7829f974c8f9455986a4dc04b5a\"\n",
        "# key = \"scp-live-58f81923af4040498c5d869b7c593e87\"\n",
        "# key = \"scp-live-746c367002994e48903df0c7af5f0fba\"\n",
        "# key = \"scp-live-98129e9363444f748eea449b7facc6c8\"\n",
        "# scp-live-e845369bb67a4b8298658e087cb182e5\n",
        "# scp-live-c8122bf4379c43f0a0ebd066f2d38b94\n",
        "# scp-live-27c7deed8b60458a95244a22f389179d\n",
        "\n",
        "\n",
        "\n",
        "scrapfly = ScrapflyClient(key=\"scp-live-27c7deed8b60458a95244a22f389179d\")\n",
        "\n",
        "INSTAGRAM_APP_ID = \"936619743392459\"\n",
        "BASE_CONFIG = {\n",
        "    \"asp\": True,  # Anti Scraping Protection bypass\n",
        "    \"country\": \"US\",  # Use US residential proxies\n",
        "}\n",
        "\n",
        "async def scrape_profile(username: str):\n",
        "    \"\"\"Scrape Instagram profile data\"\"\"\n",
        "    result = await scrapfly.async_scrape(\n",
        "        ScrapeConfig(\n",
        "            url=f\"https://i.instagram.com/api/v1/users/web_profile_info/?username={username}\",\n",
        "            headers={\"x-ig-app-id\": INSTAGRAM_APP_ID},\n",
        "            **BASE_CONFIG,\n",
        "        )\n",
        "    )\n",
        "    data = json.loads(result.content)\n",
        "    return data[\"data\"][\"user\"]\n",
        "\n",
        "# Example usage\n",
        "profile = await scrape_profile(\"google\")\n",
        "print(f\"Followers: {profile['edge_followed_by']['count']}\")"
      ],
      "metadata": {
        "id": "T7HFihSzN9xP",
        "colab": {
          "base_uri": "https://localhost:8080/"
        },
        "outputId": "57218095-44b2-4fc9-924a-1927dc7e9c99"
      },
      "execution_count": 26,
      "outputs": [
        {
          "output_type": "stream",
          "name": "stdout",
          "text": [
            "Followers: 15671351\n"
          ]
        }
      ]
    },
    {
      "cell_type": "code",
      "source": [
        "from scrapfly import ScrapeConfig, ScrapflyClient\n",
        "import json\n",
        "from urllib.parse import quote\n",
        "\n",
        "scrapfly = ScrapflyClient(key=\"scp-live-75b0a47294c84d38a8c8e01023f4c3c4\")\n",
        "\n",
        "INSTAGRAM_POST_DOC_ID = \"8845758582119845\"  # Updated regularly\n",
        "BASE_CONFIG = {\"asp\": True, \"country\": \"US\"}\n",
        "\n",
        "async def scrape_post(url_or_shortcode: str):\n",
        "    \"\"\"Scrape single Instagram post data\"\"\"\n",
        "    # Extract shortcode from URL or use directly\n",
        "    if \"http\" in url_or_shortcode:\n",
        "        shortcode = url_or_shortcode.split(\"/p/\")[-1].split(\"/\")[0]\n",
        "    else:\n",
        "        shortcode = url_or_shortcode\n",
        "\n",
        "    # Build GraphQL request payload\n",
        "    variables = quote(json.dumps({\n",
        "        'shortcode': shortcode,\n",
        "        'fetch_tagged_user_count': None,\n",
        "        'hoisted_comment_id': None,\n",
        "        'hoisted_reply_id': None\n",
        "    }, separators=(',', ':')))\n",
        "\n",
        "    body = f\"variables={variables}&doc_id={INSTAGRAM_POST_DOC_ID}\"\n",
        "\n",
        "    result = await scrapfly.async_scrape(\n",
        "        ScrapeConfig(\n",
        "            url=\"https://www.instagram.com/graphql/query\",\n",
        "            method=\"POST\",\n",
        "            body=body,\n",
        "            headers={\"content-type\": \"application/x-www-form-urlencoded\"},\n",
        "            **BASE_CONFIG,\n",
        "        )\n",
        "    )\n",
        "\n",
        "    data = json.loads(result.content)\n",
        "    return data[\"data\"][\"xdt_shortcode_media\"]\n",
        "\n",
        "# Example usage\n",
        "post = await scrape_post(\"https://www.instagram.com/p/CuE2WNQs6vH/\")\n",
        "print(f\"Likes: {post['edge_media_preview_like']['count']}\")"
      ],
      "metadata": {
        "colab": {
          "base_uri": "https://localhost:8080/"
        },
        "id": "Y-F_cwUVJ-tQ",
        "outputId": "74c5bb92-827c-4d72-b35e-43157937a17f"
      },
      "execution_count": 6,
      "outputs": [
        {
          "output_type": "stream",
          "name": "stdout",
          "text": [
            "Likes: 5227\n"
          ]
        }
      ]
    },
    {
      "cell_type": "code",
      "source": [
        "import httpx\n",
        "import json\n",
        "\n",
        "response = httpx.get(\n",
        "    f\"https://i.instagram.com/api/v1/users/web_profile_info/?username=google\",\n",
        "    headers={\"x-ig-app-id\": \"936619743392459\"}\n",
        ")\n",
        "data = json.loads(response.content)\n",
        "user_id = data[\"data\"][\"user\"][\"id\"]\n",
        "print(user_id)"
      ],
      "metadata": {
        "colab": {
          "base_uri": "https://localhost:8080/"
        },
        "id": "L-30CwCvLGi9",
        "outputId": "e024d507-e9de-4ec5-a868-2187b419cb02"
      },
      "execution_count": 7,
      "outputs": [
        {
          "output_type": "stream",
          "name": "stdout",
          "text": [
            "1067259270\n"
          ]
        }
      ]
    },
    {
      "cell_type": "code",
      "source": [
        "import httpx\n",
        "\n",
        "iphone_api = \"https://i.instagram.com/api/v1/users/{}/info/\"\n",
        "iphone_user_agent = \"Mozilla/5.0 (iPhone; CPU iPhone OS 10_3_3 like Mac OS X) AppleWebKit/603.3.8 (KHTML, like Gecko) Mobile/14G60 Instagram 12.0.0.16.90\"\n",
        "\n",
        "response = httpx.get(\n",
        "    iphone_api.format(\"1067259270\"),\n",
        "    headers={\"User-Agent\": iphone_user_agent}\n",
        ")\n",
        "username = response.json()['user']['username']\n",
        "print(username)"
      ],
      "metadata": {
        "colab": {
          "base_uri": "https://localhost:8080/"
        },
        "id": "34OaPxbCLJvy",
        "outputId": "3b1b9a21-9677-455d-da45-3a3758e5120f"
      },
      "execution_count": 8,
      "outputs": [
        {
          "output_type": "stream",
          "name": "stdout",
          "text": [
            "google\n"
          ]
        }
      ]
    }
  ]
}