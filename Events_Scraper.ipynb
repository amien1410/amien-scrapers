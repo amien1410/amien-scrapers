{
  "nbformat": 4,
  "nbformat_minor": 0,
  "metadata": {
    "colab": {
      "provenance": [],
      "authorship_tag": "ABX9TyPq0Zj+XHkDa7QH8hxLskx7",
      "include_colab_link": true
    },
    "kernelspec": {
      "name": "python3",
      "display_name": "Python 3"
    },
    "language_info": {
      "name": "python"
    }
  },
  "cells": [
    {
      "cell_type": "markdown",
      "metadata": {
        "id": "view-in-github",
        "colab_type": "text"
      },
      "source": [
        "<a href=\"https://colab.research.google.com/github/amien1410/amien-scrapers/blob/main/Events_Scraper.ipynb\" target=\"_parent\"><img src=\"https://colab.research.google.com/assets/colab-badge.svg\" alt=\"Open In Colab\"/></a>"
      ]
    },
    {
      "cell_type": "code",
      "execution_count": null,
      "metadata": {
        "id": "MHFWfyrtuVva"
      },
      "outputs": [],
      "source": [
        "import requests\n",
        "import pandas as pd\n",
        "from bs4 import BeautifulSoup"
      ]
    },
    {
      "cell_type": "code",
      "source": [
        "res = requests.get('https://www.visitberlin.de/en/event-calendar-berlin?page=0')\n",
        "soup = BeautifulSoup(res.text, 'html.parser')\n",
        "soup"
      ],
      "metadata": {
        "id": "MkOQJlEhuhEv"
      },
      "execution_count": null,
      "outputs": []
    },
    {
      "cell_type": "code",
      "source": [
        "base_url = \"https://www.visitberlin.de\"\n",
        "# Extract event name\n",
        "event_name = soup.find('a', class_='teaser-search__mainlink').get('title', '').strip()\n",
        "picture_link = base_url + soup.find('img', class_='teaser-search__img fluid-img').get('src')\n",
        "category = soup.find('div', class_='teaser-search__category').get_text(strip=True)\n",
        "address = soup.find('span', class_='teaser-search__print-address teaser-search__print-info').get_text(strip=True)\n",
        "website = soup.find('p', class_='teaser-search__print-link teaser-search__print-info').get_text(strip=True)\n",
        "time = None\n",
        "time_tag = soup.find('p', class_='teaser-search__time me')\n",
        "if time_tag:\n",
        "    # Extract the time if the tag exists\n",
        "    time = time_tag.select_one('span.me__content').get_text(strip=True)\n",
        "\n",
        "start_date, end_date = None, None\n",
        "date_tag = soup.find('p', class_='teaser-search__date')\n",
        "if date_tag:\n",
        "  start_date = date_tag.find('time').get_text(strip=True)\n",
        "  end_date = date_tag.find_all('time')[1].get_text(strip=True)\n",
        "# Extract picture URL\n",
        "# picture_tag = soup.find('picture')\n",
        "# if picture_tag:\n",
        "#     picture_url = picture_tag.find('source', media=\"all and (min-width: 1560px)\")['srcset'].split()[0]\n",
        "# else:\n",
        "#     picture_url = None"
      ],
      "metadata": {
        "id": "6t0ILalKwjsv"
      },
      "execution_count": null,
      "outputs": []
    },
    {
      "cell_type": "code",
      "source": [
        "picture_link"
      ],
      "metadata": {
        "colab": {
          "base_uri": "https://localhost:8080/",
          "height": 53
        },
        "id": "uxzajAn1w0CF",
        "outputId": "1e0c4ed5-8024-4bd2-c4a1-5247a2a23f3a"
      },
      "execution_count": null,
      "outputs": [
        {
          "output_type": "execute_result",
          "data": {
            "text/plain": [
              "'https://www.visitberlin.de/system/files/styles/visitberlin_teaser_search_visitberlin_mobile_1x/private/event_images/vb-60-ff5d39a8-8617-4fd4-a53c-a2a1b7e80cbf.jpg?h=43ec1315&itok=PACrzZn_'"
            ],
            "application/vnd.google.colaboratory.intrinsic+json": {
              "type": "string"
            }
          },
          "metadata": {},
          "execution_count": 26
        }
      ]
    },
    {
      "cell_type": "code",
      "source": [
        "hamburgUrl = \"https://www.hamburg-travel.com/see-explore/events/events-calendar/js.api?filter[date]=02.10.2024&filter[district]=all&page=0&filter[distance]=50\"\n",
        "res = requests.get(hamburgUrl)\n",
        "soup = BeautifulSoup(res.text, 'html.parser')\n",
        "hamburgEvents = soup.find_all('article', class_='listTeaser-event')\n",
        "len(hamburgEvents)"
      ],
      "metadata": {
        "id": "zHehX3hLrg9B",
        "colab": {
          "base_uri": "https://localhost:8080/"
        },
        "outputId": "333cb949-39c5-4ae1-e5c3-a4f55ed51b44"
      },
      "execution_count": 12,
      "outputs": [
        {
          "output_type": "execute_result",
          "data": {
            "text/plain": [
              "3"
            ]
          },
          "metadata": {},
          "execution_count": 12
        }
      ]
    },
    {
      "cell_type": "code",
      "source": [
        "muenchenUrl = \"https://www.muenchen.de/en/veranstaltungen/event?page=0\"\n",
        "res = requests.get(muenchenUrl)\n",
        "soup = BeautifulSoup(res.text, 'html.parser')\n",
        "muenchenEvents = soup.find_all('li', class_='m-listing__list-item')\n",
        "len(muenchenEvents)"
      ],
      "metadata": {
        "colab": {
          "base_uri": "https://localhost:8080/"
        },
        "id": "st9ANbZ2yiTH",
        "outputId": "aadcb8eb-c87c-417e-9a4a-e8374b550b14"
      },
      "execution_count": 17,
      "outputs": [
        {
          "output_type": "execute_result",
          "data": {
            "text/plain": [
              "0"
            ]
          },
          "metadata": {},
          "execution_count": 17
        }
      ]
    },
    {
      "cell_type": "code",
      "source": [
        "4391/30"
      ],
      "metadata": {
        "colab": {
          "base_uri": "https://localhost:8080/"
        },
        "id": "4w2fvpoj9veV",
        "outputId": "3faccfd8-6b10-467e-88a8-20e17934ddb7"
      },
      "execution_count": 15,
      "outputs": [
        {
          "output_type": "execute_result",
          "data": {
            "text/plain": [
              "146.36666666666667"
            ]
          },
          "metadata": {},
          "execution_count": 15
        }
      ]
    }
  ]
}