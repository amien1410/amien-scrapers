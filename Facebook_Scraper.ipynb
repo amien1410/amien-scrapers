{
  "nbformat": 4,
  "nbformat_minor": 0,
  "metadata": {
    "colab": {
      "provenance": [],
      "authorship_tag": "ABX9TyOEdFGKGw7T+QSUjSRuNkLT",
      "include_colab_link": true
    },
    "kernelspec": {
      "name": "python3",
      "display_name": "Python 3"
    },
    "language_info": {
      "name": "python"
    }
  },
  "cells": [
    {
      "cell_type": "markdown",
      "metadata": {
        "id": "view-in-github",
        "colab_type": "text"
      },
      "source": [
        "<a href=\"https://colab.research.google.com/github/amien1410/amien-scrapers/blob/main/Facebook_Scraper.ipynb\" target=\"_parent\"><img src=\"https://colab.research.google.com/assets/colab-badge.svg\" alt=\"Open In Colab\"/></a>"
      ]
    },
    {
      "cell_type": "code",
      "execution_count": 4,
      "metadata": {
        "colab": {
          "base_uri": "https://localhost:8080/"
        },
        "id": "VzU4Cp7-gsjX",
        "outputId": "6a7f6cce-1b47-44c4-fd0c-7ed839be0333"
      },
      "outputs": [
        {
          "output_type": "stream",
          "name": "stdout",
          "text": [
            "Requirement already satisfied: lxml[html_clean] in /usr/local/lib/python3.12/dist-packages (5.4.0)\n",
            "Collecting lxml_html_clean (from lxml[html_clean])\n",
            "  Downloading lxml_html_clean-0.4.3-py3-none-any.whl.metadata (2.3 kB)\n",
            "Downloading lxml_html_clean-0.4.3-py3-none-any.whl (14 kB)\n",
            "Installing collected packages: lxml_html_clean\n",
            "Successfully installed lxml_html_clean-0.4.3\n"
          ]
        }
      ],
      "source": [
        "!pip install facebook-scraper\n",
        "!pip install lxml[html_clean]"
      ]
    },
    {
      "cell_type": "code",
      "source": [
        "# pip3 install requests\n",
        "import requests\n",
        "# 28bbe7ae1b3c6541a1b32891685ffb17f8a43df7\n",
        "url = \"https://www.reddit.com/r/midjourney/\"\n",
        "apikey = \"c8d5abff98b190cdbb19421eafee73be01eb3bd3\"\n",
        "params = {\n",
        "    \"url\": url,\n",
        "    \"apikey\": apikey,\n",
        "    \"js_render\": \"true\",\n",
        "    \"premium_proxy\": \"true\",\n",
        "}\n",
        "response = requests.get(\"https://api.zenrows.com/v1/\", params=params)\n",
        "print(response.text)\n"
      ],
      "metadata": {
        "colab": {
          "base_uri": "https://localhost:8080/"
        },
        "id": "K5baDOyag1t0",
        "outputId": "89478acc-9399-40ee-db60-e261c4adaaab"
      },
      "execution_count": 13,
      "outputs": [
        {
          "output_type": "stream",
          "name": "stdout",
          "text": [
            "{\"code\":\"AUTH005\",\"detail\":\"This account has reached its validity period. Purchase a new subscription to continue using the service.\",\"instance\":\"/v1\",\"status\":402,\"title\":\"Account is not longer valid (AUTH005)\",\"type\":\"https://docs.zenrows.com/api-error-codes#AUTH005\"}\n"
          ]
        }
      ]
    },
    {
      "cell_type": "code",
      "source": [
        "# 5cb364f033d6fa47cbccf3d48074ce0f\n",
        "# df2cc6999b7e073dfc974034d1658c04\n",
        "# 1e1fe6ea3984685acdfb3658408e08ed\n",
        "# d98eaab060c7ba476bf0d77ec32d27ab\n",
        "# 1e539fae26943c2d809b5c2f2988555d\n",
        "# ff6afb85da6000279986afe44dd3e951\n",
        "# 6691a8fe740598b48c52131581d4d296\n",
        "# aae0279e8feccdcfb5b40c85fdd65a66\n",
        "# 61162cf2113cd4dffffa65f0ac310aad\n",
        "# ea84acb74d264958d31742f6be20a075\n",
        "# 13dc5046636b184bd17cb4a4b71535ee\n",
        "\n",
        "from bs4 import BeautifulSoup\n",
        "import requests\n",
        "\n",
        "url = \"https://api.scraperapi.com\"\n",
        "payload = {\n",
        "   'api_key': \"13dc5046636b184bd17cb4a4b71535ee\",\n",
        "   'url': \"https://lista.mercadolivre.com.br/smartphone\",\n",
        "    'render': \"true\"\n",
        "}\n",
        "response = requests.get(url, params=payload)\n",
        "soup = BeautifulSoup(response.text, 'html.parser')\n",
        "soup\n",
        "# jobUl = soup.find(\"ul\", attrs={\"class\" : \"jobs-search__results-list\"})\n",
        "# jobs = jobUl.find_all(\"li\")\n",
        "# for job in jobs:\n",
        "#     title = job.find(\"h3\", attrs={\"class\": \"base-search-card__title\"}).text.strip()\n",
        "#     company = job.find(\"h4\", attrs={\"class\": \"base-search-card__subtitle\"}).text.strip()\n",
        "#     location = job.find(\"span\", attrs={\"class\": \"job-search-card__location\"}).text.strip()\n",
        "#     date = job.find(\"time\").text.strip()\n",
        "#     print(f\"Title: {title}\\nCompany: {company}\\nLocation: {location}\\nDate: {date}\\n\\n\")"
      ],
      "metadata": {
        "id": "fzvMw4V_md0b"
      },
      "execution_count": null,
      "outputs": []
    },
    {
      "cell_type": "code",
      "source": [
        "# xh0j43mkozjtk3a2e3qf\n",
        "\n",
        "import requests\n",
        "\n",
        "url = \"https://api.proxyscrape.com/v2/account/datacenter_shared/proxy-list?auth=xh0j43mkozjtk3a2e3qf&type=getproxies&country[]=all&protocol=http&format=normal&status=all\"\n",
        "\n",
        "payload={}\n",
        "headers = {}\n",
        "\n",
        "response = requests.request(\"GET\", url, headers=headers, data=payload)\n",
        "\n",
        "print(response.text)\n"
      ],
      "metadata": {
        "colab": {
          "base_uri": "https://localhost:8080/"
        },
        "id": "XffKVshg2IjZ",
        "outputId": "cbb2d2fd-632a-4791-d11f-b2f898aaa0a7"
      },
      "execution_count": 29,
      "outputs": [
        {
          "output_type": "stream",
          "name": "stdout",
          "text": [
            "<!DOCTYPE HTML PUBLIC \"-//IETF//DTD HTML 2.0//EN\">\n",
            "<html><head>\n",
            "<title>503 Service Unavailable</title>\n",
            "</head><body>\n",
            "<h1>Service Unavailable</h1>\n",
            "<p>The server is temporarily unable to service your\n",
            "request due to maintenance downtime or capacity\n",
            "problems. Please try again later.</p>\n",
            "<hr>\n",
            "<address>Apache/2.4.41 (Ubuntu) Server at api.proxyscrape.com Port 80</address>\n",
            "</body></html>\n",
            "\n"
          ]
        }
      ]
    }
  ]
}