{
  "nbformat": 4,
  "nbformat_minor": 0,
  "metadata": {
    "colab": {
      "provenance": [],
      "authorship_tag": "ABX9TyORn18TdUHvRfOrygJg7bPG",
      "include_colab_link": true
    },
    "kernelspec": {
      "name": "python3",
      "display_name": "Python 3"
    },
    "language_info": {
      "name": "python"
    }
  },
  "cells": [
    {
      "cell_type": "markdown",
      "metadata": {
        "id": "view-in-github",
        "colab_type": "text"
      },
      "source": [
        "<a href=\"https://colab.research.google.com/github/amien1410/amien-scrapers/blob/main/Zyte_Proxy.ipynb\" target=\"_parent\"><img src=\"https://colab.research.google.com/assets/colab-badge.svg\" alt=\"Open In Colab\"/></a>"
      ]
    },
    {
      "cell_type": "code",
      "execution_count": 1,
      "metadata": {
        "colab": {
          "base_uri": "https://localhost:8080/"
        },
        "id": "lCa85SuQZA2g",
        "outputId": "fdfb81d6-d59a-4ca6-f7a8-22fe7ee9b02c"
      },
      "outputs": [
        {
          "output_type": "stream",
          "name": "stdout",
          "text": [
            "Scraping https://lista.mercadolivre.com.br/ps5 via Zyte API...\n",
            "✅ Page title: Console Playstation 5 - PS5 | MercadoLivre\n",
            "✅ Found 0 product listings.\n",
            "\n",
            "💾 Saved HTML to mercadolivre_ps5.html\n"
          ]
        }
      ],
      "source": [
        "from base64 import b64decode\n",
        "import requests\n",
        "from bs4 import BeautifulSoup\n",
        "\n",
        "# === CONFIGURATION ===\n",
        "ZYTE_API_KEY = \"\"\n",
        "TARGET_URL = \"https://lista.mercadolivre.com.br/ps5\"\n",
        "\n",
        "# === SEND REQUEST TO ZYTE API ===\n",
        "print(f\"Scraping {TARGET_URL} via Zyte API...\")\n",
        "\n",
        "response = requests.post(\n",
        "    \"https://api.zyte.com/v1/extract\",\n",
        "    auth=(ZYTE_API_KEY, \"\"),\n",
        "    json={\n",
        "        \"url\": TARGET_URL,\n",
        "        \"httpResponseBody\": True,\n",
        "        \"followRedirect\": True\n",
        "    },\n",
        ")\n",
        "\n",
        "# === CHECK RESPONSE ===\n",
        "if response.status_code != 200:\n",
        "    print(\"❌ API Error:\", response.status_code, response.text)\n",
        "    exit()\n",
        "\n",
        "data = response.json()\n",
        "\n",
        "# === DECODE HTML CONTENT ===\n",
        "html_bytes = b64decode(data[\"httpResponseBody\"])\n",
        "html_text = html_bytes.decode(\"utf-8\", errors=\"ignore\")\n",
        "\n",
        "# === PARSE WITH BEAUTIFULSOUP ===\n",
        "soup = BeautifulSoup(html_text, \"html.parser\")\n",
        "\n",
        "# Example extraction: title and product listings\n",
        "page_title = soup.title.string if soup.title else \"No title found\"\n",
        "product_titles = [item.get_text(strip=True)\n",
        "                  for item in soup.select(\"h2.ui-search-item__title\")]\n",
        "\n",
        "print(f\"✅ Page title: {page_title}\")\n",
        "print(f\"✅ Found {len(product_titles)} product listings.\")\n",
        "\n",
        "# Print first few results\n",
        "for i, title in enumerate(product_titles[:5], start=1):\n",
        "    print(f\"{i}. {title}\")\n",
        "\n",
        "# Optional: save to local file for inspection\n",
        "with open(\"mercadolivre_ps5.html\", \"w\", encoding=\"utf-8\") as f:\n",
        "    f.write(html_text)\n",
        "    print(\"\\n💾 Saved HTML to mercadolivre_ps5.html\")"
      ]
    }
  ]
}